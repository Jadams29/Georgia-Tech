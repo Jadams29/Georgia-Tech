{
 "cells": [
  {
   "cell_type": "code",
   "execution_count": 1,
   "metadata": {},
   "outputs": [],
   "source": [
    "%matplotlib inline"
   ]
  },
  {
   "cell_type": "code",
   "execution_count": 2,
   "metadata": {},
   "outputs": [],
   "source": [
    "import cv2\n",
    "\n",
    "import numpy as np\n",
    "import numpy.fft as fft\n",
    "import matplotlib as mpl\n",
    "\n",
    "import matplotlib.pyplot as plt\n",
    "from matplotlib.animation import FuncAnimation\n",
    "from mpl_toolkits.mplot3d import Axes3D\n",
    "from IPython.display import HTML\n",
    "\n",
    "mpl.rcParams['image.cmap'] = \"gray\"  # show images as grayscale by default"
   ]
  },
  {
   "cell_type": "code",
   "execution_count": 4,
   "metadata": {},
   "outputs": [],
   "source": [
    "# Rotation Example\n",
    "image = cv2.imread(\"sloth.jpg\", cv2.IMREAD_GRAYSCALE)\n",
    "# flip_kernel = np.asarray([[-1,0,0], [0,1,0], [0, 0, 1]]).astype(np.float32)  # Should flip the image?\n",
    "matrix_translation = np.float32([[1,0,100],[0,1,50]]) # This will move to the right 100 pixel and down 50 pixels\n",
    "img_height, img_width = image.shape[:2]\n",
    "\n",
    "translated_image = cv2.warpAffine(image, matrix_translation, (img_width, img_height))\n",
    "\n",
    "# This rotation matrix will rotated AROUND (0,0)\n",
    "matrix_rotate = cv2.getRotationMatrix2D((0,0), 45, 1)\n",
    "\n",
    "# This rotation matrix will rotate around the center (i.e. translation + rotation)\n",
    "matrix_rotate_center = cv2.getRotationMatrix2D((img_width/2, img_height/2), -45, 1)\n",
    "\n",
    "# To apply the rotation we use warpAffine again\n",
    "rotated_image1 = cv2.warpAffine(image, matrix_rotate, \n",
    "                                (img_width, img_height))\n",
    "rotated_image2 = cv2.warpAffine(image, matrix_rotate_center, \n",
    "                                (img_width, img_height))\n",
    "\n",
    "\n",
    "cv2.imshow(\"Image\", image)\n",
    "cv2.imshow(\"Translated Image\", translated_image)\n",
    "cv2.imshow(\"Rotated Around Origin\", rotated_image1)\n",
    "cv2.imshow(\"Rotated Around Center\", rotated_image2)\n",
    "\n",
    "cv2.waitKey(0)\n",
    "cv2.destroyAllWindows()"
   ]
  },
  {
   "cell_type": "code",
   "execution_count": 7,
   "metadata": {},
   "outputs": [],
   "source": [
    "# Shear Example\n",
    "\n",
    "# Scale Image\n",
    "scaled_img = cv2.resize(image, None, fx=1.5, fy=1.5, \n",
    "                        interpolation=cv2.INTER_CUBIC)\n",
    "\n",
    "# Shear or skew (horizontal only)\n",
    "matrix_shear = np.float32([[1, 0.5, 0],[0, 1, 0]])\n",
    "\n",
    "# Apply matrix_shear \n",
    "shear_image = cv2.warpAffine(image, matrix_shear, \n",
    "                             (int(img_width + 0.5 * img_height), img_height))\n",
    "\n",
    "cv2.imshow(\"Shear Image\", shear_image)\n",
    "cv2.waitKey(0)\n",
    "cv2.destroyAllWindows()\n"
   ]
  },
  {
   "cell_type": "code",
   "execution_count": 8,
   "metadata": {},
   "outputs": [],
   "source": [
    "# Affine Example\n",
    "\n",
    "pts1 = np.float32([[50, 50], [200, 50], [50, 200]])\n",
    "pts2 = np.float32([[10, 100], [200, 50], [100, 250]])\n",
    "\n",
    "matrix_affine = cv2.getAffineTransform(pts1, pts2)\n",
    "\n",
    "affine_image = cv2.warpAffine(image, matrix_affine, (img_width, img_height))\n",
    "\n",
    "cv2.imshow(\"Affine Image\", affine_image)\n",
    "cv2.waitKey(0)\n",
    "cv2.destroyAllWindows()"
   ]
  },
  {
   "cell_type": "code",
   "execution_count": 9,
   "metadata": {},
   "outputs": [],
   "source": [
    "# Perspective Warp Example\n",
    "\n",
    "\n",
    "pts1 = np.float32([[220, 85], [223, 414], [602, 190], [616, 323]])\n",
    "pts2 = np.float32([[75, 75], [75, 225], [500, 75], [500, 225]])\n",
    "\n",
    "matrix_perspective_warp = cv2.getPerspectiveTransform(pts1, pts2)\n",
    "\n",
    "perspective_warp_image = cv2.warpPerspective(image, \n",
    "                                             matrix_perspective_warp, (600, 300))\n",
    "\n",
    "cv2.imshow(\"Affine Image\", perspective_warp_image)\n",
    "cv2.waitKey(0)\n",
    "cv2.destroyAllWindows()"
   ]
  }
 ],
 "metadata": {
  "anaconda-cloud": {},
  "kernelspec": {
   "display_name": "Python 3",
   "language": "python",
   "name": "python3"
  },
  "language_info": {
   "codemirror_mode": {
    "name": "ipython",
    "version": 3
   },
   "file_extension": ".py",
   "mimetype": "text/x-python",
   "name": "python",
   "nbconvert_exporter": "python",
   "pygments_lexer": "ipython3",
   "version": "3.5.6"
  },
  "widgets": {
   "state": {},
   "version": "1.1.2"
  }
 },
 "nbformat": 4,
 "nbformat_minor": 1
}
