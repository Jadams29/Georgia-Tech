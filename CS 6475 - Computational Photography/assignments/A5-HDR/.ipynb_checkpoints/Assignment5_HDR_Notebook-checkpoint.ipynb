{
 "cells": [
  {
   "cell_type": "code",
   "execution_count": 1,
   "metadata": {},
   "outputs": [],
   "source": [
    "%matplotlib inline"
   ]
  },
  {
   "cell_type": "code",
   "execution_count": 2,
   "metadata": {},
   "outputs": [],
   "source": [
    "import cv2\n",
    "\n",
    "import numpy as np\n",
    "import numpy.fft as fft\n",
    "import matplotlib as mpl\n",
    "\n",
    "import matplotlib.pyplot as plt\n",
    "from matplotlib.animation import FuncAnimation\n",
    "from mpl_toolkits.mplot3d import Axes3D\n",
    "from IPython.display import HTML\n",
    "\n",
    "mpl.rcParams['image.cmap'] = \"gray\"  # show images as grayscale by default\n",
    "image = cv2.imread(\"sample-02.png\")\n",
    "# cv2.imshow(\"Image\", image)\n",
    "# cv2.waitKey(0)\n",
    "# cv2.destroyAllWindows()\n",
    "b, g, r = cv2.split(image)\n"
   ]
  },
  {
   "cell_type": "code",
   "execution_count": 17,
   "metadata": {},
   "outputs": [],
   "source": [
    "def linearWeight(pixel_value):\n",
    "    try:\n",
    "        \"\"\" Linear weighting function based on pixel intensity that reduces the\n",
    "\t\tweight of pixel values that are near saturation.\n",
    "\n",
    "\t\tThe weighting function should be a piecewise linear function:\n",
    "\n",
    "\t\t\t\t\t\t\t   /  z - Zmin,      z <= (Zmin + Zmax)/2\n",
    "\t\t\tlinearWeight(z) = |\n",
    "\t\t\t\t\t\t\t   \\  Zmax - z,      z > (Zmin + Zmax)/2\n",
    "\n",
    "\t\tWhere z is a pixel intensity value, Zmax=255 (largest uint8 intensity),\n",
    "\t\tand Zmin=0 (smallest uint8 intensity).\n",
    "\n",
    "\t\tParameters\n",
    "\t\t----------\n",
    "\t\tpixel_value : np.uint8\n",
    "\t\t\tA pixel intensity value from 0 to 255\n",
    "\n",
    "\t\tReturns\n",
    "\t\t-------\n",
    "\t\tweight : np.float64\n",
    "\t\t\tThe weight corresponding to the input pixel intensity\n",
    "\n",
    "\t\tSee Also\n",
    "\t\t--------\n",
    "\t\t\"Recovering High Dynamic Range Radiance Maps from Photographs\",\n",
    "\t\t\tDebevec & Malik (available under resources on T-Square)\n",
    "\t\t\"\"\"\n",
    "        z_min, z_max = 0., 255.\n",
    "        case_value = (z_min + z_max) / 2\n",
    "        print(pixel_value)\n",
    "        \n",
    "        t = pixel_value.copy()\n",
    "        print(\"\\n T: \\n\",t)\n",
    "        p = t[t <= case_value]\n",
    "        print(\"Here is p: \", p)\n",
    "#         t[t <= case_value] = t - z_min\n",
    "        print(\"\\nT after first case:\\n\", t)\n",
    "        j = t[t > case_value]\n",
    "        print(\"Here is j: \", j)\n",
    "        print(\"\\nT after second case:\\n\", t)\n",
    "        result = np.hstack((p,j))\n",
    "        print(\"Here is result: \", result)\n",
    "#         if pixel_value <= case_value:\n",
    "#             return pixel_value - z_min\n",
    "#         elif pixel_value > case_value:\n",
    "#             return z_max - pixel_value\n",
    "    except Exception as LinearWeightException:\n",
    "        print(\"Exception occurred while executing function 'LinearWeight'.\\n\", LinearWeightException)\n"
   ]
  },
  {
   "cell_type": "code",
   "execution_count": 18,
   "metadata": {},
   "outputs": [
    {
     "name": "stdout",
     "output_type": "stream",
     "text": [
      "[ 18  36  50  66  88 128]\n",
      "\n",
      " T: \n",
      " [ 18  36  50  66  88 128]\n",
      "Here is p:  [18 36 50 66 88]\n",
      "\n",
      "T after first case:\n",
      " [ 18  36  50  66  88 128]\n",
      "Here is j:  [128]\n",
      "\n",
      "T after second case:\n",
      " [ 18  36  50  66  88 128]\n",
      "Exception occurred while executing function 'LinearWeight'.\n",
      " all the input array dimensions except for the concatenation axis must match exactly\n",
      "None\n",
      "\n"
     ]
    }
   ],
   "source": [
    "test = np.asarray([18, 36, 50, 66, 88, 128])\n",
    "result = np.apply_along_axis(linearWeight, 0, test)\n",
    "print(result)\n",
    "print()\n",
    "\n",
    "\n",
    "# new_b = np.apply_along_axis(multBy2, 0, b)\n",
    "# new_g = np.apply_along_axis(multBy2, 0, g)\n",
    "# new_r = np.apply_along_axis(multBy2, 0, r)\n",
    "# new_image = cv2.merge((new_b, new_g, new_r))\n",
    "# cv2.imshow(\"Image\", image)\n",
    "# cv2.imshow(\"B Channel\", b)\n",
    "# cv2.imshow(\"G Channel\", g)\n",
    "# cv2.imshow(\"R Channel\", r)\n",
    "# cv2.imshow(\"New Image\", new_image)\n",
    "# cv2.imshow(\"New B Channel\", new_b)\n",
    "# cv2.imshow(\"New G Channel\", new_g)\n",
    "# cv2.imshow(\"New R Channel\", new_r)\n",
    "# cv2.waitKey(0)\n",
    "# cv2.destroyAllWindows()"
   ]
  }
 ],
 "metadata": {
  "anaconda-cloud": {},
  "kernelspec": {
   "display_name": "Python 3",
   "language": "python",
   "name": "python3"
  },
  "language_info": {
   "codemirror_mode": {
    "name": "ipython",
    "version": 3
   },
   "file_extension": ".py",
   "mimetype": "text/x-python",
   "name": "python",
   "nbconvert_exporter": "python",
   "pygments_lexer": "ipython3",
   "version": "3.5.6"
  },
  "widgets": {
   "state": {},
   "version": "1.1.2"
  }
 },
 "nbformat": 4,
 "nbformat_minor": 1
}
