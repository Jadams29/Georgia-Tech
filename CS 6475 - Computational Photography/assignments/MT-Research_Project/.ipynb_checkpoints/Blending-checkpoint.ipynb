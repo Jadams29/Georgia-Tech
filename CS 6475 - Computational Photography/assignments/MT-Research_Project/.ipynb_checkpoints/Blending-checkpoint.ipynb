{
 "cells": [
  {
   "cell_type": "markdown",
   "metadata": {},
   "source": [
    "# CS6475: Image Frequency Spectra\n",
    "---\n",
    "This notebook follows the lectures in Module 4 dealing with frequency domain transforms of images. In many cases (as in the Blending project) there are clear analogues between operations in the frequency and spatial domains, but operating in the frequency domain also affords some unique opportunities. The walkthrough portion illustrates some practical issues that arise out of convention or implementation choices in the Numpy fft module, then proceeds to produce frequency spectra from images. \n",
    "\n",
    "You should complete Parts 1-3 by reading through the notebook and executing each code cell (you can use the keyboard shortcut `shift + enter` to execute cells). The last last section of the notebook contains a series of challenge problems that ask you to apply & extend these concepts. There are no required deliverables for this exercise, but you are encouraged to complete & discuss the material & challenge problems on the course forum. This material may appear on the final exam.\n",
    "\n",
    "## Lesson Summary\n",
    "---\n",
    "  - [Part 1 - Fourier Transform Basics](#Part-1:-Fourier-Transform-Basics) -- demonstrate the basics of Fourier transforms\n",
    "  - [Part 2 - Real Image Spectra](#Part-2:-Real-Image-Spectra) -- visualize images as functions\n",
    "  - [Part 3 - Challenges](#Part-3:-Challenges) -- apply what you've learned\n"
   ]
  },
  {
   "cell_type": "code",
   "execution_count": 1,
   "metadata": {},
   "outputs": [],
   "source": [
    "%matplotlib inline"
   ]
  },
  {
   "cell_type": "code",
   "execution_count": 2,
   "metadata": {},
   "outputs": [],
   "source": [
    "import cv2\n",
    "\n",
    "import numpy as np\n",
    "import numpy.fft as fft\n",
    "import matplotlib as mpl\n",
    "from scipy.ndimage import filters\n",
    "\n",
    "import matplotlib.pyplot as plt\n",
    "from matplotlib.animation import FuncAnimation\n",
    "from mpl_toolkits.mplot3d import Axes3D\n",
    "from IPython.display import HTML\n",
    "\n",
    "mpl.rcParams['image.cmap'] = \"gray\"  # show images as grayscale by default"
   ]
  },
  {
   "cell_type": "code",
   "execution_count": 3,
   "metadata": {},
   "outputs": [],
   "source": [
    "filepath = \"C:/Users/Josh.Adams/OneDrive - Georgia Institute of Technology/Georgia-Tech/CS 6475 - Computational Photography/assignments/MT-Research_Project/couple.png\"\n",
    "image = cv2.imread(filepath, cv2.IMREAD_COLOR)\n",
    "img_grayscale = cv2.imread(filepath, cv2.IMREAD_GRAYSCALE)\n"
   ]
  },
  {
   "cell_type": "code",
   "execution_count": 49,
   "metadata": {},
   "outputs": [
    {
     "name": "stdout",
     "output_type": "stream",
     "text": [
      "[[ 3 14 15  6 16  9  8  4]\n",
      " [ 7 16 16  7 12 15 17  7]\n",
      " [16 12 13 11  1 15 18  9]\n",
      " [10  9  9  1 18  7 16 14]\n",
      " [ 5  0 16  4 14  4  9 19]\n",
      " [ 2  4  6  9 19 19 18 17]]\n",
      "6\n",
      "8\n",
      "A\n",
      "\n",
      " [[ 3 14 15  6 16  9  8  4]\n",
      " [ 7 16 16  7 12 15 17  7]\n",
      " [16 12 13 11  1 15 18  9]\n",
      " [10  9  9  1 18  7 16 14]\n",
      " [ 5  0 16  4 14  4  9 19]\n",
      " [ 2  4  6  9 19 19 18 17]]\n",
      "[ 3 14 15  6 16  9  8  4  7 16 16  7 12 15 17  7 16 12 13 11  1 15 18  9\n",
      " 10  9  9  1 18  7 16 14  5  0 16  4 14  4  9 19  2  4  6  9 19 19 18 17]\n"
     ]
    }
   ],
   "source": [
    "np.random.seed(5)\n",
    "a = np.random.randint(20,size=(6,8))\n",
    "print(a)\n",
    "\n",
    "column_min_index = np.empty([1,2])\n",
    "row_min_index = np.empty([1,2]) \n",
    "\n",
    "rows, columns = a.shape\n",
    "print(rows)\n",
    "print(columns)\n",
    "\n",
    "# 0 = columns\n",
    "# 1 = rows\n",
    "\n",
    "print(\"A\\n\\n\", a)\n",
    "\n",
    "rav_a = np.ravel(a)\n",
    "print(rav_a)\n",
    "# min_index_rows = np.argmin(a, axis=1)\n",
    "# min_index_columns = np.argmin(a, axis=0)\n",
    "# filler_index_for_rows = np.arange(rows)\n",
    "# filler_index_for_columns = np.arange(columns)\n",
    "# combined_index_and_min_index_for_rows = np.vstack((filler_index_for_rows, min_index_rows))\n",
    "# combined_index_and_min_index_for_columns = np.vstack((filler_index_for_columns, min_index_columns))\n",
    "# Row_Min_Index = combined_index_and_min_index_for_rows.T\n",
    "# Column_Min_Index = combined_index_and_min_index_for_columns.T\n",
    "\n",
    "\n",
    "# tester = np.asarray([Row_Min_Index, Column_Min_Index])\n",
    "# print(\"TESTER\\n\\n\", tester)\n"
   ]
  },
  {
   "cell_type": "code",
   "execution_count": 8,
   "metadata": {},
   "outputs": [],
   "source": [
    "# deviations = 2\n",
    "# img_x_sobel = np.zeros(img_grayscale.shape)\n",
    "# img_x_gauss = np.zeros(img_grayscale.shape)\n",
    "# filters.sobel(img_grayscale, 1, img_x_sobel)\n",
    "# filters.gaussian_filter(img_grayscale, (deviations, deviations), (0, 1), img_x_gauss)\n",
    "# img_x_gauss_u8 = np.uint8(img_x_gauss)\n",
    "\n",
    "# img_y_sobel = np.zeros(img_grayscale.shape)\n",
    "# img_y_gauss = np.zeros(img_grayscale.shape)\n",
    "# filters.sobel(img_grayscale, 0, img_y_sobel)\n",
    "# filters.gaussian_filter(img_grayscale, (deviations, deviations), (1, 0), img_y_gauss)\n",
    "# img_y_gauss_u8 = np.uint8(img_y_gauss)\n",
    "\n",
    "# combined_addition_u8 = np.add(img_x_gauss_u8, img_y_gauss_u8)\n",
    "# combined_subtraction_u8 = np.subtract(img_x_gauss_u8, img_y_gauss_u8)\n",
    "# sub_abs = np.absolute(combined_subtraction_u8)\n",
    "# sub_abs_u8 = np.uint8(sub_abs)\n",
    "\n",
    "# gradient_magnitude_sobel = np.sqrt(img_x_sobel**2+img_y_sobel**2)\n",
    "# gradient_magnitude_sobel_u8 = np.uint8(gradient_magnitude_sobel)\n",
    "# gradient_angle = np.arctan(img_x_sobel, img_y_sobel)\n",
    "# gradient_angle_u8 = np.uint8(gradient_angle)\n",
    "# test_cmap_u8 = cv2.applyColorMap(gradient_angle_u8, cv2.COLORMAP_HSV)\n",
    "\n",
    "# cv2.imshow(\"img_x\", img_x_gauss_u8)\n",
    "# cv2.imshow(\"img_y\", img_y_gauss_u8)\n",
    "# cv2.imshow(\"Combined Addition u8\", combined_addition_u8)\n",
    "# cv2.imshow(\"Combined Subtraction u8\", combined_subtraction_u8)\n",
    "# cv2.imshow(\"Subtraction Absolute\", sub_abs)\n",
    "# cv2.imshow(\"Subtraction Absolute u8\", sub_abs_u8)\n",
    "# cv2.imshow(\"Gradient Magnitude Sobel\", gradient_magnitude_sobel_u8)\n",
    "# cv2.imshow(\"Gradient Angle u8\", gradient_angle_u8)\n",
    "# cv2.imshow(\"Test CMAP u8\", test_cmap_u8)\n",
    "\n",
    "\n",
    "# cv2.waitKey(0)\n",
    "# cv2.destroyAllWindows()"
   ]
  }
 ],
 "metadata": {
  "anaconda-cloud": {},
  "kernelspec": {
   "display_name": "Python 3",
   "language": "python",
   "name": "python3"
  },
  "language_info": {
   "codemirror_mode": {
    "name": "ipython",
    "version": 3
   },
   "file_extension": ".py",
   "mimetype": "text/x-python",
   "name": "python",
   "nbconvert_exporter": "python",
   "pygments_lexer": "ipython3",
   "version": "3.5.6"
  },
  "widgets": {
   "state": {},
   "version": "1.1.2"
  }
 },
 "nbformat": 4,
 "nbformat_minor": 1
}
