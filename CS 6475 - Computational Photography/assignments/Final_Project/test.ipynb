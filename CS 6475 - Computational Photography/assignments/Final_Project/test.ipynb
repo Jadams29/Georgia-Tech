{
 "cells": [
  {
   "cell_type": "code",
   "execution_count": null,
   "metadata": {},
   "outputs": [],
   "source": [
    "%matplotlib inline"
   ]
  },
  {
   "cell_type": "markdown",
   "metadata": {},
   "source": [
    "\n",
    "# Robust matching using RANSAC\n",
    "\n",
    "\n",
    "In this simplified example we first generate two synthetic images as if they\n",
    "were taken from different view points.\n",
    "\n",
    "In the next step we find interest points in both images and find\n",
    "correspondences based on a weighted sum of squared differences of a small\n",
    "neighborhood around them. Note, that this measure is only robust towards\n",
    "linear radiometric and not geometric distortions and is thus only usable with\n",
    "slight view point changes.\n",
    "\n",
    "After finding the correspondences we end up having a set of source and\n",
    "destination coordinates which can be used to estimate the geometric\n",
    "transformation between both images. However, many of the correspondences are\n",
    "faulty and simply estimating the parameter set with all coordinates is not\n",
    "sufficient. Therefore, the RANSAC algorithm is used on top of the normal model\n",
    "to robustly estimate the parameter set by detecting outliers.\n"
   ]
  },
  {
   "cell_type": "code",
   "execution_count": 1,
   "metadata": {},
   "outputs": [],
   "source": [
    "import numpy as np\n",
    "import cv2\n",
    "from matplotlib import pyplot as plt"
   ]
  },
  {
   "cell_type": "code",
   "execution_count": 2,
   "metadata": {},
   "outputs": [],
   "source": [
    "def display_flow(img, flow, stride=40):\n",
    "    for index in np.ndindex(flow[::string, ::stride].shape[:2]):\n",
    "        pt1 = tuple(i*stride for i in index)\n",
    "        delta = flow[pt1].astype(np.int32)[::-1]\n",
    "        pt2 = tuple(pt1 + 10 * delta)\n",
    "        if 2 <= cv2.norm(delta) <= 10:\n",
    "            cv2.arrowedLine(img, pt1[::-1], pt2[::-1], (0,0,255), 5, cv2.LINE_AA, 0, 0.4)\n",
    "    norm_opt_flow = np.linalg.norm(flow, axis=2)\n",
    "    norm_opt_flow = cv2.normalize(norm_opt_flow, None, 0, 1, cv2.NORM_MINMAX)\n",
    "    \n",
    "    cv2.imshow(\"Optical flow\", img)\n",
    "    cv2.imshow(\"Optical Flow Magnitude\", norm_opt_flow)\n",
    "    k = cv2.waitKey(1)\n",
    "    if k == 27:\n",
    "        return 1\n",
    "    else:\n",
    "        return 0"
   ]
  },
  {
   "cell_type": "code",
   "execution_count": 10,
   "metadata": {},
   "outputs": [
    {
     "ename": "error",
     "evalue": "OpenCV(4.0.0) C:\\projects\\opencv-python\\opencv\\modules\\video\\src\\optflowgf.cpp:1114: error: (-215:Assertion failed) prev0.size() == next0.size() && prev0.channels() == next0.channels() && prev0.channels() == 1 && pyrScale_ < 1 in function 'cv::`anonymous-namespace'::FarnebackOpticalFlowImpl::calc'\n",
     "output_type": "error",
     "traceback": [
      "\u001b[1;31m---------------------------------------------------------------------------\u001b[0m",
      "\u001b[1;31merror\u001b[0m                                     Traceback (most recent call last)",
      "\u001b[1;32m<ipython-input-10-2740930d98a4>\u001b[0m in \u001b[0;36m<module>\u001b[1;34m()\u001b[0m\n\u001b[0;32m     14\u001b[0m \u001b[1;33m\u001b[0m\u001b[0m\n\u001b[0;32m     15\u001b[0m     \u001b[1;32mif\u001b[0m \u001b[0minit_flow\u001b[0m\u001b[1;33m:\u001b[0m\u001b[1;33m\u001b[0m\u001b[0m\n\u001b[1;32m---> 16\u001b[1;33m         \u001b[0mopt_flow\u001b[0m \u001b[1;33m=\u001b[0m \u001b[0mcv2\u001b[0m\u001b[1;33m.\u001b[0m\u001b[0mcalcOpticalFlowFarneback\u001b[0m\u001b[1;33m(\u001b[0m\u001b[0mprev_frame\u001b[0m\u001b[1;33m,\u001b[0m \u001b[0mgray\u001b[0m\u001b[1;33m,\u001b[0m \u001b[1;32mNone\u001b[0m\u001b[1;33m,\u001b[0m \u001b[1;36m0.5\u001b[0m\u001b[1;33m,\u001b[0m \u001b[1;36m5\u001b[0m\u001b[1;33m,\u001b[0m \u001b[1;36m13\u001b[0m\u001b[1;33m,\u001b[0m \u001b[1;36m10\u001b[0m\u001b[1;33m,\u001b[0m \u001b[1;36m5\u001b[0m\u001b[1;33m,\u001b[0m \u001b[1;36m1.1\u001b[0m\u001b[1;33m,\u001b[0m \u001b[0mcv2\u001b[0m\u001b[1;33m.\u001b[0m\u001b[0mOPTFLOW_FARNEBACK_GAUSSIAN\u001b[0m\u001b[1;33m)\u001b[0m\u001b[1;33m\u001b[0m\u001b[0m\n\u001b[0m\u001b[0;32m     17\u001b[0m         \u001b[0minit_flow\u001b[0m \u001b[1;33m=\u001b[0m \u001b[1;32mFalse\u001b[0m\u001b[1;33m\u001b[0m\u001b[0m\n\u001b[0;32m     18\u001b[0m     \u001b[1;32melse\u001b[0m\u001b[1;33m:\u001b[0m\u001b[1;33m\u001b[0m\u001b[0m\n",
      "\u001b[1;31merror\u001b[0m: OpenCV(4.0.0) C:\\projects\\opencv-python\\opencv\\modules\\video\\src\\optflowgf.cpp:1114: error: (-215:Assertion failed) prev0.size() == next0.size() && prev0.channels() == next0.channels() && prev0.channels() == 1 && pyrScale_ < 1 in function 'cv::`anonymous-namespace'::FarnebackOpticalFlowImpl::calc'\n"
     ]
    }
   ],
   "source": [
    "cap = cv2.VideoCapture(\"test.mp4\")\n",
    "test, prev_frame = cap.read()\n",
    "\n",
    "prev_frame = cv2.cvtColor(prev_frame, cv2.COLOR_BGR2RGB)\n",
    "prev_frame = cv2.resize(prev_frame, (0,0), None, 0.5, 0.5)\n",
    "init_flow = True\n",
    "\n",
    "while True:\n",
    "    status_cap, frame = cap.read()\n",
    "    frame = cv2.resize(frame, (0,0), None, 0.5, 0.5)\n",
    "    if not status_cap:\n",
    "        break\n",
    "    gray = cv2.cvtColor(frame, cv2.COLOR_BGR2GRAY)\n",
    "    \n",
    "    if init_flow:\n",
    "        opt_flow = cv2.calcOpticalFlowFarneback(prev_frame, gray, None, 0.5, 5, 13, 10, 5, 1.1, cv2.OPTFLOW_FARNEBACK_GAUSSIAN)\n",
    "        init_flow = False\n",
    "    else:\n",
    "        opt_flow = cv2.calcOpticalFlowFarneback(prev_frame, gray, opt_flow, 0.5, 5, 13, 10, 5, 1.1, cv2.OPTFLOW_USE_INITIAL_FLOW)\n",
    "    \n",
    "    prev_frame = np.copy(gray)\n",
    "    if display_flow(fram, opt_flow):\n",
    "        break;\n",
    "cv2.destroyAllWindows()"
   ]
  }
 ],
 "metadata": {
  "kernelspec": {
   "display_name": "Python 3",
   "language": "python",
   "name": "python3"
  },
  "language_info": {
   "codemirror_mode": {
    "name": "ipython",
    "version": 3
   },
   "file_extension": ".py",
   "mimetype": "text/x-python",
   "name": "python",
   "nbconvert_exporter": "python",
   "pygments_lexer": "ipython3",
   "version": "3.5.6"
  }
 },
 "nbformat": 4,
 "nbformat_minor": 1
}
