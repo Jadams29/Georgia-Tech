{
 "cells": [
  {
   "cell_type": "code",
   "execution_count": 2,
   "metadata": {},
   "outputs": [],
   "source": [
    "import numpy as np"
   ]
  },
  {
   "cell_type": "code",
   "execution_count": null,
   "metadata": {},
   "outputs": [],
   "source": [
    "def cvtTime(time, cvtTo=None):\n",
    "    if cvtTo==None:\n",
    "        return time\n",
    "    if cvtTo == 12:\n",
    "        \n",
    "        \n",
    "    elif cvtTo == 24:\n",
    "        hour, minute = time.split(\":\")\n",
    "        amPM = \"AM\"\n",
    "        time = hours % 24\n",
    "        if hour > 12:\n",
    "            if time == 0:\n",
    "                time = 12\n",
    "            time_string = \"PM\"\n",
    "        return time + amPM"
   ]
  }
 ],
 "metadata": {
  "kernelspec": {
   "display_name": "Python 3",
   "language": "python",
   "name": "python3"
  },
  "language_info": {
   "codemirror_mode": {
    "name": "ipython",
    "version": 3
   },
   "file_extension": ".py",
   "mimetype": "text/x-python",
   "name": "python",
   "nbconvert_exporter": "python",
   "pygments_lexer": "ipython3",
   "version": "3.5.6"
  }
 },
 "nbformat": 4,
 "nbformat_minor": 2
}
