{
 "cells": [
  {
   "cell_type": "code",
   "execution_count": 1,
   "metadata": {},
   "outputs": [],
   "source": [
    "import numpy as np"
   ]
  },
  {
   "cell_type": "code",
   "execution_count": 2,
   "metadata": {},
   "outputs": [],
   "source": [
    "arr1 = np.asarray([[36,24,54,61],[78,93,45,68],[54,27,22,53],[37,25,62,73]])"
   ]
  },
  {
   "cell_type": "code",
   "execution_count": 3,
   "metadata": {},
   "outputs": [],
   "source": [
    "arr2 = np.asarray([[36,78,54,37],[24,93,27,25],[54,45,22,62],[61,68,53,73]])"
   ]
  },
  {
   "cell_type": "code",
   "execution_count": 4,
   "metadata": {},
   "outputs": [
    {
     "name": "stdout",
     "output_type": "stream",
     "text": [
      "Here is arr1:\n",
      " [[36 24 54 61]\n",
      " [78 93 45 68]\n",
      " [54 27 22 53]\n",
      " [37 25 62 73]]\n",
      "\n",
      "Here is arr2:\n",
      " [[36 78 54 37]\n",
      " [24 93 27 25]\n",
      " [54 45 22 62]\n",
      " [61 68 53 73]]\n",
      "\n",
      "Here is temp:\n",
      " [[ 72  48 108 122]\n",
      " [156 186  90 136]\n",
      " [108  54  44 106]\n",
      " [ 74  50 124 146]]\n",
      "\n",
      "Here is result:\n",
      " [[ 36 -30  54  85]\n",
      " [132  93  63 111]\n",
      " [ 54   9  22  44]\n",
      " [ 13 -18  71  73]]\n"
     ]
    }
   ],
   "source": [
    "print(\"Here is arr1:\\n\", arr1)\n",
    "print()\n",
    "print(\"Here is arr2:\\n\", arr2)\n",
    "print()\n",
    "temp = 2*arr1\n",
    "print(\"Here is temp:\\n\", temp)\n",
    "result = temp - arr2\n",
    "print()\n",
    "print(\"Here is result:\\n\", result)"
   ]
  },
  {
   "cell_type": "code",
   "execution_count": 5,
   "metadata": {},
   "outputs": [
    {
     "name": "stdout",
     "output_type": "stream",
     "text": [
      "\n",
      "Here is var1:\n",
      " (array([0, 3], dtype=int64), array([1, 1], dtype=int64))\n",
      "[0 3]\n",
      "[1 1]\n",
      "[[ 36   0  54  85]\n",
      " [132  93  63 111]\n",
      " [ 54   9  22  44]\n",
      " [ 13   0  71  73]]\n"
     ]
    }
   ],
   "source": [
    "var1 = np.where(result<0)\n",
    "print()\n",
    "print(\"Here is var1:\\n\", var1)\n",
    "print(var1[0])\n",
    "print(var1[1])\n",
    "result[result<0]=0\n",
    "print(result)"
   ]
  },
  {
   "cell_type": "code",
   "execution_count": null,
   "metadata": {},
   "outputs": [],
   "source": []
  }
 ],
 "metadata": {
  "kernelspec": {
   "display_name": "Python 3",
   "language": "python",
   "name": "python3"
  },
  "language_info": {
   "codemirror_mode": {
    "name": "ipython",
    "version": 3
   },
   "file_extension": ".py",
   "mimetype": "text/x-python",
   "name": "python",
   "nbconvert_exporter": "python",
   "pygments_lexer": "ipython3",
   "version": "3.5.6"
  }
 },
 "nbformat": 4,
 "nbformat_minor": 2
}
