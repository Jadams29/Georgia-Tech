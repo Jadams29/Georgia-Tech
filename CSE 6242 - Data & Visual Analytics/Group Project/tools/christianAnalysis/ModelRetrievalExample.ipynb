{
 "cells": [
  {
   "cell_type": "markdown",
   "metadata": {},
   "source": [
    "## Given a list of input parameters,  return a probability distribution of pitches\n",
    "\n",
    "Christian Rivera"
   ]
  },
  {
   "cell_type": "code",
   "execution_count": 1,
   "metadata": {},
   "outputs": [],
   "source": [
    "import modelDataRetrieval  \n",
    "import pandas as pd"
   ]
  },
  {
   "cell_type": "code",
   "execution_count": 3,
   "metadata": {},
   "outputs": [],
   "source": [
    "myPitchers = ['Corey Kluber','Justin Verlander','Clayton Kershaw','Max Scherzer','Chris Sale',\n",
    "           'Zack Greinke','Patrick Corbin','Dallas Keuchel','Jake Arrieta','Carlos Carrasco','Trevor Bauer',\n",
    "           'Charlie Morton','David Price','Gerrit Cole','Stephen Strasburg','J.A. Happ','Madison Bumgarner',\n",
    "             'Luis Severino','Jacob deGrom','Blake Snell']\n",
    "\n",
    "players = pd.read_csv(\"player_lookup.csv\")\n",
    "data = pd.read_csv(\"Modeling_data.csv\")"
   ]
  },
  {
   "cell_type": "markdown",
   "metadata": {},
   "source": [
    "## Retrieve mode results: Chris Sale"
   ]
  },
  {
   "cell_type": "code",
   "execution_count": 10,
   "metadata": {},
   "outputs": [
    {
     "name": "stdout",
     "output_type": "stream",
     "text": [
      "['CH', 'FF', 'FS', 'FT', 'SL']\n",
      "{'CH': 12.54, 'FF': 25.06, 'FS': 0.14, 'FT': 41.98, 'SL': 20.28}\n"
     ]
    }
   ],
   "source": [
    "pitcher = \"Chris Sale\"\n",
    "batter = \"Mike Trout\"\n",
    "\n",
    "output =  modelDataRetrieval.modelPrediction(data,players,\n",
    "                    pitcher,\n",
    "                    batter,pitch_number=0,\n",
    "                    game_pitch_number=0,outs_when_up=0,\n",
    "                    BR_1B=0,BR_2B=0,BR_3B=0,\n",
    "                    balls=0,strikes=1,\n",
    "                     pitcher_score=5,batter_score=4,\n",
    "                    stand=\"L\",outcomelag1=\"ball\",\n",
    "                    outcomelag2=\"ball\",outcomelag3=\"ball\",\n",
    "                     pitchlag1=\"FF\",pitchlag2=\"FF\",pitchlag3=\"FF\")\n",
    "\n",
    "print(output)"
   ]
  },
  {
   "cell_type": "markdown",
   "metadata": {},
   "source": [
    "## Retrieve mode results: Justin Verlander"
   ]
  },
  {
   "cell_type": "code",
   "execution_count": 11,
   "metadata": {},
   "outputs": [
    {
     "name": "stdout",
     "output_type": "stream",
     "text": [
      "['CH', 'CU', 'FC', 'FF', 'FT', 'SL']\n",
      "{'CH': 0.91, 'CU': 6.11, 'FC': 0.31, 'FF': 89.47, 'FT': 0.09, 'SL': 3.11}\n"
     ]
    }
   ],
   "source": [
    "pitcher = \"Justin Verlander\"\n",
    "batter = \"Mike Trout\"\n",
    "\n",
    "output =  modelDataRetrieval.modelPrediction(data,players,\n",
    "                    pitcher,\n",
    "                    batter,pitch_number=0,\n",
    "                    game_pitch_number=0,outs_when_up=0,\n",
    "                    BR_1B=0,BR_2B=0,BR_3B=0,\n",
    "                    balls=0,strikes=1,\n",
    "                     pitcher_score=5,batter_score=4,\n",
    "                    stand=\"L\",outcomelag1=\"ball\",\n",
    "                    outcomelag2=\"ball\",outcomelag3=\"ball\",\n",
    "                     pitchlag1=\"FF\",pitchlag2=\"FF\",pitchlag3=\"FF\")\n",
    "\n",
    "print(output)"
   ]
  },
  {
   "cell_type": "code",
   "execution_count": null,
   "metadata": {},
   "outputs": [],
   "source": []
  }
 ],
 "metadata": {
  "kernelspec": {
   "display_name": "Python 3",
   "language": "python",
   "name": "python3"
  },
  "language_info": {
   "codemirror_mode": {
    "name": "ipython",
    "version": 3
   },
   "file_extension": ".py",
   "mimetype": "text/x-python",
   "name": "python",
   "nbconvert_exporter": "python",
   "pygments_lexer": "ipython3",
   "version": "3.6.8"
  }
 },
 "nbformat": 4,
 "nbformat_minor": 2
}
