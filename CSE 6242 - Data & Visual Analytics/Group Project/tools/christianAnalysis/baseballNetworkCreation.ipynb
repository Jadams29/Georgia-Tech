{
 "cells": [
  {
   "cell_type": "markdown",
   "metadata": {},
   "source": [
    "# Baseball Pitch Data Analysis\n",
    "Class: cse6242\n",
    "Christian Rivera\n",
    "Team: Philly Philly"
   ]
  },
  {
   "cell_type": "code",
   "execution_count": 1,
   "metadata": {},
   "outputs": [
    {
     "name": "stderr",
     "output_type": "stream",
     "text": [
      "Using TensorFlow backend.\n"
     ]
    }
   ],
   "source": [
    "import pandas as pd\n",
    "from sklearn import tree \n",
    "from sklearn.metrics import accuracy_score\n",
    "import numpy as np\n",
    "\n",
    "from keras.models import Sequential\n",
    "from keras.layers import LSTM, Dense, Dropout, Masking, Embedding, Activation\n",
    "from keras import optimizers\n"
   ]
  },
  {
   "cell_type": "markdown",
   "metadata": {},
   "source": [
    "## Load the data sets"
   ]
  },
  {
   "cell_type": "code",
   "execution_count": 2,
   "metadata": {},
   "outputs": [],
   "source": [
    "players = pd.read_csv(\"player_lookup.csv\")\n",
    "data = pd.read_csv(\"Modeling_data.csv\")\n",
    "\n",
    "all_pitch_types = list(data.pitch_type.unique())"
   ]
  },
  {
   "cell_type": "code",
   "execution_count": 3,
   "metadata": {},
   "outputs": [
    {
     "data": {
      "text/plain": [
       "Index(['game_year', 'batter', 'pitch_type', 'pitcher', 'pitch_number',\n",
       "       'game_pitch_number', 'stand', 'outs_when_up', 'inning1', 'inning2',\n",
       "       'inning3', 'inning4', 'inning5', 'inning6', 'inning7', 'inning8',\n",
       "       'inning9', 'inning10', 'BR_EMPTY', 'BR_1B', 'BR_1B_2B', 'BR_1B_3B',\n",
       "       'BR_2B', 'BR_2B_3B', 'BR_3B', 'BR_FULL', 'zero_zero_count',\n",
       "       'zero_one_count', 'zero_two_count', 'one_zero_count', 'one_one_count',\n",
       "       'one_two_count', 'two_zero_count', 'two_one_count', 'two_two_count',\n",
       "       'three_zero_count', 'three_one_count', 'three_two_count', 'score_diff',\n",
       "       'batting_order1', 'batting_order2', 'batting_order3', 'batting_order4',\n",
       "       'batting_order5', 'batting_order6', 'batting_order7', 'batting_order8',\n",
       "       'batting_order9', 'release_speedlag1', 'release_speedlag2',\n",
       "       'release_speedlag3', 'avg2_release_speed', 'avg3_release_speed',\n",
       "       'plate_xlag1', 'plate_xlag2', 'plate_xlag3', 'plate_zlag1',\n",
       "       'plate_zlag2', 'plate_zlag3', 'avg2_plate_x', 'avg2_plate_z',\n",
       "       'avg3_plate_x', 'avg3_plate_z', 'pfx_xlag1', 'pfx_xlag2', 'pfx_xlag3',\n",
       "       'pfx_zlag1', 'pfx_zlag2', 'pfx_zlag3', 'avg2_pfx_x', 'avg2_pfx_z',\n",
       "       'avg3_pfx_x', 'avg3_pfx_z', 'outcomelag1', 'outcomelag2', 'outcomelag3',\n",
       "       'pitch_typelag1', 'pitch_typelag2', 'pitch_typelag3', 'woba.FF',\n",
       "       'woba.SL', 'woba.CH', 'woba.CU', 'woba.FT', 'woba.SI', 'woba.FC',\n",
       "       'woba.FS', 'woba.KC', 'woba.KN', 'swstrike_pct.FF', 'swstrike_pct.SL',\n",
       "       'swstrike_pct.CH', 'swstrike_pct.CU', 'swstrike_pct.FT',\n",
       "       'swstrike_pct.SI', 'swstrike_pct.FC', 'swstrike_pct.FS',\n",
       "       'swstrike_pct.KC', 'swstrike_pct.KN'],\n",
       "      dtype='object')"
      ]
     },
     "execution_count": 3,
     "metadata": {},
     "output_type": "execute_result"
    }
   ],
   "source": [
    "data.columns"
   ]
  },
  {
   "cell_type": "markdown",
   "metadata": {},
   "source": [
    "## Below are the functions to clean the data, select a player and create training and testing data.  All the cleaning functions are called by the dataOrchestrator function so that the user be only concerned with the dataOrchestrator and createTrainTest functions"
   ]
  },
  {
   "cell_type": "code",
   "execution_count": 5,
   "metadata": {},
   "outputs": [],
   "source": [
    "def cleanData(df):\n",
    "    \"\"\"\n",
    "    One-hot encode categorical attributes + drop not useful attributes\n",
    "    input: df (pitch data)\n",
    "    output: df (cleaned pitched data)\n",
    "    \"\"\"\n",
    "    \n",
    "    attributes = ['stand','outcomelag3','outcomelag2','outcomelag1',\n",
    "                  'pitch_typelag1', 'pitch_typelag2', 'pitch_typelag3']\n",
    "    \n",
    "    for trait in attributes:\n",
    "        try:\n",
    "            dummies = pd.get_dummies(df[trait], prefix = trait)\n",
    "            df = pd.concat([df, dummies], axis=1)\n",
    "        except:\n",
    "            pass\n",
    "    \n",
    "    attributes = attributes + ['inning1', 'inning2',\n",
    "       'inning3', 'inning4', 'inning5', 'inning6', 'inning7', 'inning8',\n",
    "       'inning9', 'inning10', 'BR_EMPTY', 'BR_1B_2B', 'BR_1B_3B',\n",
    "        'BR_2B_3B','BR_FULL','batting_order1', 'batting_order2', 'batting_order3', 'batting_order4',\n",
    "       'batting_order5', 'batting_order6', 'batting_order7', 'batting_order8',\n",
    "       'batting_order9','pitcher','batter']\n",
    "    df.drop(attributes,axis=1,inplace=True)\n",
    "    \n",
    "    return df"
   ]
  },
  {
   "cell_type": "code",
   "execution_count": 6,
   "metadata": {},
   "outputs": [],
   "source": [
    "def simplifyOutcomes(df):\n",
    "    \"\"\"\n",
    "    Standardize pitch outcomes.  Shrink dimension space from 23 results to 6 for\n",
    "    all the \"outcome lag\" columns\n",
    "    \"\"\"\n",
    "    \n",
    "    \n",
    "    subs = {'ball':'ball',\n",
    "         'called_strike':'strike',\n",
    "         'catcher_interf':'hit',\n",
    "         'double':'hit',\n",
    "         'double_play':'out',\n",
    "         'field_error':'hit',\n",
    "         'field_out':'out',\n",
    "         'fielders_choice':'hit',\n",
    "         'fielders_choice_out':'out',\n",
    "         'force_out':'out',\n",
    "         'foul':'foul',\n",
    "         'grounded_into_double_play':'out',\n",
    "         'hit_by_pitch':'hit',\n",
    "         'home_run':'score',\n",
    "         'offensive_substitution': 'other',\n",
    "         'sac_bunt': 'score',\n",
    "         'sac_bunt_double_play':'score',\n",
    "         'sac_fly': 'score',\n",
    "         'sac_fly_double_play': 'score',\n",
    "         'single': 'hit',\n",
    "         'swinging_strike':'strike',\n",
    "         'triple': 'hit',\n",
    "         'triple_play':'out'}\n",
    "    \n",
    "    attributes = ['outcomelag1', 'outcomelag2', 'outcomelag3']\n",
    "    for trait in attributes:\n",
    "        df[trait] = df[trait].map(subs)\n",
    "    \n",
    "    return df\n",
    "    "
   ]
  },
  {
   "cell_type": "code",
   "execution_count": 7,
   "metadata": {},
   "outputs": [],
   "source": [
    "def Determine_Pitch_Type_To_Keep_Pitcher_Specific(the_pitcher_id, the_data=None):\n",
    "    print(\"Determining the PitchTypes to use with pitcher {}\\n\".format(the_pitcher_id))\n",
    "    # Getting count for each type of pitch\n",
    "    pitch_type_count_dict = the_data.pitch_type.value_counts()\n",
    "    num_of_pitch = len(the_data[\"pitch_type\"])\n",
    "    list_of_pitch_types_used = list(the_data.pitch_type.unique())\n",
    "    threshold = 0.02\n",
    "    knuckle_thresh = 0.5\n",
    "\n",
    "    # Remove woba and swstrike columns relating to pitch types not thrown by the pitcher\n",
    "    for pitchType in all_pitch_types:\n",
    "        if pitchType not in list_of_pitch_types_used:\n",
    "            woba_column_to_remove = \"woba.{}\".format(pitchType)\n",
    "            swstrike_column_to_remove = \"swstrike_pct.{}\".format(pitchType)\n",
    "            if woba_column_to_remove in the_data.columns:\n",
    "                the_data.drop(woba_column_to_remove, axis=1, inplace=True)\n",
    "            if swstrike_column_to_remove in the_data.columns:\n",
    "                the_data.drop(swstrike_column_to_remove, axis=1, inplace=True)\n",
    "\n",
    "    for key, value in pitch_type_count_dict.iteritems():\n",
    "        current_pitch_type_percentage_of_total = value/(len(the_data[\"pitch_type\"]))\n",
    "        # If the pitcher throws more than knuckle_thresh, KN, then we remove all woba and swstrike columns\n",
    "        if (key == \"KN\") and (current_pitch_type_percentage_of_total > knuckle_thresh):\n",
    "            current_pitch_types = list(the_data.pitch_type.unique())\n",
    "            for pitch in current_pitch_types:\n",
    "                if pitch in the_data.columns:\n",
    "                    the_data.drop(pitch, axis=1, inplace=True)\n",
    "                if pitch in the_data.columns:\n",
    "                    the_data.drop(pitch, axis=1, inplace=True)\n",
    "        # Finds and removes pitch types if they have not been used enough by the pitcher\n",
    "        #   specified by the threshold\n",
    "        if current_pitch_type_percentage_of_total < threshold:\n",
    "            print(\"Pitch total {}, current pitch type {} and total {}, percentage {}\".format(\n",
    "                (len(the_data[\"pitch_type\"])), key, value, current_pitch_type_percentage_of_total))\n",
    "            the_data = the_data[the_data.pitch_type != key]\n",
    "            print(\"The number of pitches now {}\".format(len(the_data[\"pitch_type\"])))\n",
    "\n"
   ]
  },
  {
   "cell_type": "code",
   "execution_count": 8,
   "metadata": {},
   "outputs": [],
   "source": [
    "def fillData(df):\n",
    "    \"\"\"\n",
    "    1. Fill NaN values in WOBA fields with mean value of dataset\n",
    "    2. Fill NaN values for all other fields with 0\n",
    "    \"\"\"\n",
    "    \n",
    "    attributes = ['woba.FF','woba.SL', 'woba.CH', 'woba.CU', 'woba.FT', 'woba.SI',\n",
    "                  'woba.FC','woba.FS', 'woba.KC', 'woba.KN','swstrike_pct.FF', 'swstrike_pct.SL',\n",
    "       'swstrike_pct.CH', 'swstrike_pct.CU', 'swstrike_pct.FT',\n",
    "       'swstrike_pct.SI', 'swstrike_pct.FC', 'swstrike_pct.FS',\n",
    "       'swstrike_pct.KC', 'swstrike_pct.KN']\n",
    "    \n",
    "    for trait in attributes:\n",
    "        try:\n",
    "            df[trait] = df[trait].fillna((df[trait].mean()))\n",
    "        except:\n",
    "            pass\n",
    "        \n",
    "    attributes = ['release_speedlag1', 'release_speedlag2',\n",
    "       'release_speedlag3', 'avg2_release_speed', 'avg3_release_speed',\n",
    "                  'plate_xlag1', 'plate_xlag2', 'plate_xlag3','plate_xlag1', \n",
    "                  'plate_xlag2', 'plate_xlag3', 'plate_zlag1',\n",
    "       'plate_zlag2', 'plate_zlag3', 'avg2_plate_x', 'avg2_plate_z',\n",
    "       'avg3_plate_x', 'avg3_plate_z', 'pfx_xlag1', 'pfx_xlag2', 'pfx_xlag3',\n",
    "       'pfx_zlag1', 'pfx_zlag2', 'pfx_zlag3', 'avg2_pfx_x', 'avg2_pfx_z',\n",
    "       'avg3_pfx_x', 'avg3_pfx_z']\n",
    "    \n",
    "    for trait in attributes:\n",
    "        try:\n",
    "            df[trait] = df[trait].fillna((0))\n",
    "        except:\n",
    "            pass\n",
    "        \n",
    "    return df"
   ]
  },
  {
   "cell_type": "code",
   "execution_count": 9,
   "metadata": {},
   "outputs": [],
   "source": [
    "def createTrainTest(df,testYear=2018,trainYearStart=2016):\n",
    "    \"\"\"\n",
    "    Create training and testing data outputs\n",
    "    \n",
    "    inputs:\n",
    "        - testYear (int)\n",
    "        - traingYearStart (int): all data starting from this value up to but not including\n",
    "                                the testYear\n",
    "    \n",
    "    outputs:\n",
    "        xTrain, yTrain, xTest, yTest numpy arrays\n",
    "    \"\"\"\n",
    "    \n",
    "    yData = pd.get_dummies(df['pitch_type'])\n",
    "    \n",
    "    yData['game_year'] = df['game_year']\n",
    "    \n",
    "    xTrain = df[(df['game_year'] < testYear) & (df['game_year'] >= trainYearStart)]\n",
    "    xTest = df[df['game_year'] >= testYear]\n",
    "    \n",
    "    xTrain.drop(['game_year','pitch_type'],axis=1,inplace=True)\n",
    "    xTest.drop(['game_year','pitch_type'],axis=1,inplace=True)\n",
    "    \n",
    "    yTrain = yData[(yData['game_year'] < testYear) & (yData['game_year'] >= trainYearStart)]\n",
    "    yTest = yData[yData['game_year'] >= testYear]\n",
    "    \n",
    "    yTrain.drop(['game_year'],axis=1,inplace=True)\n",
    "    yTest.drop(['game_year'],axis=1,inplace=True)\n",
    "    \n",
    "    xTrain = xTrain.values\n",
    "    xTest = xTest.values\n",
    "    yTrain = yTrain.values\n",
    "    yTest = yTest.values\n",
    "    \n",
    "    return xTrain, xTest, yTrain, yTest\n",
    "    "
   ]
  },
  {
   "cell_type": "code",
   "execution_count": 10,
   "metadata": {},
   "outputs": [],
   "source": [
    "def dataOrchestrator(mainData, reference, playerName = \"Justin Verlander\"):\n",
    "    \"\"\"\n",
    "    Receives mainData, MLBID reference data, and specific player name.\n",
    "    \n",
    "    Runs all the above cleaning code to produce a \"cleaned\" dataset that can be \n",
    "    used as an input for the \"createTrainTest\" function\n",
    "    \n",
    "    \"\"\"\n",
    "    \n",
    "    \n",
    "    mlbid = int(reference[reference['MLBNAME'] ==playerName]['MLBID'].iloc[0])\n",
    "    \n",
    "    \n",
    "    \n",
    "    df = mainData[mainData['pitcher'] ==mlbid]\n",
    "    \n",
    "    Determine_Pitch_Type_To_Keep_Pitcher_Specific(mlbid,df)\n",
    "    \n",
    "    \"\"\"df = df[['game_year','pitch_type', 'pitch_number','game_pitch_number',\n",
    "             'outs_when_up', 'BR_1B',\n",
    "       'BR_2B', 'BR_3B','zero_zero_count',\n",
    "       'zero_one_count', 'zero_two_count', 'one_zero_count', 'one_one_count',\n",
    "       'one_two_count', 'two_zero_count', 'two_one_count', 'two_two_count',\n",
    "       'three_zero_count', 'three_one_count', 'three_two_count', 'score_diff',\n",
    "              'stand','outcomelag1', 'outcomelag2', 'outcomelag3','woba.FF',\n",
    "       'woba.SL', 'woba.CH', 'woba.CU', 'woba.FT', 'woba.SI', 'woba.FC',\n",
    "       'woba.FS', 'woba.KC', 'woba.KN','release_speedlag1', 'release_speedlag2',\n",
    "       'release_speedlag3', 'avg2_release_speed', 'avg3_release_speed','plate_xlag1', 'plate_xlag2', 'plate_xlag3'\n",
    "             ]]\"\"\"\n",
    "    \n",
    "    df = simplifyOutcomes(df)\n",
    "    df = cleanData(df)\n",
    "    \n",
    "    df = fillData(df)\n",
    "    print(\"Number of rows:{0}\".format(len(df)))\n",
    "    \n",
    "    return df\n",
    "    \n",
    "    "
   ]
  },
  {
   "cell_type": "code",
   "execution_count": 11,
   "metadata": {
    "scrolled": true
   },
   "outputs": [
    {
     "name": "stdout",
     "output_type": "stream",
     "text": [
      "Determining the PitchTypes to use with pitcher 434378\n",
      "\n"
     ]
    },
    {
     "name": "stderr",
     "output_type": "stream",
     "text": [
      "/anaconda3/lib/python3.6/site-packages/pandas/core/frame.py:3697: SettingWithCopyWarning: \n",
      "A value is trying to be set on a copy of a slice from a DataFrame\n",
      "\n",
      "See the caveats in the documentation: http://pandas.pydata.org/pandas-docs/stable/indexing.html#indexing-view-versus-copy\n",
      "  errors=errors)\n"
     ]
    },
    {
     "name": "stdout",
     "output_type": "stream",
     "text": [
      "Pitch total 38355, current pitch type FT and total 237, percentage 0.006179116151740321\n",
      "The number of pitches now 38118\n",
      "Pitch total 38118, current pitch type FC and total 34, percentage 0.0008919670496878115\n",
      "The number of pitches now 38084\n"
     ]
    },
    {
     "name": "stderr",
     "output_type": "stream",
     "text": [
      "/anaconda3/lib/python3.6/site-packages/ipykernel_launcher.py:34: SettingWithCopyWarning: \n",
      "A value is trying to be set on a copy of a slice from a DataFrame.\n",
      "Try using .loc[row_indexer,col_indexer] = value instead\n",
      "\n",
      "See the caveats in the documentation: http://pandas.pydata.org/pandas-docs/stable/indexing.html#indexing-view-versus-copy\n"
     ]
    },
    {
     "name": "stdout",
     "output_type": "stream",
     "text": [
      "Number of rows:38355\n"
     ]
    }
   ],
   "source": [
    "cleaned = dataOrchestrator(data, players, playerName = 'Justin Verlander')"
   ]
  },
  {
   "cell_type": "code",
   "execution_count": 12,
   "metadata": {},
   "outputs": [],
   "source": [
    "xTrain, xTest, yTrain, yTest = createTrainTest(cleaned,2018,2015)"
   ]
  },
  {
   "cell_type": "markdown",
   "metadata": {},
   "source": [
    "## Decision Tree.  Used as a baseline"
   ]
  },
  {
   "cell_type": "code",
   "execution_count": 16,
   "metadata": {},
   "outputs": [
    {
     "name": "stdout",
     "output_type": "stream",
     "text": [
      "0.44661016949152543\n"
     ]
    }
   ],
   "source": [
    "\n",
    "clf = tree.DecisionTreeClassifier()\n",
    "\n",
    "clf.fit(xTrain,yTrain)\n",
    "results = clf.predict(xTest)\n",
    "\n",
    "print(accuracy_score(yTest,results))"
   ]
  },
  {
   "cell_type": "markdown",
   "metadata": {},
   "source": [
    "## Keras neural network"
   ]
  },
  {
   "cell_type": "code",
   "execution_count": 13,
   "metadata": {},
   "outputs": [
    {
     "name": "stdout",
     "output_type": "stream",
     "text": [
      "Epoch 1/5\n",
      "9120/9120 [==============================] - 12s 1ms/step - loss: 2.7036 - mean_absolute_error: 6.5726 - acc: 0.4782\n",
      "Epoch 2/5\n",
      "9120/9120 [==============================] - 11s 1ms/step - loss: 2.0277 - mean_absolute_error: 7.4325 - acc: 0.5802: 0s - loss: 2.0413 - mean_absolute_error: 7.4347 - \n",
      "Epoch 3/5\n",
      "9120/9120 [==============================] - 11s 1ms/step - loss: 2.0272 - mean_absolute_error: 7.4453 - acc: 0.5802\n",
      "Epoch 4/5\n",
      "9120/9120 [==============================] - 11s 1ms/step - loss: 2.0262 - mean_absolute_error: 7.5243 - acc: 0.5802\n",
      "Epoch 5/5\n",
      "9120/9120 [==============================] - 14s 2ms/step - loss: 2.0255 - mean_absolute_error: 7.4818 - acc: 0.5802\n"
     ]
    },
    {
     "data": {
      "text/plain": [
       "<keras.callbacks.History at 0x1a26eee1d0>"
      ]
     },
     "execution_count": 13,
     "metadata": {},
     "output_type": "execute_result"
    }
   ],
   "source": [
    "model = Sequential()\n",
    "model.add(Dense(1024, input_shape=(xTrain.shape[1],), activation=\"sigmoid\"))\n",
    "model.add(Dropout(0.3))\n",
    "model.add(Dense(512,activation='sigmoid'))\n",
    "model.add(Dropout(0.3))\n",
    "model.add(Dense(yTrain.shape[1], activation=\"relu\"))\n",
    "\n",
    "\n",
    "sgd = optimizers.SGD(lr=0.01, decay=1e-8, momentum=0.8, nesterov=False)\n",
    "model.compile(loss=\"categorical_crossentropy\",optimizer = sgd, metrics=['mae', 'acc'])\n",
    "\n",
    "model.fit(xTrain,yTrain,epochs=5,batch_size=32)"
   ]
  },
  {
   "cell_type": "markdown",
   "metadata": {},
   "source": [
    "### The result is a probability matrix showing the probability of each pitch.  Find the highest probability and round to 1 while rounding all other values to zero.  Then compare that with the yTest data to find accuracy.\n"
   ]
  },
  {
   "cell_type": "code",
   "execution_count": 14,
   "metadata": {},
   "outputs": [
    {
     "data": {
      "text/plain": [
       "0.6117440841367222"
      ]
     },
     "execution_count": 14,
     "metadata": {},
     "output_type": "execute_result"
    }
   ],
   "source": [
    "kerasResults = model.predict(xTest)\n",
    "\n",
    "row_maxes = kerasResults.max(axis=1).reshape(-1, 1)\n",
    "kerasResults[:] = np.where(kerasResults == row_maxes, 1, 0)\n",
    "\n",
    "accuracy_score(yTest,kerasResults)"
   ]
  },
  {
   "cell_type": "code",
   "execution_count": null,
   "metadata": {},
   "outputs": [],
   "source": []
  }
 ],
 "metadata": {
  "kernelspec": {
   "display_name": "Python 3",
   "language": "python",
   "name": "python3"
  },
  "language_info": {
   "codemirror_mode": {
    "name": "ipython",
    "version": 3
   },
   "file_extension": ".py",
   "mimetype": "text/x-python",
   "name": "python",
   "nbconvert_exporter": "python",
   "pygments_lexer": "ipython3",
   "version": "3.6.8"
  }
 },
 "nbformat": 4,
 "nbformat_minor": 2
}
