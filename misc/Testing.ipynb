{
 "cells": [
  {
   "cell_type": "code",
   "execution_count": 2,
   "metadata": {},
   "outputs": [],
   "source": [
    "import cv2\n",
    "import numpy as np\n",
    "import matplotlib.pyplot as plt\n",
    "import os, sys\n",
    "import glob\n",
    "import ntpath\n",
    "\n",
    "\n",
    "font = cv2.FONT_HERSHEY_TRIPLEX\n",
    "bottomLeftCornerOfText = (10,500)\n",
    "fontScale = 0.90\n",
    "fontColor = (81, 69, 61)\n",
    "lineType = int(2)\n",
    "\n",
    "course_dict = {\"cs6475.png\": \"CS 6475 - Computational Photography\",\n",
    "               \"cs6476.png\": \"CS 6476 - Computer Vision\",\n",
    "               \"cs6515.png\": \"CS 6515 - Introduction to Graduate Algorithms\",\n",
    "               \"cs6601.png\": \"CS 6601 - Artificial Intelligence\",\n",
    "               \"cs7638.png\": \"CS 7638 - Artificial Intelligence for Robotics\",\n",
    "               \"cs7641.png\": \"CS 7641 - Machine Learning\",\n",
    "               \"cs7642.png\": \"CS 7642 - Reinforcement Learning\",\n",
    "               \"cs7646.png\": \"CS 7646 - Machine Learning for Trading\",\n",
    "               \"cse6242.png\": \"CSE 6242 - Data & Visual Analytics\",\n",
    "               \"cse6252.png\": \"CSE 6252 - Big Data in Healthcare\",\n",
    "               \"tester.png\": \"Ha Ha It Worked\"}\n",
    "\n",
    "fonts = [cv2.FONT_HERSHEY_SIMPLEX, \n",
    "         cv2.FONT_HERSHEY_PLAIN, \n",
    "         cv2.FONT_HERSHEY_DUPLEX, \n",
    "         cv2.FONT_HERSHEY_COMPLEX, \n",
    "         cv2.FONT_HERSHEY_TRIPLEX, \n",
    "         cv2.FONT_HERSHEY_COMPLEX_SMALL, \n",
    "         cv2.FONT_HERSHEY_SCRIPT_SIMPLEX, \n",
    "         cv2.FONT_HERSHEY_SCRIPT_COMPLEX]\n"
   ]
  },
  {
   "cell_type": "code",
   "execution_count": 9,
   "metadata": {},
   "outputs": [
    {
     "name": "stdout",
     "output_type": "stream",
     "text": [
      "Image Shape: (478, 850, 3)\n",
      "Image Shape: (810, 1440, 3)\n",
      "Image Shape: (500, 890, 3)\n",
      "Image Shape: (680, 1024, 3)\n",
      "Image Shape: (545, 1024, 3)\n",
      "Image Shape: (750, 1216, 3)\n",
      "Image Shape: (273, 543, 3)\n",
      "Image Shape: (518, 777, 3)\n",
      "Image Shape: (596, 1060, 3)\n",
      "Image Shape: (597, 1024, 3)\n",
      "Image Shape: (400, 946, 3)\n"
     ]
    }
   ],
   "source": [
    "directory = os.getcwd()\n",
    "\n",
    "files = glob.glob(\"{}/*.png\".format(directory))\n",
    "\n",
    "\n",
    "for i in range(len(files)):\n",
    "    test_img = cv2.imread(files[i], cv2.IMREAD_COLOR)\n",
    "    print(\"Image Shape: {}\".format(test_img.shape))\n",
    "    if test_img.shape != (545, 1024, 3):\n",
    "        test_img = cv2.resize(test_img, dsize=(1024, 545), interpolation=cv2.INTER_AREA)\n",
    "    b,g,r = cv2.split(test_img)\n",
    "    basename = ntpath.basename(files[i])\n",
    "    if basename == \"gt-logo.png\":\n",
    "        continue\n",
    "    name, extension = basename.split(\".\")\n",
    "    new_name = \"{}_new.{}\".format(name, extension)\n",
    "    height, width, _ = test_img.shape\n",
    "\n",
    "    universal_margin = 5\n",
    "    top_margin = 0 + universal_margin\n",
    "    bottom_margin = int(np.floor((height * 0.18)) + universal_margin)\n",
    "    left_margin = 0 + universal_margin\n",
    "    right_margin = 0 + universal_margin\n",
    "    new_height = height + top_margin + bottom_margin\n",
    "    new_width = width + left_margin + right_margin\n",
    "\n",
    "    image_start_x = left_margin\n",
    "    image_start_y = top_margin\n",
    "    image_end_x = width + left_margin\n",
    "    image_end_y = height + top_margin\n",
    "    blank_image = np.full(shape=(new_height, new_width, 3), fill_value=255, dtype=np.uint8)\n",
    "    b,g,r = cv2.split(test_img)\n",
    "    reordered_image = cv2.merge((r,g,b))\n",
    "    blank_image[image_start_y:image_end_y,image_start_x:image_end_x, 0] = b\n",
    "    blank_image[image_start_y:image_end_y,image_start_x:image_end_x, 1] = g\n",
    "    blank_image[image_start_y:image_end_y,image_start_x:image_end_x, 2] = r\n",
    "    \n",
    "    kernel = np.ones((3, 3), np.float32)/9\n",
    "    blank_image = cv2.filter2D(blank_image, -1, kernel)\n",
    "    \n",
    "    text_location = (left_margin+25, (top_margin + height + int(np.floor((0.5*bottom_margin)))))\n",
    "    cv2.putText(blank_image, course_dict[basename], text_location, font, fontScale=fontScale, \n",
    "                color=fontColor, thickness=2, lineType=lineType)\n",
    "    cv2.imwrite(basename, blank_image)\n"
   ]
  }
 ],
 "metadata": {
  "kernelspec": {
   "display_name": "Python 3",
   "language": "python",
   "name": "python3"
  },
  "language_info": {
   "codemirror_mode": {
    "name": "ipython",
    "version": 3
   },
   "file_extension": ".py",
   "mimetype": "text/x-python",
   "name": "python",
   "nbconvert_exporter": "python",
   "pygments_lexer": "ipython3",
   "version": "3.7.6"
  },
  "latex_envs": {
   "LaTeX_envs_menu_present": true,
   "autoclose": false,
   "autocomplete": true,
   "bibliofile": "biblio.bib",
   "cite_by": "apalike",
   "current_citInitial": 1,
   "eqLabelWithNumbers": true,
   "eqNumInitial": 1,
   "hotkeys": {
    "equation": "Ctrl-E",
    "itemize": "Ctrl-I"
   },
   "labels_anchors": false,
   "latex_user_defs": false,
   "report_style_numbering": false,
   "user_envs_cfg": false
  },
  "varInspector": {
   "cols": {
    "lenName": 16,
    "lenType": 16,
    "lenVar": 40
   },
   "kernels_config": {
    "python": {
     "delete_cmd_postfix": "",
     "delete_cmd_prefix": "del ",
     "library": "var_list.py",
     "varRefreshCmd": "print(var_dic_list())"
    },
    "r": {
     "delete_cmd_postfix": ") ",
     "delete_cmd_prefix": "rm(",
     "library": "var_list.r",
     "varRefreshCmd": "cat(var_dic_list()) "
    }
   },
   "types_to_exclude": [
    "module",
    "function",
    "builtin_function_or_method",
    "instance",
    "_Feature"
   ],
   "window_display": false
  }
 },
 "nbformat": 4,
 "nbformat_minor": 4
}
