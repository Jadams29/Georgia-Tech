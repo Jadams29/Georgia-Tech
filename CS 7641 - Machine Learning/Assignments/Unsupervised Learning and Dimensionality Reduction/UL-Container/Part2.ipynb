{
 "cells": [
  {
   "cell_type": "code",
   "execution_count": 1,
   "metadata": {},
   "outputs": [
    {
     "name": "stdout",
     "output_type": "stream",
     "text": [
      "C:\\Users\\joshu\\OneDrive - Georgia Institute of Technology\\Georgia-Tech\\CS 7641 - Machine Learning\\Assignments\\Unsupervised Learning and Dimensionality Reduction\\Part2/ folder already exists.\n"
     ]
    }
   ],
   "source": [
    "import os\n",
    "import sys\n",
    "\n",
    "import os\n",
    "import pickle\n",
    "\n",
    "import matplotlib as mpl\n",
    "import matplotlib.pyplot as plt\n",
    "import pandas as pd\n",
    "import numpy as np\n",
    "import seaborn as sns\n",
    "color = sns.color_palette()\n",
    "\n",
    "import unsupervised_learning_util as utl\n",
    "from sklearn.discriminant_analysis import LinearDiscriminantAnalysis, QuadraticDiscriminantAnalysis\n",
    "from sklearn.feature_selection import SelectFromModel\n",
    "from sklearn.ensemble import RandomForestClassifier\n",
    "from sklearn.tree import DecisionTreeClassifier\n",
    "from sklearn.neighbors import KNeighborsClassifier\n",
    "from sklearn.cluster import KMeans\n",
    "from sklearn.decomposition import PCA\n",
    "from sklearn.manifold import TSNE\n",
    "\n",
    "plt.tight_layout()\n",
    "plt.style.use(\"ggplot\")\n",
    "mpl.rcParams['figure.figsize'] = [8, 6]\n",
    "mpl.rcParams['figure.dpi'] = 200\n",
    "mpl.rcParams['savefig.dpi'] = 500\n",
    "\n",
    "\n",
    "NJOBS = 32\n",
    "VERBOSE = 0\n",
    "limit = 10000\n",
    "\n",
    "folder = \"Part2/\"\n",
    "utl.check_folder(folder)\n",
    "\n",
    "%matplotlib inline"
   ]
  },
  {
   "cell_type": "code",
   "execution_count": 2,
   "metadata": {},
   "outputs": [
    {
     "name": "stdout",
     "output_type": "stream",
     "text": [
      "dataset folder already exists.\n",
      "MNIST dataset found:\n",
      "\tLoading MNIST.feather\n",
      "\tFinished loading MNIST dataset\n",
      "dataset folder already exists.\n",
      "Fashion-MNIST dataset found:\n",
      "\tLoading Fashion-MNIST.feather\n",
      "\tFinished loading Fashion-MNIST dataset\n"
     ]
    }
   ],
   "source": [
    "gathered_data = utl.setup([\"MNIST\"])\n",
    "gathered_data_fashion = utl.setup([\"Fashion-MNIST\"])\n",
    "\n",
    "mnist = {}\n",
    "fashion_mnist = {}\n",
    "mnist_not_scaled = {}\n",
    "fashion_mnist_not_scaled = {}\n",
    "\n",
    "mnist['train_X'], mnist['train_y'], \\\n",
    "mnist['valid_X'], mnist['valid_y'], \\\n",
    "mnist['test_X'], mnist['test_y'] = utl.split_data(gathered_data[\"MNIST\"][\"X\"],\n",
    "                                                  gathered_data[\"MNIST\"][\"y\"], minMax=True)\n",
    "mnist_not_scaled['train_X'], mnist_not_scaled['train_y'], \\\n",
    "mnist_not_scaled['valid_X'], mnist_not_scaled['valid_y'], \\\n",
    "mnist_not_scaled['test_X'], mnist_not_scaled['test_y'] = utl.split_data(\n",
    "    gathered_data[\"MNIST\"][\"X\"], gathered_data[\"MNIST\"][\"y\"], scale=False)\n",
    "\n",
    "fashion_mnist['train_X'], fashion_mnist['train_y'], \\\n",
    "fashion_mnist['valid_X'], fashion_mnist['valid_y'], \\\n",
    "fashion_mnist['test_X'], fashion_mnist['test_y'] = utl.split_data(gathered_data_fashion[\"Fashion-MNIST\"][\"X\"],\n",
    "                                                                  gathered_data_fashion[\"Fashion-MNIST\"][\"y\"],\n",
    "                                                                  minMax=True)\n",
    "\n",
    "fashion_mnist_not_scaled['train_X'], fashion_mnist_not_scaled['train_y'], \\\n",
    "fashion_mnist_not_scaled['valid_X'], fashion_mnist_not_scaled['valid_y'], \\\n",
    "fashion_mnist_not_scaled['test_X'], fashion_mnist_not_scaled['test_y'] = utl.split_data(\n",
    "    gathered_data_fashion[\"Fashion-MNIST\"][\"X\"], gathered_data_fashion[\"Fashion-MNIST\"][\"y\"], scale=False)"
   ]
  },
  {
   "cell_type": "markdown",
   "metadata": {},
   "source": [
    "# Dimensionality Reduction"
   ]
  },
  {
   "cell_type": "markdown",
   "metadata": {},
   "source": [
    "## PCA"
   ]
  },
  {
   "cell_type": "code",
   "execution_count": null,
   "metadata": {},
   "outputs": [],
   "source": [
    "# Do Not Run unless you have the time or do not have the result file\n",
    "mnist_results = utl.run_pca(mnist[\"train_X\"].iloc[:limit, :],\n",
    "                                                    keep_variance=0.99, dataset_name=\"MNIST\")\n",
    "fashion_results = utl.run_pca(fashion_mnist[\"train_X\"].iloc[:limit, :],\n",
    "                                                    keep_variance=0.99, dataset_name=\"Fashion\")"
   ]
  },
  {
   "cell_type": "code",
   "execution_count": null,
   "metadata": {},
   "outputs": [],
   "source": [
    "with open(f\"{os.getcwd()}/DimensionalityReduction/PrincipleComponentAnalysis/\"\n",
    "          f\"MNIST_PCA_Results.pkl\", \"rb\") as input_file:\n",
    "    mnist_results = pickle.load(input_file)\n",
    "    input_file.close()\n",
    "\n",
    "with open(f\"{os.getcwd()}/DimensionalityReduction/PrincipleComponentAnalysis/\"\n",
    "          f\"Fashion_PCA_Results.pkl\", \"rb\") as input_file:\n",
    "    fashion_results = pickle.load(input_file)\n",
    "    input_file.close()"
   ]
  },
  {
   "cell_type": "code",
   "execution_count": null,
   "metadata": {},
   "outputs": [],
   "source": [
    "utl.plot_pca_results(mnist_results=mnist_results, fashion_results=fashion_results,\n",
    "                     mnist_X=mnist[\"train_X\"].iloc[:limit, :],\n",
    "                     mnist_y=mnist[\"train_y\"].iloc[:limit],\n",
    "                     fashion_X=fashion_mnist[\"train_X\"].iloc[:limit, :],\n",
    "                     fashion_y=fashion_mnist[\"train_y\"].iloc[:limit])"
   ]
  },
  {
   "cell_type": "markdown",
   "metadata": {},
   "source": [
    "## ICA"
   ]
  },
  {
   "cell_type": "code",
   "execution_count": null,
   "metadata": {},
   "outputs": [],
   "source": [
    "# Do Not Run unless you have the time or do not have the result file\n",
    "ica_results_mnist = utl.run_ica(mnist[\"train_X\"].iloc[:5000, :],\n",
    "                                600, load_pkl=False, dataset_name=\"MNIST\")"
   ]
  },
  {
   "cell_type": "code",
   "execution_count": null,
   "metadata": {},
   "outputs": [],
   "source": [
    "ica_results_fashion = utl.run_ica(fashion_mnist[\"train_X\"].iloc[:limit, :],\n",
    "                                  600, load_pkl=False, dataset_name=\"Fashion_MNIST\")"
   ]
  },
  {
   "cell_type": "code",
   "execution_count": null,
   "metadata": {},
   "outputs": [],
   "source": [
    "with open(f\"{os.getcwd()}/DimensionalityReduction/\"\n",
    "          f\"IndependentComponentAnalysis/MNIST_ICA_Results.pkl\", \"rb\") as input_file:\n",
    "    ica_results_mnist = pickle.load(input_file)\n",
    "    input_file.close()\n",
    "with open(f\"{os.getcwd()}/DimensionalityReduction/\"\n",
    "          f\"IndependentComponentAnalysis/Fashion_MNIST_ICA_Results.pkl\", \"rb\") as input_file:\n",
    "    ica_results_fashion = pickle.load(input_file)\n",
    "    input_file.close()"
   ]
  },
  {
   "cell_type": "code",
   "execution_count": null,
   "metadata": {},
   "outputs": [],
   "source": [
    "ica_results_mnist"
   ]
  },
  {
   "cell_type": "code",
   "execution_count": null,
   "metadata": {},
   "outputs": [],
   "source": []
  },
  {
   "cell_type": "code",
   "execution_count": null,
   "metadata": {},
   "outputs": [],
   "source": [
    "utl.plot_ica_results(ica_results_mnist, ica_results_fashion,\n",
    "                     mnist_data=mnist[\"train_X\"].iloc[:limit, :],\n",
    "                     fashion_data=fashion_mnist[\"train_X\"].iloc[:limit, :],\n",
    "                     mnist_X=mnist_not_scaled[\"train_X\"].iloc[:limit, :],\n",
    "                     mnist_y=mnist_not_scaled[\"train_y\"].iloc[:limit],\n",
    "                     fashion_X=fashion_mnist_not_scaled[\"train_X\"].iloc[:limit, :],\n",
    "                     fashion_y=fashion_mnist_not_scaled[\"train_y\"].iloc[:limit],\n",
    "                     mnist_X_scaled=mnist[\"train_X\"].iloc[:limit, :],\n",
    "                     mnist_y_scaled=mnist[\"train_y\"].iloc[:limit],\n",
    "                     fashion_X_scaled=fashion_mnist[\"train_X\"].iloc[:limit, :],\n",
    "                     fashion_y_scaled=fashion_mnist[\"train_y\"].iloc[:limit])"
   ]
  },
  {
   "cell_type": "code",
   "execution_count": null,
   "metadata": {},
   "outputs": [],
   "source": [
    "ica_results_fashion[\"Avg_Reconstruction_Error\"].plot()"
   ]
  },
  {
   "cell_type": "markdown",
   "metadata": {},
   "source": [
    "## Randomized Projections"
   ]
  },
  {
   "cell_type": "code",
   "execution_count": null,
   "metadata": {},
   "outputs": [],
   "source": [
    "# Do Not Run unless you have the time or do not have the result file\n",
    "random_projection_mnist = utl.run_randomized_projections(data=mnist[\"train_X\"].iloc[:limit, :],\n",
    "                                                         dataset_name=\"MNIST\", max_components=751, load_pkl=False)"
   ]
  },
  {
   "cell_type": "code",
   "execution_count": null,
   "metadata": {},
   "outputs": [],
   "source": [
    "random_projection_fashion = utl.run_randomized_projections(data=fashion_mnist[\"train_X\"].iloc[:limit, :],\n",
    "                                                           dataset_name=\"Fashion\", max_components=751, load_pkl=False)"
   ]
  },
  {
   "cell_type": "code",
   "execution_count": null,
   "metadata": {},
   "outputs": [],
   "source": [
    "random_projection_fashion"
   ]
  },
  {
   "cell_type": "code",
   "execution_count": null,
   "metadata": {},
   "outputs": [],
   "source": [
    "with open(f\"{os.getcwd()}/DimensionalityReduction/\"\n",
    "          f\"RandomProjections/MNIST_RP_results.pkl\", \"rb\") as input_file:\n",
    "    rp_results_mnist = pickle.load(input_file)\n",
    "    input_file.close()\n",
    "\n",
    "with open(f\"{os.getcwd()}/DimensionalityReduction/\"\n",
    "          f\"RandomProjections/Fashion_RP_results.pkl\", \"rb\") as input_file:\n",
    "    rp_results_fashion = pickle.load(input_file)\n",
    "    input_file.close()"
   ]
  },
  {
   "cell_type": "code",
   "execution_count": null,
   "metadata": {},
   "outputs": [],
   "source": [
    "utl.plot_randomized_projection_results(rp_results_mnist, rp_results_fashion,\n",
    "                                       mnist_X=mnist_not_scaled[\"train_X\"].iloc[:limit, :],\n",
    "                                       mnist_y=mnist_not_scaled[\"train_y\"].iloc[:limit],\n",
    "                                       fashion_X=fashion_mnist_not_scaled[\"train_X\"].iloc[:limit, :],\n",
    "                                       fashion_y=fashion_mnist_not_scaled[\"train_y\"].iloc[:limit],\n",
    "                                       mnist_X_scaled=mnist[\"train_X\"].iloc[:limit, :],\n",
    "                                       mnist_y_scaled=mnist[\"train_y\"].iloc[:limit],\n",
    "                                       fashion_X_scaled=fashion_mnist[\"train_X\"].iloc[:limit, :],\n",
    "                                       fashion_y_scaled=fashion_mnist[\"train_y\"].iloc[:limit])"
   ]
  },
  {
   "cell_type": "markdown",
   "metadata": {},
   "source": [
    "## Random Forest"
   ]
  },
  {
   "cell_type": "code",
   "execution_count": null,
   "metadata": {},
   "outputs": [],
   "source": [
    "# Do Not Run unless you have the time or do not have the result file\n",
    "random_forest_mnist = utl.run_random_forest(data_X=mnist[\"train_X\"].iloc[:limit, :],\n",
    "                                            data_y=mnist[\"train_y\"].iloc[:limit],\n",
    "                                            dataset_name=\"MNIST\", max_components=751, load_pkl=False,\n",
    "                                            valid_X=mnist[\"valid_X\"].iloc[:limit, :],\n",
    "                                            valid_y=mnist[\"valid_y\"].iloc[:limit])"
   ]
  },
  {
   "cell_type": "code",
   "execution_count": null,
   "metadata": {},
   "outputs": [],
   "source": [
    "random_forest_fashion = utl.run_random_forest(data_X=fashion_mnist[\"train_X\"].iloc[:limit, :],\n",
    "                                              data_y=fashion_mnist[\"train_y\"].iloc[:limit],\n",
    "                                              valid_X=fashion_mnist[\"valid_X\"].iloc[:limit, :],\n",
    "                                              valid_y=fashion_mnist[\"valid_y\"].iloc[:limit],\n",
    "                                              dataset_name=\"Fashion\", max_components=751, load_pkl=False)"
   ]
  },
  {
   "cell_type": "code",
   "execution_count": 3,
   "metadata": {},
   "outputs": [],
   "source": [
    "with open(f\"{os.getcwd()}/DimensionalityReduction/RandomForest/RandomForest_MNIST_Results.pkl\", \"rb\") as input_file:\n",
    "    rf_results_mnist = pickle.load(input_file)\n",
    "    input_file.close()\n",
    "with open(f\"{os.getcwd()}/DimensionalityReduction/RandomForest/RandomForest_Fashion_Results.pkl\", \"rb\") as input_file:\n",
    "    rf_results_fashion = pickle.load(input_file)\n",
    "    input_file.close()"
   ]
  },
  {
   "cell_type": "code",
   "execution_count": null,
   "metadata": {},
   "outputs": [],
   "source": [
    "utl.plot_random_forest_results(mnist_results=rf_results_mnist, fashion_results=rf_results_fashion,\n",
    "                               mnist_X=mnist_not_scaled[\"train_X\"].iloc[:limit, :],\n",
    "                               mnist_y=mnist_not_scaled[\"train_y\"].iloc[:limit],\n",
    "                               fashion_X=fashion_mnist_not_scaled[\"train_X\"].iloc[:limit, :],\n",
    "                               fashion_y=fashion_mnist_not_scaled[\"train_y\"].iloc[:limit])"
   ]
  }
 ],
 "metadata": {
  "kernelspec": {
   "display_name": "Python 3",
   "language": "python",
   "name": "python3"
  },
  "language_info": {
   "codemirror_mode": {
    "name": "ipython",
    "version": 3
   },
   "file_extension": ".py",
   "mimetype": "text/x-python",
   "name": "python",
   "nbconvert_exporter": "python",
   "pygments_lexer": "ipython3",
   "version": "3.7.9"
  },
  "varInspector": {
   "cols": {
    "lenName": 16,
    "lenType": 16,
    "lenVar": 40
   },
   "kernels_config": {
    "python": {
     "delete_cmd_postfix": "",
     "delete_cmd_prefix": "del ",
     "library": "var_list.py",
     "varRefreshCmd": "print(var_dic_list())"
    },
    "r": {
     "delete_cmd_postfix": ") ",
     "delete_cmd_prefix": "rm(",
     "library": "var_list.r",
     "varRefreshCmd": "cat(var_dic_list()) "
    }
   },
   "position": {
    "height": "401px",
    "left": "1551px",
    "right": "20px",
    "top": "120px",
    "width": "329px"
   },
   "types_to_exclude": [
    "module",
    "function",
    "builtin_function_or_method",
    "instance",
    "_Feature"
   ],
   "window_display": false
  },
  "widgets": {
   "application/vnd.jupyter.widget-state+json": {
    "state": {},
    "version_major": 2,
    "version_minor": 0
   }
  }
 },
 "nbformat": 4,
 "nbformat_minor": 4
}
