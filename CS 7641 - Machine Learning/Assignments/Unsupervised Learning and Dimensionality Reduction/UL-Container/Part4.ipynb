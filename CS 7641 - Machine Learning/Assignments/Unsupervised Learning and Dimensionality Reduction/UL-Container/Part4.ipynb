{
 "cells": [
  {
   "cell_type": "code",
   "execution_count": 1,
   "metadata": {},
   "outputs": [
    {
     "name": "stdout",
     "output_type": "stream",
     "text": [
      "C:\\Users\\joshu\\OneDrive - Georgia Institute of Technology\\Georgia-Tech\\CS 7641 - Machine Learning\\Assignments\\Unsupervised Learning and Dimensionality Reduction\\Part4 folder already exists.\n"
     ]
    },
    {
     "name": "stderr",
     "output_type": "stream",
     "text": [
      "C:\\ProgramData\\Anaconda3\\envs\\CS7641\\lib\\site-packages\\sklearn\\utils\\deprecation.py:143: FutureWarning: The sklearn.metrics.classification module is  deprecated in version 0.22 and will be removed in version 0.24. The corresponding classes / functions should instead be imported from sklearn.metrics. Anything that cannot be imported from sklearn.metrics is now part of the private API.\n",
      "  warnings.warn(message, FutureWarning)\n"
     ]
    }
   ],
   "source": [
    "import os\n",
    "import sys\n",
    "\n",
    "import pandas as pd\n",
    "import numpy as np\n",
    "import pickle\n",
    "import unsupervised_learning_util as utl\n",
    "import clustering_utl as cl_utl\n",
    "import matplotlib as mpl\n",
    "import matplotlib.gridspec as gridspec\n",
    "import matplotlib.pyplot as plt\n",
    "from sklearn.neural_network import MLPClassifier\n",
    "from sklearn.decomposition import PCA, FastICA, KernelPCA\n",
    "from sklearn.manifold import TSNE, LocallyLinearEmbedding, MDS, Isomap, SpectralEmbedding\n",
    "from sklearn.cluster import KMeans\n",
    "from sklearn.metrics import silhouette_score, silhouette_samples, homogeneity_completeness_v_measure\n",
    "from sklearn.metrics import homogeneity_score, calinski_harabasz_score, davies_bouldin_score\n",
    "from yellowbrick.cluster import KElbowVisualizer, SilhouetteVisualizer\n",
    "from warnings import simplefilter\n",
    "\n",
    "plt.tight_layout()\n",
    "plt.style.use(\"ggplot\")\n",
    "mpl.rcParams['figure.figsize'] = [8, 6]\n",
    "mpl.rcParams['figure.dpi'] = 200\n",
    "mpl.rcParams['savefig.dpi'] = 500\n",
    "\n",
    "\n",
    "NJOBS = 32\n",
    "VERBOSE = 0\n",
    "\n",
    "%matplotlib inline\n",
    "\n",
    "utl.check_folder(\"Part4\")"
   ]
  },
  {
   "cell_type": "code",
   "execution_count": null,
   "metadata": {},
   "outputs": [],
   "source": [
    "gathered_data = utl.setup([\"MNIST\"])\n",
    "gathered_data_fashion = utl.setup([\"Fashion-MNIST\"])\n",
    "\n",
    "mnist = {}\n",
    "fashion_mnist = {}\n",
    "# mnist_not_scaled = {}\n",
    "# fashion_mnist_not_scaled = {}\n",
    "\n",
    "mnist['train_X'], mnist['train_y'], \\\n",
    "mnist['valid_X'], mnist['valid_y'], \\\n",
    "mnist['test_X'], mnist['test_y'] = utl.split_data(gathered_data[\"MNIST\"][\"X\"],\n",
    "                                                  gathered_data[\"MNIST\"][\"y\"], minMax=True)\n",
    "# mnist_not_scaled['train_X'], mnist_not_scaled['train_y'], \\\n",
    "# mnist_not_scaled['valid_X'], mnist_not_scaled['valid_y'], \\\n",
    "# mnist_not_scaled['test_X'], mnist_not_scaled['test_y'] = utl.split_data(\n",
    "#     gathered_data[\"MNIST\"][\"X\"], gathered_data[\"MNIST\"][\"y\"], scale=False)\n",
    "\n",
    "fashion_mnist['train_X'], fashion_mnist['train_y'], \\\n",
    "fashion_mnist['valid_X'], fashion_mnist['valid_y'], \\\n",
    "fashion_mnist['test_X'], fashion_mnist['test_y'] = utl.split_data(gathered_data_fashion[\"Fashion-MNIST\"][\"X\"],\n",
    "                                                                  gathered_data_fashion[\"Fashion-MNIST\"][\"y\"],\n",
    "                                                                  minMax=True)\n",
    "\n",
    "# fashion_mnist_not_scaled['train_X'], fashion_mnist_not_scaled['train_y'], \\\n",
    "# fashion_mnist_not_scaled['valid_X'], fashion_mnist_not_scaled['valid_y'], \\\n",
    "# fashion_mnist_not_scaled['test_X'], fashion_mnist_not_scaled['test_y'] = utl.split_data(\n",
    "#     gathered_data_fashion[\"Fashion-MNIST\"][\"X\"], gathered_data_fashion[\"Fashion-MNIST\"][\"y\"], scale=False)"
   ]
  },
  {
   "cell_type": "markdown",
   "metadata": {},
   "source": [
    "# Load Reduced Datasets"
   ]
  },
  {
   "cell_type": "code",
   "execution_count": null,
   "metadata": {},
   "outputs": [],
   "source": [
    "with open(f\"{os.getcwd()}/DimensionalityReduction/PCA_MNIST_Reduced_Dataset.pkl\", \"rb\") as input_file:\n",
    "    pca_mnist_reduced_data = pickle.load(input_file)\n",
    "    input_file.close()\n",
    "with open(f\"{os.getcwd()}/DimensionalityReduction/PCA_Fashion_Reduced_Dataset.pkl\", \"rb\") as input_file:\n",
    "    pca_fashion_reduced_data = pickle.load(input_file)\n",
    "    input_file.close()\n",
    "print(f\"PCA MNIST: {pca_mnist_reduced_data.shape}\")\n",
    "print(f\"PCA Fashion: {pca_fashion_reduced_data.shape}\")"
   ]
  },
  {
   "cell_type": "code",
   "execution_count": null,
   "metadata": {},
   "outputs": [],
   "source": [
    "with open(f\"{os.getcwd()}/DimensionalityReduction/ICA_MNIST_Reduced_Dataset.pkl\", \"rb\") as input_file:\n",
    "    ica_mnist_reduced_data = pickle.load(input_file)\n",
    "    input_file.close()\n",
    "with open(f\"{os.getcwd()}/DimensionalityReduction/ICA_Fashion_Reduced_Dataset.pkl\", \"rb\") as input_file:\n",
    "    ica_fashion_reduced_data = pickle.load(input_file)\n",
    "    input_file.close()\n",
    "print(f\"ICA MNIST: {ica_mnist_reduced_data.shape}\")\n",
    "print(f\"ICA Fashion: {ica_fashion_reduced_data.shape}\")"
   ]
  },
  {
   "cell_type": "code",
   "execution_count": null,
   "metadata": {},
   "outputs": [],
   "source": [
    "with open(f\"{os.getcwd()}/DimensionalityReduction/RF_MNIST_Reduced_Dataset.pkl\", \"rb\") as input_file:\n",
    "    rf_mnist_reduced_data = pickle.load(input_file)\n",
    "    input_file.close()\n",
    "with open(f\"{os.getcwd()}/DimensionalityReduction/RF_Fashion_Reduced_Dataset.pkl\", \"rb\") as input_file:\n",
    "    rf_fashion_reduced_data = pickle.load(input_file)\n",
    "    input_file.close()\n",
    "print(f\"RF MNIST: {rf_mnist_reduced_data.shape}\")\n",
    "print(f\"RF Fashion: {rf_fashion_reduced_data.shape}\")"
   ]
  },
  {
   "cell_type": "code",
   "execution_count": null,
   "metadata": {},
   "outputs": [],
   "source": [
    "with open(f\"{os.getcwd()}/DimensionalityReduction/RP_MNIST_Reduced_Dataset.pkl\", \"rb\") as input_file:\n",
    "    rp_mnist_reduced_data = pickle.load(input_file)\n",
    "    input_file.close()\n",
    "with open(f\"{os.getcwd()}/DimensionalityReduction/RP_Fashion_Reduced_Dataset.pkl\", \"rb\") as input_file:\n",
    "    rp_fashion_reduced_data = pickle.load(input_file)\n",
    "    input_file.close()\n",
    "print(f\"RP MNIST: {rp_mnist_reduced_data.shape}\")\n",
    "print(f\"RP Fashion: {rp_fashion_reduced_data.shape}\")"
   ]
  },
  {
   "cell_type": "markdown",
   "metadata": {},
   "source": [
    "# K-Means Clustering"
   ]
  },
  {
   "cell_type": "markdown",
   "metadata": {},
   "source": [
    "### PCA"
   ]
  },
  {
   "cell_type": "code",
   "execution_count": null,
   "metadata": {},
   "outputs": [],
   "source": [
    "X = pca_mnist_reduced_data.iloc[:, 0:-1]\n",
    "y = pca_mnist_reduced_data.iloc[:, -1]\n",
    "pca_kmeans_mnist_results = cl_utl.run_kmeans(data_X=X, data_y=y,\n",
    "                            max_clusters=40, dataset_name=\"PCA_KMeans_MNIST\", verbose=1)\n",
    "with open(f\"{os.getcwd()}/Part4/KMeans_PCA_MNIST_Results.pkl\", \"wb\") as output_file:\n",
    "    pickle.dump(pca_kmeans_mnist_results, output_file)\n",
    "    output_file.close()"
   ]
  },
  {
   "cell_type": "code",
   "execution_count": null,
   "metadata": {},
   "outputs": [],
   "source": [
    "X = pca_fashion_reduced_data.iloc[:, 0:-1]\n",
    "y = pca_fashion_reduced_data.iloc[:, -1]\n",
    "pca_kmeans_fashion_results = cl_utl.run_kmeans(data_X=X, data_y=y,\n",
    "                            max_clusters=40, dataset_name=\"PCA_KMeans_Fashion_MNIST\", verbose=1)\n",
    "with open(f\"{os.getcwd()}/Part4/KMeans_PCA_Fashion_MNIST_Results.pkl\", \"wb\") as output_file:\n",
    "    pickle.dump(pca_kmeans_fashion_results, output_file)\n",
    "    output_file.close()"
   ]
  },
  {
   "cell_type": "code",
   "execution_count": null,
   "metadata": {},
   "outputs": [],
   "source": [
    "with open(f\"{os.getcwd()}/Part4/KMeans_PCA_MNIST_Results.pkl\", \"rb\") as input_file:\n",
    "    pca_kmeans_mnist_results  = pickle.load(input_file)\n",
    "    input_file.close()\n",
    "with open(f\"{os.getcwd()}/Part4/KMeans_PCA_Fashion_MNIST_Results.pkl\", \"rb\") as input_file:\n",
    "    pca_kmeans_fashion_results = pickle.load(input_file)\n",
    "    input_file.close()"
   ]
  },
  {
   "cell_type": "code",
   "execution_count": null,
   "metadata": {},
   "outputs": [],
   "source": [
    "cl_utl.plot_combined_kmeans(mnist_X=pca_mnist_reduced_data.iloc[:, 0:-1], \n",
    "                            fashion_X=pca_fashion_reduced_data.iloc[:, 0:-1], max_clusters=40, save_name=\"PCA_\")"
   ]
  },
  {
   "cell_type": "markdown",
   "metadata": {},
   "source": [
    "### ICA"
   ]
  },
  {
   "cell_type": "code",
   "execution_count": null,
   "metadata": {},
   "outputs": [],
   "source": []
  },
  {
   "cell_type": "code",
   "execution_count": null,
   "metadata": {},
   "outputs": [],
   "source": [
    "X = ica_mnist_reduced_data.iloc[:, 0:-1]\n",
    "y = ica_mnist_reduced_data.iloc[:, -1]\n",
    "ica_kmeans_mnist_results = cl_utl.run_kmeans(data_X=X, data_y=y,\n",
    "                            max_clusters=40, dataset_name=\"ICA_KMeans_MNIST\", verbose=1)\n",
    "with open(f\"{os.getcwd()}/Part4/KMeans_ICA_MNIST_Results.pkl\", \"wb\") as output_file:\n",
    "    pickle.dump(ica_kmeans_mnist_results, output_file)\n",
    "    output_file.close()"
   ]
  },
  {
   "cell_type": "code",
   "execution_count": null,
   "metadata": {},
   "outputs": [],
   "source": [
    "X = ica_fashion_reduced_data.iloc[:, 0:-1]\n",
    "y = ica_fashion_reduced_data.iloc[:, -1]\n",
    "ica_kmeans_fashion_results = cl_utl.run_kmeans(data_X=X, data_y=y,\n",
    "                            max_clusters=40, dataset_name=\"ICA_KMeans_Fashion_MNIST\", verbose=1)\n",
    "with open(f\"{os.getcwd()}/Part4/KMeans_ICA_Fashion_MNIST_Results.pkl\", \"wb\") as output_file:\n",
    "    pickle.dump(ica_kmeans_fashion_results, output_file)\n",
    "    output_file.close()"
   ]
  },
  {
   "cell_type": "code",
   "execution_count": null,
   "metadata": {},
   "outputs": [],
   "source": [
    "with open(f\"{os.getcwd()}/Part4/KMeans_ICA_MNIST_Results.pkl\", \"rb\") as input_file:\n",
    "    ica_kmeans_mnist_results = pickle.load(input_file)\n",
    "    input_file.close()\n",
    "with open(f\"{os.getcwd()}/Part4/KMeans_ICA_Fashion_MNIST_Results.pkl\", \"rb\") as input_file:\n",
    "    ica_kmeans_fashion_results = pickle.load(input_file)\n",
    "    input_file.close()"
   ]
  },
  {
   "cell_type": "code",
   "execution_count": null,
   "metadata": {},
   "outputs": [],
   "source": [
    "cl_utl.plot_combined_kmeans(mnist_X=ica_mnist_reduced_data.iloc[:, 0:-1], \n",
    "                            fashion_X=ica_fashion_reduced_data.iloc[:, 0:-1], max_clusters=40, save_name=\"ICA_\")"
   ]
  },
  {
   "cell_type": "markdown",
   "metadata": {},
   "source": [
    "### Randomized Projections"
   ]
  },
  {
   "cell_type": "code",
   "execution_count": null,
   "metadata": {},
   "outputs": [],
   "source": [
    "X = rp_mnist_reduced_data.iloc[:, 0:-1]\n",
    "y = rp_mnist_reduced_data.iloc[:, -1]\n",
    "rp_kmeans_mnist_results = cl_utl.run_kmeans(data_X=X, data_y=y,\n",
    "                            max_clusters=40, dataset_name=\"RP_KMeans_MNIST\", verbose=1)\n",
    "with open(f\"{os.getcwd()}/Part4/KMeans_RP_MNIST_Results.pkl\", \"wb\") as output_file:\n",
    "    pickle.dump(rp_kmeans_mnist_results, output_file)\n",
    "    output_file.close()"
   ]
  },
  {
   "cell_type": "code",
   "execution_count": null,
   "metadata": {},
   "outputs": [],
   "source": [
    "X = rp_fashion_reduced_data.iloc[:, 0:-1]\n",
    "y = rp_fashion_reduced_data.iloc[:, -1]\n",
    "rp_kmeans_fashion_results = cl_utl.run_kmeans(data_X=X, data_y=y,\n",
    "                            max_clusters=40, dataset_name=\"RP_KMeans_Fashion_MNIST\", verbose=1)\n",
    "with open(f\"{os.getcwd()}/Part4/KMeans_RP_Fashion_MNIST_Results.pkl\", \"wb\") as output_file:\n",
    "    pickle.dump(rp_kmeans_fashion_results, output_file)\n",
    "    output_file.close()"
   ]
  },
  {
   "cell_type": "code",
   "execution_count": null,
   "metadata": {},
   "outputs": [],
   "source": [
    "with open(f\"{os.getcwd()}/Part4/KMeans_RP_MNIST_Results.pkl\", \"rb\") as input_file:\n",
    "    rp_kmeans_mnist_results = pickle.load(input_file)\n",
    "    input_file.close()\n",
    "with open(f\"{os.getcwd()}/Part4/KMeans_RP_Fashion_MNIST_Results.pkl\", \"rb\") as input_file:\n",
    "    prp_kmeans_fashion_results = pickle.load(input_file)\n",
    "    input_file.close()"
   ]
  },
  {
   "cell_type": "code",
   "execution_count": null,
   "metadata": {},
   "outputs": [],
   "source": [
    "cl_utl.plot_combined_kmeans(mnist_X=rp_mnist_reduced_data.iloc[:, 0:-1], \n",
    "                            fashion_X=rp_fashion_reduced_data.iloc[:, 0:-1], max_clusters=40 save_name=\"RP_\")"
   ]
  },
  {
   "cell_type": "markdown",
   "metadata": {},
   "source": [
    "### Random Forest"
   ]
  },
  {
   "cell_type": "code",
   "execution_count": null,
   "metadata": {},
   "outputs": [],
   "source": [
    "X = rf_mnist_reduced_data.iloc[:, 0:-1]\n",
    "y = rf_mnist_reduced_data.iloc[:, -1]\n",
    "rf_kmeans_mnist_results = cl_utl.run_kmeans(data_X=X, data_y=y,\n",
    "                            max_clusters=40, dataset_name=\"RF_KMeans_MNIST\", verbose=1)\n",
    "with open(f\"{os.getcwd()}/Part4/KMeans_RF_MNIST_Results.pkl\", \"wb\") as output_file:\n",
    "    pickle.dump(rf_kmeans_mnist_results, output_file)\n",
    "    output_file.close()"
   ]
  },
  {
   "cell_type": "code",
   "execution_count": null,
   "metadata": {},
   "outputs": [],
   "source": [
    "X = rf_fashion_reduced_data.iloc[:, 0:-1]\n",
    "y = rf_fashion_reduced_data.iloc[:, -1]\n",
    "rf_kmeans_fashion_results = cl_utl.run_kmeans(data_X=X, data_y=y,\n",
    "                            max_clusters=40, dataset_name=\"RF_KMeans_Fashion_MNIST\", verbose=1)\n",
    "with open(f\"{os.getcwd()}/Part4/KMeans_RF_Fashion_MNIST_Results.pkl\", \"wb\") as output_file:\n",
    "    pickle.dump(rf_kmeans_fashion_results, output_file)\n",
    "    output_file.close()"
   ]
  },
  {
   "cell_type": "code",
   "execution_count": null,
   "metadata": {},
   "outputs": [],
   "source": [
    "with open(f\"{os.getcwd()}/Part4/KMeans_RF_MNIST_Results.pkl\", \"rb\") as input_file:\n",
    "    rf_kmeans_mnist_results = pickle.load(input_file)\n",
    "    input_file.close()\n",
    "with open(f\"{os.getcwd()}/Part4/KMeans_RF_Fashion_MNIST_Results.pkl\", \"rb\") as input_file:\n",
    "    rf_kmeans_fashion_results = pickle.load(input_file)\n",
    "    input_file.close()"
   ]
  },
  {
   "cell_type": "code",
   "execution_count": null,
   "metadata": {},
   "outputs": [],
   "source": [
    "cl_utl.plot_combined_kmeans(mnist_X=rf_mnist_reduced_data.iloc[:, 0:-1], \n",
    "                            fashion_X=rf_fashion_reduced_data.iloc[:, 0:-1], max_clusters=40, save_name=\"RF_\")"
   ]
  },
  {
   "cell_type": "markdown",
   "metadata": {},
   "source": [
    "# Expectation Maximization "
   ]
  },
  {
   "cell_type": "code",
   "execution_count": null,
   "metadata": {},
   "outputs": [],
   "source": [
    "em_lim = 2000"
   ]
  },
  {
   "cell_type": "markdown",
   "metadata": {},
   "source": [
    "### PCA"
   ]
  },
  {
   "cell_type": "code",
   "execution_count": null,
   "metadata": {},
   "outputs": [],
   "source": [
    "X = pca_mnist_reduced_data.iloc[:em_lim, 0:-1]\n",
    "y = pca_mnist_reduced_data.iloc[:em_lim, -1]\n",
    "pca_em_mnist_results = cl_utl.run_em(data_X=X, data_y=y, max_components=30, dataset_name=\"PCA_EM_MNIST\", standalone=True)"
   ]
  },
  {
   "cell_type": "code",
   "execution_count": null,
   "metadata": {},
   "outputs": [],
   "source": [
    "X = pca_fashion_reduced_data.iloc[:em_lim, 0:-1]\n",
    "y = pca_fashion_reduced_data.iloc[:em_lim, -1]\n",
    "pca_em_fashion_results = cl_utl.run_em(data_X=X, data_y=y, max_components=30, dataset_name=\"PCA_EM_Fashion-MNIST\", \n",
    "                                       standalone=True)"
   ]
  },
  {
   "cell_type": "code",
   "execution_count": null,
   "metadata": {},
   "outputs": [],
   "source": [
    "cl_utl.plot_em(pca_em_mnist_results, pca_em_fashion_results, extra_name=\"PCA_EM\")"
   ]
  },
  {
   "cell_type": "markdown",
   "metadata": {},
   "source": [
    "### ICA"
   ]
  },
  {
   "cell_type": "code",
   "execution_count": null,
   "metadata": {},
   "outputs": [],
   "source": [
    "X = ica_mnist_reduced_data.iloc[:em_lim, 0:-1]\n",
    "y = ica_mnist_reduced_data.iloc[:em_lim, -1]\n",
    "ica_em_mnist_results = cl_utl.run_em(data_X=X, data_y=y, max_components=30, dataset_name=\"ICA_EM_MNIST\", standalone=True)"
   ]
  },
  {
   "cell_type": "code",
   "execution_count": null,
   "metadata": {},
   "outputs": [],
   "source": [
    "X = ica_fashion_reduced_data.iloc[:em_lim, 0:-1]\n",
    "y = ica_fashion_reduced_data.iloc[:em_lim, -1]\n",
    "ica_em_fashion_results = cl_utl.run_em(data_X=X, data_y=y, max_components=30, dataset_name=\"ICA_EM_Fashion-MNIST\", \n",
    "                                       standalone=True)"
   ]
  },
  {
   "cell_type": "code",
   "execution_count": null,
   "metadata": {},
   "outputs": [],
   "source": [
    "cl_utl.plot_em(ica_em_mnist_results, ica_em_fashion_results, extra_name=\"ICA_EM\")"
   ]
  },
  {
   "cell_type": "markdown",
   "metadata": {},
   "source": [
    "### Randomized Projections"
   ]
  },
  {
   "cell_type": "code",
   "execution_count": null,
   "metadata": {},
   "outputs": [],
   "source": [
    "X = rp_mnist_reduced_data.iloc[:em_lim, 0:-1]\n",
    "y = rp_mnist_reduced_data.iloc[:em_lim, -1]\n",
    "rp_em_mnist_results = cl_utl.run_em(data_X=X, data_y=y, max_components=30, dataset_name=\"RP_EM_MNIST\", standalone=True)"
   ]
  },
  {
   "cell_type": "code",
   "execution_count": null,
   "metadata": {},
   "outputs": [],
   "source": [
    "X = rp_fashion_reduced_data.iloc[:em_lim, 0:-1]\n",
    "y = rp_fashion_reduced_data.iloc[:em_lim, -1]\n",
    "rp_em_fashion_results = cl_utl.run_em(data_X=X, data_y=y, max_components=30, dataset_name=\"RP_EM_Fashion-MNIST\",\n",
    "                                      standalone=True)"
   ]
  },
  {
   "cell_type": "code",
   "execution_count": null,
   "metadata": {},
   "outputs": [],
   "source": [
    "cl_utl.plot_em(rp_em_mnist_results, rp_em_fashion_results, extra_name=\"RP_EM\")"
   ]
  },
  {
   "cell_type": "markdown",
   "metadata": {},
   "source": [
    "### Random Forest"
   ]
  },
  {
   "cell_type": "code",
   "execution_count": null,
   "metadata": {},
   "outputs": [],
   "source": [
    "X = rf_mnist_reduced_data.iloc[:em_lim, 0:-1]\n",
    "y = rf_mnist_reduced_data.iloc[:em_lim, -1]\n",
    "rf_em_mnist_results = cl_utl.run_em(data_X=X, data_y=y, max_components=30, dataset_name=\"RF_EM_MNIST\", standalone=True)"
   ]
  },
  {
   "cell_type": "code",
   "execution_count": null,
   "metadata": {},
   "outputs": [],
   "source": [
    "X = rf_fashion_reduced_data.iloc[:, 0:-1]\n",
    "y = rf_fashion_reduced_data.iloc[:, -1]\n",
    "rf_em_fashion_results = cl_utl.run_em(data_X=X, data_y=y, max_components=30, dataset_name=\"RF_EM_Fashion-MNIST\", \n",
    "                                      standalone=True)"
   ]
  },
  {
   "cell_type": "code",
   "execution_count": null,
   "metadata": {},
   "outputs": [],
   "source": [
    "cl_utl.plot_em(rf_em_mnist_results, rf_em_fashion_results, extra_name=\"RF_EM\")"
   ]
  },
  {
   "cell_type": "markdown",
   "metadata": {},
   "source": [
    "# Neural Network on Dimensionality Reduced Datasets"
   ]
  },
  {
   "cell_type": "markdown",
   "metadata": {},
   "source": [
    "## Fashion-MNIST Dataset"
   ]
  },
  {
   "cell_type": "code",
   "execution_count": null,
   "metadata": {},
   "outputs": [],
   "source": [
    "# plt.savefig(f\"{os.getcwd()}/Clustering/EM_Combined_AIC_BIC.png\")\n",
    "with open(f\"{os.getcwd()}/DimensionalityReduction/PCA_Fashion_Reduced_Dataset.pkl\", \"rb\") as input_file:\n",
    "    pca_fashion_reduced_data = pickle.load(input_file)\n",
    "    input_file.close()\n",
    "print(pca_fashion_reduced_data.shape)\n",
    "\n",
    "with open(f\"{os.getcwd()}/DimensionalityReduction/ICA_Fashion_Reduced_Dataset.pkl\", \"rb\") as input_file:\n",
    "    ica_fashion_reduced_data = pickle.load(input_file)\n",
    "    input_file.close()\n",
    "print(ica_fashion_reduced_data.shape)\n",
    "\n",
    "with open(f\"{os.getcwd()}/DimensionalityReduction/RP_Fashion_Reduced_Dataset.pkl\", \"rb\") as input_file:\n",
    "    rp_fashion_reduced_data = pickle.load(input_file)\n",
    "    input_file.close()\n",
    "print(rp_fashion_reduced_data.shape)\n",
    "\n",
    "with open(f\"{os.getcwd()}/DimensionalityReduction/RF_Fashion_Reduced_Dataset.pkl\", \"rb\") as input_file:\n",
    "    rf_fashion_reduced_data = pickle.load(input_file)\n",
    "    input_file.close()\n",
    "print(rf_fashion_reduced_data.shape)\n",
    "\n",
    "cl_utl.run_nn(pca_data_X=pca_fashion_reduced_data.iloc[:, :-1], pca_data_y=pca_fashion_reduced_data.iloc[:, -1],\n",
    "          ica_data_X=ica_fashion_reduced_data.iloc[:, :-1], ica_data_y=ica_fashion_reduced_data.iloc[:, -1],\n",
    "          rand_proj_data_X=rp_fashion_reduced_data.iloc[:, :-1],\n",
    "          rand_proj_data_y=rp_fashion_reduced_data.iloc[:, -1],\n",
    "          rand_forest_data_X=rf_fashion_reduced_data.iloc[:, :-1],\n",
    "          rand_forest_data_y=rf_fashion_reduced_data.iloc[:, -1],\n",
    "          base_line_data_X=fashion_mnist[\"train_X\"].iloc[:limit, :],\n",
    "          base_line_data_y=fashion_mnist[\"train_y\"].iloc[:limit])"
   ]
  }
 ],
 "metadata": {
  "kernelspec": {
   "display_name": "Python 3",
   "language": "python",
   "name": "python3"
  },
  "language_info": {
   "codemirror_mode": {
    "name": "ipython",
    "version": 3
   },
   "file_extension": ".py",
   "mimetype": "text/x-python",
   "name": "python",
   "nbconvert_exporter": "python",
   "pygments_lexer": "ipython3",
   "version": "3.7.9"
  },
  "varInspector": {
   "cols": {
    "lenName": 16,
    "lenType": 16,
    "lenVar": 40
   },
   "kernels_config": {
    "python": {
     "delete_cmd_postfix": "",
     "delete_cmd_prefix": "del ",
     "library": "var_list.py",
     "varRefreshCmd": "print(var_dic_list())"
    },
    "r": {
     "delete_cmd_postfix": ") ",
     "delete_cmd_prefix": "rm(",
     "library": "var_list.r",
     "varRefreshCmd": "cat(var_dic_list()) "
    }
   },
   "position": {
    "height": "401px",
    "left": "1571px",
    "right": "20px",
    "top": "119px",
    "width": "329px"
   },
   "types_to_exclude": [
    "module",
    "function",
    "builtin_function_or_method",
    "instance",
    "_Feature"
   ],
   "window_display": true
  }
 },
 "nbformat": 4,
 "nbformat_minor": 4
}
