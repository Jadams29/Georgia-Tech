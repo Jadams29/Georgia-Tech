{
 "cells": [
  {
   "cell_type": "code",
   "execution_count": 9,
   "metadata": {},
   "outputs": [
    {
     "name": "stdout",
     "output_type": "stream",
     "text": [
      "C:\\Users\\joshu\\OneDrive - Georgia Institute of Technology\\Georgia-Tech\\CS 7641 - Machine Learning\\Assignments\\Unsupervised Learning and Dimensionality Reduction\\Part4 folder already exists.\n"
     ]
    }
   ],
   "source": [
    "import os\n",
    "import sys\n",
    "\n",
    "import pandas as pd\n",
    "import numpy as np\n",
    "import pickle\n",
    "import unsupervised_learning_util as utl\n",
    "import clustering_utl as cl_utl\n",
    "import matplotlib as mpl\n",
    "import matplotlib.gridspec as gridspec\n",
    "import matplotlib.pyplot as plt\n",
    "from sklearn.neural_network import MLPClassifier\n",
    "from sklearn.decomposition import PCA, FastICA, KernelPCA\n",
    "from sklearn.manifold import TSNE, LocallyLinearEmbedding, MDS, Isomap, SpectralEmbedding\n",
    "from sklearn.cluster import KMeans\n",
    "from sklearn.preprocessing import OneHotEncoder\n",
    "from sklearn.metrics import silhouette_score, silhouette_samples, homogeneity_completeness_v_measure\n",
    "from sklearn.metrics import homogeneity_score, calinski_harabasz_score, davies_bouldin_score\n",
    "from yellowbrick.cluster import KElbowVisualizer, SilhouetteVisualizer\n",
    "from warnings import simplefilter\n",
    "from sklearn.mixture import GaussianMixture\n",
    "\n",
    "plt.tight_layout()\n",
    "plt.style.use(\"ggplot\")\n",
    "mpl.rcParams['figure.figsize'] = [8, 6]\n",
    "mpl.rcParams['figure.dpi'] = 200\n",
    "mpl.rcParams['savefig.dpi'] = 500\n",
    "\n",
    "\n",
    "NJOBS = 32\n",
    "VERBOSE = 0\n",
    "\n",
    "%matplotlib inline\n",
    "\n",
    "utl.check_folder(\"Part4\")"
   ]
  },
  {
   "cell_type": "code",
   "execution_count": 2,
   "metadata": {},
   "outputs": [
    {
     "name": "stdout",
     "output_type": "stream",
     "text": [
      "dataset folder already exists.\n",
      "MNIST dataset found:\n",
      "\tLoading MNIST.feather\n",
      "\tFinished loading MNIST dataset\n",
      "dataset folder already exists.\n",
      "Fashion-MNIST dataset found:\n",
      "\tLoading Fashion-MNIST.feather\n",
      "\tFinished loading Fashion-MNIST dataset\n"
     ]
    }
   ],
   "source": [
    "gathered_data = utl.setup([\"MNIST\"])\n",
    "gathered_data_fashion = utl.setup([\"Fashion-MNIST\"])\n",
    "\n",
    "mnist = {}\n",
    "fashion_mnist = {}\n",
    "# mnist_not_scaled = {}\n",
    "# fashion_mnist_not_scaled = {}\n",
    "\n",
    "mnist['train_X'], mnist['train_y'], \\\n",
    "mnist['valid_X'], mnist['valid_y'], \\\n",
    "mnist['test_X'], mnist['test_y'] = utl.split_data(gathered_data[\"MNIST\"][\"X\"],\n",
    "                                                  gathered_data[\"MNIST\"][\"y\"], minMax=True)\n",
    "# mnist_not_scaled['train_X'], mnist_not_scaled['train_y'], \\\n",
    "# mnist_not_scaled['valid_X'], mnist_not_scaled['valid_y'], \\\n",
    "# mnist_not_scaled['test_X'], mnist_not_scaled['test_y'] = utl.split_data(\n",
    "#     gathered_data[\"MNIST\"][\"X\"], gathered_data[\"MNIST\"][\"y\"], scale=False)\n",
    "\n",
    "fashion_mnist['train_X'], fashion_mnist['train_y'], \\\n",
    "fashion_mnist['valid_X'], fashion_mnist['valid_y'], \\\n",
    "fashion_mnist['test_X'], fashion_mnist['test_y'] = utl.split_data(gathered_data_fashion[\"Fashion-MNIST\"][\"X\"],\n",
    "                                                                  gathered_data_fashion[\"Fashion-MNIST\"][\"y\"],\n",
    "                                                                  minMax=True)\n",
    "\n",
    "# fashion_mnist_not_scaled['train_X'], fashion_mnist_not_scaled['train_y'], \\\n",
    "# fashion_mnist_not_scaled['valid_X'], fashion_mnist_not_scaled['valid_y'], \\\n",
    "# fashion_mnist_not_scaled['test_X'], fashion_mnist_not_scaled['test_y'] = utl.split_data(\n",
    "#     gathered_data_fashion[\"Fashion-MNIST\"][\"X\"], gathered_data_fashion[\"Fashion-MNIST\"][\"y\"], scale=False)"
   ]
  },
  {
   "cell_type": "markdown",
   "metadata": {},
   "source": [
    "# Neural Network on Dimensionality Reduced Datasets"
   ]
  },
  {
   "cell_type": "markdown",
   "metadata": {},
   "source": [
    "## Fashion-MNIST Dataset"
   ]
  },
  {
   "cell_type": "code",
   "execution_count": null,
   "metadata": {},
   "outputs": [],
   "source": [
    "with open(f\"{os.getcwd()}/DimensionalityReduction/PCA_Fashion_Reduced_Dataset.pkl\", \"rb\") as input_file:\n",
    "    pca_fashion_reduced_data = pickle.load(input_file)\n",
    "    input_file.close()\n",
    "print(pca_fashion_reduced_data.shape)\n",
    "\n",
    "with open(f\"{os.getcwd()}/DimensionalityReduction/ICA_Fashion_Reduced_Dataset.pkl\", \"rb\") as input_file:\n",
    "    ica_fashion_reduced_data = pickle.load(input_file)\n",
    "    input_file.close()\n",
    "print(ica_fashion_reduced_data.shape)\n",
    "\n",
    "with open(f\"{os.getcwd()}/DimensionalityReduction/RP_Fashion_Reduced_Dataset.pkl\", \"rb\") as input_file:\n",
    "    rp_fashion_reduced_data = pickle.load(input_file)\n",
    "    input_file.close()\n",
    "print(rp_fashion_reduced_data.shape)\n",
    "\n",
    "with open(f\"{os.getcwd()}/DimensionalityReduction/RF_Fashion_Reduced_Dataset.pkl\", \"rb\") as input_file:\n",
    "    rf_fashion_reduced_data = pickle.load(input_file)\n",
    "    input_file.close()\n",
    "print(rf_fashion_reduced_data.shape)\n",
    "\n",
    "# Run Clustering on these datasets"
   ]
  },
  {
   "cell_type": "code",
   "execution_count": null,
   "metadata": {},
   "outputs": [],
   "source": [
    "cl_utl.run_kmeans(pca_fashion_reduced_data.iloc[:, :-1], \n",
    "                  pca_fashion_reduced_data.iloc[:, -1], \n",
    "                  max_clusters=30, dataset_name=\"PCA_Reduced_To_KMeans\", \n",
    "                  save_name=\"PCA_Reduced_Then_Clustered\")"
   ]
  },
  {
   "cell_type": "code",
   "execution_count": null,
   "metadata": {},
   "outputs": [],
   "source": [
    "model = KMeans()\n",
    "plt.close(\"all\")\n",
    "fig, ax1 = plt.subplots()\n",
    "visualizer = KElbowVisualizer(model, k=(2, 30), timings=False)\n",
    "visualizer.fit(fashion_mnist[\"train_X\"].iloc[:10000, :]).finalize()\n",
    "elbow = visualizer.elbow_value_"
   ]
  },
  {
   "cell_type": "code",
   "execution_count": null,
   "metadata": {},
   "outputs": [],
   "source": [
    "cluster_model = KMeans(n_clusters=elbow)"
   ]
  },
  {
   "cell_type": "code",
   "execution_count": null,
   "metadata": {},
   "outputs": [],
   "source": [
    "clustered_data = cluster_model.fit_transform(fashion_mnist[\"train_X\"].iloc[:10000, :])"
   ]
  },
  {
   "cell_type": "code",
   "execution_count": null,
   "metadata": {},
   "outputs": [],
   "source": [
    "kmeans_reduced_df = pd.DataFrame(clustered_data)"
   ]
  },
  {
   "cell_type": "code",
   "execution_count": null,
   "metadata": {},
   "outputs": [],
   "source": [
    "kmeans_reduced_df[\"Label\"] = fashion_mnist[\"train_y\"].iloc[:10000]"
   ]
  },
  {
   "cell_type": "code",
   "execution_count": null,
   "metadata": {},
   "outputs": [],
   "source": [
    "with open(f\"{os.getcwd()}/Clustering/KMeans_Clustered_Reduced_Dataset.pkl\", \"wb\") as output_file:\n",
    "    pickle.dump(kmeans_reduced_df, output_file)\n",
    "    output_file.close()"
   ]
  },
  {
   "cell_type": "code",
   "execution_count": 3,
   "metadata": {},
   "outputs": [],
   "source": [
    "temp_gmm = GaussianMixture(n_components=15, n_init=10, covariance_type=\"full\", warm_start=True, max_iter=500)"
   ]
  },
  {
   "cell_type": "code",
   "execution_count": 4,
   "metadata": {},
   "outputs": [
    {
     "data": {
      "text/plain": [
       "GaussianMixture(max_iter=500, n_components=15, n_init=10, warm_start=True)"
      ]
     },
     "execution_count": 4,
     "metadata": {},
     "output_type": "execute_result"
    }
   ],
   "source": [
    "temp_gmm.fit(fashion_mnist[\"train_X\"].iloc[:10000, :])"
   ]
  },
  {
   "cell_type": "code",
   "execution_count": 27,
   "metadata": {},
   "outputs": [],
   "source": [
    "reduced_data = temp_gmm.predict(fashion_mnist[\"train_X\"].iloc[:10000, :])"
   ]
  },
  {
   "cell_type": "code",
   "execution_count": 29,
   "metadata": {},
   "outputs": [],
   "source": [
    "temp_df = pd.DataFrame()\n",
    "temp_df[\"Label\"] = reduced_data"
   ]
  },
  {
   "cell_type": "code",
   "execution_count": 31,
   "metadata": {},
   "outputs": [],
   "source": [
    "temp = pd.get_dummies(temp_df.Label)"
   ]
  },
  {
   "cell_type": "code",
   "execution_count": 33,
   "metadata": {},
   "outputs": [],
   "source": [
    "temp[\"Label\"] = fashion_mnist[\"train_y\"].iloc[:10000]"
   ]
  },
  {
   "cell_type": "code",
   "execution_count": 35,
   "metadata": {},
   "outputs": [
    {
     "data": {
      "text/html": [
       "<div>\n",
       "<style scoped>\n",
       "    .dataframe tbody tr th:only-of-type {\n",
       "        vertical-align: middle;\n",
       "    }\n",
       "\n",
       "    .dataframe tbody tr th {\n",
       "        vertical-align: top;\n",
       "    }\n",
       "\n",
       "    .dataframe thead th {\n",
       "        text-align: right;\n",
       "    }\n",
       "</style>\n",
       "<table border=\"1\" class=\"dataframe\">\n",
       "  <thead>\n",
       "    <tr style=\"text-align: right;\">\n",
       "      <th></th>\n",
       "      <th>0</th>\n",
       "      <th>1</th>\n",
       "      <th>2</th>\n",
       "      <th>3</th>\n",
       "      <th>4</th>\n",
       "      <th>5</th>\n",
       "      <th>6</th>\n",
       "      <th>7</th>\n",
       "      <th>8</th>\n",
       "      <th>9</th>\n",
       "      <th>10</th>\n",
       "      <th>11</th>\n",
       "      <th>12</th>\n",
       "      <th>13</th>\n",
       "      <th>14</th>\n",
       "      <th>Label</th>\n",
       "    </tr>\n",
       "  </thead>\n",
       "  <tbody>\n",
       "    <tr>\n",
       "      <th>0</th>\n",
       "      <td>0</td>\n",
       "      <td>0</td>\n",
       "      <td>0</td>\n",
       "      <td>0</td>\n",
       "      <td>0</td>\n",
       "      <td>0</td>\n",
       "      <td>0</td>\n",
       "      <td>0</td>\n",
       "      <td>0</td>\n",
       "      <td>0</td>\n",
       "      <td>0</td>\n",
       "      <td>0</td>\n",
       "      <td>0</td>\n",
       "      <td>0</td>\n",
       "      <td>1</td>\n",
       "      <td>8</td>\n",
       "    </tr>\n",
       "    <tr>\n",
       "      <th>1</th>\n",
       "      <td>0</td>\n",
       "      <td>0</td>\n",
       "      <td>0</td>\n",
       "      <td>0</td>\n",
       "      <td>0</td>\n",
       "      <td>0</td>\n",
       "      <td>0</td>\n",
       "      <td>0</td>\n",
       "      <td>0</td>\n",
       "      <td>0</td>\n",
       "      <td>0</td>\n",
       "      <td>0</td>\n",
       "      <td>0</td>\n",
       "      <td>1</td>\n",
       "      <td>0</td>\n",
       "      <td>0</td>\n",
       "    </tr>\n",
       "    <tr>\n",
       "      <th>2</th>\n",
       "      <td>0</td>\n",
       "      <td>1</td>\n",
       "      <td>0</td>\n",
       "      <td>0</td>\n",
       "      <td>0</td>\n",
       "      <td>0</td>\n",
       "      <td>0</td>\n",
       "      <td>0</td>\n",
       "      <td>0</td>\n",
       "      <td>0</td>\n",
       "      <td>0</td>\n",
       "      <td>0</td>\n",
       "      <td>0</td>\n",
       "      <td>0</td>\n",
       "      <td>0</td>\n",
       "      <td>6</td>\n",
       "    </tr>\n",
       "    <tr>\n",
       "      <th>3</th>\n",
       "      <td>0</td>\n",
       "      <td>0</td>\n",
       "      <td>0</td>\n",
       "      <td>0</td>\n",
       "      <td>0</td>\n",
       "      <td>0</td>\n",
       "      <td>0</td>\n",
       "      <td>1</td>\n",
       "      <td>0</td>\n",
       "      <td>0</td>\n",
       "      <td>0</td>\n",
       "      <td>0</td>\n",
       "      <td>0</td>\n",
       "      <td>0</td>\n",
       "      <td>0</td>\n",
       "      <td>3</td>\n",
       "    </tr>\n",
       "    <tr>\n",
       "      <th>4</th>\n",
       "      <td>0</td>\n",
       "      <td>1</td>\n",
       "      <td>0</td>\n",
       "      <td>0</td>\n",
       "      <td>0</td>\n",
       "      <td>0</td>\n",
       "      <td>0</td>\n",
       "      <td>0</td>\n",
       "      <td>0</td>\n",
       "      <td>0</td>\n",
       "      <td>0</td>\n",
       "      <td>0</td>\n",
       "      <td>0</td>\n",
       "      <td>0</td>\n",
       "      <td>0</td>\n",
       "      <td>2</td>\n",
       "    </tr>\n",
       "    <tr>\n",
       "      <th>...</th>\n",
       "      <td>...</td>\n",
       "      <td>...</td>\n",
       "      <td>...</td>\n",
       "      <td>...</td>\n",
       "      <td>...</td>\n",
       "      <td>...</td>\n",
       "      <td>...</td>\n",
       "      <td>...</td>\n",
       "      <td>...</td>\n",
       "      <td>...</td>\n",
       "      <td>...</td>\n",
       "      <td>...</td>\n",
       "      <td>...</td>\n",
       "      <td>...</td>\n",
       "      <td>...</td>\n",
       "      <td>...</td>\n",
       "    </tr>\n",
       "    <tr>\n",
       "      <th>9995</th>\n",
       "      <td>0</td>\n",
       "      <td>0</td>\n",
       "      <td>0</td>\n",
       "      <td>0</td>\n",
       "      <td>0</td>\n",
       "      <td>0</td>\n",
       "      <td>0</td>\n",
       "      <td>0</td>\n",
       "      <td>0</td>\n",
       "      <td>0</td>\n",
       "      <td>0</td>\n",
       "      <td>1</td>\n",
       "      <td>0</td>\n",
       "      <td>0</td>\n",
       "      <td>0</td>\n",
       "      <td>2</td>\n",
       "    </tr>\n",
       "    <tr>\n",
       "      <th>9996</th>\n",
       "      <td>0</td>\n",
       "      <td>0</td>\n",
       "      <td>0</td>\n",
       "      <td>0</td>\n",
       "      <td>0</td>\n",
       "      <td>0</td>\n",
       "      <td>0</td>\n",
       "      <td>0</td>\n",
       "      <td>0</td>\n",
       "      <td>1</td>\n",
       "      <td>0</td>\n",
       "      <td>0</td>\n",
       "      <td>0</td>\n",
       "      <td>0</td>\n",
       "      <td>0</td>\n",
       "      <td>4</td>\n",
       "    </tr>\n",
       "    <tr>\n",
       "      <th>9997</th>\n",
       "      <td>0</td>\n",
       "      <td>1</td>\n",
       "      <td>0</td>\n",
       "      <td>0</td>\n",
       "      <td>0</td>\n",
       "      <td>0</td>\n",
       "      <td>0</td>\n",
       "      <td>0</td>\n",
       "      <td>0</td>\n",
       "      <td>0</td>\n",
       "      <td>0</td>\n",
       "      <td>0</td>\n",
       "      <td>0</td>\n",
       "      <td>0</td>\n",
       "      <td>0</td>\n",
       "      <td>4</td>\n",
       "    </tr>\n",
       "    <tr>\n",
       "      <th>9998</th>\n",
       "      <td>0</td>\n",
       "      <td>0</td>\n",
       "      <td>0</td>\n",
       "      <td>0</td>\n",
       "      <td>0</td>\n",
       "      <td>0</td>\n",
       "      <td>0</td>\n",
       "      <td>0</td>\n",
       "      <td>0</td>\n",
       "      <td>0</td>\n",
       "      <td>1</td>\n",
       "      <td>0</td>\n",
       "      <td>0</td>\n",
       "      <td>0</td>\n",
       "      <td>0</td>\n",
       "      <td>8</td>\n",
       "    </tr>\n",
       "    <tr>\n",
       "      <th>9999</th>\n",
       "      <td>0</td>\n",
       "      <td>0</td>\n",
       "      <td>0</td>\n",
       "      <td>0</td>\n",
       "      <td>0</td>\n",
       "      <td>0</td>\n",
       "      <td>0</td>\n",
       "      <td>1</td>\n",
       "      <td>0</td>\n",
       "      <td>0</td>\n",
       "      <td>0</td>\n",
       "      <td>0</td>\n",
       "      <td>0</td>\n",
       "      <td>0</td>\n",
       "      <td>0</td>\n",
       "      <td>3</td>\n",
       "    </tr>\n",
       "  </tbody>\n",
       "</table>\n",
       "<p>10000 rows × 16 columns</p>\n",
       "</div>"
      ],
      "text/plain": [
       "      0  1  2  3  4  5  6  7  8  9  10  11  12  13  14  Label\n",
       "0     0  0  0  0  0  0  0  0  0  0   0   0   0   0   1      8\n",
       "1     0  0  0  0  0  0  0  0  0  0   0   0   0   1   0      0\n",
       "2     0  1  0  0  0  0  0  0  0  0   0   0   0   0   0      6\n",
       "3     0  0  0  0  0  0  0  1  0  0   0   0   0   0   0      3\n",
       "4     0  1  0  0  0  0  0  0  0  0   0   0   0   0   0      2\n",
       "...  .. .. .. .. .. .. .. .. .. ..  ..  ..  ..  ..  ..    ...\n",
       "9995  0  0  0  0  0  0  0  0  0  0   0   1   0   0   0      2\n",
       "9996  0  0  0  0  0  0  0  0  0  1   0   0   0   0   0      4\n",
       "9997  0  1  0  0  0  0  0  0  0  0   0   0   0   0   0      4\n",
       "9998  0  0  0  0  0  0  0  0  0  0   1   0   0   0   0      8\n",
       "9999  0  0  0  0  0  0  0  1  0  0   0   0   0   0   0      3\n",
       "\n",
       "[10000 rows x 16 columns]"
      ]
     },
     "execution_count": 35,
     "metadata": {},
     "output_type": "execute_result"
    }
   ],
   "source": [
    "temp"
   ]
  },
  {
   "cell_type": "code",
   "execution_count": 36,
   "metadata": {},
   "outputs": [],
   "source": [
    "with open(f\"{os.getcwd()}/Clustering/Expecation_Maximization_Clustered_Reduced_Dataset.pkl\", \"wb\") as output_file:\n",
    "    pickle.dump(temp, output_file)\n",
    "    output_file.close()"
   ]
  },
  {
   "cell_type": "code",
   "execution_count": null,
   "metadata": {},
   "outputs": [],
   "source": []
  }
 ],
 "metadata": {
  "kernelspec": {
   "display_name": "Python 3",
   "language": "python",
   "name": "python3"
  },
  "language_info": {
   "codemirror_mode": {
    "name": "ipython",
    "version": 3
   },
   "file_extension": ".py",
   "mimetype": "text/x-python",
   "name": "python",
   "nbconvert_exporter": "python",
   "pygments_lexer": "ipython3",
   "version": "3.7.9"
  },
  "varInspector": {
   "cols": {
    "lenName": 16,
    "lenType": 16,
    "lenVar": 40
   },
   "kernels_config": {
    "python": {
     "delete_cmd_postfix": "",
     "delete_cmd_prefix": "del ",
     "library": "var_list.py",
     "varRefreshCmd": "print(var_dic_list())"
    },
    "r": {
     "delete_cmd_postfix": ") ",
     "delete_cmd_prefix": "rm(",
     "library": "var_list.r",
     "varRefreshCmd": "cat(var_dic_list()) "
    }
   },
   "position": {
    "height": "401px",
    "left": "1571px",
    "right": "20px",
    "top": "119px",
    "width": "329px"
   },
   "types_to_exclude": [
    "module",
    "function",
    "builtin_function_or_method",
    "instance",
    "_Feature"
   ],
   "window_display": true
  }
 },
 "nbformat": 4,
 "nbformat_minor": 4
}
