{
 "cells": [
  {
   "cell_type": "code",
   "execution_count": 1,
   "metadata": {},
   "outputs": [
    {
     "name": "stderr",
     "output_type": "stream",
     "text": [
      "C:\\ProgramData\\Anaconda3\\envs\\CS7641\\lib\\site-packages\\sklearn\\utils\\deprecation.py:143: FutureWarning: The sklearn.metrics.classification module is  deprecated in version 0.22 and will be removed in version 0.24. The corresponding classes / functions should instead be imported from sklearn.metrics. Anything that cannot be imported from sklearn.metrics is now part of the private API.\n",
      "  warnings.warn(message, FutureWarning)\n"
     ]
    }
   ],
   "source": [
    "import os\n",
    "import sys\n",
    "import itertools\n",
    "\n",
    "import pandas as pd\n",
    "import numpy as np\n",
    "import pickle\n",
    "import unsupervised_learning_util as utl\n",
    "import matplotlib as mpl\n",
    "import matplotlib.gridspec as gridspec\n",
    "import matplotlib.pyplot as plt\n",
    "import clustering_utl as cl_utl\n",
    "\n",
    "from sklearn.decomposition import PCA, FastICA, KernelPCA\n",
    "from sklearn.manifold import TSNE, LocallyLinearEmbedding, MDS, Isomap, SpectralEmbedding\n",
    "from sklearn.cluster import KMeans\n",
    "from sklearn.mixture import GaussianMixture\n",
    "from sklearn.metrics import silhouette_score, silhouette_samples, homogeneity_completeness_v_measure\n",
    "from sklearn.metrics import homogeneity_score, calinski_harabasz_score, davies_bouldin_score\n",
    "from yellowbrick.cluster import KElbowVisualizer, SilhouetteVisualizer\n",
    "from warnings import simplefilter\n",
    "from scipy import linalg\n",
    "\n",
    "limit = 2000\n",
    "\n",
    "plt.tight_layout()\n",
    "plt.style.use(\"ggplot\")\n",
    "mpl.rcParams['figure.figsize'] = [8, 6]\n",
    "mpl.rcParams['figure.dpi'] = 200\n",
    "mpl.rcParams['savefig.dpi'] = 500\n",
    "\n",
    "\n",
    "NJOBS = 32\n",
    "VERBOSE = 0\n",
    "\n",
    "%matplotlib inline"
   ]
  },
  {
   "cell_type": "code",
   "execution_count": 2,
   "metadata": {},
   "outputs": [
    {
     "name": "stdout",
     "output_type": "stream",
     "text": [
      "dataset folder already exists.\n",
      "MNIST dataset found:\n",
      "\tLoading MNIST.feather\n",
      "\tFinished loading MNIST dataset\n",
      "dataset folder already exists.\n",
      "Fashion-MNIST dataset found:\n",
      "\tLoading Fashion-MNIST.feather\n",
      "\tFinished loading Fashion-MNIST dataset\n"
     ]
    }
   ],
   "source": [
    "gathered_data = utl.setup([\"MNIST\"])\n",
    "gathered_data_fashion = utl.setup([\"Fashion-MNIST\"])\n",
    "\n",
    "mnist = {}\n",
    "fashion_mnist = {}\n",
    "# mnist_not_scaled = {}\n",
    "# fashion_mnist_not_scaled = {}\n",
    "\n",
    "mnist['train_X'], mnist['train_y'], \\\n",
    "mnist['valid_X'], mnist['valid_y'], \\\n",
    "mnist['test_X'], mnist['test_y'] = utl.split_data(gathered_data[\"MNIST\"][\"X\"],\n",
    "                                                  gathered_data[\"MNIST\"][\"y\"], minMax=True)\n",
    "# mnist_not_scaled['train_X'], mnist_not_scaled['train_y'], \\\n",
    "# mnist_not_scaled['valid_X'], mnist_not_scaled['valid_y'], \\\n",
    "# mnist_not_scaled['test_X'], mnist_not_scaled['test_y'] = utl.split_data(\n",
    "#     gathered_data[\"MNIST\"][\"X\"], gathered_data[\"MNIST\"][\"y\"], scale=False)\n",
    "\n",
    "fashion_mnist['train_X'], fashion_mnist['train_y'], \\\n",
    "fashion_mnist['valid_X'], fashion_mnist['valid_y'], \\\n",
    "fashion_mnist['test_X'], fashion_mnist['test_y'] = utl.split_data(gathered_data_fashion[\"Fashion-MNIST\"][\"X\"],\n",
    "                                                                  gathered_data_fashion[\"Fashion-MNIST\"][\"y\"],\n",
    "                                                                  minMax=True)\n",
    "\n",
    "# fashion_mnist_not_scaled['train_X'], fashion_mnist_not_scaled['train_y'], \\\n",
    "# fashion_mnist_not_scaled['valid_X'], fashion_mnist_not_scaled['valid_y'], \\\n",
    "# fashion_mnist_not_scaled['test_X'], fashion_mnist_not_scaled['test_y'] = utl.split_data(\n",
    "#     gathered_data_fashion[\"Fashion-MNIST\"][\"X\"], gathered_data_fashion[\"Fashion-MNIST\"][\"y\"], scale=False)"
   ]
  },
  {
   "cell_type": "markdown",
   "metadata": {
    "heading_collapsed": true
   },
   "source": [
    "# Determine Scaling"
   ]
  },
  {
   "cell_type": "code",
   "execution_count": null,
   "metadata": {
    "hidden": true
   },
   "outputs": [],
   "source": [
    "temp_folder = \"Clustering/\" + \"KMeans/\"\n",
    "utl.check_folder(temp_folder)\n",
    "save_dir = os.getcwd() + temp_folder\n",
    "limit = 2000\n",
    "idx = [i for i in range(2, 15, 2)]\n",
    "cols = [limit]\n",
    "\n",
    "\n",
    "inertia_results_scaled = pd.DataFrame(columns=[\"Scaled\"],\n",
    "                               index=idx,\n",
    "                               data=np.zeros(shape=(len(idx), len(cols))))\n",
    "inertia_results_not_scaled = pd.DataFrame(columns=[\"Not Scaled\"],\n",
    "                               index=idx,\n",
    "                               data=np.zeros(shape=(len(idx), len(cols))))\n",
    "\n",
    "silhouette_average_results_scaled = pd.DataFrame(columns=[\"Scaled\"], index=idx,\n",
    "                                          data=np.zeros(shape=(len(idx), len(cols))))\n",
    "silhouette_average_results_not_scaled = pd.DataFrame(columns=[\"Not Scaled\"], index=idx,\n",
    "                                          data=np.zeros(shape=(len(idx), len(cols))))\n",
    "silhouette_sample_results_scaled = {}\n",
    "silhouette_sample_results_not_scaled = {}\n",
    "best_inertia = -1e12\n",
    "best_inertia_num_cluster = 0\n",
    "best_silhouette = 0\n",
    "best_silhouette_num_cluster = 0\n",
    "print(\"Starting K-Means Clustering\")\n",
    "\n",
    "for _df in [\"Scaled\", \"Not Scaled\"]:\n",
    "    for k in idx:\n",
    "        print(f\"\\t\\t{_df} Number of Clusters: {k}\")\n",
    "        if _df == \"Scaled\":\n",
    "            temp_train_X = mnist_scaled[\"train_X\"].iloc[:limit, :]\n",
    "            k_means = KMeans(n_clusters=k, verbose=VERBOSE, random_state=42).fit(temp_train_X)\n",
    "            inertia = k_means.inertia_\n",
    "            inertia_results_scaled.loc[k, \"Scaled\"] = inertia\n",
    "            silhouette_average = silhouette_score(temp_train_X, k_means.labels_)\n",
    "            silhouette_average_results_scaled.loc[k, \"Scaled\"] = silhouette_average\n",
    "            temp_silhouette_sample_results = silhouette_samples(temp_train_X, k_means.labels_)\n",
    "            silhouette_sample_results_scaled[f\"NumClusters_{k} DataSize_{limit}\"] = temp_silhouette_sample_results\n",
    "            print(f\"\\t{_df} Current Intertia: {inertia}, Silhouette: {silhouette_average}\")\n",
    "            if inertia > best_inertia:\n",
    "                best_inertia = inertia\n",
    "                best_inertia_num_cluster = k\n",
    "                print(f\"\\t{_df} New Best Inertia: {best_inertia}\")\n",
    "                print(f\"\\t\\t{_df} Inertia Best Number of Clusters: {best_inertia_num_cluster}\")\n",
    "            if silhouette_average > best_silhouette:\n",
    "                best_silhouette = silhouette_average\n",
    "                best_silhouette_num_cluster = k\n",
    "                print(f\"\\t{_df} New Best Silhouette: {best_silhouette}\")\n",
    "                print(f\"\\t\\t{_df} Silhouette Best Number of Clusters: {best_silhouette_num_cluster}\")\n",
    "        elif _df == \"Not Scaled\":\n",
    "            temp_train_X = mnist_not_scaled[\"train_X\"].iloc[:limit, :]\n",
    "            k_means = KMeans(n_clusters=k, verbose=VERBOSE, random_state=42).fit(temp_train_X)\n",
    "            inertia = k_means.inertia_\n",
    "            inertia_results_not_scaled.loc[k, \"Not Scaled\"] = inertia\n",
    "            silhouette_average = silhouette_score(temp_train_X, k_means.labels_)\n",
    "            silhouette_average_results_not_scaled.loc[k, \"Not Scaled\"] = silhouette_average\n",
    "            temp_silhouette_sample_results = silhouette_samples(temp_train_X, k_means.labels_)\n",
    "            silhouette_sample_results_not_scaled[f\"NumClusters_{k} DataSize_{limit}\"] = temp_silhouette_sample_results\n",
    "            print(f\"\\t{_df} Current Intertia: {inertia}, Silhouette: {silhouette_average}\")\n",
    "            if inertia > best_inertia:\n",
    "                best_inertia = inertia\n",
    "                best_inertia_num_cluster = k\n",
    "                print(f\"\\t{_df} New Best Inertia: {best_inertia}\")\n",
    "                print(f\"\\t\\t{_df} Inertia Best Number of Clusters: {best_inertia_num_cluster}\")\n",
    "            if silhouette_average > best_silhouette:\n",
    "                best_silhouette = silhouette_average\n",
    "                best_silhouette_num_cluster = k\n",
    "                print(f\"\\t{_df} New Best Silhouette: {best_silhouette}\")\n",
    "                print(f\"\\t\\t{_df} Silhouette Best Number of Clusters: {best_silhouette_num_cluster}\")\n"
   ]
  },
  {
   "cell_type": "code",
   "execution_count": null,
   "metadata": {
    "hidden": true
   },
   "outputs": [],
   "source": [
    "fig, (ax1, ax2) = plt.subplots(1, 2, figsize=(12, 6))\n",
    "\n",
    "inertia_results_scaled.plot(ax=ax1, label=\"Scaled\")\n",
    "inertia_results_not_scaled.plot(ax=ax1, label=\"Not Scaled\")\n",
    "ax1.set_title(f\"K Means Clustering\\nInertia\", fontsize=15, weight='bold')\n",
    "ax1.grid(which='major', linestyle='-', linewidth='0.5', color='white')\n",
    "ax1.set_xlabel(\"K Clusters\", fontsize=15, weight='heavy')\n",
    "ax1.set_ylabel(\"Inertia\", fontsize=15, weight='heavy')\n",
    "ax1.legend(loc=\"best\", markerscale=1.1, frameon=True,\n",
    "                   edgecolor=\"black\", fancybox=True, shadow=True)\n",
    "plt.tight_layout()\n",
    "\n",
    "silhouette_average_results_scaled.plot(ax=ax2, label=\"Scale\")\n",
    "silhouette_average_results_not_scaled.plot(ax=ax2, label=\"Not Scaled\")\n",
    "ax2.set_title(f\"K Means Clusters\\nSilhouette\", fontsize=15, weight='bold')\n",
    "ax2.grid(which='major', linestyle='-', linewidth='0.5', color='white')\n",
    "ax2.set_xlabel(\"K Clusters\", fontsize=15, weight='heavy')\n",
    "ax2.set_ylabel(\"Average Silhouette Score\", fontsize=15, weight='heavy')\n",
    "ax2.legend(loc=\"best\", markerscale=1.1, frameon=True,\n",
    "                   edgecolor=\"black\", fancybox=True, shadow=True)\n",
    "plt.tight_layout()\n",
    "\n",
    "plt.savefig(f\"{os.getcwd()}/{temp_folder}KMEans_Combined_Scaled_Vs_NotScaled.png\", bbox_inches='tight')\n",
    "plt.close(\"all\")"
   ]
  },
  {
   "cell_type": "markdown",
   "metadata": {},
   "source": [
    "# K-Means Clustering"
   ]
  },
  {
   "cell_type": "code",
   "execution_count": null,
   "metadata": {},
   "outputs": [],
   "source": [
    "gathered_data = utl.setup([\"MNIST\"])\n",
    "gathered_data_fashion = utl.setup([\"Fashion-MNIST\"])\n",
    "limit = 10000\n",
    "mnist = {}\n",
    "fashion_mnist = {}\n",
    "mnist['train_X'], mnist['train_y'], \\\n",
    "mnist['valid_X'], mnist['valid_y'], \\\n",
    "mnist['test_X'], mnist['test_y'] = utl.split_data(gathered_data[\"MNIST\"][\"X\"],\n",
    "                                                  gathered_data[\"MNIST\"][\"y\"], minMax=True)\n",
    "\n",
    "fashion_mnist['train_X'], fashion_mnist['train_y'], \\\n",
    "fashion_mnist['valid_X'], fashion_mnist['valid_y'], \\\n",
    "fashion_mnist['test_X'], fashion_mnist['test_y'] = utl.split_data(gathered_data_fashion[\"Fashion-MNIST\"][\"X\"],\n",
    "                                                                  gathered_data_fashion[\"Fashion-MNIST\"][\"y\"],\n",
    "                                                                  minMax=True)"
   ]
  },
  {
   "cell_type": "code",
   "execution_count": null,
   "metadata": {},
   "outputs": [],
   "source": [
    "mnist_results = cl_utl.run_kmeans(data_X=mnist[\"train_X\"].loc[:limit, :], data_y=mnist[\"train_y\"].loc[:limit],\n",
    "                            max_clusters=40, dataset_name=\"MNIST\", verbose=1)\n",
    "fashion_results = cl_utl.run_kmeans(data_X=fashion_mnist[\"train_X\"].loc[:limit, :], data_y=fashion_mnist[\"train_y\"].loc[:limit],\n",
    "                            max_clusters=40, dataset_name=\"Fashion_MNIST\", verbose=1)"
   ]
  },
  {
   "cell_type": "code",
   "execution_count": null,
   "metadata": {},
   "outputs": [],
   "source": [
    "utl.check_folder(\"Part1\")\n",
    "with open(f\"{os.getcwd()}/Part1/KMeans_Clustering_MNIST_Results.pkl\", \"wb\") as output_file:\n",
    "    pickle.dump(mnist_results, output_file)\n",
    "    output_file.close()"
   ]
  },
  {
   "cell_type": "code",
   "execution_count": null,
   "metadata": {},
   "outputs": [],
   "source": [
    "with open(f\"{os.getcwd()}/Part1/KMeans_Clustering_Fashion_MNIST_Results.pkl\", \"wb\") as output_file:\n",
    "    pickle.dump(fashion_results, output_file)\n",
    "    output_file.close()"
   ]
  },
  {
   "cell_type": "markdown",
   "metadata": {},
   "source": [
    "# Expectation Maximization "
   ]
  },
  {
   "cell_type": "code",
   "execution_count": null,
   "metadata": {},
   "outputs": [],
   "source": [
    "em_mnist_results = cl_utl.run_em(data_X=mnist[\"train_X\"].iloc[:limit, :], data_y=mnist[\"train_y\"].iloc[:limit],\n",
    "                                 max_components=30, dataset_name=\"MNIST\", standalone=True)"
   ]
  },
  {
   "cell_type": "code",
   "execution_count": null,
   "metadata": {},
   "outputs": [],
   "source": [
    "em_fashion_results = cl_utl.run_em(data_X=fashion_mnist[\"train_X\"].iloc[:limit, :], data_y=fashion_mnist[\"train_y\"].iloc[:limit],\n",
    "                                 max_components=30, dataset_name=\"Fashion-MNIST\", standalone=True)"
   ]
  },
  {
   "cell_type": "code",
   "execution_count": 3,
   "metadata": {},
   "outputs": [],
   "source": [
    "with open(f\"{os.getcwd()}/Clustering/EM_Results_MNIST.pkl\", \"rb\") as input_file:\n",
    "    em_mnist_results = pickle.load(input_file)\n",
    "    input_file.close()\n",
    "with open(f\"{os.getcwd()}/Clustering/EM_Results_Fashion-MNIST.pkl\", \"rb\") as input_file:\n",
    "    em_fashion_results = pickle.load(input_file)\n",
    "    input_file.close()"
   ]
  },
  {
   "cell_type": "code",
   "execution_count": 4,
   "metadata": {},
   "outputs": [
    {
     "data": {
      "image/png": "[encoded data removed]",
      "text/plain": [
       "<Figure size 864x432 with 2 Axes>"
      ]
     },
     "metadata": {
      "needs_background": "light"
     },
     "output_type": "display_data"
    }
   ],
   "source": [
    "cl_utl.plot_em(em_mnist_results, em_fashion_results)"
   ]
  },
  {
   "cell_type": "code",
   "execution_count": null,
   "metadata": {},
   "outputs": [],
   "source": [
    "cl_utl.plot_combined_kmeans(mnist_X=mnist[\"train_X\"].loc[:limit, :], \n",
    "                            fashion_X=fashion_mnist[\"train_X\"].loc[:limit, :], max_clusters=40)"
   ]
  }
 ],
 "metadata": {
  "kernelspec": {
   "display_name": "Python 3",
   "language": "python",
   "name": "python3"
  },
  "language_info": {
   "codemirror_mode": {
    "name": "ipython",
    "version": 3
   },
   "file_extension": ".py",
   "mimetype": "text/x-python",
   "name": "python",
   "nbconvert_exporter": "python",
   "pygments_lexer": "ipython3",
   "version": "3.7.9"
  },
  "varInspector": {
   "cols": {
    "lenName": 16,
    "lenType": 16,
    "lenVar": 40
   },
   "kernels_config": {
    "python": {
     "delete_cmd_postfix": "",
     "delete_cmd_prefix": "del ",
     "library": "var_list.py",
     "varRefreshCmd": "print(var_dic_list())"
    },
    "r": {
     "delete_cmd_postfix": ") ",
     "delete_cmd_prefix": "rm(",
     "library": "var_list.r",
     "varRefreshCmd": "cat(var_dic_list()) "
    }
   },
   "position": {
    "height": "559px",
    "left": "-1px",
    "right": "20px",
    "top": "393px",
    "width": "381px"
   },
   "types_to_exclude": [
    "module",
    "function",
    "builtin_function_or_method",
    "instance",
    "_Feature"
   ],
   "window_display": false
  }
 },
 "nbformat": 4,
 "nbformat_minor": 4
}
