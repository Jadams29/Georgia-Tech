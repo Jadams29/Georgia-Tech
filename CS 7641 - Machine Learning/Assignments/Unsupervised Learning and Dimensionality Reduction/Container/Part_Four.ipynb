{
 "cells": [
  {
   "cell_type": "markdown",
   "metadata": {},
   "source": [
    "# Import "
   ]
  },
  {
   "cell_type": "code",
   "execution_count": null,
   "metadata": {},
   "outputs": [],
   "source": [
    "import pathlib\n",
    "import time\n",
    "\n",
    "import matplotlib.pyplot as plt\n",
    "import numpy as np\n",
    "import pandas as pd\n",
    "from sklearn.model_selection import train_test_split\n",
    "from sklearn.neural_network import MLPClassifier\n",
    "\n",
    "from LoadData import LoadData\n",
    "\n",
    "plt.style.use('ggplot')\n",
    "dataset_name = \"MNIST\"\n",
    "\n",
    "reduced_datasets = {\"PrincipalComponentReduced_MNIST\": \"PrincipalComponentReduced_MNIST.csv\",\n",
    "                    \"RandomForestReduced_MNIST\": \"RandomForestReduced_MNIST.csv\",\n",
    "                    \"IndependentComponentReduced_MNIST\": \"IndependentComponentReduced_MNIST.csv\",\n",
    "                    \"RandomProjectionReduced_MNIST\": \"RandomProjectionReduced_MNIST.csv\"}\n",
    "\n",
    "accuracy = []\n",
    "run_time = []\n",
    "\n",
    "temp = np.loadtxt(\"PrincipalComponentReduced_MNIST.csv\", delimiter=\",\")\n",
    "size = temp.shape[0]\n",
    "print(size)"
   ]
  },
  {
   "cell_type": "code",
   "execution_count": null,
   "metadata": {},
   "outputs": [],
   "source": [
    "# Baseline\n",
    "cwd = pathlib.Path().absolute()\n",
    "\n",
    "training_labels, training_data, _ = LoadData(\"{}/mnist-train-data.csv\".format(cwd), normalize=True, size=size)\n",
    "\n",
    "X_train, X_test, y_train, y_test = train_test_split(training_data, training_labels, test_size=0.33, random_state=0)\n",
    "print(training_data.shape)\n",
    "\n",
    "start_time = time.time()\n",
    "\n",
    "nn_estimator = MLPClassifier(hidden_layer_sizes=(100,), verbose=3, n_iter_no_change=30)\n",
    "nn_estimator.fit(X_train, y_train)\n",
    "\n",
    "end_time = time.time()\n",
    "\n",
    "elapsed_time = round((end_time - start_time), 2)\n",
    "run_time.append(elapsed_time)\n",
    "testing_acc = round(nn_estimator.score(X_test, y_test), 2)\n",
    "accuracy.append(testing_acc)\n",
    "\n",
    "df = pd.DataFrame(nn_estimator.loss_curve_, columns=[\"Loss\"])\n",
    "df.plot()\n",
    "plt.title(\"{} Loss \\n Testing Accuracy={}%\\nElapsed Time={}sec\".format(\"Baseline\", testing_acc, elapsed_time))\n",
    "plt.xlabel(\"Iterations\")\n",
    "plt.xlim(0, 105)\n",
    "plt.ylim(0, 1.05)\n",
    "plt.ylabel(\"Loss\")\n",
    "plt.tight_layout()\n",
    "plt.savefig(\"{}_Loss.png\".format(\"Baseline\"))\n",
    "\n",
    "print(\"Elapsed Time: {}\".format(elapsed_time))\n",
    "print(\"Training set score: %f\" % nn_estimator.score(X_train, y_train))\n",
    "print(\"Test set score: %f\" % testing_acc)"
   ]
  },
  {
   "cell_type": "code",
   "execution_count": null,
   "metadata": {},
   "outputs": [],
   "source": [
    "for key, val in reduced_datasets.items():\n",
    "    print(key)\n",
    "\n",
    "    training_data = np.loadtxt(reduced_datasets[key], delimiter=\",\")\n",
    "    training_labels, _, _ = LoadData(\"{}/mnist-train-data.csv\".format(cwd), normalize=False,\n",
    "                                     size=training_data.shape[0])\n",
    "\n",
    "    X_train, X_test, y_train, y_test = train_test_split(training_data, training_labels, test_size=0.33, random_state=0)\n",
    "    print(training_data.shape)\n",
    "    start_time = time.time()\n",
    "    if key == \"IndependentComponentReduced_MNIST\":\n",
    "        nn_estimator = MLPClassifier(hidden_layer_sizes=(100,), verbose=3, learning_rate_init=0.001)\n",
    "    else:\n",
    "        nn_estimator = MLPClassifier(hidden_layer_sizes=(100,), verbose=3)\n",
    "    nn_estimator.fit(X_train, y_train)\n",
    "\n",
    "    end_time = time.time()\n",
    "    elapsed_time = round((end_time - start_time), 3)\n",
    "\n",
    "    run_time.append(elapsed_time)\n",
    "    testing_acc = round(nn_estimator.score(X_test, y_test), 2)\n",
    "    accuracy.append(testing_acc)\n",
    "\n",
    "    df = pd.DataFrame(nn_estimator.loss_curve_, columns=[\"Loss\"])\n",
    "    df.plot()\n",
    "    plt.title(\"{} Loss \\n Testing Accuracy={}%\\nElapsed Time={}sec\".format(key, testing_acc, elapsed_time))\n",
    "    plt.xlabel(\"Iterations\")\n",
    "    plt.xlim(0, 105)\n",
    "    plt.ylim(0, 1.05)\n",
    "    plt.ylabel(\"Loss\")\n",
    "    plt.tight_layout()\n",
    "    plt.savefig(\"{}_Loss.png\".format(key))\n",
    "\n",
    "    print(\"Elapsed Time: {}\".format(elapsed_time))\n",
    "    print(\"Training set score: %f\" % nn_estimator.score(X_train, y_train))\n",
    "    print(\"Test set score: %f\" % testing_acc)\n",
    "\n",
    "plt.close('all')\n",
    "\n",
    "d = {\"Baseline\": accuracy[0], \"PCA\": accuracy[1], \"RandomForest\": accuracy[2], \"ICA\": accuracy[3],\n",
    "     \"RandomProjection\": accuracy[4]}\n",
    "testing_acc_df = pd.DataFrame(data=d, index=[0])\n",
    "testing_acc_df.plot(kind=\"bar\", title=\"Testing Accuracy on Dimensionality Reduced Dataset\", use_index=False)\n",
    "plt.xlabel([\"Baseline\", \"PCA\", \"RandomForest\", \"ICA\", \"RandomProjection\"])\n",
    "plt.ylabel(\"Accuracy(%)\")\n",
    "plt.tight_layout()\n",
    "plt.savefig(\"TestingAccuracyDimensionReduced.png\")\n",
    "\n",
    "d2 = {\"Baseline\": run_time[0], \"PCA\": run_time[1], \"RandomForest\": run_time[2], \"ICA\": run_time[3],\n",
    "      \"RandomProjection\": run_time[4]}\n",
    "run_time_df = pd.DataFrame(data=d2, index=[0])\n",
    "run_time_df.plot(kind=\"bar\", title=\"Run Time on Dimensionality Reduced Dataset\", use_index=False)\n",
    "plt.ylabel(\"Time(sec)\")\n",
    "plt.xlabel([\"Baseline\", \"PCA\", \"RandomForest\", \"ICA\", \"RandomProjection\"])\n",
    "plt.tight_layout()\n",
    "plt.savefig(\"RunTimeDimensionReduced.png\")\n",
    "print()"
   ]
  }
 ],
 "metadata": {
  "kernelspec": {
   "display_name": "Python 3",
   "language": "python",
   "name": "python3"
  },
  "language_info": {
   "codemirror_mode": {
    "name": "ipython",
    "version": 3
   },
   "file_extension": ".py",
   "mimetype": "text/x-python",
   "name": "python",
   "nbconvert_exporter": "python",
   "pygments_lexer": "ipython3",
   "version": "3.7.6"
  },
  "latex_envs": {
   "LaTeX_envs_menu_present": true,
   "autoclose": false,
   "autocomplete": true,
   "bibliofile": "biblio.bib",
   "cite_by": "apalike",
   "current_citInitial": 1,
   "eqLabelWithNumbers": true,
   "eqNumInitial": 1,
   "hotkeys": {
    "equation": "Ctrl-E",
    "itemize": "Ctrl-I"
   },
   "labels_anchors": false,
   "latex_user_defs": false,
   "report_style_numbering": false,
   "user_envs_cfg": false
  },
  "toc": {
   "base_numbering": 1,
   "nav_menu": {},
   "number_sections": true,
   "sideBar": true,
   "skip_h1_title": false,
   "title_cell": "Table of Contents",
   "title_sidebar": "Contents",
   "toc_cell": false,
   "toc_position": {},
   "toc_section_display": true,
   "toc_window_display": false
  },
  "varInspector": {
   "cols": {
    "lenName": 16,
    "lenType": 16,
    "lenVar": 40
   },
   "kernels_config": {
    "python": {
     "delete_cmd_postfix": "",
     "delete_cmd_prefix": "del ",
     "library": "var_list.py",
     "varRefreshCmd": "print(var_dic_list())"
    },
    "r": {
     "delete_cmd_postfix": ") ",
     "delete_cmd_prefix": "rm(",
     "library": "var_list.r",
     "varRefreshCmd": "cat(var_dic_list()) "
    }
   },
   "position": {
    "height": "298px",
    "left": "1550px",
    "right": "20px",
    "top": "120px",
    "width": "350px"
   },
   "types_to_exclude": [
    "module",
    "function",
    "builtin_function_or_method",
    "instance",
    "_Feature"
   ],
   "window_display": false
  }
 },
 "nbformat": 4,
 "nbformat_minor": 4
}
