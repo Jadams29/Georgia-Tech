{
 "cells": [
  {
   "cell_type": "code",
   "execution_count": 1,
   "metadata": {},
   "outputs": [
    {
     "name": "stdout",
     "output_type": "stream",
     "text": [
      "Requirement already satisfied: pyarrow in c:\\programdata\\anaconda3\\envs\\cs7641\\lib\\site-packages (0.15.1)\n",
      "Requirement already satisfied: numpy>=1.14 in c:\\programdata\\anaconda3\\envs\\cs7641\\lib\\site-packages (from pyarrow) (1.19.1)\n",
      "Requirement already satisfied: six>=1.0.0 in c:\\programdata\\anaconda3\\envs\\cs7641\\lib\\site-packages (from pyarrow) (1.15.0)\n"
     ]
    },
    {
     "data": {
      "text/plain": [
       "<Figure size 1600x1200 with 0 Axes>"
      ]
     },
     "metadata": {},
     "output_type": "display_data"
    }
   ],
   "source": [
    "import os\n",
    "import time\n",
    "\n",
    "import numpy as np\n",
    "\n",
    "import ml_util as utl\n",
    "\n",
    "save_directory = \"figures/RandomizedHillClimbing\"\n",
    "model_name = \"Randomized Hill Climb\"\n",
    "\n",
    "folders = [\"figures/RandomizedHillClimbing/Complexity_Analysis\",\n",
    "           \"figures/RandomizedHillClimbing/Grid_Search_Results\",\n",
    "           \"figures/RandomizedHillClimbing/Learning_Curves\",\n",
    "           \"figures/RandomizedHillClimbing/Confusion_Matrix\"]\n",
    "\n",
    "Random_Number = 42\n",
    "TESTING = True\n",
    "cv = 5\n",
    "n_jobs = 4\n",
    "np.random.seed(42)\n",
    "get_ipython().system('pip install pyarrow')"
   ]
  },
  {
   "cell_type": "code",
   "execution_count": 2,
   "metadata": {},
   "outputs": [
    {
     "name": "stdout",
     "output_type": "stream",
     "text": [
      "dataset folder already exists.\n",
      "MNIST dataset found:\n",
      "\tLoading MNIST.feather\n",
      "\tFinished loading MNIST dataset\n",
      "dataset folder already exists.\n",
      "Fashion-MNIST dataset found:\n",
      "\tLoading Fashion-MNIST.feather\n",
      "\tFinished loading Fashion-MNIST dataset\n"
     ]
    }
   ],
   "source": [
    "gathered_data = utl.setup([\"MNIST\"])\n",
    "gathered_data_fashion = utl.setup([\"Fashion-MNIST\"])\n",
    "train_X, train_y, valid_X, valid_y, test_X, test_y = utl.split_data(gathered_data[\"MNIST\"][\"X\"],\n",
    "                                                                    gathered_data[\"MNIST\"][\"y\"], normalize=True)\n",
    "fashion_train_X, fashion_train_y, fashion_valid_X, fashion_valid_y, fashion_test_X, fashion_test_y = utl.split_data(\n",
    "    gathered_data_fashion[\"Fashion-MNIST\"][\"X\"],\n",
    "    gathered_data_fashion[\"Fashion-MNIST\"][\"y\"],\n",
    "    normalize=True)"
   ]
  },
  {
   "cell_type": "code",
   "execution_count": 3,
   "metadata": {},
   "outputs": [
    {
     "name": "stdout",
     "output_type": "stream",
     "text": [
      "figures/RandomizedHillClimbing folder already exists.\n",
      "figures/RandomizedHillClimbing/Complexity_Analysis folder already exists.\n",
      "figures/RandomizedHillClimbing/Grid_Search_Results folder already exists.\n",
      "figures/RandomizedHillClimbing/Learning_Curves folder already exists.\n",
      "figures/RandomizedHillClimbing/Confusion_Matrix folder already exists.\n"
     ]
    }
   ],
   "source": [
    "CHECK_FOLDER = os.path.isdir(save_directory)\n",
    "\n",
    "# If folder doesn't exist, then create it.\n",
    "if not CHECK_FOLDER:\n",
    "    os.makedirs(save_directory)\n",
    "    print(\"created folder : \", save_directory)\n",
    "else:\n",
    "    print(save_directory, \"folder already exists.\")\n",
    "\n",
    "for f in folders:\n",
    "    if not os.path.isdir(f):\n",
    "        os.makedirs(f)\n",
    "        print(\"created folder : \", f)\n",
    "    else:\n",
    "        print(f, \"folder already exists.\")"
   ]
  }
 ],
 "metadata": {
  "kernelspec": {
   "display_name": "Python 3",
   "language": "python",
   "name": "python3"
  },
  "language_info": {
   "codemirror_mode": {
    "name": "ipython",
    "version": 3
   },
   "file_extension": ".py",
   "mimetype": "text/x-python",
   "name": "python",
   "nbconvert_exporter": "python",
   "pygments_lexer": "ipython3",
   "version": "3.7.9"
  },
  "toc": {
   "base_numbering": 1,
   "nav_menu": {},
   "number_sections": true,
   "sideBar": true,
   "skip_h1_title": false,
   "title_cell": "Table of Contents",
   "title_sidebar": "Contents",
   "toc_cell": false,
   "toc_position": {},
   "toc_section_display": true,
   "toc_window_display": false
  },
  "varInspector": {
   "cols": {
    "lenName": 16,
    "lenType": 16,
    "lenVar": 40
   },
   "kernels_config": {
    "python": {
     "delete_cmd_postfix": "",
     "delete_cmd_prefix": "del ",
     "library": "var_list.py",
     "varRefreshCmd": "print(var_dic_list())"
    },
    "r": {
     "delete_cmd_postfix": ") ",
     "delete_cmd_prefix": "rm(",
     "library": "var_list.r",
     "varRefreshCmd": "cat(var_dic_list()) "
    }
   },
   "types_to_exclude": [
    "module",
    "function",
    "builtin_function_or_method",
    "instance",
    "_Feature"
   ],
   "window_display": false
  }
 },
 "nbformat": 4,
 "nbformat_minor": 4
}
