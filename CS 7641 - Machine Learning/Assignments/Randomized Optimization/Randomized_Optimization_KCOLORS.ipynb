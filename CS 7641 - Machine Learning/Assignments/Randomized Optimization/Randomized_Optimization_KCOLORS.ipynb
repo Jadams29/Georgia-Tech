{
 "cells": [
  {
   "cell_type": "code",
   "execution_count": 1,
   "metadata": {},
   "outputs": [
    {
     "data": {
      "text/plain": [
       "<Figure size 1600x1200 with 0 Axes>"
      ]
     },
     "metadata": {},
     "output_type": "display_data"
    }
   ],
   "source": [
    "import numpy as np\n",
    "import time\n",
    "import pandas as pd\n",
    "import matplotlib.pyplot as plt\n",
    "import mlrose_hiive\n",
    "import seaborn as sns\n",
    "import ro_ml_util as utl\n",
    "import os\n",
    "import pickle\n",
    "import glob\n",
    "\n",
    "plt.style.use(\"ggplot\")\n",
    "\n",
    "folder = \"KColors/\"\n",
    "\n",
    "SEED=42\n",
    "\n",
    "n_iterations = np.arange(1, 201, 1)\n",
    "prob_size = \"XL\"\n",
    "verbose = True\n",
    "problem_name = \"KColors\""
   ]
  },
  {
   "cell_type": "code",
   "execution_count": 2,
   "metadata": {},
   "outputs": [
    {
     "name": "stdout",
     "output_type": "stream",
     "text": [
      "C:\\Users\\joshu\\OneDrive - Georgia Institute of Technology\\Georgia-Tech\\CS 7641 - Machine Learning\\Assignments\\Randomized Optimization\\KColors/ folder already exists.\n"
     ]
    }
   ],
   "source": [
    "utl.check_folder(folder)"
   ]
  },
  {
   "cell_type": "markdown",
   "metadata": {},
   "source": [
    "# K-Colors"
   ]
  },
  {
   "cell_type": "code",
   "execution_count": 3,
   "metadata": {},
   "outputs": [],
   "source": [
    "iteration_list = np.concatenate((10 ** np.arange(1, 4, 1), (10 ** np.arange(1, 4, 1)) * 5)).tolist()\n",
    "\n",
    "rhc_params = {\"restart_list\": (2 ** np.arange(1, 9, 1)).tolist(),\n",
    "              \"iterations\": (2 ** np.arange(1, 9, 1)).tolist()}\n",
    "\n",
    "sa_params = {\"temperature_list\": (2 ** np.arange(1, 13, 1)).tolist(),\n",
    "             \"iterations\": (2 ** np.arange(1, 9, 1)).tolist()}\n",
    "\n",
    "ga_params = {\"population_sizes\": np.arange(25, 401, 25).tolist(),\n",
    "             \"iterations\": (2 ** np.arange(1, 9, 1)).tolist(),\n",
    "             \"mutation_rates\": np.round(np.arange(0.45, 0.91, 0.05), 2).tolist()}\n",
    "\n",
    "mimic_params = {\"population_sizes\": np.arange(2, 61, 2).tolist(),\n",
    "                \"keep_percent_list\": np.round(np.arange(0.1, 0.51, 0.05), 2).tolist(),\n",
    "                \"iterations\": (2 ** np.arange(1, 9, 1)).tolist()}"
   ]
  },
  {
   "cell_type": "code",
   "execution_count": null,
   "metadata": {},
   "outputs": [],
   "source": [
    "utl.run_optimization_tests(prob_name=\"kcolors\", parameters={\"RHC\": rhc_params, \"SA\": sa_params,\n",
    "                                                             \"GA\": ga_params, \"MIMIC\": mimic_params},\n",
    "                           size=\"m\", iterations=iteration_list, maximize=True, gridsearch=True,\n",
    "                           gen_curves=True, cv=2, max_attempts=(2 ** np.arange(1, 8, 1)).tolist())\n"
   ]
  },
  {
   "cell_type": "markdown",
   "metadata": {},
   "source": [
    "## Run with gridsearch=False"
   ]
  },
  {
   "cell_type": "code",
   "execution_count": null,
   "metadata": {},
   "outputs": [],
   "source": [
    "problem, folder = utl.determine_problem(prob_name=problem_name, size=\"m\", maximize=True, SEED=42)\n",
    "utl.run_optimization_tests(prob_name=\"kcolors\", parameters={\"RHC\": rhc_params, \"SA\": sa_params,\n",
    "                                                             \"GA\": ga_params, \"MIMIC\": mimic_params},\n",
    "                           size=\"m\", iterations=iteration_list, maximize=True, gridsearch=False,\n",
    "                           gen_curves=True, cv=2, max_attempts=(2 ** np.arange(1, 8, 1)).tolist(), \n",
    "                           change_pop=False, reset_pop=False)\n"
   ]
  },
  {
   "cell_type": "markdown",
   "metadata": {},
   "source": [
    "# Random Hill Climb"
   ]
  },
  {
   "cell_type": "code",
   "execution_count": null,
   "metadata": {},
   "outputs": [],
   "source": [
    "problem, folder = utl.determine_problem(prob_name=problem_name, size=\"m\", maximize=True, SEED=42)\n",
    "\n",
    "with open(f\"{os.getcwd()}/{folder}/All_RHC_Results.pkl\", \"rb\") as input_file:\n",
    "    data = pickle.load(input_file)\n",
    "    input_file.close()\n",
    "\n",
    "utl.plot_discrete(all_results=data, folder=folder, prob_name=problem_name, alg_name=\"RHC\")\n",
    "print()"
   ]
  },
  {
   "cell_type": "markdown",
   "metadata": {},
   "source": [
    "# Genetic Algorithm"
   ]
  },
  {
   "cell_type": "code",
   "execution_count": null,
   "metadata": {},
   "outputs": [],
   "source": [
    "problem, folder = utl.determine_problem(prob_name=problem_name, size=\"m\", maximize=True, SEED=42)\n",
    "\n",
    "with open(f\"{os.getcwd()}/{folder}/All_GA_Results.pkl\", \"rb\") as input_file:\n",
    "    data = pickle.load(input_file)\n",
    "    input_file.close()\n",
    "\n",
    "utl.plot_discrete(all_results=data, folder=folder, prob_name=problem_name, alg_name=\"GA\")\n",
    "print()"
   ]
  },
  {
   "cell_type": "markdown",
   "metadata": {},
   "source": [
    "# Simulated Annealing"
   ]
  },
  {
   "cell_type": "code",
   "execution_count": null,
   "metadata": {},
   "outputs": [],
   "source": [
    "problem, folder = utl.determine_problem(prob_name=problem_name, size=\"m\", maximize=True, SEED=42)\n",
    "\n",
    "with open(f\"{os.getcwd()}/{folder}/All_SA_Results.pkl\", \"rb\") as input_file:\n",
    "    data = pickle.load(input_file)\n",
    "    input_file.close()\n",
    "\n",
    "utl.plot_discrete(all_results=data, folder=folder, prob_name=problem_name, alg_name=\"SA\")\n",
    "print()"
   ]
  },
  {
   "cell_type": "markdown",
   "metadata": {},
   "source": [
    "# MIMIC"
   ]
  },
  {
   "cell_type": "code",
   "execution_count": null,
   "metadata": {},
   "outputs": [],
   "source": [
    "problem, folder = utl.determine_problem(prob_name=problem_name, size=\"m\", maximize=True, SEED=42)\n",
    "\n",
    "with open(f\"{os.getcwd()}/{folder}/All_MIMIC_Results.pkl\", \"rb\") as input_file:\n",
    "    data = pickle.load(input_file)\n",
    "    input_file.close()\n",
    "\n",
    "utl.plot_discrete(all_results=data, folder=folder, prob_name=problem_name, alg_name=\"MIMIC\")\n",
    "print()"
   ]
  },
  {
   "cell_type": "code",
   "execution_count": null,
   "metadata": {},
   "outputs": [],
   "source": [
    "def get_rhc(time_df, count_df, iter_num, rhc_parameters, prob_name):\n",
    "    temp_problem = mlrose_hiive.generators.MaxKColorGenerator.generate(seed=int(np.round(time.time())), \n",
    "                                                                       number_of_nodes=iter_num,\n",
    "                                                                       maximize=True)\n",
    "    temp_start_time = time.time()\n",
    "\n",
    "    temp_state, \\\n",
    "    temp_fitness, \\\n",
    "    temp_fitness_curve = mlrose_hiive.random_hill_climb(problem=temp_problem,\n",
    "                                                           max_attempts=rhc_parameters[\"max_attempts\"],\n",
    "                                                           restarts=rhc_parameters[\"restarts\"], curve=True,\n",
    "                                                           random_state=int(np.round(time.time())),\n",
    "                                                           return_results=True)\n",
    "    temp_end_time = time.time()\n",
    "    temp_elapsed_time = temp_end_time - temp_start_time\n",
    "    time_df.loc[iter_num, \"RHC\"] = temp_elapsed_time\n",
    "    count_df.loc[iter_num, \"RHC\"] = temp_problem.counter"
   ]
  },
  {
   "cell_type": "code",
   "execution_count": null,
   "metadata": {},
   "outputs": [],
   "source": [
    "def get_sa(time_df, count_df, iter_num, sa_parameter, prob_name):\n",
    "    temp_problem = mlrose_hiive.generators.MaxKColorGenerator.generate(seed=int(np.round(time.time())), \n",
    "                                                                       number_of_nodes=iter_num,\n",
    "                                                                       maximize=True)\n",
    "    temp_start_time = time.time()\n",
    "\n",
    "    temp_state, \\\n",
    "    temp_fitness, \\\n",
    "    temp_fitness_curve = mlrose_hiive.simulated_annealing(problem=temp_problem,\n",
    "                                                     max_attempts=sa_parameters[\"max_attempts\"],\n",
    "                                                     schedule=sa_parameters[\"schedule\"], curve=True,\n",
    "                                                     random_state=int(np.round(time.time())),\n",
    "                                                     return_results=True)\n",
    "    temp_end_time = time.time()\n",
    "    temp_elapsed_time = temp_end_time - temp_start_time\n",
    "    time_df.loc[iter_num, \"SA\"] = temp_elapsed_time\n",
    "    count_df.loc[iter_num, \"SA\"] = temp_problem.counter"
   ]
  },
  {
   "cell_type": "code",
   "execution_count": null,
   "metadata": {},
   "outputs": [],
   "source": [
    "def get_ga(time_df, count_df, iter_num, ga_parameter, prob_name):\n",
    "    temp_problem = mlrose_hiive.generators.MaxKColorGenerator.generate(seed=int(np.round(time.time())), \n",
    "                                                                       number_of_nodes=iter_num,\n",
    "                                                                       maximize=True)\n",
    "    temp_start_time = time.time()\n",
    "\n",
    "    temp_state, \\\n",
    "    temp_fitness, \\\n",
    "    temp_fitness_curve = mlrose_hiive.genetic_alg(problem=temp_problem,\n",
    "                                                     max_attempts=ga_parameters[\"max_attempts\"], curve=True,\n",
    "                                                     pop_size=ga_parameters[\"pop_size\"],\n",
    "                                                     mutation_prob=ga_parameters[\"mutation_prob\"],\n",
    "                                                     random_state=int(np.round(time.time())),\n",
    "                                                     return_results=True)\n",
    "    temp_end_time = time.time()\n",
    "    temp_elapsed_time = temp_end_time - temp_start_time\n",
    "    time_df.loc[iter_num, \"GA\"] = temp_elapsed_time\n",
    "    count_df.loc[iter_num, \"GA\"] = temp_problem.counter"
   ]
  },
  {
   "cell_type": "code",
   "execution_count": null,
   "metadata": {},
   "outputs": [],
   "source": [
    "def get_mimic(time_df, count_df, iter_num, mimic_parameters, prob_name):\n",
    "    temp_problem = mlrose_hiive.generators.MaxKColorGenerator.generate(seed=int(np.round(time.time())), \n",
    "                                                                       number_of_nodes=iter_num,\n",
    "                                                                       maximize=True)\n",
    "\n",
    "    temp_start_time = time.time()\n",
    "\n",
    "    temp_state, \\\n",
    "    temp_fitness, \\\n",
    "    temp_fitness_curve = mlrose_hiive.mimic(problem=temp_problem,\n",
    "                                               max_attempts=mimic_parameters[\"max_attempts\"], curve=True,\n",
    "                                               random_state=int(np.round(time.time())),\n",
    "                                               pop_size=mimic_parameters[\"pop_size\"],\n",
    "                                               keep_pct=mimic_parameters[\"keep_pct\"], noise=0.05,\n",
    "                                               return_results=True)\n",
    "    temp_end_time = time.time()\n",
    "    temp_elapsed_time = temp_end_time - temp_start_time\n",
    "    time_df.loc[iter_num, \"MIMIC\"] = temp_elapsed_time\n",
    "    count_df.loc[iter_num, \"MIMIC\"] = temp_problem.counter"
   ]
  },
  {
   "cell_type": "code",
   "execution_count": null,
   "metadata": {},
   "outputs": [],
   "source": []
  },
  {
   "cell_type": "code",
   "execution_count": null,
   "metadata": {},
   "outputs": [],
   "source": [
    "temp_problem, _folder = utl.determine_problem(prob_name=problem_name.lower(), size=\"l\", maximize=True,\n",
    "                                          SEED=int(np.round(time.time())))\n",
    "best_parameters = utl.read_parameters_from_file(folder=_folder, cv=2, size=\"l\", change_pop=False,\n",
    "                                            reset_pop=False)"
   ]
  },
  {
   "cell_type": "code",
   "execution_count": null,
   "metadata": {},
   "outputs": [],
   "source": [
    "best_parameters"
   ]
  },
  {
   "cell_type": "code",
   "execution_count": null,
   "metadata": {},
   "outputs": [],
   "source": [
    "iteration_list = np.arange(10, 101, 10).astype(int).tolist()\n",
    "\n",
    "best_parameters = utl.read_parameters_from_file(folder=_folder, cv=2, size=\"l\", change_pop=False,\n",
    "                                            reset_pop=False)\n",
    "rhc_parameters = best_parameters[\"RHC\"]\n",
    "sa_parameters = best_parameters[\"SA\"]\n",
    "ga_parameters = best_parameters[\"GA\"]\n",
    "mimic_parameters = best_parameters[\"MIMIC\"]\n",
    "times_df = pd.DataFrame(columns=[\"RHC\", \"SA\", \"GA\", \"MIMIC\"], index=iteration_list, \n",
    "                        data=np.zeros(shape=(len(iteration_list), 4)))\n",
    "count_df = pd.DataFrame(columns=[\"RHC\", \"SA\", \"GA\", \"MIMIC\"], index=iteration_list, \n",
    "                        data=np.zeros(shape=(len(iteration_list), 4)))\n"
   ]
  },
  {
   "cell_type": "code",
   "execution_count": null,
   "metadata": {},
   "outputs": [],
   "source": [
    "for _iter in iteration_list:\n",
    "    print(f\"Current Iteration: {_iter}\")\n",
    "    get_rhc(times_df, count_df, _iter, rhc_parameters, problem_name)\n",
    "    get_sa(times_df, count_df, _iter, sa_parameters, problem_name)\n",
    "    get_ga(times_df, count_df, _iter, ga_parameters, problem_name)\n",
    "    get_mimic(times_df, count_df, _iter, mimic_parameters, problem_name)\n",
    "    "
   ]
  },
  {
   "cell_type": "code",
   "execution_count": null,
   "metadata": {},
   "outputs": [],
   "source": [
    "with open(f\"{os.getcwd()}/{folder}/Times_df.pkl\", \"wb\") as f:\n",
    "    pickle.dump(times_df, f)\n",
    "    f.close()\n",
    "\n",
    "with open(f\"{os.getcwd()}/{folder}/Eval_Calls_df.pkl\", \"wb\") as f:\n",
    "    pickle.dump(count_df, f)\n",
    "    f.close()"
   ]
  },
  {
   "cell_type": "code",
   "execution_count": null,
   "metadata": {},
   "outputs": [],
   "source": []
  },
  {
   "cell_type": "code",
   "execution_count": 3,
   "metadata": {},
   "outputs": [],
   "source": [
    "with open(f\"{os.getcwd()}/{folder}/Eval_Call_and_Times.pkl\", \"rb\") as f:\n",
    "    results_object = pickle.load(f)\n",
    "    f.close()\n",
    "count_df = results_object[\"Count_df\"]\n",
    "times_df = results_object[\"Times_df\"]"
   ]
  },
  {
   "cell_type": "code",
   "execution_count": 4,
   "metadata": {},
   "outputs": [],
   "source": [
    "utl.plot_count(count_df, \"KColors\", \"Problem Size\", \"Function Evaluations\", \n",
    "               f\"{problem_name}\\nFunction Evaluations Vs. Problem Size\",\n",
    "              use_log_y=True)\n",
    "utl.plot_count(times_df, \"KColors\", \"Problem Size\", \"Runtime\", \n",
    "               f\"{problem_name}\\nRun Times Vs. Problem Size\",\n",
    "              use_log_y=True, f_name=\"_Times_\")"
   ]
  },
  {
   "cell_type": "code",
   "execution_count": null,
   "metadata": {},
   "outputs": [],
   "source": [
    "times_df.plot()"
   ]
  },
  {
   "cell_type": "code",
   "execution_count": null,
   "metadata": {},
   "outputs": [],
   "source": [
    "results = {\"Count_df\": count_df, \"Times_df\": times_df}"
   ]
  },
  {
   "cell_type": "code",
   "execution_count": null,
   "metadata": {},
   "outputs": [],
   "source": [
    "results"
   ]
  },
  {
   "cell_type": "code",
   "execution_count": null,
   "metadata": {},
   "outputs": [],
   "source": [
    "with open(f\"{os.getcwd()}/{folder}Eval_Call_and_Times.pkl\", \"wb\") as f:\n",
    "    pickle.dump(results, f)\n",
    "    f.close()"
   ]
  },
  {
   "cell_type": "code",
   "execution_count": null,
   "metadata": {},
   "outputs": [],
   "source": []
  }
 ],
 "metadata": {
  "kernelspec": {
   "display_name": "Python 3",
   "language": "python",
   "name": "python3"
  },
  "language_info": {
   "codemirror_mode": {
    "name": "ipython",
    "version": 3
   },
   "file_extension": ".py",
   "mimetype": "text/x-python",
   "name": "python",
   "nbconvert_exporter": "python",
   "pygments_lexer": "ipython3",
   "version": "3.7.9"
  },
  "toc": {
   "base_numbering": 1,
   "nav_menu": {},
   "number_sections": true,
   "sideBar": true,
   "skip_h1_title": false,
   "title_cell": "Table of Contents",
   "title_sidebar": "Contents",
   "toc_cell": false,
   "toc_position": {},
   "toc_section_display": true,
   "toc_window_display": false
  },
  "varInspector": {
   "cols": {
    "lenName": 16,
    "lenType": 16,
    "lenVar": 40
   },
   "kernels_config": {
    "python": {
     "delete_cmd_postfix": "",
     "delete_cmd_prefix": "del ",
     "library": "var_list.py",
     "varRefreshCmd": "print(var_dic_list())"
    },
    "r": {
     "delete_cmd_postfix": ") ",
     "delete_cmd_prefix": "rm(",
     "library": "var_list.r",
     "varRefreshCmd": "cat(var_dic_list()) "
    }
   },
   "position": {
    "height": "304px",
    "left": "1546px",
    "right": "20px",
    "top": "119px",
    "width": "354px"
   },
   "types_to_exclude": [
    "module",
    "function",
    "builtin_function_or_method",
    "instance",
    "_Feature"
   ],
   "window_display": false
  }
 },
 "nbformat": 4,
 "nbformat_minor": 4
}
