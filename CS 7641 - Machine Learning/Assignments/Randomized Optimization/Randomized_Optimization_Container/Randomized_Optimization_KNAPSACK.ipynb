{
 "cells": [
  {
   "cell_type": "code",
   "execution_count": 2,
   "metadata": {},
   "outputs": [
    {
     "data": {
      "text/plain": [
       "<Figure size 1600x1200 with 0 Axes>"
      ]
     },
     "metadata": {},
     "output_type": "display_data"
    }
   ],
   "source": [
    "import numpy as np\n",
    "import time\n",
    "import pandas as pd\n",
    "import matplotlib.pyplot as plt\n",
    "import mlrose_hiive\n",
    "import seaborn as sns\n",
    "import ro_ml_util as utl\n",
    "import os\n",
    "import pickle\n",
    "import glob\n",
    "\n",
    "plt.style.use(\"ggplot\")\n",
    "folder = \"Knapsack/\"\n",
    "\n",
    "SEED=42\n",
    "\n",
    "n_iterations = np.arange(1, 201, 1)\n",
    "prob_size = \"XL\"\n",
    "verbose = True\n",
    "problem_name = \"KnapSack\""
   ]
  },
  {
   "cell_type": "code",
   "execution_count": 2,
   "metadata": {},
   "outputs": [
    {
     "name": "stdout",
     "output_type": "stream",
     "text": [
      "C:\\Users\\joshu\\OneDrive - Georgia Institute of Technology\\Georgia-Tech\\CS 7641 - Machine Learning\\Assignments\\Randomized Optimization\\Knapsack/ folder already exists.\n"
     ]
    }
   ],
   "source": [
    "utl.check_folder(folder)"
   ]
  },
  {
   "cell_type": "markdown",
   "metadata": {},
   "source": [
    "# Knapsack"
   ]
  },
  {
   "cell_type": "code",
   "execution_count": 3,
   "metadata": {},
   "outputs": [],
   "source": [
    "iteration_list = np.concatenate((10 ** np.arange(1, 4, 1), (10 ** np.arange(1, 4, 1)) * 5)).tolist()\n",
    "\n",
    "rhc_params = {\"restart_list\": (2 ** np.arange(1, 9, 1)).tolist(),\n",
    "              \"iterations\": (2 ** np.arange(1, 9, 1)).tolist()}\n",
    "\n",
    "sa_params = {\"temperature_list\": (2 ** np.arange(1, 13, 1)).tolist(),\n",
    "             \"iterations\": (2 ** np.arange(1, 9, 1)).tolist()}\n",
    "\n",
    "ga_params = {\"population_sizes\": np.arange(25, 401, 25).tolist(),\n",
    "             \"iterations\": (2 ** np.arange(1, 9, 1)).tolist(),\n",
    "             \"mutation_rates\": np.round(np.arange(0.45, 0.91, 0.05), 2).tolist()}\n",
    "\n",
    "mimic_params = {\"population_sizes\": np.arange(2, 61, 2).tolist(),\n",
    "                \"keep_percent_list\": np.round(np.arange(0.1, 0.51, 0.05), 2).tolist(),\n",
    "                \"iterations\": (2 ** np.arange(1, 9, 1)).tolist()}"
   ]
  },
  {
   "cell_type": "code",
   "execution_count": null,
   "metadata": {},
   "outputs": [],
   "source": [
    "utl.run_optimization_tests(prob_name=\"knapsack\", parameters={\"RHC\": rhc_params, \"SA\": sa_params,\n",
    "                                                             \"GA\": ga_params, \"MIMIC\": mimic_params},\n",
    "                           size=\"m\", iterations=iteration_list, maximize=True, gridsearch=True,\n",
    "                           gen_curves=True, cv=2, max_attempts=(2 ** np.arange(1, 8, 1)).tolist())\n"
   ]
  },
  {
   "cell_type": "markdown",
   "metadata": {},
   "source": [
    "## Run with gridsearch=False"
   ]
  },
  {
   "cell_type": "code",
   "execution_count": null,
   "metadata": {},
   "outputs": [],
   "source": [
    "problem, folder = utl.determine_problem(prob_name=problem_name, size=\"l\", maximize=True, SEED=42)"
   ]
  },
  {
   "cell_type": "code",
   "execution_count": null,
   "metadata": {},
   "outputs": [],
   "source": [
    "utl.run_optimization_tests(prob_name=problem_name, parameters={\"RHC\": rhc_params, \"SA\": sa_params,\n",
    "                                                             \"GA\": ga_params, \"MIMIC\": mimic_params},\n",
    "                           size=\"l\", iterations=iteration_list, maximize=True, gridsearch=False,\n",
    "                           gen_curves=True, cv=2, max_attempts=(2 ** np.arange(1, 8, 1)).tolist(), \n",
    "                           change_pop=False, reset_pop=False)"
   ]
  },
  {
   "cell_type": "markdown",
   "metadata": {},
   "source": [
    "# Random Hill Climb"
   ]
  },
  {
   "cell_type": "code",
   "execution_count": 5,
   "metadata": {},
   "outputs": [
    {
     "name": "stdout",
     "output_type": "stream",
     "text": [
      "\n"
     ]
    }
   ],
   "source": [
    "problem, folder = utl.determine_problem(prob_name=problem_name, size=\"m\", maximize=True, SEED=42)\n",
    "\n",
    "with open(f\"{os.getcwd()}/{folder}/All_RHC_Results.pkl\", \"rb\") as input_file:\n",
    "    data = pickle.load(input_file)\n",
    "    input_file.close()\n",
    "\n",
    "utl.plot_discrete(all_results=data, folder=folder, prob_name=problem_name, alg_name=\"RHC\")\n",
    "print()"
   ]
  },
  {
   "cell_type": "code",
   "execution_count": 6,
   "metadata": {},
   "outputs": [
    {
     "data": {
      "text/plain": [
       "{'s': {'Fitness': array([572., 522., 494., 582., 563.]),\n",
       "  'Curve': array([[255., 345., 357., 295., 335.],\n",
       "         [256., 346., 357., 296., 338.],\n",
       "         [256., 352., 357., 308., 338.],\n",
       "         ...,\n",
       "         [572.,   0., 494., 582., 563.],\n",
       "         [572.,   0., 494., 582., 563.],\n",
       "         [572.,   0., 494., 582., 563.]]),\n",
       "  'RunTime': array([1.16505194, 1.17036581, 1.21234202, 1.22132301, 1.18300033]),\n",
       "  'Iterations': 0,\n",
       "  'Alt_runtime': array([[0.0061872, 0.0059123, 0.0060375, 0.0063697, 0.0063384],\n",
       "         [0.0056336, 0.0056939, 0.0059704, 0.0060104, 0.0061536],\n",
       "         [0.0056045, 0.0056745, 0.0059511, 0.0060523, 0.0059615],\n",
       "         ...,\n",
       "         [0.0025169, 0.002321 , 0.002524 , 0.0024425, 0.0011299],\n",
       "         [0.0023855, 0.0023258, 0.0025054, 0.0023304, 0.0011683],\n",
       "         [0.0026103, 0.0023027, 0.0024827, 0.0023878, 0.0011293]]),\n",
       "  'Avg_Iterations': array([[ 0.2,  0.4,  0.6, ...,  0.4,  0.4,  0.2],\n",
       "         [ 0.6,  1. ,  0.8, ...,  0.6,  0.4,  0.4],\n",
       "         [ 1.2,  1.8,  1.2, ...,  0.6,  0.8,  1.2],\n",
       "         ...,\n",
       "         [74.6, 80.8, 56.6, ..., 31. , 32.2, 56.8],\n",
       "         [75.2, 81.6, 57.2, ..., 31.2, 32.8, 57.4],\n",
       "         [75.8, 82.4, 57.8, ..., 31.4, 33.4, 58. ]]),\n",
       "  'All_Iterations': array([array([[  0.,   1.,   0., ...,   0.,   1.,   0.],\n",
       "         [  0.,   2.,   1., ...,   1.,   0.,   0.],\n",
       "         [  0.,   3.,   2., ...,   0.,   0.,   1.],\n",
       "         ...,\n",
       "         [131.,   0.,  76., ...,   0.,   1.,  89.],\n",
       "         [132.,   0.,  77., ...,   0.,   2.,  90.],\n",
       "         [133.,   0.,  78., ...,   0.,   3.,  91.]]),\n",
       "         array([[  0.,   0.,   1., ...,   0.,   0.,   0.],\n",
       "         [  1.,   0.,   2., ...,   0.,   1.,   1.],\n",
       "         [  2.,   0.,   3., ...,   1.,   2.,   2.],\n",
       "         ...,\n",
       "         [148.,  26., 126., ...,   0.,   0., 128.],\n",
       "         [149.,  27., 127., ...,   0.,   0., 129.],\n",
       "         [150.,  28., 128., ...,   0.,   0., 130.]]),\n",
       "         array([[  0.,   0.,   1., ...,   1.,   0.,   1.],\n",
       "         [  0.,   0.,   0., ...,   0.,   0.,   0.],\n",
       "         [  1.,   1.,   1., ...,   1.,   1.,   0.],\n",
       "         ...,\n",
       "         [  0., 126.,   0., ...,   0.,   0.,  67.],\n",
       "         [  0., 127.,   0., ...,   0.,   0.,  68.],\n",
       "         [  0., 128.,   0., ...,   0.,   0.,  69.]]),\n",
       "         array([[  0.,   1.,   0., ...,   1.,   1.,   0.],\n",
       "         [  0.,   2.,   1., ...,   2.,   0.,   0.],\n",
       "         [  0.,   3.,   0., ...,   0.,   1.,   1.],\n",
       "         ...,\n",
       "         [ 94., 137.,  81., ..., 155.,  92.,   0.],\n",
       "         [ 95., 138.,  82., ..., 156.,  93.,   0.],\n",
       "         [ 96., 139.,  83., ..., 157.,  94.,   0.]]),\n",
       "         array([[  1.,   0.,   1., ...,   0.,   0.,   0.],\n",
       "         [  2.,   1.,   0., ...,   0.,   1.,   1.],\n",
       "         [  3.,   2.,   0., ...,   1.,   0.,   2.],\n",
       "         ...,\n",
       "         [  0., 115.,   0., ...,   0.,  68.,   0.],\n",
       "         [  0., 116.,   0., ...,   0.,  69.,   0.],\n",
       "         [  0., 117.,   0., ...,   0.,  70.,   0.]])], dtype=object),\n",
       "  'Avg_runtime': array([0.00616902, 0.00589238, 0.00584878, 0.00571552, 0.0057425 ,\n",
       "         0.00564666, 0.00559916, 0.00556246, 0.0055499 , 0.00546316,\n",
       "         0.00547066, 0.00544584, 0.00543912, 0.00539418, 0.00547154,\n",
       "         0.0054216 , 0.00539428, 0.00551872, 0.00534854, 0.00536072,\n",
       "         0.00536246, 0.00523776, 0.00533734, 0.00526906, 0.00521184,\n",
       "         0.00522904, 0.00518078, 0.00512202, 0.0051329 , 0.00508938,\n",
       "         0.00511138, 0.00510764, 0.00505214, 0.0050672 , 0.00506398,\n",
       "         0.00499098, 0.00501888, 0.00491334, 0.00493528, 0.0049278 ,\n",
       "         0.00489724, 0.00487272, 0.00488074, 0.0047767 , 0.0048711 ,\n",
       "         0.00480028, 0.00479714, 0.00482634, 0.00477106, 0.00465134,\n",
       "         0.00470796, 0.00470034, 0.0047588 , 0.00467618, 0.00465852,\n",
       "         0.00460376, 0.00466418, 0.00455548, 0.00462388, 0.00465914,\n",
       "         0.00456368, 0.0046002 , 0.00457564, 0.00456632, 0.00456158,\n",
       "         0.00462832, 0.00452776, 0.00457506, 0.00456078, 0.00460518,\n",
       "         0.00453474, 0.00458666, 0.00463774, 0.00463508, 0.00465894,\n",
       "         0.00463244, 0.00459044, 0.00449272, 0.00454252, 0.00453402,\n",
       "         0.00451104, 0.0045088 , 0.00456634, 0.00449926, 0.00443672,\n",
       "         0.0044774 , 0.0045383 , 0.00456758, 0.00449162, 0.00469836,\n",
       "         0.00461126, 0.00452684, 0.00452832, 0.00455768, 0.0045749 ,\n",
       "         0.0044902 , 0.00448828, 0.0045823 , 0.00451784, 0.00445268,\n",
       "         0.00448652, 0.00460554, 0.00455302, 0.004515  , 0.00457754,\n",
       "         0.00463302, 0.00450378, 0.00459648, 0.00462988, 0.00463874,\n",
       "         0.00449936, 0.00457248, 0.00467102, 0.00454458, 0.0044792 ,\n",
       "         0.0045735 , 0.00457538, 0.00452102, 0.00452822, 0.00451402,\n",
       "         0.00453288, 0.00452824, 0.00455104, 0.00453556, 0.00449296,\n",
       "         0.0044873 , 0.00452978, 0.00469098, 0.00466586, 0.00454778,\n",
       "         0.00459282, 0.00457194, 0.0045704 , 0.004554  , 0.00456352,\n",
       "         0.00455764, 0.00454262, 0.00451132, 0.00452356, 0.00453484,\n",
       "         0.00456342, 0.00456736, 0.00455382, 0.00458746, 0.00454776,\n",
       "         0.00449856, 0.00453742, 0.00461   , 0.00447602, 0.00462218,\n",
       "         0.0045781 , 0.00456886, 0.00449768, 0.00454814, 0.0045403 ,\n",
       "         0.00448538, 0.0045364 , 0.00459322, 0.00455196, 0.00451408,\n",
       "         0.00454286, 0.00461404, 0.00451506, 0.004536  , 0.0045759 ,\n",
       "         0.00457318, 0.00454958, 0.00452576, 0.00456296, 0.00449524,\n",
       "         0.0044593 , 0.00443404, 0.00446814, 0.00447588, 0.00450152,\n",
       "         0.0044629 , 0.00447514, 0.00444088, 0.0044114 , 0.00443912,\n",
       "         0.00445112, 0.0044509 , 0.0044268 , 0.00444572, 0.00445932,\n",
       "         0.00445148, 0.00441238, 0.0044399 , 0.00447988, 0.00441666,\n",
       "         0.00440416, 0.0044512 , 0.00445658, 0.00432818, 0.00439644,\n",
       "         0.0043482 , 0.004299  , 0.00429942, 0.0043208 , 0.00430536,\n",
       "         0.0042229 , 0.00423122, 0.0043253 , 0.00417374, 0.00414294,\n",
       "         0.00417256, 0.00417974, 0.00411562, 0.00403944, 0.00399658,\n",
       "         0.00403996, 0.0038979 , 0.00378452, 0.00377118, 0.00382716,\n",
       "         0.00371996, 0.00368966, 0.00367068, 0.0036433 , 0.00352992,\n",
       "         0.00351016, 0.00348454, 0.00345544, 0.00338752, 0.00332326,\n",
       "         0.00328198, 0.00321284, 0.003138  , 0.0031276 , 0.00307626,\n",
       "         0.00302232, 0.00295868, 0.0029289 , 0.00287822, 0.00293538,\n",
       "         0.00282086, 0.00282186, 0.00279064, 0.00271152, 0.00268222,\n",
       "         0.00266674, 0.00265258, 0.00260512, 0.00257086, 0.00257662,\n",
       "         0.0025145 , 0.00242996, 0.00241814, 0.00241218, 0.0023652 ,\n",
       "         0.0023152 , 0.00228154, 0.00224936, 0.00218686, 0.00214308,\n",
       "         0.00218256])},\n",
       " 'm': {'Fitness': array([674., 714., 739., 682., 753.]),\n",
       "  'Curve': array([[396., 572., 515., 353., 405.],\n",
       "         [416., 572., 520., 361., 411.],\n",
       "         [416., 572., 520., 371., 411.],\n",
       "         ...,\n",
       "         [674.,   0., 739., 682., 753.],\n",
       "         [674.,   0., 739., 682., 753.],\n",
       "         [674.,   0., 739., 682., 753.]]),\n",
       "  'RunTime': array([1.57901216, 1.53808904, 1.61000514, 1.49440193, 1.72099948]),\n",
       "  'Iterations': 0,\n",
       "  'Alt_runtime': array([[0.007598 , 0.0075557, 0.0077542, 0.007397 , 0.0082563],\n",
       "         [0.0072024, 0.0074279, 0.0072176, 0.007079 , 0.0078116],\n",
       "         [0.0075671, 0.0069209, 0.0072201, 0.0070304, 0.0076109],\n",
       "         ...,\n",
       "         [0.0050643, 0.0048716, 0.0051166, 0.0046007, 0.0052901],\n",
       "         [0.0048978, 0.004672 , 0.0049939, 0.0045737, 0.0053873],\n",
       "         [0.0050094, 0.0046296, 0.0050589, 0.0045801, 0.0051108]]),\n",
       "  'Avg_Iterations': array([[  0.2,   0.8,   0.4, ...,   0.2,   0.6,   0.2],\n",
       "         [  0.6,   0.8,   1. , ...,   0.6,   1.2,   0.8],\n",
       "         [  1. ,   0.2,   0.8, ...,   1. ,   1.6,   0.8],\n",
       "         ...,\n",
       "         [140.4,  87.4,  58.6, ..., 103.2,  55. , 171.4],\n",
       "         [141.4,  88.2,  59.2, ..., 104.2,  55.6, 172.4],\n",
       "         [142.4,  89. ,  59.8, ..., 105.2,  56.2, 134.8]]),\n",
       "  'All_Iterations': array([array([[  1.,   1.,   0., ...,   0.,   1.,   0.],\n",
       "         [  0.,   2.,   0., ...,   1.,   2.,   0.],\n",
       "         [  0.,   0.,   1., ...,   0.,   3.,   0.],\n",
       "         ...,\n",
       "         [186., 143., 112., ...,  29.,  88., 184.],\n",
       "         [187., 144., 113., ...,  30.,  89., 185.],\n",
       "         [188., 145., 114., ...,  31.,  90., 186.]]),\n",
       "         array([[  0.,   1.,   1., ...,   0.,   0.,   0.],\n",
       "         [  1.,   0.,   2., ...,   0.,   1.,   0.],\n",
       "         [  0.,   1.,   3., ...,   1.,   2.,   1.],\n",
       "         ...,\n",
       "         [107.,  88., 164., ..., 140.,   1., 190.],\n",
       "         [108.,  89., 165., ..., 141.,   2., 191.],\n",
       "         [109.,  90., 166., ..., 142.,   3., 192.]]),\n",
       "         array([[  0.,   0.,   0., ...,   0.,   1.,   1.],\n",
       "         [  1.,   0.,   0., ...,   0.,   0.,   2.],\n",
       "         [  2.,   0.,   0., ...,   1.,   1.,   3.],\n",
       "         ...,\n",
       "         [138.,  91.,  17., ...,   7.,   0., 161.],\n",
       "         [139.,  92.,  18., ...,   8.,   0., 162.],\n",
       "         [140.,  93.,  19., ...,   9.,   0., 163.]]),\n",
       "         array([[  0.,   1.,   1., ...,   1.,   1.,   0.],\n",
       "         [  1.,   2.,   2., ...,   2.,   2.,   1.],\n",
       "         [  2.,   0.,   0., ...,   3.,   0.,   0.],\n",
       "         ...,\n",
       "         [151., 115.,   0., ..., 189.,   0., 131.],\n",
       "         [152., 116.,   0., ..., 190.,   0., 132.],\n",
       "         [153., 117.,   0., ..., 191.,   0., 133.]]),\n",
       "         array([[  0.,   1.,   0., ...,   0.,   0.,   0.],\n",
       "         [  0.,   0.,   1., ...,   0.,   1.,   1.],\n",
       "         [  1.,   0.,   0., ...,   0.,   2.,   0.],\n",
       "         ...,\n",
       "         [120.,   0.,   0., ..., 151., 186., 191.],\n",
       "         [121.,   0.,   0., ..., 152., 187., 192.],\n",
       "         [122.,   0.,   0., ..., 153., 188.,   0.]])], dtype=object),\n",
       "  'Avg_runtime': array([0.00771224, 0.0073477 , 0.00726988, 0.00701684, 0.00711984,\n",
       "         0.00719164, 0.00696458, 0.00693566, 0.0070169 , 0.00699074,\n",
       "         0.00687042, 0.00688486, 0.0068935 , 0.00683574, 0.00669268,\n",
       "         0.00681706, 0.0067854 , 0.00681726, 0.00693702, 0.00672924,\n",
       "         0.00669964, 0.00676392, 0.00668084, 0.00660134, 0.00662626,\n",
       "         0.0065954 , 0.00660674, 0.00690908, 0.00659504, 0.00669642,\n",
       "         0.00658434, 0.00637854, 0.00665446, 0.00649206, 0.00658806,\n",
       "         0.00649734, 0.00650458, 0.00657376, 0.00650202, 0.00656578,\n",
       "         0.00631396, 0.00636472, 0.00631378, 0.00635304, 0.00650108,\n",
       "         0.00634414, 0.0062904 , 0.00613798, 0.00625468, 0.00623376,\n",
       "         0.0062253 , 0.00622758, 0.00627882, 0.00619772, 0.00624432,\n",
       "         0.00614116, 0.00612044, 0.00598452, 0.00609044, 0.0061026 ,\n",
       "         0.00604414, 0.00593338, 0.00599312, 0.00586128, 0.0059357 ,\n",
       "         0.00596642, 0.00582662, 0.00591058, 0.00589814, 0.0059015 ,\n",
       "         0.00587188, 0.00590916, 0.00576148, 0.00585576, 0.00576192,\n",
       "         0.00580856, 0.00570188, 0.00573088, 0.00570004, 0.00582354,\n",
       "         0.0057423 , 0.00563084, 0.0056702 , 0.00569816, 0.00561968,\n",
       "         0.00568534, 0.0058974 , 0.00570132, 0.00560314, 0.00568726,\n",
       "         0.00563326, 0.00563168, 0.0056421 , 0.0055934 , 0.00572126,\n",
       "         0.00566786, 0.00568814, 0.00568362, 0.00571636, 0.00575184,\n",
       "         0.00581268, 0.0057771 , 0.0056722 , 0.00557128, 0.00561748,\n",
       "         0.00563746, 0.00563242, 0.0057929 , 0.0056739 , 0.0056451 ,\n",
       "         0.00564522, 0.00581838, 0.00571262, 0.00566524, 0.00558348,\n",
       "         0.00563306, 0.0055844 , 0.00556686, 0.00566932, 0.0056903 ,\n",
       "         0.00553652, 0.00557368, 0.00568544, 0.00561106, 0.00561514,\n",
       "         0.00568442, 0.00560658, 0.0057046 , 0.00562714, 0.00563918,\n",
       "         0.00562792, 0.00563798, 0.00561318, 0.00556688, 0.00561986,\n",
       "         0.00560542, 0.00564216, 0.00560594, 0.0055898 , 0.00554914,\n",
       "         0.00564708, 0.0056277 , 0.0058804 , 0.00564066, 0.00560706,\n",
       "         0.00568224, 0.00564438, 0.00568032, 0.00560248, 0.00570486,\n",
       "         0.005671  , 0.00566122, 0.00565972, 0.00570428, 0.00563306,\n",
       "         0.00559352, 0.00558684, 0.00567778, 0.0056383 , 0.00569664,\n",
       "         0.00548872, 0.00558506, 0.00565884, 0.00564902, 0.00562648,\n",
       "         0.00561878, 0.0056642 , 0.00555078, 0.0055767 , 0.00564078,\n",
       "         0.0056279 , 0.00568526, 0.0056275 , 0.00554596, 0.005743  ,\n",
       "         0.00575464, 0.00554412, 0.00551722, 0.00554444, 0.00550252,\n",
       "         0.00561648, 0.00553826, 0.0055822 , 0.00555972, 0.00557122,\n",
       "         0.0056307 , 0.00559128, 0.00559298, 0.00572878, 0.00565684,\n",
       "         0.00557298, 0.0055697 , 0.00563268, 0.0057853 , 0.00568106,\n",
       "         0.00558668, 0.00558266, 0.00557904, 0.00549268, 0.00548912,\n",
       "         0.0055956 , 0.00554282, 0.0056928 , 0.00551648, 0.00551956,\n",
       "         0.0056198 , 0.00563934, 0.00560292, 0.00563972, 0.00560298,\n",
       "         0.00559916, 0.00563256, 0.00562606, 0.00570074, 0.00576346,\n",
       "         0.00555546, 0.0055728 , 0.00564052, 0.00565776, 0.00571786,\n",
       "         0.00560762, 0.00557342, 0.00560262, 0.0055647 , 0.00560204,\n",
       "         0.00557814, 0.00561286, 0.00563338, 0.00551832, 0.0055553 ,\n",
       "         0.00553948, 0.00563912, 0.00559156, 0.00550014, 0.00562236,\n",
       "         0.00547666, 0.0055058 , 0.00545714, 0.005489  , 0.0053711 ,\n",
       "         0.0053986 , 0.00538   , 0.00534288, 0.00536894, 0.0052634 ,\n",
       "         0.00519034, 0.0051905 , 0.0052008 , 0.00517516, 0.0051503 ,\n",
       "         0.00509532, 0.00500676, 0.00494672, 0.00498866, 0.00490494,\n",
       "         0.00487776])},\n",
       " 'l': {'Fitness': array([846., 887., 887., 856., 903.]),\n",
       "  'Curve': array([[611., 570., 570., 495., 565.],\n",
       "         [625., 570., 570., 501., 565.],\n",
       "         [625., 570., 570., 501., 565.],\n",
       "         ...,\n",
       "         [  0., 887., 887., 856., 903.],\n",
       "         [  0., 887., 887., 856., 903.],\n",
       "         [  0., 887., 887., 856., 903.]]),\n",
       "  'RunTime': array([0.91292644, 0.98052502, 0.97301579, 0.9419961 , 0.92100072]),\n",
       "  'Iterations': 0,\n",
       "  'Alt_runtime': array([[0.0045613, 0.0048825, 0.0048111, 0.0047627, 0.0048734],\n",
       "         [0.0042906, 0.0048386, 0.0048469, 0.0047347, 0.0045197],\n",
       "         [0.0042881, 0.0046204, 0.0047394, 0.0045312, 0.0045379],\n",
       "         ...,\n",
       "         [0.0015277, 0.0016423, 0.0016912, 0.00166  , 0.0015339],\n",
       "         [0.0015209, 0.0016388, 0.0016715, 0.0016711, 0.0014572],\n",
       "         [0.0014696, 0.0016323, 0.0015909, 0.0015981, 0.0014762]]),\n",
       "  'Avg_Iterations': array([[ 0.4,  0.2,  0.6, ...,  1. ,  0.4,  0.6],\n",
       "         [ 0.4,  0.4,  0.8, ...,  0.4,  0.8,  0.8],\n",
       "         [ 0.8,  0.4,  0.6, ...,  1. ,  1.6,  0.6],\n",
       "         ...,\n",
       "         [64.8, 21.4, 60. , ..., 34.8, 48. ,  9.6],\n",
       "         [65.6, 21.8, 60.6, ..., 35.2, 48.4,  9.8],\n",
       "         [66.4, 22.2, 61.2, ..., 35.6, 48.8, 10. ]]),\n",
       "  'All_Iterations': array([array([[ 1.,  1.,  1., ...,  1.,  0.,  1.],\n",
       "         [ 2.,  0.,  0., ...,  0.,  0.,  2.],\n",
       "         [ 3.,  0.,  0., ...,  1.,  1.,  3.],\n",
       "         ...,\n",
       "         [ 0., 68.,  0., ...,  0.,  0., 48.],\n",
       "         [ 0., 69.,  0., ...,  0.,  0., 49.],\n",
       "         [ 0., 70.,  0., ...,  0.,  0., 50.]]),\n",
       "         array([[  0.,   0.,   0., ...,   1.,   1.,   1.],\n",
       "         [  0.,   0.,   0., ...,   0.,   2.,   0.],\n",
       "         [  0.,   0.,   0., ...,   0.,   3.,   0.],\n",
       "         ...,\n",
       "         [ 78.,   0., 122., ...,  87., 120.,   0.],\n",
       "         [ 79.,   0., 123., ...,  88., 121.,   0.],\n",
       "         [ 80.,   0., 124., ...,  89., 122.,   0.]]),\n",
       "         array([[  0.,   0.,   0., ...,   1.,   1.,   1.],\n",
       "         [  0.,   0.,   0., ...,   0.,   2.,   0.],\n",
       "         [  0.,   0.,   0., ...,   0.,   3.,   0.],\n",
       "         ...,\n",
       "         [ 78.,   0., 122., ...,  87., 120.,   0.],\n",
       "         [ 79.,   0., 123., ...,  88., 121.,   0.],\n",
       "         [ 80.,   0., 124., ...,  89., 122.,   0.]]),\n",
       "         array([[  1.,   0.,   1., ...,   1.,   0.,   0.],\n",
       "         [  0.,   1.,   2., ...,   0.,   0.,   1.],\n",
       "         [  1.,   2.,   3., ...,   1.,   0.,   0.],\n",
       "         ...,\n",
       "         [106.,   0.,  56., ...,   0.,   0.,   0.],\n",
       "         [107.,   0.,  57., ...,   0.,   0.,   0.],\n",
       "         [108.,   0.,  58., ...,   0.,   0.,   0.]]),\n",
       "         array([[ 0.,  0.,  1., ...,  1.,  0.,  0.],\n",
       "         [ 0.,  1.,  2., ...,  2.,  0.,  1.],\n",
       "         [ 0.,  0.,  0., ...,  3.,  1.,  0.],\n",
       "         ...,\n",
       "         [62., 39.,  0., ...,  0.,  0.,  0.],\n",
       "         [63., 40.,  0., ...,  0.,  0.,  0.],\n",
       "         [64., 41.,  0., ...,  0.,  0.,  0.]])], dtype=object),\n",
       "  'Avg_runtime': array([0.0047782 , 0.0046461 , 0.0045434 , 0.0046113 , 0.00454134,\n",
       "         0.00456526, 0.00443796, 0.00441114, 0.00446482, 0.00451262,\n",
       "         0.00444252, 0.00441564, 0.00441792, 0.00433998, 0.00426496,\n",
       "         0.00428582, 0.00430854, 0.00434116, 0.00440762, 0.00434468,\n",
       "         0.00429122, 0.00426166, 0.00426454, 0.00426956, 0.0042834 ,\n",
       "         0.00430122, 0.00432664, 0.00426428, 0.00429332, 0.00433182,\n",
       "         0.00422544, 0.00416438, 0.0041974 , 0.00423132, 0.00419618,\n",
       "         0.00427174, 0.00414294, 0.00423372, 0.00414338, 0.0042133 ,\n",
       "         0.00417404, 0.00415594, 0.00436756, 0.00421196, 0.00409184,\n",
       "         0.0041088 , 0.00409338, 0.0040917 , 0.00404036, 0.00406608,\n",
       "         0.00409192, 0.0040147 , 0.00404454, 0.00407978, 0.00408364,\n",
       "         0.00402894, 0.00409436, 0.00400818, 0.00408978, 0.00400644,\n",
       "         0.0039515 , 0.00394754, 0.00398102, 0.00395168, 0.0039112 ,\n",
       "         0.00387206, 0.00387878, 0.00387756, 0.00385554, 0.0039136 ,\n",
       "         0.00388374, 0.00391028, 0.0039139 , 0.00395876, 0.0039488 ,\n",
       "         0.00390308, 0.0038139 , 0.00385288, 0.00379984, 0.0038334 ,\n",
       "         0.0037928 , 0.00378586, 0.00382496, 0.00373784, 0.00370286,\n",
       "         0.00373642, 0.0037464 , 0.00375732, 0.0037052 , 0.00377872,\n",
       "         0.00377184, 0.00371528, 0.00368666, 0.00370792, 0.00366774,\n",
       "         0.00366238, 0.00364284, 0.00369666, 0.0037375 , 0.00364378,\n",
       "         0.0036821 , 0.00366076, 0.00361784, 0.0036833 , 0.00372028,\n",
       "         0.0036638 , 0.00370996, 0.00374002, 0.00366974, 0.00368156,\n",
       "         0.00366528, 0.00364296, 0.00369768, 0.00366086, 0.0036276 ,\n",
       "         0.00365488, 0.00360336, 0.00356044, 0.00357346, 0.00357156,\n",
       "         0.0035781 , 0.00359186, 0.00359482, 0.00359038, 0.00355742,\n",
       "         0.00365354, 0.003638  , 0.00363902, 0.00359782, 0.00355228,\n",
       "         0.00354426, 0.00355024, 0.00355622, 0.00357914, 0.00353146,\n",
       "         0.0035474 , 0.00355634, 0.00349438, 0.00351152, 0.00357976,\n",
       "         0.00357406, 0.00358236, 0.0035253 , 0.00360156, 0.0035197 ,\n",
       "         0.00352956, 0.00353794, 0.00358544, 0.00361758, 0.0036362 ,\n",
       "         0.00356552, 0.00356198, 0.00355194, 0.0035379 , 0.00356896,\n",
       "         0.00353914, 0.00352412, 0.00354992, 0.00356644, 0.0036039 ,\n",
       "         0.00358582, 0.00358396, 0.00359482, 0.00361408, 0.00359612,\n",
       "         0.00357134, 0.00360836, 0.0035331 , 0.00348392, 0.00346952,\n",
       "         0.00352626, 0.0035923 , 0.00356692, 0.0036455 , 0.00358254,\n",
       "         0.0034845 , 0.00351794, 0.003485  , 0.00357302, 0.00349884,\n",
       "         0.00343992, 0.00345018, 0.00348098, 0.00340884, 0.00336094,\n",
       "         0.00335742, 0.0033132 , 0.00332504, 0.00332198, 0.0033235 ,\n",
       "         0.00327504, 0.00328936, 0.00331158, 0.0033294 , 0.0032508 ,\n",
       "         0.00320532, 0.0032302 , 0.00320044, 0.00318266, 0.00313744,\n",
       "         0.00315058, 0.0031648 , 0.00313968, 0.00305224, 0.00302338,\n",
       "         0.0029934 , 0.00298424, 0.00300514, 0.0030005 , 0.0029549 ,\n",
       "         0.00288256, 0.00281076, 0.00278624, 0.0027963 , 0.00271128,\n",
       "         0.00270662, 0.00268814, 0.00266498, 0.00260202, 0.0025556 ,\n",
       "         0.00249628, 0.0024692 , 0.00247416, 0.00244284, 0.00242274,\n",
       "         0.00242946, 0.00237812, 0.00229026, 0.00229638, 0.00226488,\n",
       "         0.002253  , 0.00228038, 0.00220848, 0.00220766, 0.0021647 ,\n",
       "         0.00211624, 0.0020583 , 0.0020934 , 0.00205002, 0.00197634,\n",
       "         0.00195344, 0.00195476, 0.00191116, 0.00188804, 0.00186836,\n",
       "         0.00183566, 0.00181504, 0.00178458, 0.00178854, 0.00172584,\n",
       "         0.00170852, 0.00164096, 0.00161966, 0.00161102, 0.0015919 ,\n",
       "         0.00155342])}}"
      ]
     },
     "execution_count": 6,
     "metadata": {},
     "output_type": "execute_result"
    }
   ],
   "source": [
    "data"
   ]
  },
  {
   "cell_type": "markdown",
   "metadata": {},
   "source": [
    "# Genetic Algorithm"
   ]
  },
  {
   "cell_type": "code",
   "execution_count": null,
   "metadata": {},
   "outputs": [],
   "source": [
    "problem, folder = utl.determine_problem(prob_name=problem_name, size=\"m\", maximize=True, SEED=42)\n",
    "\n",
    "with open(f\"{os.getcwd()}/{folder}/All_GA_Results.pkl\", \"rb\") as input_file:\n",
    "    data = pickle.load(input_file)\n",
    "    input_file.close()\n",
    "\n",
    "utl.plot_discrete(all_results=data, folder=folder, prob_name=problem_name, alg_name=\"GA\")\n",
    "print()"
   ]
  },
  {
   "cell_type": "markdown",
   "metadata": {},
   "source": [
    "# Simulated Annealing"
   ]
  },
  {
   "cell_type": "code",
   "execution_count": null,
   "metadata": {},
   "outputs": [],
   "source": [
    "problem, folder = utl.determine_problem(prob_name=problem_name, size=\"l\", maximize=True, SEED=42)\n",
    "\n",
    "with open(f\"{os.getcwd()}/{folder}/All_SA_Results.pkl\", \"rb\") as input_file:\n",
    "    data = pickle.load(input_file)\n",
    "    input_file.close()\n",
    "\n",
    "utl.plot_discrete(all_results=data, folder=folder, prob_name=problem_name, alg_name=\"SA\")\n",
    "print()"
   ]
  },
  {
   "cell_type": "markdown",
   "metadata": {},
   "source": [
    "# MIMIC"
   ]
  },
  {
   "cell_type": "code",
   "execution_count": null,
   "metadata": {},
   "outputs": [],
   "source": [
    "problem, folder = utl.determine_problem(prob_name=problem_name, size=\"m\", maximize=True, SEED=42)\n",
    "\n",
    "with open(f\"{os.getcwd()}/{folder}/All_MIMIC_Results.pkl\", \"rb\") as input_file:\n",
    "    data = pickle.load(input_file)\n",
    "    input_file.close()\n",
    "\n",
    "utl.plot_discrete(all_results=data, folder=folder, prob_name=problem_name, alg_name=\"MIMIC\")\n",
    "print()"
   ]
  },
  {
   "cell_type": "code",
   "execution_count": null,
   "metadata": {},
   "outputs": [],
   "source": [
    "def get_rhc(time_df, count_df, iter_num, rhc_parameters, prob_name):\n",
    "    temp_problem = mlrose_hiive.generators.MaxKColorGenerator.generate(seed=int(np.round(time.time())), \n",
    "                                                                       number_of_nodes=iter_num,\n",
    "                                                                       maximize=True)\n",
    "    temp_start_time = time.time()\n",
    "\n",
    "    temp_state, \\\n",
    "    temp_fitness, \\\n",
    "    temp_fitness_curve = mlrose_hiive.random_hill_climb(problem=temp_problem,\n",
    "                                                           max_attempts=rhc_parameters[\"max_attempts\"],\n",
    "                                                           restarts=rhc_parameters[\"restarts\"], curve=True,\n",
    "                                                           random_state=int(np.round(time.time())),\n",
    "                                                           return_results=True)\n",
    "    temp_end_time = time.time()\n",
    "    temp_elapsed_time = temp_end_time - temp_start_time\n",
    "    time_df.loc[iter_num, \"RHC\"] = temp_elapsed_time\n",
    "    count_df.loc[iter_num, \"RHC\"] = temp_problem.counter"
   ]
  },
  {
   "cell_type": "code",
   "execution_count": null,
   "metadata": {},
   "outputs": [],
   "source": [
    "def get_sa(time_df, count_df, iter_num, sa_parameter, prob_name):\n",
    "    temp_problem = mlrose_hiive.generators.MaxKColorGenerator.generate(seed=int(np.round(time.time())), \n",
    "                                                                       number_of_nodes=iter_num,\n",
    "                                                                       maximize=True)\n",
    "    temp_start_time = time.time()\n",
    "\n",
    "    temp_state, \\\n",
    "    temp_fitness, \\\n",
    "    temp_fitness_curve = mlrose_hiive.simulated_annealing(problem=temp_problem,\n",
    "                                                     max_attempts=sa_parameters[\"max_attempts\"],\n",
    "                                                     schedule=sa_parameters[\"schedule\"], curve=True,\n",
    "                                                     random_state=int(np.round(time.time())),\n",
    "                                                     return_results=True)\n",
    "    temp_end_time = time.time()\n",
    "    temp_elapsed_time = temp_end_time - temp_start_time\n",
    "    time_df.loc[iter_num, \"SA\"] = temp_elapsed_time\n",
    "    count_df.loc[iter_num, \"SA\"] = temp_problem.counter"
   ]
  },
  {
   "cell_type": "code",
   "execution_count": null,
   "metadata": {},
   "outputs": [],
   "source": [
    "def get_ga(time_df, count_df, iter_num, ga_parameter, prob_name):\n",
    "    temp_problem = mlrose_hiive.generators.MaxKColorGenerator.generate(seed=int(np.round(time.time())), \n",
    "                                                                       number_of_nodes=iter_num,\n",
    "                                                                       maximize=True)\n",
    "    temp_start_time = time.time()\n",
    "\n",
    "    temp_state, \\\n",
    "    temp_fitness, \\\n",
    "    temp_fitness_curve = mlrose_hiive.genetic_alg(problem=temp_problem,\n",
    "                                                     max_attempts=ga_parameters[\"max_attempts\"], curve=True,\n",
    "                                                     pop_size=ga_parameters[\"pop_size\"],\n",
    "                                                     mutation_prob=ga_parameters[\"mutation_prob\"],\n",
    "                                                     random_state=int(np.round(time.time())),\n",
    "                                                     return_results=True)\n",
    "    temp_end_time = time.time()\n",
    "    temp_elapsed_time = temp_end_time - temp_start_time\n",
    "    time_df.loc[iter_num, \"GA\"] = temp_elapsed_time\n",
    "    count_df.loc[iter_num, \"GA\"] = temp_problem.counter"
   ]
  },
  {
   "cell_type": "code",
   "execution_count": null,
   "metadata": {},
   "outputs": [],
   "source": [
    "def get_mimic(time_df, count_df, iter_num, mimic_parameters, prob_name):\n",
    "    temp_problem = mlrose_hiive.generators.MaxKColorGenerator.generate(seed=int(np.round(time.time())), \n",
    "                                                                       number_of_nodes=iter_num,\n",
    "                                                                       maximize=True)\n",
    "\n",
    "    temp_start_time = time.time()\n",
    "\n",
    "    temp_state, \\\n",
    "    temp_fitness, \\\n",
    "    temp_fitness_curve = mlrose_hiive.mimic(problem=temp_problem,\n",
    "                                               max_attempts=mimic_parameters[\"max_attempts\"], curve=True,\n",
    "                                               random_state=int(np.round(time.time())),\n",
    "                                               pop_size=mimic_parameters[\"pop_size\"],\n",
    "                                               keep_pct=mimic_parameters[\"keep_pct\"], noise=0.05,\n",
    "                                               return_results=True)\n",
    "    temp_end_time = time.time()\n",
    "    temp_elapsed_time = temp_end_time - temp_start_time\n",
    "    time_df.loc[iter_num, \"MIMIC\"] = temp_elapsed_time\n",
    "    count_df.loc[iter_num, \"MIMIC\"] = temp_problem.counter"
   ]
  },
  {
   "cell_type": "code",
   "execution_count": null,
   "metadata": {},
   "outputs": [],
   "source": [
    "temp_problem, _folder = utl.determine_problem(prob_name=problem_name.lower(), size=\"l\", maximize=True,\n",
    "                                          SEED=int(np.round(time.time())))\n",
    "best_parameters = utl.read_parameters_from_file(folder=_folder, cv=2, size=\"l\", change_pop=False,\n",
    "                                            reset_pop=False)"
   ]
  },
  {
   "cell_type": "code",
   "execution_count": null,
   "metadata": {},
   "outputs": [],
   "source": [
    "iteration_list = np.arange(10, 101, 10).astype(int).tolist()\n",
    "\n",
    "best_parameters = utl.read_parameters_from_file(folder=_folder, cv=2, size=\"l\", change_pop=False,\n",
    "                                            reset_pop=False)\n",
    "rhc_parameters = best_parameters[\"RHC\"]\n",
    "sa_parameters = best_parameters[\"SA\"]\n",
    "ga_parameters = best_parameters[\"GA\"]\n",
    "mimic_parameters = best_parameters[\"MIMIC\"]\n",
    "times_df = pd.DataFrame(columns=[\"RHC\", \"SA\", \"GA\", \"MIMIC\"], index=iteration_list, \n",
    "                        data=np.zeros(shape=(len(iteration_list), 4)))\n",
    "count_df = pd.DataFrame(columns=[\"RHC\", \"SA\", \"GA\", \"MIMIC\"], index=iteration_list, \n",
    "                        data=np.zeros(shape=(len(iteration_list), 4)))\n"
   ]
  },
  {
   "cell_type": "code",
   "execution_count": null,
   "metadata": {},
   "outputs": [],
   "source": [
    "for _iter in iteration_list:\n",
    "    print(f\"Current Iteration: {_iter}\")\n",
    "    get_rhc(times_df, count_df, _iter, rhc_parameters, problem_name)\n",
    "    get_sa(times_df, count_df, _iter, sa_parameters, problem_name)\n",
    "    get_ga(times_df, count_df, _iter, ga_parameters, problem_name)\n",
    "    get_mimic(times_df, count_df, _iter, mimic_parameters, problem_name)\n",
    "    "
   ]
  },
  {
   "cell_type": "code",
   "execution_count": null,
   "metadata": {},
   "outputs": [],
   "source": [
    "utl.plot_count(count_df, \"Knapsack\", \"Problem Size\", \"Function Evaluations\", \n",
    "               f\"{problem_name}\\nFunction Evaluations Vs. Problem Size\",\n",
    "              use_log_y=False)"
   ]
  },
  {
   "cell_type": "code",
   "execution_count": null,
   "metadata": {},
   "outputs": [],
   "source": [
    "with open(f\"{os.getcwd()}/{folder}/Times_df.pkl\", \"wb\") as f:\n",
    "    pickle.dump(times_df, f)\n",
    "    f.close()\n",
    "\n",
    "with open(f\"{os.getcwd()}/{folder}/Eval_Calls_df.pkl\", \"wb\") as f:\n",
    "    pickle.dump(count_df, f)\n",
    "    f.close()"
   ]
  },
  {
   "cell_type": "code",
   "execution_count": null,
   "metadata": {},
   "outputs": [],
   "source": [
    "results = {\"Count_df\": count_df, \"Times_df\": times_df}"
   ]
  },
  {
   "cell_type": "code",
   "execution_count": null,
   "metadata": {},
   "outputs": [],
   "source": [
    "with open(f\"{os.getcwd()}/{folder}/Eval_Call_and_Times.pkl\", \"wb\") as f:\n",
    "    pickle.dump(results, f)\n",
    "    f.close()"
   ]
  },
  {
   "cell_type": "code",
   "execution_count": null,
   "metadata": {},
   "outputs": [],
   "source": [
    "idx = np.arange(10,201,10)\n",
    "idx"
   ]
  },
  {
   "cell_type": "code",
   "execution_count": null,
   "metadata": {},
   "outputs": [],
   "source": [
    "run_times_df = pd.DataFrame(columns=[\"RHC\", \"SA\", \"GA\", \"MIMIC\"], index=idx, data=np.zeros(shape=(idx.shape[0], 4)))\n",
    "accuracy_df = pd.DataFrame(columns=[\"RHC\", \"SA\", \"GA\", \"MIMIC\"], index=idx, data=np.zeros(shape=(idx.shape[0], 4)))"
   ]
  },
  {
   "cell_type": "code",
   "execution_count": 7,
   "metadata": {},
   "outputs": [],
   "source": [
    "with open(f\"{os.getcwd()}/{folder}/All_RHC_Results.pkl\", \"rb\") as input_file:\n",
    "    rhc_data = pickle.load(input_file)\n",
    "    input_file.close()\n",
    "with open(f\"{os.getcwd()}/{folder}/GeneticAlgorithm_FINAL_Parameters_l_l_l.pkl\", \"rb\") as input_file:\n",
    "    ga_data = pickle.load(input_file)\n",
    "    input_file.close()\n",
    "with open(f\"{os.getcwd()}/{folder}/All_SA_Results.pkl\", \"rb\") as input_file:\n",
    "    sa_data = pickle.load(input_file)\n",
    "    input_file.close()\n",
    "with open(f\"{os.getcwd()}/{folder}/All_MIMIC_Results.pkl\", \"rb\") as input_file:\n",
    "    mimic_data = pickle.load(input_file)\n",
    "    input_file.close()"
   ]
  },
  {
   "cell_type": "code",
   "execution_count": 8,
   "metadata": {},
   "outputs": [
    {
     "data": {
      "text/plain": [
       "{'pop_size': 162, 'mutation_prob': 0.78, 'max_iters': 256, 'max_attempts': 32}"
      ]
     },
     "execution_count": 8,
     "metadata": {},
     "output_type": "execute_result"
    }
   ],
   "source": [
    "ga_data"
   ]
  },
  {
   "cell_type": "code",
   "execution_count": null,
   "metadata": {},
   "outputs": [],
   "source": []
  },
  {
   "cell_type": "code",
   "execution_count": null,
   "metadata": {},
   "outputs": [],
   "source": [
    "a = rhc_data[\"l\"][\"Curve\"]"
   ]
  },
  {
   "cell_type": "code",
   "execution_count": 3,
   "metadata": {},
   "outputs": [],
   "source": [
    "with open(f\"{os.getcwd()}/{folder}/Eval_Call_and_Times.pkl\", \"rb\") as f:\n",
    "    results_object = pickle.load(f)\n",
    "    f.close()\n",
    "count_df = results_object[\"Count_df\"]\n",
    "times_df = results_object[\"Times_df\"]"
   ]
  },
  {
   "cell_type": "code",
   "execution_count": 4,
   "metadata": {},
   "outputs": [],
   "source": [
    "utl.plot_count(count_df, \"Knapsack\", \"Problem Size\", \"Function Evaluations\", \n",
    "               f\"{problem_name}\\nFunction Evaluations Vs. Problem Size\",\n",
    "              use_log_y=True)\n",
    "utl.plot_count(times_df, \"Knapsack\", \"Problem Size\", \"Runtime\", \n",
    "               f\"{problem_name}\\nRun Times Vs. Problem Size\",\n",
    "              use_log_y=True, f_name=\"_Times_\")"
   ]
  }
 ],
 "metadata": {
  "kernelspec": {
   "display_name": "Python 3",
   "language": "python",
   "name": "python3"
  },
  "language_info": {
   "codemirror_mode": {
    "name": "ipython",
    "version": 3
   },
   "file_extension": ".py",
   "mimetype": "text/x-python",
   "name": "python",
   "nbconvert_exporter": "python",
   "pygments_lexer": "ipython3",
   "version": "3.7.9"
  },
  "toc": {
   "base_numbering": 1,
   "nav_menu": {},
   "number_sections": true,
   "sideBar": true,
   "skip_h1_title": false,
   "title_cell": "Table of Contents",
   "title_sidebar": "Contents",
   "toc_cell": false,
   "toc_position": {},
   "toc_section_display": true,
   "toc_window_display": false
  },
  "varInspector": {
   "cols": {
    "lenName": 16,
    "lenType": 16,
    "lenVar": 40
   },
   "kernels_config": {
    "python": {
     "delete_cmd_postfix": "",
     "delete_cmd_prefix": "del ",
     "library": "var_list.py",
     "varRefreshCmd": "print(var_dic_list())"
    },
    "r": {
     "delete_cmd_postfix": ") ",
     "delete_cmd_prefix": "rm(",
     "library": "var_list.r",
     "varRefreshCmd": "cat(var_dic_list()) "
    }
   },
   "position": {
    "height": "304px",
    "left": "1546px",
    "right": "20px",
    "top": "119px",
    "width": "354px"
   },
   "types_to_exclude": [
    "module",
    "function",
    "builtin_function_or_method",
    "instance",
    "_Feature"
   ],
   "window_display": false
  }
 },
 "nbformat": 4,
 "nbformat_minor": 4
}
