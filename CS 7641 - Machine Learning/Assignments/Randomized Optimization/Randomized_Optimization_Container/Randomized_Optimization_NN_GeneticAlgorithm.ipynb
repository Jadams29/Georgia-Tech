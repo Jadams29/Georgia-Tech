{
 "cells": [
  {
   "cell_type": "code",
   "execution_count": 1,
   "metadata": {},
   "outputs": [
    {
     "name": "stdout",
     "output_type": "stream",
     "text": [
      "C:\\Users\\joshu\\OneDrive - Georgia Institute of Technology\\Georgia-Tech\\CS 7641 - Machine Learning\\Assignments\\Randomized Optimization\\NeuralNetwork/ folder already exists.\n",
      "C:\\Users\\joshu\\OneDrive - Georgia Institute of Technology\\Georgia-Tech\\CS 7641 - Machine Learning\\Assignments\\Randomized Optimization\\NeuralNetwork/Genetic_Algorithm folder already exists.\n"
     ]
    },
    {
     "data": {
      "text/plain": [
       "<Figure size 1600x1200 with 0 Axes>"
      ]
     },
     "metadata": {},
     "output_type": "display_data"
    }
   ],
   "source": [
    "import numpy as np\n",
    "import time\n",
    "import pandas as pd\n",
    "import matplotlib.pyplot as plt\n",
    "import mlrose_hiive\n",
    "import seaborn as sns\n",
    "import ro_ml_util as utl\n",
    "import os\n",
    "import pickle\n",
    "import glob\n",
    "\n",
    "utl.check_folder(\"NeuralNetwork/\")\n",
    "plt.style.use(\"ggplot\")\n",
    "folder = \"NeuralNetwork/Genetic_Algorithm\"\n",
    "utl.check_folder(folder)\n",
    "SEED=42\n",
    "\n",
    "n_iterations = np.arange(1, 201, 1)\n",
    "prob_size = \"XL\"\n",
    "verbose = True\n",
    "problem_name = \"Genetic_Algorithm\""
   ]
  },
  {
   "cell_type": "markdown",
   "metadata": {},
   "source": [
    "# Genetic Algorithm"
   ]
  },
  {
   "cell_type": "code",
   "execution_count": 2,
   "metadata": {},
   "outputs": [],
   "source": [
    "ga_params = {\"iterations\": [1000, 3000, 5000],\n",
    "             \"learning_rate\": np.round(2.**np.arange(1, 5, 1), 2).tolist()}"
   ]
  },
  {
   "cell_type": "code",
   "execution_count": null,
   "metadata": {},
   "outputs": [],
   "source": [
    "ga_params"
   ]
  },
  {
   "cell_type": "code",
   "execution_count": null,
   "metadata": {},
   "outputs": [
    {
     "name": "stdout",
     "output_type": "stream",
     "text": [
      "C:\\Users\\joshu\\OneDrive - Georgia Institute of Technology\\Georgia-Tech\\CS 7641 - Machine Learning\\Assignments\\Randomized Optimization\\NeuralNetwork/Genetic_Algorithm folder already exists.\n",
      "dataset folder already exists.\n",
      "Fashion-MNIST dataset found:\n",
      "\tLoading Fashion-MNIST.feather\n",
      "\tFinished loading Fashion-MNIST dataset\n",
      "Finished making cross-validation sets\n",
      "\tEach validation set is a 20.0000% subset of the training set, with replacement\n",
      "Total Iterations: 12\n",
      "\t\tCV 0: Completed\n",
      "\t\tCV 1: Completed\n",
      "\t\tCV 2: Completed\n",
      "\t\tCV 3: Completed\n",
      "\t\tCV 4: Completed\n",
      "\tCurrent Iteration: 1 / 12\n",
      "\t\tBest Training Accuracy: 0.2616%\n",
      "\t\tBest Validation Accuracy: 0.2410%\n",
      "\t\t\tIteration Time: 134.9929s\n",
      "\t\t\tLearning Rate: 2.00000\n",
      "\t\t\tMax Iterations: 1000\n",
      "\t\t\tIteration Training Accuracy: 0.2616%\n",
      "\t\t\tIteration Validation Accuracy: 0.2410%\n",
      "\t\tCV 0: Completed\n",
      "\t\tCV 1: Completed\n",
      "\t\tCV 2: Completed\n",
      "\t\tCV 3: Completed\n",
      "\t\tCV 4: Completed\n",
      "\tCurrent Iteration: 2 / 12\n",
      "\t\tBest Training Accuracy: 0.2616%\n",
      "\t\tBest Validation Accuracy: 0.2410%\n",
      "\t\t\tIteration Time: 140.5804s\n",
      "\t\t\tLearning Rate: 2.00000\n",
      "\t\t\tMax Iterations: 3000\n",
      "\t\t\tIteration Training Accuracy: 0.2534%\n",
      "\t\t\tIteration Validation Accuracy: 0.2360%\n",
      "\t\tCV 0: Completed\n",
      "\t\tCV 1: Completed\n",
      "\t\tCV 2: Completed\n",
      "\t\tCV 3: Completed\n",
      "\t\tCV 4: Completed\n",
      "\tCurrent Iteration: 3 / 12\n",
      "\t\tBest Training Accuracy: 0.2684%\n",
      "\t\tBest Validation Accuracy: 0.2420%\n",
      "\t\t\tIteration Time: 152.7942s\n",
      "\t\t\tLearning Rate: 2.00000\n",
      "\t\t\tMax Iterations: 5000\n",
      "\t\t\tIteration Training Accuracy: 0.2684%\n",
      "\t\t\tIteration Validation Accuracy: 0.2420%\n",
      "\t\tCV 0: Completed\n",
      "\t\tCV 1: Completed\n",
      "\t\tCV 2: Completed\n",
      "\t\tCV 3: Completed\n",
      "\t\tCV 4: Completed\n",
      "\tCurrent Iteration: 4 / 12\n",
      "\t\tBest Training Accuracy: 0.2684%\n",
      "\t\tBest Validation Accuracy: 0.2640%\n",
      "\t\t\tIteration Time: 187.0183s\n",
      "\t\t\tLearning Rate: 4.00000\n",
      "\t\t\tMax Iterations: 1000\n",
      "\t\t\tIteration Training Accuracy: 0.2544%\n",
      "\t\t\tIteration Validation Accuracy: 0.2640%\n",
      "\t\tCV 0: Completed\n"
     ]
    }
   ],
   "source": [
    "best_nn_results = utl.find_best_neural_network_ga(train_limit=1000,\n",
    "                                                  verbose=True, \n",
    "                                                  ga_parameters=ga_params, \n",
    "                                                  extra_name=\"1\")"
   ]
  },
  {
   "cell_type": "code",
   "execution_count": null,
   "metadata": {},
   "outputs": [],
   "source": [
    "best_nn_results\n"
   ]
  },
  {
   "cell_type": "code",
   "execution_count": null,
   "metadata": {},
   "outputs": [],
   "source": [
    "with open(f\"{os.getcwd()}/{folder}/Final_Results_GS.pkl_27_pct.pkl\", \"wb\") as f:\n",
    "    pickle.dump(best_nn_results, f)\n",
    "    f.close()"
   ]
  },
  {
   "cell_type": "code",
   "execution_count": null,
   "metadata": {},
   "outputs": [],
   "source": [
    "with open(f\"{os.getcwd()}/{folder}/Final_Results_GA_1.pkl\", \"rb\") as input_file:\n",
    "    results_object = pickle.load(input_file)\n",
    "    input_file.close()"
   ]
  },
  {
   "cell_type": "code",
   "execution_count": null,
   "metadata": {},
   "outputs": [],
   "source": [
    "results_object"
   ]
  },
  {
   "cell_type": "code",
   "execution_count": null,
   "metadata": {},
   "outputs": [],
   "source": [
    "fig, (ax1) = plt.subplots(1, 1, figsize=(8, 6))\n",
    "ax = utl.heatmap(results_object[\"lr_vs_iteration_train\"], \n",
    "                 row_labels=results_object[\"lr_vs_iteration_train\"].index,\n",
    "                 col_labels=results_object[\"lr_vs_iteration_train\"].columns, \n",
    "                 ax=ax1, cbarlabel=\"Accuracy\",\n",
    "                 x_label=\"Learning Rates\", \n",
    "                 y_label=\"Iteration\", \n",
    "                 title=f\"Fashion-MNIST\\nGradient Descent - Training\",\n",
    "                 folder=folder,\n",
    "                 filename=\"Fashion_MNIST_Genetic_Algorithm_LR_VS_Iteration_Training_1\")"
   ]
  }
 ],
 "metadata": {
  "kernelspec": {
   "display_name": "Python 3",
   "language": "python",
   "name": "python3"
  },
  "language_info": {
   "codemirror_mode": {
    "name": "ipython",
    "version": 3
   },
   "file_extension": ".py",
   "mimetype": "text/x-python",
   "name": "python",
   "nbconvert_exporter": "python",
   "pygments_lexer": "ipython3",
   "version": "3.7.9"
  },
  "toc": {
   "base_numbering": 1,
   "nav_menu": {},
   "number_sections": true,
   "sideBar": true,
   "skip_h1_title": false,
   "title_cell": "Table of Contents",
   "title_sidebar": "Contents",
   "toc_cell": false,
   "toc_position": {},
   "toc_section_display": true,
   "toc_window_display": false
  },
  "varInspector": {
   "cols": {
    "lenName": 16,
    "lenType": 16,
    "lenVar": 40
   },
   "kernels_config": {
    "python": {
     "delete_cmd_postfix": "",
     "delete_cmd_prefix": "del ",
     "library": "var_list.py",
     "varRefreshCmd": "print(var_dic_list())"
    },
    "r": {
     "delete_cmd_postfix": ") ",
     "delete_cmd_prefix": "rm(",
     "library": "var_list.r",
     "varRefreshCmd": "cat(var_dic_list()) "
    }
   },
   "position": {
    "height": "304px",
    "left": "1546px",
    "right": "20px",
    "top": "119px",
    "width": "354px"
   },
   "types_to_exclude": [
    "module",
    "function",
    "builtin_function_or_method",
    "instance",
    "_Feature"
   ],
   "window_display": false
  }
 },
 "nbformat": 4,
 "nbformat_minor": 4
}
