{
 "cells": [
  {
   "cell_type": "code",
   "execution_count": 1,
   "metadata": {},
   "outputs": [
    {
     "name": "stdout",
     "output_type": "stream",
     "text": [
      "C:\\Users\\joshu\\OneDrive - Georgia Institute of Technology\\Georgia-Tech\\CS 7641 - Machine Learning\\Assignments\\Randomized Optimization\\NeuralNetwork/ folder already exists.\n",
      "C:\\Users\\joshu\\OneDrive - Georgia Institute of Technology\\Georgia-Tech\\CS 7641 - Machine Learning\\Assignments\\Randomized Optimization\\NeuralNetwork/Simulated_Annealing folder already exists.\n"
     ]
    },
    {
     "data": {
      "text/plain": [
       "<Figure size 1600x1200 with 0 Axes>"
      ]
     },
     "metadata": {},
     "output_type": "display_data"
    }
   ],
   "source": [
    "import numpy as np\n",
    "import time\n",
    "import pandas as pd\n",
    "import matplotlib.pyplot as plt\n",
    "import mlrose_hiive\n",
    "import seaborn as sns\n",
    "import ro_ml_util as utl\n",
    "import os\n",
    "import pickle\n",
    "import glob\n",
    "\n",
    "utl.check_folder(\"NeuralNetwork/\")\n",
    "plt.style.use(\"ggplot\")\n",
    "folder = \"NeuralNetwork/Simulated_Annealing\"\n",
    "utl.check_folder(folder)\n",
    "SEED=42\n",
    "\n",
    "n_iterations = np.arange(1, 201, 1)\n",
    "prob_size = \"XL\"\n",
    "verbose = True\n",
    "problem_name = \"Simulated_Annealing\""
   ]
  },
  {
   "cell_type": "code",
   "execution_count": 9,
   "metadata": {},
   "outputs": [
    {
     "name": "stdout",
     "output_type": "stream",
     "text": [
      "dataset folder already exists.\n",
      "Fashion-MNIST dataset found:\n",
      "\tLoading Fashion-MNIST.feather\n",
      "\tFinished loading Fashion-MNIST dataset\n"
     ]
    }
   ],
   "source": [
    "gathered_data_fashion = utl.setup([\"Fashion-MNIST\"])\n",
    "fashion_train_X, fashion_train_y, fashion_valid_X, fashion_valid_y, fashion_test_X, fashion_test_y = utl.split_data(\n",
    "    gathered_data_fashion[\"Fashion-MNIST\"][\"X\"],\n",
    "    gathered_data_fashion[\"Fashion-MNIST\"][\"y\"], minMax=True, oneHot=True)"
   ]
  },
  {
   "cell_type": "markdown",
   "metadata": {},
   "source": [
    "# Simulated Annealing"
   ]
  },
  {
   "cell_type": "code",
   "execution_count": 2,
   "metadata": {},
   "outputs": [],
   "source": [
    "sa_params = {\"iterations\": [1000],\n",
    "             \"learning_rates\": [10]}"
   ]
  },
  {
   "cell_type": "code",
   "execution_count": 10,
   "metadata": {},
   "outputs": [],
   "source": [
    "temp_nn = best_nn_results[\"Best_Network_Object\"]\n",
    "temp_nn.warm_restart=True"
   ]
  },
  {
   "cell_type": "code",
   "execution_count": 26,
   "metadata": {},
   "outputs": [
    {
     "data": {
      "text/plain": [
       "NeuralNetwork(algorithm='simulated_annealing', clip_max=10, curve=True,\n",
       "              early_stopping=True, hidden_nodes=[40], learning_rate=10,\n",
       "              max_attempts=1000, max_iters=20000,\n",
       "              schedule=GeomDecay(init_temp=1, decay=0.99, min_temp=0.001))"
      ]
     },
     "execution_count": 26,
     "metadata": {},
     "output_type": "execute_result"
    }
   ],
   "source": [
    "temp_nn.fit(fashion_train_X.iloc[:5000, :], fashion_train_y.iloc[:5000, :])"
   ]
  },
  {
   "cell_type": "code",
   "execution_count": 28,
   "metadata": {},
   "outputs": [],
   "source": [
    "with open(f\"{os.getcwd()}/SA_Curve.pkl\", 'wb') as f:\n",
    "    pickle.dump(temp_nn.fitness_curve, f)\n",
    "    f.close()"
   ]
  },
  {
   "cell_type": "code",
   "execution_count": 6,
   "metadata": {},
   "outputs": [
    {
     "name": "stdout",
     "output_type": "stream",
     "text": [
      "C:\\Users\\joshu\\OneDrive - Georgia Institute of Technology\\Georgia-Tech\\CS 7641 - Machine Learning\\Assignments\\Randomized Optimization\\NeuralNetwork/Simulated_Annealing folder already exists.\n",
      "dataset folder already exists.\n",
      "Fashion-MNIST dataset found:\n",
      "\tLoading Fashion-MNIST.feather\n",
      "\tFinished loading Fashion-MNIST dataset\n",
      "Finished making cross-validation sets\n",
      "\tEach validation set is a 20.0000% subset of the training set, with replacement\n",
      "Total Iterations: 1\n",
      "\t\tCV 0: Completed\n",
      "\t\tCV 1: Completed\n",
      "\t\tCV 2: Completed\n",
      "\t\tCV 3: Completed\n",
      "\t\tCV 4: Completed\n",
      "\tCurrent Iteration: 1 / 1\n",
      "\t\tBest Training Accuracy: 0.2678%\n",
      "\t\tBest Validation Accuracy: 0.2770%\n",
      "\t\t\tIteration Time: 49.9142s\n",
      "\t\t\tLearning Rate: 10.00000\n",
      "\t\t\tMax Iterations: 1000\n",
      "\t\t\tIteration Training Accuracy: 0.2678%\n",
      "\t\t\tIteration Validation Accuracy: 0.2770%\n",
      "Total Time for Neural Network Optimization - Simulated Annealing: 49.9162s\n"
     ]
    }
   ],
   "source": [
    "best_nn_results = utl.find_best_neural_network_sa(train_limit=1000, \n",
    "                                                  verbose=True, \n",
    "                                                  sa_parameters=sa_params)"
   ]
  },
  {
   "cell_type": "code",
   "execution_count": 5,
   "metadata": {},
   "outputs": [],
   "source": [
    "best_nn_results[\"Best_Network_Object\"].schedule.init_temp = 1"
   ]
  },
  {
   "cell_type": "code",
   "execution_count": null,
   "metadata": {},
   "outputs": [],
   "source": []
  },
  {
   "cell_type": "code",
   "execution_count": null,
   "metadata": {},
   "outputs": [],
   "source": [
    "loss_curve = best_nn_results[\"DataFrame\"]\n",
    "with open(f\"{os.getcwd()}/{folder}/Final_SA_Loss_Curve_43_pct.pkl\", \"wb\") as f:\n",
    "    pickle.dump(loss_curve, f)\n",
    "    f.close()"
   ]
  },
  {
   "cell_type": "code",
   "execution_count": null,
   "metadata": {},
   "outputs": [],
   "source": [
    "with open(f\"{os.getcwd()}/{folder}/Final_Results_SA.pkl_45_pct.pkl\", \"wb\") as f:\n",
    "    pickle.dump(best_nn_results, f)\n",
    "    f.close()"
   ]
  },
  {
   "cell_type": "code",
   "execution_count": null,
   "metadata": {},
   "outputs": [],
   "source": [
    "with open(f\"{os.getcwd()}/{folder}/Final_Results_SA.pkl\", \"rb\") as input_file:\n",
    "    results_object = pickle.load(input_file)\n",
    "    input_file.close()"
   ]
  },
  {
   "cell_type": "code",
   "execution_count": null,
   "metadata": {},
   "outputs": [],
   "source": []
  },
  {
   "cell_type": "code",
   "execution_count": null,
   "metadata": {},
   "outputs": [],
   "source": [
    "results_object"
   ]
  },
  {
   "cell_type": "code",
   "execution_count": null,
   "metadata": {},
   "outputs": [],
   "source": [
    "fig, (ax1) = plt.subplots(1, 1, figsize=(8, 6))\n",
    "ax = utl.heatmap(results_object[\"lr_vs_iteration_train\"], \n",
    "                 row_labels=results_object[\"lr_vs_iteration_train\"].index,\n",
    "                 col_labels=results_object[\"lr_vs_iteration_train\"].columns, \n",
    "                 ax=ax1, cbarlabel=\"Accuracy\",\n",
    "                 x_label=\"Learning Rates\", \n",
    "                 y_label=\"Iterations\", \n",
    "                 title=f\"Fashion-MNIST\\nGradient Descent - Training\", \n",
    "                 folder=folder,\n",
    "                 filename=\"Fashion_MNIST_Simulated_Annealing_LR_VS_Iteration_Training\")\n"
   ]
  },
  {
   "cell_type": "code",
   "execution_count": null,
   "metadata": {},
   "outputs": [],
   "source": [
    "a = 0.0004"
   ]
  },
  {
   "cell_type": "code",
   "execution_count": null,
   "metadata": {},
   "outputs": [],
   "source": [
    "print(a)"
   ]
  },
  {
   "cell_type": "code",
   "execution_count": null,
   "metadata": {},
   "outputs": [],
   "source": [
    "print(str(a))"
   ]
  }
 ],
 "metadata": {
  "kernelspec": {
   "display_name": "Python 3",
   "language": "python",
   "name": "python3"
  },
  "language_info": {
   "codemirror_mode": {
    "name": "ipython",
    "version": 3
   },
   "file_extension": ".py",
   "mimetype": "text/x-python",
   "name": "python",
   "nbconvert_exporter": "python",
   "pygments_lexer": "ipython3",
   "version": "3.7.9"
  },
  "toc": {
   "base_numbering": 1,
   "nav_menu": {},
   "number_sections": true,
   "sideBar": true,
   "skip_h1_title": false,
   "title_cell": "Table of Contents",
   "title_sidebar": "Contents",
   "toc_cell": false,
   "toc_position": {},
   "toc_section_display": true,
   "toc_window_display": false
  },
  "varInspector": {
   "cols": {
    "lenName": 16,
    "lenType": 16,
    "lenVar": 40
   },
   "kernels_config": {
    "python": {
     "delete_cmd_postfix": "",
     "delete_cmd_prefix": "del ",
     "library": "var_list.py",
     "varRefreshCmd": "print(var_dic_list())"
    },
    "r": {
     "delete_cmd_postfix": ") ",
     "delete_cmd_prefix": "rm(",
     "library": "var_list.r",
     "varRefreshCmd": "cat(var_dic_list()) "
    }
   },
   "position": {
    "height": "304px",
    "left": "1546px",
    "right": "20px",
    "top": "119px",
    "width": "354px"
   },
   "types_to_exclude": [
    "module",
    "function",
    "builtin_function_or_method",
    "instance",
    "_Feature"
   ],
   "window_display": false
  }
 },
 "nbformat": 4,
 "nbformat_minor": 4
}
