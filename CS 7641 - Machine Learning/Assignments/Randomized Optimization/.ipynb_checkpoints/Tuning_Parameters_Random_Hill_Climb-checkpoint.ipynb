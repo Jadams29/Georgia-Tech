{
 "cells": [
  {
   "cell_type": "code",
   "execution_count": 1,
   "metadata": {},
   "outputs": [],
   "source": [
    "import time\n",
    "import mlrose_hiive as mlrose\n",
    "import numpy as np\n",
    "import pandas as pd\n",
    "import matplotlib.pyplot as plt\n",
    "\n",
    "\n",
    "from sklearn.datasets import load_iris\n",
    "from sklearn.model_selection import train_test_split\n",
    "from sklearn.preprocessing import MinMaxScaler, OneHotEncoder\n",
    "from sklearn.metrics import accuracy_score\n",
    "\n",
    "random_state = 7\n",
    "start = 10\n",
    "stop = 101\n",
    "step = 10\n",
    "size = 20\n",
    "problem_name = \"Tuning\"\n",
    "plt.style.use('ggplot')"
   ]
  },
  {
   "cell_type": "markdown",
   "metadata": {
    "collapsed": true
   },
   "source": [
    "### Tuning Parameters"
   ]
  },
  {
   "cell_type": "code",
   "execution_count": 2,
   "metadata": {},
   "outputs": [],
   "source": [
    "weights = np.random.uniform(low=1, high=10, size=size).astype('int')\n",
    "values = np.random.uniform(low=10, high=100, size=size).astype('int')\n",
    "max_weight_pct = 0.6\n",
    "fitness = mlrose.Knapsack(weights, values, max_weight_pct=max_weight_pct)\n",
    "\n",
    "problem = mlrose.DiscreteOpt(length=size, fitness_fn=fitness, maximize=True, max_val=2)\n",
    "algo_stats = []"
   ]
  },
  {
   "cell_type": "markdown",
   "metadata": {},
   "source": [
    "### Random Hill Climb -  Parameters"
   ]
  },
  {
   "cell_type": "code",
   "execution_count": null,
   "metadata": {},
   "outputs": [],
   "source": [
    "# Random Hill Climbing\n",
    "\n",
    "for max_attempts in range(start, stop, step):\n",
    "    print(\"Random Hill Climbing\")\n",
    "    print(\"\\t Attempt: {}\\n\".format(max_attempts))\n",
    "    start_time = time.time()*100\n",
    "    best_state, best_fitness, curve_vals = mlrose.random_hill_climb(problem, max_attempts=max_attempts, curve=True, random_state=random_state)\n",
    "    stop_time = time.time()*100\n",
    "    runtime = stop_time - start_time\n",
    "    algo_stats.append([problem_name, \"Default_RHC\", best_state, best_fitness, max_attempts, curve_vals.size, curve_vals, runtime])\n",
    "  \n",
    "for i in range(10, 100, 10):\n",
    "    for max_attempts in range(start, stop, step):\n",
    "        print(\"Random Hill Climbing\")\n",
    "        print(\"\\t Attempt: {}\\n\".format(max_attempts))\n",
    "        start_time = time.time()*100\n",
    "        best_state, best_fitness, curve_vals = mlrose.random_hill_climb(problem, \n",
    "                                                                        max_attempts=max_attempts, \n",
    "                                                                        curve=True, \n",
    "                                                                        random_state=random_state,\n",
    "                                                                        restarts=i)\n",
    "        stop_time = time.time()*100\n",
    "        runtime = stop_time - start_time\n",
    "        algo_stats.append([problem_name, \"RHC_{}\".format(i), \n",
    "                           best_state, best_fitness, max_attempts, curve_vals.size, curve_vals, runtime])\n",
    "\n",
    "dfstats = pd.DataFrame(algo_stats, columns=['Problem', 'Algorithm', 'Best_State', 'Best_Fitness', 'Max_Attempts', 'Iterations', 'Fitness', 'Runtime'])\n",
    "\n",
    "dfstats.sort_values(['Best_Fitness', 'Iterations'], ascending=[False, True]).iloc[0]\n",
    "\n",
    "plt.close('all')\n",
    "fig, axs = plt.subplots(1, 3, figsize=(20, 6), facecolor='w', edgecolor='k', sharex=True, sharey=True)\n",
    "fig.tight_layout()\n",
    "for ax, max_attempts in zip(axs.ravel(), [10, 50, 100]):\n",
    "    for i in range(0, dfstats[dfstats['Max_Attempts']==max_attempts].shape[0]):\n",
    "        ax.plot(dfstats[dfstats['Max_Attempts']==max_attempts].iloc[i]['Fitness'], \n",
    "                label=dfstats[dfstats['Max_Attempts']==max_attempts].iloc[i]['Algorithm'])\n",
    "        ax.set_title('{}: Fitness Vs Iterations \\n(Max Attempts: {}, default)'.format(problem_name, max_attempts))\n",
    "        ax.legend(loc='lower right')\n",
    "        ax.set_xlabel('Interations')\n",
    "        ax.set_ylabel('Fitness')\n",
    "        ax.minorticks_on()\n",
    "        ax.grid(b=True, which='major', color='k', linestyle='-', alpha=0.1)\n",
    "        ax.grid(b=True, which='minor', color='r', linestyle='-', alpha=0.05)\n",
    "    \n",
    "\n",
    "plt.savefig(\"{}_Fitness_With_Restarts.png\".format(problem_name), bbox_inches='tight')  \n",
    "\n",
    "plt.close('all')\n",
    "fig, axs = plt.subplots(1, 3, figsize=(20, 6), facecolor='w', edgecolor='k', sharex=True, sharey=True)\n",
    "fig.tight_layout()\n",
    "for ax, max_attempts in zip(axs.ravel(), [10, 50, 100]):\n",
    "    for i in range(0, dfstats[dfstats['Max_Attempts']==max_attempts].shape[0]):\n",
    "        ax.stem(dfstats[dfstats['Max_Attempts']==max_attempts]['Algorithm'], dfstats[dfstats['Max_Attempts']==max_attempts]['Runtime'])\n",
    "        ax.stackplot(dfstats[dfstats['Max_Attempts']==max_attempts]['Algorithm'], dfstats[dfstats['Max_Attempts']==max_attempts]['Runtime'], labels=dfstats[dfstats['Max_Attempts']==max_attempts]['Algorithm'])\n",
    "        ax.set_title('{}: Runtime \\n(Max Attempts: {}, w/Restarts)'.format(problem_name, max_attempts))\n",
    "        ax.set_xlabel('Algorithm')\n",
    "        ax.set_ylabel('Runtime (ms)')\n",
    "        ax.minorticks_on()\n",
    "        ax.grid(b=True, which='major', color='k', linestyle='-', alpha=0.1)\n",
    "        ax.grid(b=True, which='minor', color='r', linestyle='-', alpha=0.05)\n",
    "\n",
    "plt.savefig(\"{}_Runtime_With_Restarts.png\".format(problem_name), bbox_inches='tight') "
   ]
  },
  {
   "cell_type": "code",
   "execution_count": null,
   "metadata": {},
   "outputs": [],
   "source": []
  }
 ],
 "metadata": {
  "kernelspec": {
   "display_name": "Python 3",
   "language": "python",
   "name": "python3"
  },
  "language_info": {
   "codemirror_mode": {
    "name": "ipython",
    "version": 3
   },
   "file_extension": ".py",
   "mimetype": "text/x-python",
   "name": "python",
   "nbconvert_exporter": "python",
   "pygments_lexer": "ipython3",
   "version": "3.7.6"
  },
  "pycharm": {
   "stem_cell": {
    "cell_type": "raw",
    "metadata": {
     "collapsed": false
    },
    "source": []
   }
  }
 },
 "nbformat": 4,
 "nbformat_minor": 4
}
