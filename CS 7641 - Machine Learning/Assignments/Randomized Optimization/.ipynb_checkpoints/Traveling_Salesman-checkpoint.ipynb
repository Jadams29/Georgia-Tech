{
 "cells": [
  {
   "cell_type": "code",
   "execution_count": null,
   "metadata": {},
   "outputs": [],
   "source": [
    "import mlrose_hiive\n",
    "import numpy as np\n",
    "\n",
    "from sklearn.datasets import load_iris\n",
    "from sklearn.model_selection import train_test_split\n",
    "from sklearn.preprocessing import MinMaxScaler, OneHotEncoder\n",
    "from sklearn.metrics import accuracy_score"
   ]
  },
  {
   "cell_type": "markdown",
   "metadata": {
    "collapsed": true
   },
   "source": [
    "### Example 3: Travelling Salesperson Using Coordinate-Defined Fitness Function"
   ]
  },
  {
   "cell_type": "code",
   "execution_count": 21,
   "metadata": {},
   "outputs": [],
   "source": [
    "# Create list of city coordinates\n",
    "coords_list = [(1, 1), (4, 2), (5, 2), (6, 4), (4, 4), (3, 6), (1, 5), (2, 3)]\n",
    "\n",
    "# Initialize fitness function object using coords_list\n",
    "fitness_coords = mlrose_hiive.TravellingSales(coords = coords_list)"
   ]
  },
  {
   "cell_type": "code",
   "execution_count": 22,
   "metadata": {},
   "outputs": [],
   "source": [
    "# Define optimization problem object\n",
    "problem_fit = mlrose_hiive.TSPOpt(length = 8, fitness_fn = fitness_coords, maximize = False)"
   ]
  },
  {
   "cell_type": "code",
   "execution_count": 23,
   "metadata": {},
   "outputs": [],
   "source": [
    "# Solve using genetic algorithm - attempt 1\n",
    "best_state, best_fitness, _ = mlrose_hiive.genetic_alg(problem_fit, random_state = 2)"
   ]
  },
  {
   "cell_type": "code",
   "execution_count": 24,
   "metadata": {},
   "outputs": [
    {
     "name": "stdout",
     "output_type": "stream",
     "text": [
      "[7 6 5 4 3 2 1 0]\n"
     ]
    }
   ],
   "source": [
    "print(best_state)"
   ]
  },
  {
   "cell_type": "code",
   "execution_count": 25,
   "metadata": {},
   "outputs": [
    {
     "name": "stdout",
     "output_type": "stream",
     "text": [
      "17.34261754766733\n"
     ]
    }
   ],
   "source": [
    "print(best_fitness)"
   ]
  },
  {
   "cell_type": "code",
   "execution_count": 26,
   "metadata": {},
   "outputs": [],
   "source": [
    "# Solve using genetic algorithm - attempt 2\n",
    "best_state, best_fitness, _ = mlrose_hiive.genetic_alg(problem_fit, mutation_prob = 0.2, max_attempts = 100,\n",
    "                                              random_state = 2)"
   ]
  },
  {
   "cell_type": "code",
   "execution_count": 27,
   "metadata": {},
   "outputs": [
    {
     "name": "stdout",
     "output_type": "stream",
     "text": [
      "[5 6 7 0 1 2 3 4]\n"
     ]
    }
   ],
   "source": [
    "print(best_state)"
   ]
  },
  {
   "cell_type": "code",
   "execution_count": 28,
   "metadata": {},
   "outputs": [
    {
     "name": "stdout",
     "output_type": "stream",
     "text": [
      "17.34261754766733\n"
     ]
    }
   ],
   "source": [
    "print(best_fitness)"
   ]
  },
  {
   "cell_type": "markdown",
   "metadata": {},
   "source": [
    "### Example 4: Travelling Salesperson Using Distance-Defined Fitness Function"
   ]
  },
  {
   "cell_type": "code",
   "execution_count": 29,
   "metadata": {},
   "outputs": [],
   "source": [
    "# Create list of distances between pairs of cities\n",
    "dist_list = [(0, 1, 3.1623), (0, 2, 4.1231), (0, 3, 5.8310), (0, 4, 4.2426), (0, 5, 5.3852),\n",
    "             (0, 6, 4.0000), (0, 7, 2.2361), (1, 2, 1.0000), (1, 3, 2.8284), (1, 4, 2.0000),\n",
    "             (1, 5, 4.1231), (1, 6, 4.2426), (1, 7, 2.2361), (2, 3, 2.2361), (2, 4, 2.2361),\n",
    "             (2, 5, 4.4721), (2, 6, 5.0000), (2, 7, 3.1623), (3, 4, 2.0000), (3, 5, 3.6056),\n",
    "             (3, 6, 5.0990), (3, 7, 4.1231), (4, 5, 2.2361), (4, 6, 3.1623), (4, 7, 2.2361),\n",
    "             (5, 6, 2.2361), (5, 7, 3.1623), (6, 7, 2.2361)]\n",
    "\n",
    "# Initialize fitness function object using dist_list\n",
    "fitness_dists = mlrose_hiive.TravellingSales(distances = dist_list)"
   ]
  },
  {
   "cell_type": "code",
   "execution_count": 30,
   "metadata": {},
   "outputs": [],
   "source": [
    "# Define optimization problem object\n",
    "problem_fit2 = mlrose_hiive.TSPOpt(length = 8, fitness_fn = fitness_dists, maximize = False)"
   ]
  },
  {
   "cell_type": "code",
   "execution_count": 31,
   "metadata": {},
   "outputs": [],
   "source": [
    "# Solve using genetic algorithm\n",
    "best_state, best_fitness, _ = mlrose_hiive.genetic_alg(problem_fit2, mutation_prob = 0.2, max_attempts = 100,\n",
    "                                              random_state = 2)"
   ]
  },
  {
   "cell_type": "code",
   "execution_count": 32,
   "metadata": {},
   "outputs": [
    {
     "name": "stdout",
     "output_type": "stream",
     "text": [
      "[1 0 7 6 5 4 3 2]\n"
     ]
    }
   ],
   "source": [
    "print(best_state)"
   ]
  },
  {
   "cell_type": "code",
   "execution_count": 33,
   "metadata": {},
   "outputs": [
    {
     "name": "stdout",
     "output_type": "stream",
     "text": [
      "17.3428\n"
     ]
    }
   ],
   "source": [
    "print(best_fitness)"
   ]
  },
  {
   "cell_type": "markdown",
   "metadata": {},
   "source": [
    "### Example 5: Travelling Salesperson Defining Fitness Function as Part of Optimization Problem Definition Step"
   ]
  },
  {
   "cell_type": "code",
   "execution_count": 34,
   "metadata": {},
   "outputs": [],
   "source": [
    "# Create list of city coordinates\n",
    "coords_list = [(1, 1), (4, 2), (5, 2), (6, 4), (4, 4), (3, 6), (1, 5), (2, 3)]\n",
    "\n",
    "# Define optimization problem object\n",
    "problem_no_fit = mlrose_hiive.TSPOpt(length = 8, coords = coords_list, maximize = False)"
   ]
  },
  {
   "cell_type": "code",
   "execution_count": 35,
   "metadata": {},
   "outputs": [],
   "source": [
    "# Solve using genetic algorithm\n",
    "best_state, best_fitness, _ = mlrose_hiive.genetic_alg(problem_no_fit, mutation_prob = 0.2, max_attempts = 100, \n",
    "                                              random_state = 2)"
   ]
  },
  {
   "cell_type": "code",
   "execution_count": 36,
   "metadata": {},
   "outputs": [
    {
     "name": "stdout",
     "output_type": "stream",
     "text": [
      "[5 6 7 0 1 2 3 4]\n"
     ]
    }
   ],
   "source": [
    "print(best_state)"
   ]
  },
  {
   "cell_type": "code",
   "execution_count": 37,
   "metadata": {},
   "outputs": [
    {
     "name": "stdout",
     "output_type": "stream",
     "text": [
      "17.34261754766733\n"
     ]
    }
   ],
   "source": [
    "print(best_fitness)"
   ]
  },
  {
   "cell_type": "code",
   "execution_count": null,
   "metadata": {},
   "outputs": [],
   "source": [
    "### Example 3: Travelling Salesperson Using Coordinate-Defined Fitness Function\n",
    "\n",
    "# Create list of city coordinates\n",
    "coords_list = [(1, 1), (4, 2), (5, 2), (6, 4), (4, 4), (3, 6), (1, 5), (2, 3)]\n",
    "\n",
    "# Initialize fitness function object using coords_list\n",
    "fitness_coords = mlrose_hiive.TravellingSales(coords = coords_list)\n",
    "\n",
    "# Define optimization problem object\n",
    "problem_fit = mlrose_hiive.TSPOpt(length = 8, fitness_fn = fitness_coords, maximize = False)\n",
    "\n",
    "# Solve using genetic algorithm - attempt 1\n",
    "best_state, best_fitness, _ = mlrose_hiive.genetic_alg(problem_fit, random_state = 2)\n",
    "\n",
    "print(best_state)\n",
    "\n",
    "print(best_fitness)\n",
    "\n",
    "# Solve using genetic algorithm - attempt 2\n",
    "best_state, best_fitness, _ = mlrose_hiive.genetic_alg(problem_fit, mutation_prob = 0.2, max_attempts = 100,\n",
    "                                              random_state = 2)\n",
    "\n",
    "print(best_state)\n",
    "\n",
    "print(best_fitness)\n",
    "\n",
    "### Example 4: Travelling Salesperson Using Distance-Defined Fitness Function\n",
    "\n",
    "# Create list of distances between pairs of cities\n",
    "dist_list = [(0, 1, 3.1623), (0, 2, 4.1231), (0, 3, 5.8310), (0, 4, 4.2426), (0, 5, 5.3852),\n",
    "             (0, 6, 4.0000), (0, 7, 2.2361), (1, 2, 1.0000), (1, 3, 2.8284), (1, 4, 2.0000),\n",
    "             (1, 5, 4.1231), (1, 6, 4.2426), (1, 7, 2.2361), (2, 3, 2.2361), (2, 4, 2.2361),\n",
    "             (2, 5, 4.4721), (2, 6, 5.0000), (2, 7, 3.1623), (3, 4, 2.0000), (3, 5, 3.6056),\n",
    "             (3, 6, 5.0990), (3, 7, 4.1231), (4, 5, 2.2361), (4, 6, 3.1623), (4, 7, 2.2361),\n",
    "             (5, 6, 2.2361), (5, 7, 3.1623), (6, 7, 2.2361)]\n",
    "\n",
    "# Initialize fitness function object using dist_list\n",
    "fitness_dists = mlrose_hiive.TravellingSales(distances = dist_list)\n",
    "\n",
    "# Define optimization problem object\n",
    "problem_fit2 = mlrose_hiive.TSPOpt(length = 8, fitness_fn = fitness_dists, maximize = False)\n",
    "\n",
    "# Solve using genetic algorithm\n",
    "best_state, best_fitness, _ = mlrose_hiive.genetic_alg(problem_fit2, mutation_prob = 0.2, max_attempts = 100,\n",
    "                                              random_state = 2)\n",
    "\n",
    "print(best_state)\n",
    "\n",
    "print(best_fitness)\n",
    "\n",
    "### Example 5: Travelling Salesperson Defining Fitness Function as Part of Optimization Problem Definition Step\n",
    "\n",
    "# Create list of city coordinates\n",
    "coords_list = [(1, 1), (4, 2), (5, 2), (6, 4), (4, 4), (3, 6), (1, 5), (2, 3)]\n",
    "\n",
    "# Define optimization problem object\n",
    "problem_no_fit = mlrose_hiive.TSPOpt(length = 8, coords = coords_list, maximize = False)\n",
    "\n",
    "# Solve using genetic algorithm\n",
    "best_state, best_fitness, _ = mlrose_hiive.genetic_alg(problem_no_fit, mutation_prob = 0.2, max_attempts = 100, \n",
    "                                              random_state = 2)\n",
    "\n",
    "print(best_state)\n",
    "\n",
    "print(best_fitness)"
   ]
  }
 ],
 "metadata": {
  "kernelspec": {
   "display_name": "Python 3",
   "language": "python",
   "name": "python3"
  },
  "language_info": {
   "codemirror_mode": {
    "name": "ipython",
    "version": 3
   },
   "file_extension": ".py",
   "mimetype": "text/x-python",
   "name": "python",
   "nbconvert_exporter": "python",
   "pygments_lexer": "ipython3",
   "version": "3.7.6"
  }
 },
 "nbformat": 4,
 "nbformat_minor": 4
}
