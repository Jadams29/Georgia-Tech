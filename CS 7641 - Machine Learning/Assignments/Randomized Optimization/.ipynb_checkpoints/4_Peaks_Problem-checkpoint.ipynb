{
 "cells": [
  {
   "cell_type": "code",
   "execution_count": 1,
   "metadata": {},
   "outputs": [],
   "source": [
    "import mlrose_hiive\n",
    "import numpy as np\n",
    "\n",
    "from sklearn.datasets import load_iris\n",
    "from sklearn.model_selection import train_test_split\n",
    "from sklearn.preprocessing import MinMaxScaler, OneHotEncoder\n",
    "from sklearn.metrics import accuracy_score"
   ]
  },
  {
   "cell_type": "code",
   "execution_count": 2,
   "metadata": {},
   "outputs": [],
   "source": [
    "Queen = mlrose_hiive.QueensGenerator.generate(seed=10)"
   ]
  },
  {
   "cell_type": "code",
   "execution_count": 3,
   "metadata": {},
   "outputs": [],
   "source": [
    "fitness = mlrose_hiive.Queens()"
   ]
  },
  {
   "cell_type": "code",
   "execution_count": 4,
   "metadata": {},
   "outputs": [],
   "source": [
    "# Define alternative N-Queens fitness function for maximization problem\n",
    "def queens_max(state):\n",
    "    # Initialize counter\n",
    "    fitness_cnt = 0\n",
    "    # For all pairs of queens\n",
    "    for i in range(len(state) - 1):\n",
    "        for j in range(i + 1, len(state)):\n",
    "            # Check for horizontal, diagonal-up and diagonal-down attacks\n",
    "            if (state[j] != state[i]) and (state[j] != state[i] + (j - i)) and (state[j] != state[i] - (j - i)):\n",
    "                # If no attacks, then increment counter\n",
    "                fitness_cnt += 1\n",
    "    return fitness_cnt\n",
    "\n",
    "# Initialize custom fitness function object\n",
    "fitness_cust = mlrose_hiive.CustomFitness(queens_max)"
   ]
  },
  {
   "cell_type": "code",
   "execution_count": 5,
   "metadata": {},
   "outputs": [],
   "source": [
    "problem = mlrose_hiive.DiscreteOpt(length = 8, fitness_fn = fitness, maximize = False, max_val = 8)"
   ]
  },
  {
   "cell_type": "code",
   "execution_count": 7,
   "metadata": {},
   "outputs": [],
   "source": [
    "# Define decay schedule\n",
    "schedule = mlrose_hiive.ExpDecay()\n",
    "\n",
    "# Define initial state\n",
    "init_state = np.array([0, 1, 2, 3, 4, 5, 6, 7])\n",
    "\n",
    "# Solve problem using simulated annealing\n",
    "best_state, best_fitness, _ = mlrose_hiive.simulated_annealing(problem, schedule = schedule,\n",
    "                                                      max_attempts = 10, max_iters = 1000,\n",
    "                                                      init_state = init_state, random_state = 1)\n"
   ]
  }
 ],
 "metadata": {
  "kernelspec": {
   "display_name": "Python 3",
   "language": "python",
   "name": "python3"
  },
  "language_info": {
   "codemirror_mode": {
    "name": "ipython",
    "version": 3
   },
   "file_extension": ".py",
   "mimetype": "text/x-python",
   "name": "python",
   "nbconvert_exporter": "python",
   "pygments_lexer": "ipython3",
   "version": "3.7.6"
  }
 },
 "nbformat": 4,
 "nbformat_minor": 4
}
