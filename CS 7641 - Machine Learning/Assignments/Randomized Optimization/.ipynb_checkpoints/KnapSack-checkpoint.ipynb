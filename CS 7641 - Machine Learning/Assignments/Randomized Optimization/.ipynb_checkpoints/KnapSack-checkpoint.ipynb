{
 "cells": [
  {
   "cell_type": "code",
   "execution_count": 15,
   "metadata": {},
   "outputs": [],
   "source": [
    "import time\n",
    "import mlrose_hiive as mlrose\n",
    "import numpy as np\n",
    "import pandas as pd\n",
    "import matplotlib.pyplot as plt\n",
    "\n",
    "\n",
    "from sklearn.datasets import load_iris\n",
    "from sklearn.model_selection import train_test_split\n",
    "from sklearn.preprocessing import MinMaxScaler, OneHotEncoder\n",
    "from sklearn.metrics import accuracy_score\n",
    "\n",
    "random_state = 7\n",
    "start = 10\n",
    "stop = 110\n",
    "step = 40\n",
    "size=20"
   ]
  },
  {
   "cell_type": "markdown",
   "metadata": {
    "collapsed": true
   },
   "source": [
    "### Example 3: Travelling Salesperson Using Coordinate-Defined Fitness Function"
   ]
  },
  {
   "cell_type": "code",
   "execution_count": 49,
   "metadata": {},
   "outputs": [],
   "source": [
    "\n",
    "# Create list of distances between pairs of cities\n",
    "dist_list = [(0, 1, 3.1623), (0, 2, 4.1231), (0, 3, 5.8310), (0, 4, 4.2426), (0, 5, 5.3852),\n",
    "             (0, 6, 4.0000), (0, 7, 2.2361), (1, 2, 1.0000), (1, 3, 2.8284), (1, 4, 2.0000),\n",
    "             (1, 5, 4.1231), (1, 6, 4.2426), (1, 7, 2.2361), (2, 3, 2.2361), (2, 4, 2.2361),\n",
    "             (2, 5, 4.4721), (2, 6, 5.0000), (2, 7, 3.1623), (3, 4, 2.0000), (3, 5, 3.6056),\n",
    "             (3, 6, 5.0990), (3, 7, 4.1231), (4, 5, 2.2361), (4, 6, 3.1623), (4, 7, 2.2361),\n",
    "             (5, 6, 2.2361), (5, 7, 3.1623), (6, 7, 2.2361)]\n",
    "\n",
    "fitness_dists = mlrose.TravellingSales(distances = dist_list)\n",
    "\n",
    "fitness_problems = {\"FourPeaks\": mlrose.FourPeaks(t_pct=0.2),\n",
    "                    \"Knapsack\": mlrose.Knapsack(np.random.uniform(low=1, high=15, size=size).astype('int'), np.random.uniform(low=10, high=1000, size=size).astype('int'), max_weight_pct=0.6),\n",
    "                    \"TravelingSalesPerson\": mlrose.TSPOpt(length = 8, fitness_fn = fitness_dists, maximize = False),\n",
    "                    \"EightQueens\": mlrose.Queens()}"
   ]
  },
  {
   "cell_type": "code",
   "execution_count": 50,
   "metadata": {},
   "outputs": [
    {
     "ename": "AttributeError",
     "evalue": "'DiscreteOpt' object has no attribute 'evaluate'",
     "output_type": "error",
     "traceback": [
      "\u001b[1;31m---------------------------------------------------------------------------\u001b[0m",
      "\u001b[1;31mAttributeError\u001b[0m                            Traceback (most recent call last)",
      "\u001b[1;32m<ipython-input-50-81b4aa5e006e>\u001b[0m in \u001b[0;36m<module>\u001b[1;34m\u001b[0m\n\u001b[0;32m      5\u001b[0m     \u001b[1;32mfor\u001b[0m \u001b[0mmax_attempts\u001b[0m \u001b[1;32min\u001b[0m \u001b[0mrange\u001b[0m\u001b[1;33m(\u001b[0m\u001b[0mstart\u001b[0m\u001b[1;33m,\u001b[0m \u001b[0mstop\u001b[0m\u001b[1;33m,\u001b[0m \u001b[0mstep\u001b[0m\u001b[1;33m)\u001b[0m\u001b[1;33m:\u001b[0m\u001b[1;33m\u001b[0m\u001b[1;33m\u001b[0m\u001b[0m\n\u001b[0;32m      6\u001b[0m         \u001b[0mstart_time\u001b[0m \u001b[1;33m=\u001b[0m \u001b[0mtime\u001b[0m\u001b[1;33m.\u001b[0m\u001b[0mtime\u001b[0m\u001b[1;33m(\u001b[0m\u001b[1;33m)\u001b[0m\u001b[1;33m*\u001b[0m\u001b[1;36m1000\u001b[0m\u001b[1;33m\u001b[0m\u001b[1;33m\u001b[0m\u001b[0m\n\u001b[1;32m----> 7\u001b[1;33m         \u001b[0mbest_state\u001b[0m\u001b[1;33m,\u001b[0m \u001b[0mbest_fitness\u001b[0m\u001b[1;33m,\u001b[0m \u001b[0mcurve_vals\u001b[0m \u001b[1;33m=\u001b[0m \u001b[0mmlrose\u001b[0m\u001b[1;33m.\u001b[0m\u001b[0mrandom_hill_climb\u001b[0m\u001b[1;33m(\u001b[0m\u001b[0mproblem\u001b[0m\u001b[1;33m,\u001b[0m\u001b[0mmax_attempts\u001b[0m\u001b[1;33m=\u001b[0m\u001b[0mmax_attempts\u001b[0m\u001b[1;33m,\u001b[0m\u001b[0mcurve\u001b[0m\u001b[1;33m=\u001b[0m\u001b[1;32mTrue\u001b[0m\u001b[1;33m,\u001b[0m\u001b[0mrandom_state\u001b[0m\u001b[1;33m=\u001b[0m\u001b[0mrandom_state\u001b[0m\u001b[1;33m)\u001b[0m\u001b[1;33m\u001b[0m\u001b[1;33m\u001b[0m\u001b[0m\n\u001b[0m\u001b[0;32m      8\u001b[0m         \u001b[0mstop_time\u001b[0m \u001b[1;33m=\u001b[0m \u001b[0mtime\u001b[0m\u001b[1;33m.\u001b[0m\u001b[0mtime\u001b[0m\u001b[1;33m(\u001b[0m\u001b[1;33m)\u001b[0m\u001b[1;33m*\u001b[0m\u001b[1;36m1000\u001b[0m\u001b[1;33m\u001b[0m\u001b[1;33m\u001b[0m\u001b[0m\n\u001b[0;32m      9\u001b[0m         \u001b[0mruntime\u001b[0m \u001b[1;33m=\u001b[0m \u001b[0mstop_time\u001b[0m \u001b[1;33m-\u001b[0m \u001b[0mstart_time\u001b[0m\u001b[1;33m\u001b[0m\u001b[1;33m\u001b[0m\u001b[0m\n",
      "\u001b[1;32mC:\\ProgramData\\Anaconda3\\envs\\CS7641\\lib\\site-packages\\mlrose_hiive\\algorithms\\rhc.py\u001b[0m in \u001b[0;36mrandom_hill_climb\u001b[1;34m(problem, max_attempts, max_iters, restarts, init_state, curve, random_state, state_fitness_callback, callback_user_info)\u001b[0m\n\u001b[0;32m     88\u001b[0m         \u001b[1;31m# Initialize optimization problem and attempts counter\u001b[0m\u001b[1;33m\u001b[0m\u001b[1;33m\u001b[0m\u001b[1;33m\u001b[0m\u001b[0m\n\u001b[0;32m     89\u001b[0m         \u001b[1;32mif\u001b[0m \u001b[0minit_state\u001b[0m \u001b[1;32mis\u001b[0m \u001b[1;32mNone\u001b[0m\u001b[1;33m:\u001b[0m\u001b[1;33m\u001b[0m\u001b[1;33m\u001b[0m\u001b[0m\n\u001b[1;32m---> 90\u001b[1;33m             \u001b[0mproblem\u001b[0m\u001b[1;33m.\u001b[0m\u001b[0mreset\u001b[0m\u001b[1;33m(\u001b[0m\u001b[1;33m)\u001b[0m\u001b[1;33m\u001b[0m\u001b[1;33m\u001b[0m\u001b[0m\n\u001b[0m\u001b[0;32m     91\u001b[0m         \u001b[1;32melse\u001b[0m\u001b[1;33m:\u001b[0m\u001b[1;33m\u001b[0m\u001b[1;33m\u001b[0m\u001b[0m\n\u001b[0;32m     92\u001b[0m             \u001b[0mproblem\u001b[0m\u001b[1;33m.\u001b[0m\u001b[0mset_state\u001b[0m\u001b[1;33m(\u001b[0m\u001b[0minit_state\u001b[0m\u001b[1;33m)\u001b[0m\u001b[1;33m\u001b[0m\u001b[1;33m\u001b[0m\u001b[0m\n",
      "\u001b[1;32mC:\\ProgramData\\Anaconda3\\envs\\CS7641\\lib\\site-packages\\mlrose_hiive\\opt_probs\\discrete_opt.py\u001b[0m in \u001b[0;36mreset\u001b[1;34m(self)\u001b[0m\n\u001b[0;32m    397\u001b[0m         \"\"\"\n\u001b[0;32m    398\u001b[0m         \u001b[0mself\u001b[0m\u001b[1;33m.\u001b[0m\u001b[0mstate\u001b[0m \u001b[1;33m=\u001b[0m \u001b[0mself\u001b[0m\u001b[1;33m.\u001b[0m\u001b[0mrandom\u001b[0m\u001b[1;33m(\u001b[0m\u001b[1;33m)\u001b[0m\u001b[1;33m\u001b[0m\u001b[1;33m\u001b[0m\u001b[0m\n\u001b[1;32m--> 399\u001b[1;33m         \u001b[0mself\u001b[0m\u001b[1;33m.\u001b[0m\u001b[0mfitness\u001b[0m \u001b[1;33m=\u001b[0m \u001b[0mself\u001b[0m\u001b[1;33m.\u001b[0m\u001b[0meval_fitness\u001b[0m\u001b[1;33m(\u001b[0m\u001b[0mself\u001b[0m\u001b[1;33m.\u001b[0m\u001b[0mstate\u001b[0m\u001b[1;33m)\u001b[0m\u001b[1;33m\u001b[0m\u001b[1;33m\u001b[0m\u001b[0m\n\u001b[0m\u001b[0;32m    400\u001b[0m \u001b[1;33m\u001b[0m\u001b[0m\n\u001b[0;32m    401\u001b[0m     \u001b[1;32mdef\u001b[0m \u001b[0msample_pop\u001b[0m\u001b[1;33m(\u001b[0m\u001b[0mself\u001b[0m\u001b[1;33m,\u001b[0m \u001b[0msample_size\u001b[0m\u001b[1;33m)\u001b[0m\u001b[1;33m:\u001b[0m\u001b[1;33m\u001b[0m\u001b[1;33m\u001b[0m\u001b[0m\n",
      "\u001b[1;32mC:\\ProgramData\\Anaconda3\\envs\\CS7641\\lib\\site-packages\\mlrose_hiive\\opt_probs\\_opt_prob.py\u001b[0m in \u001b[0;36meval_fitness\u001b[1;34m(self, state)\u001b[0m\n\u001b[0;32m     92\u001b[0m             \u001b[1;32mraise\u001b[0m \u001b[0mException\u001b[0m\u001b[1;33m(\u001b[0m\u001b[1;34m\"state length must match problem length\"\u001b[0m\u001b[1;33m)\u001b[0m\u001b[1;33m\u001b[0m\u001b[1;33m\u001b[0m\u001b[0m\n\u001b[0;32m     93\u001b[0m \u001b[1;33m\u001b[0m\u001b[0m\n\u001b[1;32m---> 94\u001b[1;33m         \u001b[0mfitness\u001b[0m \u001b[1;33m=\u001b[0m \u001b[0mself\u001b[0m\u001b[1;33m.\u001b[0m\u001b[0mmaximize\u001b[0m\u001b[1;33m*\u001b[0m\u001b[0mself\u001b[0m\u001b[1;33m.\u001b[0m\u001b[0mfitness_fn\u001b[0m\u001b[1;33m.\u001b[0m\u001b[0mevaluate\u001b[0m\u001b[1;33m(\u001b[0m\u001b[0mstate\u001b[0m\u001b[1;33m)\u001b[0m\u001b[1;33m\u001b[0m\u001b[1;33m\u001b[0m\u001b[0m\n\u001b[0m\u001b[0;32m     95\u001b[0m \u001b[1;33m\u001b[0m\u001b[0m\n\u001b[0;32m     96\u001b[0m         \u001b[1;32mreturn\u001b[0m \u001b[0mfitness\u001b[0m\u001b[1;33m\u001b[0m\u001b[1;33m\u001b[0m\u001b[0m\n",
      "\u001b[1;31mAttributeError\u001b[0m: 'DiscreteOpt' object has no attribute 'evaluate'"
     ]
    }
   ],
   "source": [
    "for key in fitness_problems:\n",
    "    problem = mlrose.DiscreteOpt(length=size, fitness_fn=fitness_problems[key], maximize=True, max_val=2)\n",
    "    # Random Hill Climbing\n",
    "    algo_stats = []\n",
    "    for max_attempts in range(start, stop, step):\n",
    "        start_time = time.time()*1000\n",
    "        best_state, best_fitness, curve_vals = mlrose.random_hill_climb(problem,max_attempts=max_attempts,curve=True,random_state=random_state)\n",
    "        stop_time = time.time()*1000\n",
    "        runtime = stop_time - start_time\n",
    "        algo_stats.append([key, \"RHC\", best_state, best_fitness, max_attempts, curve_vals.size, curve_vals, runtime])  \n",
    "\n",
    "    # Genetic Algorithm\n",
    "    for max_attempts in range(start, stop, step):\n",
    "        start_time = time.time()*1000\n",
    "        best_state, best_fitness, curve_vals = mlrose.genetic_alg(problem, max_attempts=max_attempts,curve=True,random_state=random_state)\n",
    "        stop_time = time.time()*1000\n",
    "        runtime = stop_time - start_time\n",
    "        algo_stats.append([key, \"GA\", best_state, best_fitness, max_attempts, curve_vals.size, curve_vals, runtime]) \n",
    "\n",
    "    # Simulated Annealing\n",
    "    for max_attempts in range(start, stop, step):\n",
    "        start_time = time.time()*1000\n",
    "        best_state, best_fitness, curve_vals = mlrose.simulated_annealing(problem,max_attempts=max_attempts,curve=True,random_state=random_state)\n",
    "        stop_time = time.time()*1000\n",
    "        runtime = stop_time - start_time\n",
    "        algo_stats.append([key, \"SA\", best_state, best_fitness, max_attempts, curve_vals.size, curve_vals, runtime]) \n",
    "\n",
    "    # MIMIC\n",
    "    for max_attempts in range(start, stop, step):\n",
    "        start_time = time.time()*1000\n",
    "        best_state, best_fitness, curve_vals = mlrose.mimic(problem,max_attempts=max_attempts,curve=True,random_state=random_state)\n",
    "        stop_time = time.time()*1000\n",
    "        runtime = stop_time - start_time\n",
    "        algo_stats.append([key, \"MIMIC\", best_state, best_fitness, max_attempts, curve_vals.size, curve_vals, runtime])\n",
    "    \n",
    "    dfstats = pd.DataFrame(algo_stats, columns=['Problem', 'Algorithm', 'Best_State', 'Best_Fitness', 'Max_Attempts', 'Iterations', 'Fitness', 'Runtime'])\n",
    "\n",
    "    dfstats.sort_values(['Best_Fitness', 'Iterations'], ascending=[False, True]).iloc[0]\n",
    "    plt.close('all')\n",
    "    fig, axs = plt.subplots(1,3, figsize=(15, 6), facecolor='w', edgecolor='k', sharex=True, sharey=True)\n",
    "\n",
    "    fig.tight_layout()\n",
    "    for ax, max_attempts in zip(axs.ravel(), range(10, 110, 40)):\n",
    "        for i in range(0, dfstats[dfstats['Max_Attempts']==max_attempts].shape[0]):\n",
    "            ax.plot(dfstats[dfstats['Max_Attempts']==max_attempts].iloc[i]['Fitness'], label=dfstats[dfstats['Max_Attempts']==max_attempts].iloc[i]['Algorithm'])\n",
    "            ax.set_title('{}: Fitness Vs Iterations (Max Attempts: '.format(key)+str(max_attempts)+')')\n",
    "            ax.legend(loc='lower right')\n",
    "            ax.set_xlabel('Interations')\n",
    "            ax.set_ylabel('Fitness')\n",
    "            ax.minorticks_on()\n",
    "            ax.grid(b=True, which='major', color='k', linestyle='-', alpha=0.1)\n",
    "            ax.grid(b=True, which='minor', color='r', linestyle='-', alpha=0.05)\n",
    "            \n",
    "    plt.savefig(\"{}_Fitness.png\".format(key), bbox_inches='tight')  \n",
    "    \n",
    "    plt.close('all')\n",
    "    fig, axs = plt.subplots(1,3, figsize=(15, 6), facecolor='w', edgecolor='k', sharex=True, sharey=True)\n",
    "\n",
    "    fig.tight_layout()\n",
    "    for ax, max_attempts in zip(axs.ravel(), range(10, 110, 40)):\n",
    "        for i in range(0, dfstats[dfstats['Max_Attempts']==max_attempts].shape[0]):\n",
    "            ax.bar(dfstats[dfstats['Max_Attempts']==max_attempts]['Algorithm'],dfstats[dfstats['Max_Attempts']==max_attempts]['Runtime'])\n",
    "            ax.set_title('{}: Runtime (Max Attempts: '.format(key) +str(max_attempts)+')')\n",
    "            ax.set_xlabel('Algorithm')\n",
    "            ax.set_ylabel('Runtime (ms)')\n",
    "            ax.minorticks_on()\n",
    "            ax.grid(b=True, which='major', color='k', linestyle='-', alpha=0.1)\n",
    "            ax.grid(b=True, which='minor', color='r', linestyle='-', alpha=0.05)\n",
    "    \n",
    "    plt.savefig(\"{}_Runtime.png\".format(key), bbox_inches='tight') \n",
    "    \n"
   ]
  },
  {
   "cell_type": "code",
   "execution_count": null,
   "metadata": {},
   "outputs": [],
   "source": [
    "dfstats_KS = pd.DataFrame(algo_stats, columns=['Problem', 'Algorithm', 'Best_State', 'Best_Fitness', 'Max_Attempts', 'Iterations', 'Fitness', 'Runtime'])\n",
    "\n",
    "dfstats_KS.sort_values(['Best_Fitness', 'Iterations'], ascending=[False, True]).iloc[0]\n"
   ]
  },
  {
   "cell_type": "code",
   "execution_count": null,
   "metadata": {},
   "outputs": [],
   "source": [
    "fig, axs = plt.subplots(1,3, figsize=(15, 6), facecolor='w', edgecolor='k', sharex=True, sharey=True)\n",
    "\n",
    "fig.tight_layout()\n",
    "for ax, max_attempts in zip(axs.ravel(), range(10, 110, 40)):\n",
    "    for i in range(0, dfstats_KS[dfstats_KS['Max_Attempts']==max_attempts].shape[0]):\n",
    "        ax.plot(dfstats_KS[dfstats_KS['Max_Attempts']==max_attempts].iloc[i]['Fitness'], label=dfstats_KS[dfstats_KS['Max_Attempts']==max_attempts].iloc[i]['Algorithm'])\n",
    "        ax.set_title('Knapsack: Fitness Vs Iterations (Max Attempts: '+str(max_attempts)+')')\n",
    "        ax.legend(loc='lower right')\n",
    "        ax.set_xlabel('Interations')\n",
    "        ax.set_ylabel('Fitness')\n",
    "        ax.minorticks_on()\n",
    "        ax.grid(b=True, which='major', color='k', linestyle='-', alpha=0.1)\n",
    "        ax.grid(b=True, which='minor', color='r', linestyle='-', alpha=0.05)"
   ]
  },
  {
   "cell_type": "code",
   "execution_count": null,
   "metadata": {},
   "outputs": [],
   "source": [
    "fig, axs = plt.subplots(1,3, figsize=(15, 6), facecolor='w', edgecolor='k', sharex=True, sharey=True)\n",
    "\n",
    "fig.tight_layout()\n",
    "for ax, max_attempts in zip(axs.ravel(), range(10, 110, 40)):\n",
    "    for i in range(0, dfstats_KS[dfstats_KS['Max_Attempts']==max_attempts].shape[0]):\n",
    "        ax.bar(dfstats_KS[dfstats_KS['Max_Attempts']==max_attempts]['Algorithm'],dfstats_KS[dfstats_KS['Max_Attempts']==max_attempts]['Runtime'])\n",
    "        ax.set_title('Knapsack: Runtime (Max Attempts: '+str(max_attempts)+')')\n",
    "        ax.set_xlabel('Algorithm')\n",
    "        ax.set_ylabel('Runtime (ms)')\n",
    "        ax.minorticks_on()\n",
    "        ax.grid(b=True, which='major', color='k', linestyle='-', alpha=0.1)\n",
    "        ax.grid(b=True, which='minor', color='r', linestyle='-', alpha=0.05)"
   ]
  }
 ],
 "metadata": {
  "kernelspec": {
   "display_name": "Python 3",
   "language": "python",
   "name": "python3"
  },
  "language_info": {
   "codemirror_mode": {
    "name": "ipython",
    "version": 3
   },
   "file_extension": ".py",
   "mimetype": "text/x-python",
   "name": "python",
   "nbconvert_exporter": "python",
   "pygments_lexer": "ipython3",
   "version": "3.7.6"
  },
  "pycharm": {
   "stem_cell": {
    "cell_type": "raw",
    "metadata": {
     "collapsed": false
    },
    "source": []
   }
  }
 },
 "nbformat": 4,
 "nbformat_minor": 4
}
