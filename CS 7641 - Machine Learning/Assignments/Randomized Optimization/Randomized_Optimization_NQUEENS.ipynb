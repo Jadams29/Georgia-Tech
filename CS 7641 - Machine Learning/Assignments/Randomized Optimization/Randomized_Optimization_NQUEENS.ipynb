{
 "cells": [
  {
   "cell_type": "code",
   "execution_count": 1,
   "metadata": {},
   "outputs": [
    {
     "data": {
      "text/plain": [
       "<Figure size 1600x1200 with 0 Axes>"
      ]
     },
     "metadata": {},
     "output_type": "display_data"
    }
   ],
   "source": [
    "import numpy as np\n",
    "import time\n",
    "import pandas as pd\n",
    "import matplotlib.pyplot as plt\n",
    "import mlrose_hiive\n",
    "import seaborn as sns\n",
    "import ro_ml_util as utl\n",
    "import os\n",
    "import pickle\n",
    "import glob\n",
    "\n",
    "plt.style.use(\"ggplot\")\n",
    "folder = \"NQueens/\"\n",
    "\n",
    "SEED=42\n",
    "\n",
    "n_iterations = np.arange(1, 201, 1)\n",
    "prob_size = \"XL\"\n",
    "verbose = True\n",
    "problem_name = \"NQueens\""
   ]
  },
  {
   "cell_type": "code",
   "execution_count": 2,
   "metadata": {},
   "outputs": [
    {
     "name": "stdout",
     "output_type": "stream",
     "text": [
      "C:\\Users\\joshu\\OneDrive - Georgia Institute of Technology\\Georgia-Tech\\CS 7641 - Machine Learning\\Assignments\\Randomized Optimization\\NQueens/ folder already exists.\n"
     ]
    }
   ],
   "source": [
    "utl.check_folder(folder)"
   ]
  },
  {
   "cell_type": "markdown",
   "metadata": {},
   "source": [
    "# N-Queens"
   ]
  },
  {
   "cell_type": "code",
   "execution_count": 3,
   "metadata": {},
   "outputs": [],
   "source": [
    "iteration_list = np.concatenate((10 ** np.arange(1, 4, 1), (10 ** np.arange(1, 4, 1)) * 5)).tolist()\n",
    "\n",
    "rhc_params = {\"restart_list\": (2 ** np.arange(1, 9, 1)).tolist(),\n",
    "              \"iterations\": (2 ** np.arange(1, 9, 1)).tolist()}\n",
    "\n",
    "sa_params = {\"temperature_list\": (2 ** np.arange(1, 13, 1)).tolist(),\n",
    "             \"iterations\": (2 ** np.arange(1, 9, 1)).tolist()}\n",
    "\n",
    "ga_params = {\"population_sizes\": np.arange(25, 401, 25).tolist(),\n",
    "             \"iterations\": (2 ** np.arange(1, 9, 1)).tolist(),\n",
    "             \"mutation_rates\": np.round(np.arange(0.45, 0.91, 0.05), 2).tolist()}\n",
    "\n",
    "mimic_params = {\"population_sizes\": np.arange(2, 61, 2).tolist(),\n",
    "                \"keep_percent_list\": np.round(np.arange(0.1, 0.51, 0.05), 2).tolist(),\n",
    "                \"iterations\": (2 ** np.arange(1, 9, 1)).tolist()}"
   ]
  },
  {
   "cell_type": "code",
   "execution_count": null,
   "metadata": {},
   "outputs": [],
   "source": [
    "iteration_list"
   ]
  },
  {
   "cell_type": "code",
   "execution_count": null,
   "metadata": {},
   "outputs": [],
   "source": [
    "utl.run_optimization_tests(prob_name=\"nqueens\", parameters={\"RHC\": rhc_params, \"SA\": sa_params,\n",
    "                                                             \"GA\": ga_params, \"MIMIC\": mimic_params},\n",
    "                           size=\"m\", iterations=iteration_list, maximize=True, gridsearch=True,\n",
    "                           gen_curves=True, cv=2, max_attempts=(2 ** np.arange(1, 8, 1)).tolist())\n"
   ]
  },
  {
   "cell_type": "markdown",
   "metadata": {},
   "source": [
    "## Run with gridsearch=False"
   ]
  },
  {
   "cell_type": "code",
   "execution_count": null,
   "metadata": {},
   "outputs": [],
   "source": [
    "problem, folder = utl.determine_problem(prob_name=problem_name, size=\"m\", maximize=True, SEED=42)\n",
    "utl.run_optimization_tests(prob_name=\"nqueens\", parameters={\"RHC\": rhc_params, \"SA\": sa_params,\n",
    "                                                             \"GA\": ga_params, \"MIMIC\": mimic_params},\n",
    "                           size=\"m\", iterations=iteration_list, maximize=True, gridsearch=False,\n",
    "                           gen_curves=True, cv=2, max_attempts=(2 ** np.arange(1, 8, 1)).tolist(), \n",
    "                           change_pop=False, reset_pop=False)"
   ]
  },
  {
   "cell_type": "markdown",
   "metadata": {},
   "source": [
    "# Random Hill Climb"
   ]
  },
  {
   "cell_type": "code",
   "execution_count": 4,
   "metadata": {},
   "outputs": [
    {
     "name": "stdout",
     "output_type": "stream",
     "text": [
      "\n"
     ]
    }
   ],
   "source": [
    "problem, folder = utl.determine_problem(prob_name=problem_name, size=\"m\", maximize=True, SEED=42)\n",
    "\n",
    "with open(f\"{os.getcwd()}/{folder}/All_RHC_Results.pkl\", \"rb\") as input_file:\n",
    "    data = pickle.load(input_file)\n",
    "    input_file.close()\n",
    "\n",
    "utl.plot_discrete(all_results=data, folder=folder, prob_name=problem_name, alg_name=\"RHC\")\n",
    "print()"
   ]
  },
  {
   "cell_type": "markdown",
   "metadata": {},
   "source": [
    "# Genetic Algorithm"
   ]
  },
  {
   "cell_type": "code",
   "execution_count": 5,
   "metadata": {},
   "outputs": [
    {
     "name": "stdout",
     "output_type": "stream",
     "text": [
      "\n"
     ]
    }
   ],
   "source": [
    "problem, folder = utl.determine_problem(prob_name=problem_name, size=\"m\", maximize=True, SEED=42)\n",
    "\n",
    "with open(f\"{os.getcwd()}/{folder}/All_GA_Results.pkl\", \"rb\") as input_file:\n",
    "    data = pickle.load(input_file)\n",
    "    input_file.close()\n",
    "\n",
    "utl.plot_discrete(all_results=data, folder=folder, prob_name=problem_name, alg_name=\"GA\")\n",
    "print()"
   ]
  },
  {
   "cell_type": "markdown",
   "metadata": {},
   "source": [
    "# Simulated Annealing"
   ]
  },
  {
   "cell_type": "code",
   "execution_count": 6,
   "metadata": {},
   "outputs": [
    {
     "name": "stdout",
     "output_type": "stream",
     "text": [
      "\n"
     ]
    }
   ],
   "source": [
    "problem, folder = utl.determine_problem(prob_name=problem_name, size=\"m\", maximize=True, SEED=42)\n",
    "\n",
    "with open(f\"{os.getcwd()}/{folder}/All_SA_Results.pkl\", \"rb\") as input_file:\n",
    "    data = pickle.load(input_file)\n",
    "    input_file.close()\n",
    "\n",
    "utl.plot_discrete(all_results=data, folder=folder, prob_name=problem_name, alg_name=\"SA\")\n",
    "print()"
   ]
  },
  {
   "cell_type": "markdown",
   "metadata": {},
   "source": [
    "# MIMIC"
   ]
  },
  {
   "cell_type": "code",
   "execution_count": 7,
   "metadata": {},
   "outputs": [
    {
     "name": "stdout",
     "output_type": "stream",
     "text": [
      "\n"
     ]
    }
   ],
   "source": [
    "problem, folder = utl.determine_problem(prob_name=problem_name, size=\"m\", maximize=True, SEED=42)\n",
    "\n",
    "with open(f\"{os.getcwd()}/{folder}/All_MIMIC_Results.pkl\", \"rb\") as input_file:\n",
    "    data = pickle.load(input_file)\n",
    "    input_file.close()\n",
    "\n",
    "utl.plot_discrete(all_results=data, folder=folder, prob_name=problem_name, alg_name=\"MIMIC\")\n",
    "print()"
   ]
  }
 ],
 "metadata": {
  "kernelspec": {
   "display_name": "Python 3",
   "language": "python",
   "name": "python3"
  },
  "language_info": {
   "codemirror_mode": {
    "name": "ipython",
    "version": 3
   },
   "file_extension": ".py",
   "mimetype": "text/x-python",
   "name": "python",
   "nbconvert_exporter": "python",
   "pygments_lexer": "ipython3",
   "version": "3.7.9"
  },
  "toc": {
   "base_numbering": 1,
   "nav_menu": {},
   "number_sections": true,
   "sideBar": true,
   "skip_h1_title": false,
   "title_cell": "Table of Contents",
   "title_sidebar": "Contents",
   "toc_cell": false,
   "toc_position": {},
   "toc_section_display": true,
   "toc_window_display": false
  },
  "varInspector": {
   "cols": {
    "lenName": 16,
    "lenType": 16,
    "lenVar": 40
   },
   "kernels_config": {
    "python": {
     "delete_cmd_postfix": "",
     "delete_cmd_prefix": "del ",
     "library": "var_list.py",
     "varRefreshCmd": "print(var_dic_list())"
    },
    "r": {
     "delete_cmd_postfix": ") ",
     "delete_cmd_prefix": "rm(",
     "library": "var_list.r",
     "varRefreshCmd": "cat(var_dic_list()) "
    }
   },
   "position": {
    "height": "304px",
    "left": "1546px",
    "right": "20px",
    "top": "119px",
    "width": "354px"
   },
   "types_to_exclude": [
    "module",
    "function",
    "builtin_function_or_method",
    "instance",
    "_Feature"
   ],
   "window_display": false
  }
 },
 "nbformat": 4,
 "nbformat_minor": 4
}
