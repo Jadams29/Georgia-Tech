{
 "cells": [
  {
   "cell_type": "code",
   "execution_count": 7,
   "metadata": {},
   "outputs": [
    {
     "name": "stdout",
     "output_type": "stream",
     "text": [
      "C:\\Users\\joshu\\OneDrive - Georgia Institute of Technology\\Georgia-Tech\\CS 7641 - Machine Learning\\Assignments\\Randomized Optimization\\NeuralNetwork/ folder already exists.\n",
      "C:\\Users\\joshu\\OneDrive - Georgia Institute of Technology\\Georgia-Tech\\CS 7641 - Machine Learning\\Assignments\\Randomized Optimization\\NeuralNetwork/Randomized_Hill_Climbing folder already exists.\n"
     ]
    }
   ],
   "source": [
    "import numpy as np\n",
    "import time\n",
    "import pandas as pd\n",
    "import matplotlib.pyplot as plt\n",
    "import mlrose_hiive\n",
    "import seaborn as sns\n",
    "import ro_ml_util as utl\n",
    "import os\n",
    "import pickle\n",
    "import glob\n",
    "\n",
    "utl.check_folder(\"NeuralNetwork/\")\n",
    "plt.style.use(\"ggplot\")\n",
    "folder = \"NeuralNetwork/Randomized_Hill_Climbing\"\n",
    "utl.check_folder(folder)\n",
    "SEED=42\n",
    "\n",
    "n_iterations = np.arange(1, 201, 1)\n",
    "prob_size = \"XL\"\n",
    "verbose = True\n",
    "problem_name = \"Randomized_Hill_Climbing\""
   ]
  },
  {
   "cell_type": "markdown",
   "metadata": {},
   "source": [
    "# RandomHillClimb"
   ]
  },
  {
   "cell_type": "code",
   "execution_count": 2,
   "metadata": {},
   "outputs": [],
   "source": [
    "rhc_params = {\"iterations\": [10000],\n",
    "              \"learning_rates\": [1.0]}"
   ]
  },
  {
   "cell_type": "code",
   "execution_count": null,
   "metadata": {},
   "outputs": [
    {
     "name": "stdout",
     "output_type": "stream",
     "text": [
      "C:\\Users\\joshu\\OneDrive - Georgia Institute of Technology\\Georgia-Tech\\CS 7641 - Machine Learning\\Assignments\\Randomized Optimization\\NeuralNetwork/Randomized_Hill_Climbing folder already exists.\n",
      "dataset folder already exists.\n",
      "Fashion-MNIST dataset found:\n",
      "\tLoading Fashion-MNIST.feather\n",
      "\tFinished loading Fashion-MNIST dataset\n"
     ]
    }
   ],
   "source": [
    "best_nn_results = utl.find_best_neural_network_rhc(train_limit=1000, \n",
    "                                                   verbose=True,\n",
    "                                                   rhc_parameters=rhc_params)"
   ]
  },
  {
   "cell_type": "code",
   "execution_count": null,
   "metadata": {},
   "outputs": [],
   "source": [
    "best_nn_results"
   ]
  },
  {
   "cell_type": "code",
   "execution_count": null,
   "metadata": {},
   "outputs": [],
   "source": [
    "with open(f\"{os.getcwd()}/{folder}RHC_FINAL_Results_74_pct.pkl\", \"wb\") as f:\n",
    "    pickle.dump(best_nn_results, f)\n",
    "    f.close()"
   ]
  },
  {
   "cell_type": "code",
   "execution_count": 9,
   "metadata": {},
   "outputs": [],
   "source": [
    "with open(f\"{os.getcwd()}/{folder}/RandomHillClimbRHC_FINAL_Results_68_pct.pkl\", \"rb\") as input_file:\n",
    "    rhc_object = pickle.load(input_file)\n",
    "    input_file.close()"
   ]
  },
  {
   "cell_type": "code",
   "execution_count": 16,
   "metadata": {},
   "outputs": [
    {
     "data": {
      "text/plain": [
       "array([19.62177355, 19.47059241, 19.31789001, ...,  1.16900937,\n",
       "        1.16900937,  1.15865873])"
      ]
     },
     "execution_count": 16,
     "metadata": {},
     "output_type": "execute_result"
    }
   ],
   "source": [
    "rhc_object[\"Best_Network_Object\"].fitness_curve"
   ]
  },
  {
   "cell_type": "code",
   "execution_count": null,
   "metadata": {},
   "outputs": [],
   "source": [
    "fig, (ax1) = plt.subplots(1, 1, figsize=(8, 6))\n",
    "ax = utl.heatmap(best_nn_results[\"attempt_vs_iteration_train\"], \n",
    "                 row_labels=best_nn_results[\"attempt_vs_iteration_train\"].index,\n",
    "                 col_labels=best_nn_results[\"attempt_vs_iteration_train\"].columns, \n",
    "                 ax=ax1, cbarlabel=\"Accuracy\",\n",
    "                 x_label=\"Learning Rates\", \n",
    "                 y_label=\"Iterations\", \n",
    "                 title=f\"Fashion-MNIST\\n Random Hill Climb NN - Training\", \n",
    "                 folder=folder,\n",
    "                 filename=\"Fashion_MNIST_Random_Hill_Climb_NN_LR_VS_Iteration_Training_First\")\n"
   ]
  }
 ],
 "metadata": {
  "kernelspec": {
   "display_name": "Python 3",
   "language": "python",
   "name": "python3"
  },
  "language_info": {
   "codemirror_mode": {
    "name": "ipython",
    "version": 3
   },
   "file_extension": ".py",
   "mimetype": "text/x-python",
   "name": "python",
   "nbconvert_exporter": "python",
   "pygments_lexer": "ipython3",
   "version": "3.7.9"
  },
  "toc": {
   "base_numbering": 1,
   "nav_menu": {},
   "number_sections": true,
   "sideBar": true,
   "skip_h1_title": false,
   "title_cell": "Table of Contents",
   "title_sidebar": "Contents",
   "toc_cell": false,
   "toc_position": {},
   "toc_section_display": true,
   "toc_window_display": false
  },
  "varInspector": {
   "cols": {
    "lenName": 16,
    "lenType": 16,
    "lenVar": 40
   },
   "kernels_config": {
    "python": {
     "delete_cmd_postfix": "",
     "delete_cmd_prefix": "del ",
     "library": "var_list.py",
     "varRefreshCmd": "print(var_dic_list())"
    },
    "r": {
     "delete_cmd_postfix": ") ",
     "delete_cmd_prefix": "rm(",
     "library": "var_list.r",
     "varRefreshCmd": "cat(var_dic_list()) "
    }
   },
   "position": {
    "height": "304px",
    "left": "1546px",
    "right": "20px",
    "top": "119px",
    "width": "354px"
   },
   "types_to_exclude": [
    "module",
    "function",
    "builtin_function_or_method",
    "instance",
    "_Feature"
   ],
   "window_display": false
  }
 },
 "nbformat": 4,
 "nbformat_minor": 4
}
