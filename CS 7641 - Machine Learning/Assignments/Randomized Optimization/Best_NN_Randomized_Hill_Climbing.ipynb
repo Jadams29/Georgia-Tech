{
 "cells": [
  {
   "cell_type": "code",
   "execution_count": 1,
   "metadata": {},
   "outputs": [
    {
     "data": {
      "text/plain": [
       "<Figure size 1600x1200 with 0 Axes>"
      ]
     },
     "metadata": {},
     "output_type": "display_data"
    }
   ],
   "source": [
    "import ro_ml_util as utl\n",
    "import mlrose_hiive as mlrose_hiive\n",
    "from mlrose_hiive.algorithms.decay import ArithDecay, ExpDecay, GeomDecay"
   ]
  },
  {
   "cell_type": "code",
   "execution_count": 2,
   "metadata": {},
   "outputs": [
    {
     "name": "stdout",
     "output_type": "stream",
     "text": [
      "dataset folder already exists.\n",
      "Fashion-MNIST dataset found:\n",
      "\tLoading Fashion-MNIST.feather\n",
      "\tFinished loading Fashion-MNIST dataset\n"
     ]
    }
   ],
   "source": [
    "gathered_data_fashion = utl.setup([\"Fashion-MNIST\"])\n",
    "\n",
    "fashion_train_X, fashion_train_y, fashion_valid_X, fashion_valid_y, fashion_test_X, fashion_test_y = utl.split_data(\n",
    "    gathered_data_fashion[\"Fashion-MNIST\"][\"X\"],\n",
    "    gathered_data_fashion[\"Fashion-MNIST\"][\"y\"], oneHot=True, minMax=True)"
   ]
  },
  {
   "cell_type": "code",
   "execution_count": 3,
   "metadata": {},
   "outputs": [],
   "source": [
    "gathered_data_fashion = utl.setup([\"Fashion-MNIST\"])\n",
    "\n",
    "fashion_train_X, fashion_train_y, fashion_valid_X, fashion_valid_y, fashion_test_X, fashion_test_y = utl.split_data(\n",
    "    gathered_data_fashion[\"Fashion-MNIST\"][\"X\"],\n",
    "    gathered_data_fashion[\"Fashion-MNIST\"][\"y\"], oneHot=True, minMax=True)\n",
    "val = 1000\n",
    "pred_val = 1000\n",
    "train_sizes = np.linspace(0.05, 1.0, 10)\n",
    "temp_nn = mlrose_hiive.NeuralNetwork(hidden_nodes=[100], activation='relu', pop_size=200,\n",
    "                                     mutation_prob=0.1, schedule=GeomDecay(), learning_rate=10,\n",
    "                                     max_iters=1000, algorithm='random_hill_climb', bias=True,\n",
    "                                     is_classifier=True, early_stopping=True, clip_max=1e+5,\n",
    "                                     max_attempts=10, restarts=0, random_state=45, curve=True)\n",
    "utl.plot_learning_curve(estimator=temp_nn, title=\"Randomized Hill Climb\", test_X=fashion_test_X.iloc[:val, :],\n",
    "                        \n",
    "                        test_y=fashion_test_y.iloc[:val, :], train_X=fashion_train_X.iloc[:val, :], \n",
    "                        train_y=fashion_train_y.iloc[:val, :],\n",
    "                        cv=5, f_name=\"IDK\", \n",
    "                        train_sizes=[], folder='NeuralNetwork', save_individual=True, TESTING=True, \n",
    "                        backend='loky', n_jobs=6, extra_name=\"Final_Learning_Curve\", confusion=True)"
   ]
  },
  {
   "cell_type": "code",
   "execution_count": 4,
   "metadata": {},
   "outputs": [],
   "source": [
    "temp_nn = mlrose_hiive.NeuralNetwork(hidden_nodes=[100], activation='relu', pop_size=200,\n",
    "                                     mutation_prob=0.1, schedule=GeomDecay(), learning_rate=10,\n",
    "                                     max_iters=1000, algorithm='random_hill_climb', bias=True,\n",
    "                                     is_classifier=True, early_stopping=True, clip_max=1e+5,\n",
    "                                     max_attempts=10, restarts=0, random_state=45, curve=True)"
   ]
  },
  {
   "cell_type": "code",
   "execution_count": 6,
   "metadata": {},
   "outputs": [
    {
     "name": "stdout",
     "output_type": "stream",
     "text": [
      "Exception in plot_learning_curve:\n",
      " zero-size array to reduction operation minimum which has no identity\n",
      "<class 'ValueError'> ro_ml_util.py 368\n"
     ]
    }
   ],
   "source": [
    "utl.plot_learning_curve(estimator=temp_nn, title=\"Randomized Hill Climb\", test_X=fashion_test_X.iloc[:val, :],\n",
    "                        test_y=fashion_test_y.iloc[:val, :], train_X=fashion_train_X.iloc[:val, :], \n",
    "                        train_y=fashion_train_y.iloc[:val, :],\n",
    "                        cv=5, f_name=\"IDK\", \n",
    "                        train_sizes=[], folder='NeuralNetwork', save_individual=True, TESTING=True, \n",
    "                        backend='loky', n_jobs=6, extra_name=\"Final_Learning_Curve\", confusion=True)"
   ]
  }
 ],
 "metadata": {
  "kernelspec": {
   "display_name": "Python 3",
   "language": "python",
   "name": "python3"
  },
  "language_info": {
   "codemirror_mode": {
    "name": "ipython",
    "version": 3
   },
   "file_extension": ".py",
   "mimetype": "text/x-python",
   "name": "python",
   "nbconvert_exporter": "python",
   "pygments_lexer": "ipython3",
   "version": "3.7.9"
  },
  "toc": {
   "base_numbering": 1,
   "nav_menu": {},
   "number_sections": true,
   "sideBar": true,
   "skip_h1_title": false,
   "title_cell": "Table of Contents",
   "title_sidebar": "Contents",
   "toc_cell": false,
   "toc_position": {},
   "toc_section_display": true,
   "toc_window_display": false
  },
  "varInspector": {
   "cols": {
    "lenName": 16,
    "lenType": 16,
    "lenVar": 40
   },
   "kernels_config": {
    "python": {
     "delete_cmd_postfix": "",
     "delete_cmd_prefix": "del ",
     "library": "var_list.py",
     "varRefreshCmd": "print(var_dic_list())"
    },
    "r": {
     "delete_cmd_postfix": ") ",
     "delete_cmd_prefix": "rm(",
     "library": "var_list.r",
     "varRefreshCmd": "cat(var_dic_list()) "
    }
   },
   "types_to_exclude": [
    "module",
    "function",
    "builtin_function_or_method",
    "instance",
    "_Feature"
   ],
   "window_display": false
  }
 },
 "nbformat": 4,
 "nbformat_minor": 4
}
