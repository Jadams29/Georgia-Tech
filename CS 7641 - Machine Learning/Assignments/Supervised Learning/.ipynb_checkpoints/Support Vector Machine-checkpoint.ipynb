{
 "cells": [
  {
   "cell_type": "markdown",
   "metadata": {},
   "source": [
    "# Initialize and Setup"
   ]
  },
  {
   "cell_type": "code",
   "execution_count": null,
   "metadata": {},
   "outputs": [],
   "source": [
    "import os\n",
    "import time\n",
    "\n",
    "import numpy as np\n",
    "from sklearn.model_selection import ParameterGrid\n",
    "from sklearn.model_selection import cross_val_predict\n",
    "from sklearn.svm import SVC\n",
    "from sklearn.metrics import precision_recall_curve\n",
    "\n",
    "import ml_util as utl\n",
    "\n",
    "save_directory = \"figures/SVM\"\n",
    "model_name = \"SVM\"\n",
    "\n",
    "folders = [\"figures/SVM/Grid_Search_Results\",\n",
    "           \"figures/SVM/Complexity_Analysis\",\n",
    "           \"figures/SVM/Learning_Curves\",\n",
    "           \"figures/SVM/Confusion_Matrix\",\n",
    "           \"figures/SVM/Metrics\"]\n",
    "\n",
    "directories = {\n",
    "    \"Save Directory\": \"figures/SVM\",\n",
    "    \"Initial Complexity Analysis\": \"figures/SVM/Initial Complexity Analysis\",\n",
    "    \"Grid Search Results\": \"figures/SVM/Grid Search Results\",\n",
    "    \"Learning Curves\": \"figures/SVM/Learning Curves\",\n",
    "    \"Final Complexity Analysis\": \"figures/SVM/Final Complexity Analysis\"\n",
    "}\n",
    "\n",
    "Random_Number = 42\n",
    "TESTING =  False\n",
    "cv = 5\n",
    "n_jobs = 6\n",
    "np.random.seed(42)\n",
    "# get_ipython().system('pip install pyarrow')"
   ]
  },
  {
   "cell_type": "code",
   "execution_count": null,
   "metadata": {},
   "outputs": [],
   "source": [
    "gathered_data = utl.setup([\"MNIST\"])\n",
    "gathered_data_fashion = utl.setup([\"Fashion-MNIST\"])\n",
    "train_X, train_y, valid_X, valid_y, test_X, test_y = utl.split_data(gathered_data[\"MNIST\"][\"X\"],\n",
    "                                                                    gathered_data[\"MNIST\"][\"y\"], normalize=True)\n",
    "fashion_train_X, fashion_train_y, fashion_valid_X, fashion_valid_y, fashion_test_X, fashion_test_y = utl.split_data(\n",
    "    gathered_data_fashion[\"Fashion-MNIST\"][\"X\"],\n",
    "    gathered_data_fashion[\"Fashion-MNIST\"][\"y\"],\n",
    "    normalize=True)"
   ]
  },
  {
   "cell_type": "code",
   "execution_count": null,
   "metadata": {},
   "outputs": [],
   "source": [
    "CHECK_FOLDER = os.path.isdir(save_directory)\n",
    "\n",
    "# If folder doesn't exist, then create it.\n",
    "if not CHECK_FOLDER:\n",
    "    os.makedirs(save_directory)\n",
    "    print(\"created folder : \", save_directory)\n",
    "else:\n",
    "    print(save_directory, \"folder already exists.\")\n",
    "\n",
    "for f in folders:\n",
    "    if not os.path.isdir(f):\n",
    "        os.makedirs(f)\n",
    "        print(\"created folder : \", f)\n",
    "    else:\n",
    "        print(f, \"folder already exists.\")"
   ]
  },
  {
   "cell_type": "code",
   "execution_count": null,
   "metadata": {},
   "outputs": [],
   "source": [
    "# Kernel ~ 'rbf'\n",
    "#          'sigmoid'\n",
    "\n",
    "# degree ~ The degree of the polynomial (only used with poly kernel)\n",
    "\n",
    "if TESTING:\n",
    "    val = 600\n",
    "    pred_val = 600\n",
    "    train_sizes = np.linspace(0.05, 1.0, 5)\n",
    "else:\n",
    "    val = 3000\n",
    "    pred_val = 3000\n",
    "    train_sizes = np.linspace(0.05, 1.0, 3)"
   ]
  },
  {
   "cell_type": "code",
   "execution_count": null,
   "metadata": {},
   "outputs": [],
   "source": [
    "a = 10. ** np.arange(-4, 4, 1)\n",
    "if TESTING:\n",
    "    e = np.sort(a)\n",
    "else:\n",
    "    e = np.sort(np.hstack((a, a * 3, a * 5, a * 7)))"
   ]
  },
  {
   "cell_type": "code",
   "execution_count": null,
   "metadata": {},
   "outputs": [],
   "source": [
    "# Vary the kernel { \"rbf\", \"sigmoid\"}\n",
    "\n",
    "# Vary the training sizes"
   ]
  },
  {
   "cell_type": "code",
   "execution_count": null,
   "metadata": {},
   "outputs": [],
   "source": [
    "e"
   ]
  },
  {
   "cell_type": "markdown",
   "metadata": {},
   "source": [
    "# Initial Model Complexity: RBF"
   ]
  },
  {
   "cell_type": "code",
   "execution_count": null,
   "metadata": {},
   "outputs": [],
   "source": [
    "parameter_range = e\n",
    "param_name = \"C\"\n",
    "param_name_plot = \"C\"\n",
    "kernel_name = \"RBF\""
   ]
  },
  {
   "cell_type": "code",
   "execution_count": null,
   "metadata": {},
   "outputs": [],
   "source": [
    "mnist_train_results_rbf = None\n",
    "mnist_test_results_rbf = None\n",
    "fashion_train_results_rbf = None\n",
    "fashion_test_results_rbf = None"
   ]
  },
  {
   "cell_type": "code",
   "execution_count": null,
   "metadata": {},
   "outputs": [],
   "source": [
    "start_time = time.time()\n",
    "for i in range(2):\n",
    "    if i == 0:\n",
    "        temp_train_X = train_X.iloc[:val, :]\n",
    "        temp_train_y = train_y.iloc[:val]\n",
    "        f_name = f\"{model_name}_{param_name}_MNIST_{kernel_name}\"\n",
    "        algorithm_name = f\"{model_name} {param_name} MNIST\\n Model Complexity {kernel_name}\"\n",
    "        plot_title = f\"{model_name} MNIST\\n Model Complexity Kernel: {kernel_name}\"\n",
    "    else:\n",
    "        temp_train_X = fashion_train_X.iloc[:val, :]\n",
    "        temp_train_y = fashion_train_y.iloc[:val]\n",
    "        f_name = f\"{model_name}_{param_name}_Fashion_MNIST_{kernel_name}\"\n",
    "        algorithm_name = f\"{model_name} {param_name} Fashion MNIST\\n Model Complexity {kernel_name}\"\n",
    "        plot_title = f\"{model_name} Fashion MNIST\\n Model Complexity Kernel: {kernel_name}\"\n",
    "    \n",
    "    temp_train, temp_test = utl.get_model_complexity(classifier=SVC(kernel=kernel_name.lower(), cache_size=400),\n",
    "                                                     train_X=temp_train_X, train_y=temp_train_y, parameter_name=param_name,\n",
    "                                                     save_dir=save_directory, algorithm_name=algorithm_name, \n",
    "                                                     parameter_range=parameter_range, cv=5,\n",
    "                                                     n_jobs=n_jobs, verbose=5, backend='loky',\n",
    "                                                     param_name_for_plot=param_name_plot,\n",
    "                                                     f_name=f_name, plot_title=plot_title, is_SVM=True,\n",
    "                                                     extra_name=\"RBF\", folder=\"SVM\", use_log_x=True)\n",
    "    if i == 0:\n",
    "        mnist_train_results_rbf = temp_train\n",
    "        mnist_test_results_rbf = temp_test\n",
    "    else:\n",
    "        fashion_train_results_rbf = temp_train\n",
    "        fashion_test_results_rbf = temp_test\n",
    "\n",
    "end_time = time.time()\n",
    "elapsed_time = end_time - start_time\n",
    "print(f\"Run Time: {elapsed_time}s\")\n"
   ]
  },
  {
   "cell_type": "code",
   "execution_count": null,
   "metadata": {},
   "outputs": [],
   "source": [
    "utl.plot_combined_complexity(\"SVM\", \"C\", is_NN=False, is_SVM=True, parameter_range=parameter_range,\n",
    "                             orientation='Horizontal', plt_width=12, plt_height=6, extra_name=\"RBF\",\n",
    "                             mnist_train_complex=mnist_train_results_rbf, mnist_test_complex=mnist_test_results_rbf,\n",
    "                             fashion_train_complex=fashion_train_results_rbf, use_log_x=True, use_saved=False,\n",
    "                             fashion_test_complex=fashion_test_results_rbf, folder=\"SVM\", only_one=True, which_one='rbf')"
   ]
  },
  {
   "cell_type": "markdown",
   "metadata": {},
   "source": [
    "# Initial Confusion Matrix: RBF"
   ]
  },
  {
   "cell_type": "code",
   "execution_count": null,
   "metadata": {},
   "outputs": [],
   "source": [
    "clf = SVC(kernel='rbf', cache_size=400)\n",
    "clf.fit(train_X.iloc[:val, :], train_y.iloc[:val])\n",
    "\n",
    "clf2 = SVC(kernel='rbf', cache_size=400)\n",
    "clf2.fit(fashion_train_X.iloc[:val, :], fashion_train_y.iloc[:val])"
   ]
  },
  {
   "cell_type": "code",
   "execution_count": null,
   "metadata": {},
   "outputs": [],
   "source": [
    "utl.plot_combined_confusion_matrix(clf, valid_X, valid_y, clf2, fashion_valid_X, fashion_valid_y,\n",
    "                                   directory=save_directory, fmt=None, plot_width=12, plot_height=6, extra_name=\"RBF\",\n",
    "                                   folder=\"SVM\")"
   ]
  },
  {
   "cell_type": "markdown",
   "metadata": {},
   "source": [
    "# Initial Learning Curve: RBF"
   ]
  },
  {
   "cell_type": "code",
   "execution_count": null,
   "metadata": {},
   "outputs": [],
   "source": [
    "initial_svm_rbf = SVC(kernel='rbf')"
   ]
  },
  {
   "cell_type": "code",
   "execution_count": null,
   "metadata": {},
   "outputs": [],
   "source": [
    "start_time = time.time()\n",
    "results = []\n",
    "for i in range(2):\n",
    "    print(f\"Working on learning curve: {i}\")\n",
    "    res = {\"plt\": None,\n",
    "           \"svm_results\": None,\n",
    "           \"cv_results\": None}\n",
    "    if i == 0:\n",
    "        temp_train_X = train_X.iloc[:val, :]\n",
    "        temp_train_y = train_y.iloc[:val]\n",
    "        title = f\"{model_name} MNIST Learning Curve\"\n",
    "        f_name = f\"{model_name}_MNIST\"\n",
    "    else:\n",
    "        temp_train_X = fashion_train_X.iloc[:val, :]\n",
    "        temp_train_y = fashion_train_y.iloc[:val]\n",
    "        title = f\"{model_name} Fashion MNIST Learning Curve\"\n",
    "        f_name = f\"{model_name}_Fashion_MNIST\"\n",
    "    \n",
    "    res['svm_results'], res['cv_results'] = utl.plot_learning_curve(estimator=initial_svm_rbf, title=title,\n",
    "                                                                    train_X=temp_train_X, train_y=temp_train_y, cv=cv,\n",
    "                                                                    f_name=f_name, train_sizes=train_sizes,\n",
    "                                                                    folder=\"SVM\",\n",
    "                                                                    save_individual=True, TESTING=True, backend='loky',\n",
    "                                                                    n_jobs=n_jobs,\n",
    "                                                                    extra_name=\"RBF\")\n",
    "    results.append(res)\n",
    "\n",
    "end_time = time.time()\n",
    "elapsed_time = end_time - start_time\n",
    "print(f\"Run Time: {elapsed_time}s\")"
   ]
  },
  {
   "cell_type": "markdown",
   "metadata": {},
   "source": [
    "# Initial Metrics: RBF"
   ]
  },
  {
   "cell_type": "code",
   "execution_count": null,
   "metadata": {},
   "outputs": [],
   "source": [
    "clf = SVC(kernel='rbf', cache_size=400) # need to change to reflect learning curve results\n",
    "p, r, f1 = utl.plot_precision_recall(clf, train_X.iloc[:2000, :], train_y.iloc[:2000], valid_X.iloc[:2000, :],\n",
    "                                 valid_y.iloc[:2000], folder=\"SVM\", dataset_name=\"MNIST\",\n",
    "                                 plot_title=\"Support Vector Machine\")"
   ]
  },
  {
   "cell_type": "markdown",
   "metadata": {},
   "source": [
    "# Initial Model Complexity: Linear"
   ]
  },
  {
   "cell_type": "code",
   "execution_count": null,
   "metadata": {},
   "outputs": [],
   "source": [
    "parameter_range = np.sort(e.flatten())\n",
    "param_name = \"C\"\n",
    "param_name_plot = \"C\"\n",
    "kernel_name = \"Linear\""
   ]
  },
  {
   "cell_type": "code",
   "execution_count": null,
   "metadata": {},
   "outputs": [],
   "source": [
    "mnist_train_results_lin = None\n",
    "mnist_test_results_lin = None\n",
    "fashion_train_results_lin = None\n",
    "fashion_test_results_lin = None"
   ]
  },
  {
   "cell_type": "code",
   "execution_count": null,
   "metadata": {},
   "outputs": [],
   "source": [
    "start_time = time.time()\n",
    "for i in range(2):\n",
    "    if i == 0:\n",
    "        temp_train_X = train_X.iloc[:val, :]\n",
    "        temp_train_y = train_y.iloc[:val]\n",
    "        f_name = f\"{model_name}_{param_name}_MNIST_{kernel_name}\"\n",
    "        algorithm_name = f\"{model_name} {param_name} MNIST\\n Model Complexity {kernel_name}\"\n",
    "        plot_title = f\"{model_name} MNIST\\n Model Complexity Kernel: {kernel_name}\"\n",
    "    else:\n",
    "        temp_train_X = fashion_train_X.iloc[:val, :]\n",
    "        temp_train_y = fashion_train_y.iloc[:val]\n",
    "        f_name = f\"{model_name}_{param_name}_Fashion_MNIST_{kernel_name}\"\n",
    "        algorithm_name = f\"{model_name} {param_name} Fashion MNIST\\n Model Complexity {kernel_name}\"\n",
    "        plot_title = f\"{model_name} Fashion MNIST\\n Model Complexity Kernel: {kernel_name}\"\n",
    "    \n",
    "    temp_train, temp_test = utl.get_model_complexity(classifier=SVC(kernel=kernel_name.lower(), cache_size=400),\n",
    "                                                     train_X=temp_train_X,\n",
    "                                                     train_y=temp_train_y, parameter_name=param_name,\n",
    "                                                     save_dir=save_directory,\n",
    "                                                     algorithm_name=algorithm_name, parameter_range=parameter_range,\n",
    "                                                     cv=5, use_log_x=True,\n",
    "                                                     n_jobs=n_jobs, verbose=5, backend='loky',\n",
    "                                                     param_name_for_plot=param_name_plot,\n",
    "                                                     f_name=f_name, plot_title=plot_title, is_SVM=True,\n",
    "                                                     extra_name=\"Linear\", folder=\"SVM\")\n",
    "    if i == 0:\n",
    "        mnist_train_results_lin = temp_train\n",
    "        mnist_test_results_lin = temp_test\n",
    "    else:\n",
    "        fashion_train_results_lin = temp_train\n",
    "        fashion_test_results_lin = temp_test\n",
    "\n",
    "end_time = time.time()\n",
    "elapsed_time = end_time - start_time\n",
    "print(f\"Run Time: {elapsed_time}s\")"
   ]
  },
  {
   "cell_type": "code",
   "execution_count": null,
   "metadata": {},
   "outputs": [],
   "source": [
    "utl.plot_combined_complexity(\"SVM\", \"C\", is_NN=False, is_SVM=True, parameter_range=parameter_range,\n",
    "                             orientation='Horizontal', plt_width=12, plt_height=6, extra_name=\"Linear\",\n",
    "                             mnist_train_complex=mnist_train_results_lin, mnist_test_complex=mnist_test_results_lin,\n",
    "                             fashion_train_complex=fashion_train_results_lin, use_log_x=True, use_saved=False,\n",
    "                             fashion_test_complex=fashion_test_results_lin, folder=\"SVM\", only_one=True, which_one='linear',\n",
    "                             ylim=(0.1, 1.05))"
   ]
  },
  {
   "cell_type": "markdown",
   "metadata": {},
   "source": [
    "# Initial Confusion Matrix: Linear"
   ]
  },
  {
   "cell_type": "code",
   "execution_count": null,
   "metadata": {},
   "outputs": [],
   "source": [
    "clf = SVC(kernel='linear', cache_size=400)\n",
    "clf.fit(train_X.iloc[:val, :], train_y.iloc[:val])\n",
    "\n",
    "clf2 = SVC(kernel='linear', cache_size=400)\n",
    "clf2.fit(fashion_train_X.iloc[:val, :], fashion_train_y.iloc[:val])"
   ]
  },
  {
   "cell_type": "code",
   "execution_count": null,
   "metadata": {},
   "outputs": [],
   "source": [
    "utl.plot_combined_confusion_matrix(clf, valid_X, valid_y, clf2, fashion_valid_X, fashion_valid_y,\n",
    "                                   directory=save_directory, fmt=None, plot_width=12, plot_height=6,\n",
    "                                   extra_name=\"Linear\", folder=\"SVM\")"
   ]
  },
  {
   "cell_type": "markdown",
   "metadata": {},
   "source": [
    "# Initial Learning Curve: Linear"
   ]
  },
  {
   "cell_type": "code",
   "execution_count": null,
   "metadata": {},
   "outputs": [],
   "source": [
    "initial_svm_linear = SVC(kernel='linear')"
   ]
  },
  {
   "cell_type": "code",
   "execution_count": null,
   "metadata": {},
   "outputs": [],
   "source": [
    "start_time = time.time()\n",
    "results = []\n",
    "for i in range(2):\n",
    "    print(f\"Working on learning curve: {i}\")\n",
    "    res = {\"plt\": None,\n",
    "           \"svm_results\": None,\n",
    "           \"cv_results\": None}\n",
    "    if i == 0:\n",
    "        temp_train_X = train_X.iloc[:val, :]\n",
    "        temp_train_y = train_y.iloc[:val]\n",
    "        title = f\"{model_name} MNIST Learning Curve\"\n",
    "        f_name = f\"{model_name}_MNIST\"\n",
    "    else:\n",
    "        temp_train_X = fashion_train_X.iloc[:val, :]\n",
    "        temp_train_y = fashion_train_y.iloc[:val]\n",
    "        title = f\"{model_name} Fashion MNIST Learning Curve\"\n",
    "        f_name = f\"{model_name}_Fashion_MNIST\"\n",
    "    \n",
    "    res['svm_results'], res['cv_results'] = utl.plot_learning_curve(estimator=initial_svm_linear, title=title,\n",
    "                                                                    train_X=temp_train_X, train_y=temp_train_y, cv=cv,\n",
    "                                                                    f_name=f_name, train_sizes=train_sizes,\n",
    "                                                                    folder=\"SVM\",\n",
    "                                                                    save_individual=True, TESTING=True, backend='loky',\n",
    "                                                                    n_jobs=n_jobs,\n",
    "                                                                    extra_name=\"Linear\")\n",
    "    results.append(res)\n",
    "\n",
    "end_time = time.time()\n",
    "elapsed_time = end_time - start_time\n",
    "print(f\"Run Time: {elapsed_time}s\")"
   ]
  },
  {
   "cell_type": "code",
   "execution_count": null,
   "metadata": {},
   "outputs": [],
   "source": [
    "print(\"hey\")"
   ]
  },
  {
   "cell_type": "markdown",
   "metadata": {},
   "source": [
    "# Initial Metrics: Linear"
   ]
  },
  {
   "cell_type": "code",
   "execution_count": null,
   "metadata": {},
   "outputs": [],
   "source": [
    "clf = SVC(kernel='linear', cache_size=400) # need to change to reflect learning curve results\n",
    "p, r, f1 = utl.plot_precision_recall(clf, train_X.iloc[:val, :], train_y.iloc[:val], valid_X.iloc[:val, :],\n",
    "                                 valid_y.iloc[:val], folder=\"SVM\", dataset_name=\"MNIST\",\n",
    "                                 plot_title=\"Support Vector Machine\")"
   ]
  },
  {
   "cell_type": "markdown",
   "metadata": {},
   "source": [
    "# Gridsearch: RBF"
   ]
  },
  {
   "cell_type": "code",
   "execution_count": null,
   "metadata": {},
   "outputs": [],
   "source": [
    "rbf_a = 10. ** np.arange(-7, -3, 1)\n",
    "\n",
    "if TESTING:\n",
    "    gamma_rbf = np.sort(rbf_a)\n",
    "\n",
    "else:\n",
    "    gamma_rbf = np.sort(np.hstack((rbf_a, rbf_a * 3, rbf_a * 5, rbf_a * 7)))\n",
    "\n",
    "\n",
    "params_rbf = {'kernel': ['rbf'], 'C': 10. ** np.arange(-2, 5, 1), 'gamma': gamma_rbf}\n",
    "\n",
    "params_lin = {'kernel': ['linear'], 'C': 10. ** np.arange(-4, 1, 1), 'gamma': ['scale'], 'class_weight': ['balanced']}\n",
    "parameters_rbf = ParameterGrid(params_rbf)\n",
    "parameters_lin = ParameterGrid(params_lin)"
   ]
  },
  {
   "cell_type": "code",
   "execution_count": null,
   "metadata": {},
   "outputs": [],
   "source": [
    "best_rbf_mnist_estimator = None\n",
    "best_rbf_fashion_estimator = None\n",
    "res = []\n",
    "start_time = time.time()\n",
    "for i in range(2):\n",
    "    if i == 0:\n",
    "        temp_train_X = train_X.iloc[:val, :]\n",
    "        temp_train_y = train_y.iloc[:val]\n",
    "        algorithm_name = f\"{model_name}_MNIST\"\n",
    "    else:\n",
    "        temp_train_X = fashion_train_X.iloc[:val, :]\n",
    "        temp_train_y = fashion_train_y.iloc[:val]\n",
    "        algorithm_name = f\"{model_name}_Fashion_MNIST\"\n",
    "    \n",
    "    grid_results_mnist_rbf, optimized_svm_mnist_rbf = utl.run_grid_search(\n",
    "        classifier=SVC(cache_size=400, random_state=Random_Number, kernel=\"rbf\"), parameters=params_rbf,\n",
    "        train_X=temp_train_X, train_y=temp_train_y, cv=cv,\n",
    "        n_jobs=n_jobs, verbose=5, return_train_score=True, refit=True,\n",
    "        save_dir=save_directory, algorithm_name=algorithm_name,\n",
    "        backend='loky', extra_f_name=\"RBF\", folder=\"SVM\")\n",
    "    if i == 0:\n",
    "        best_rbf_mnist_estimator = optimized_svm_mnist_rbf.best_estimator_\n",
    "    else:\n",
    "        best_rbf_fashion_estimator = optimized_svm_mnist_rbf.best_estimator_\n",
    "    \n",
    "    print(f\"\\nBest Parameters:\\n\\t{optimized_svm_mnist_rbf.best_params_}\")\n",
    "    res.append((grid_results_mnist_rbf, optimized_svm_mnist_rbf))\n",
    "end_time = time.time()\n",
    "elapsed_time = end_time - start_time\n",
    "print(f\"Run Time: {elapsed_time}s\")"
   ]
  },
  {
   "cell_type": "markdown",
   "metadata": {},
   "source": [
    "# Gridsearch: Linear"
   ]
  },
  {
   "cell_type": "code",
   "execution_count": null,
   "metadata": {},
   "outputs": [],
   "source": [
    "best_lin_mnist_estimator = None\n",
    "best_lin_fashion_estimator = None\n",
    "res2 = []\n",
    "start_time = time.time()\n",
    "for i in range(2):\n",
    "    if i == 0:\n",
    "        temp_train_X = train_X.iloc[:val, :]\n",
    "        temp_train_y = train_y.iloc[:val]\n",
    "        algorithm_name = f\"{model_name}_MNIST\"\n",
    "    else:\n",
    "        temp_train_X = fashion_train_X.iloc[:val, :]\n",
    "        temp_train_y = fashion_train_y.iloc[:val]\n",
    "        algorithm_name = f\"{model_name}_Fashion_MNIST\"\n",
    "    \n",
    "    grid_results_mnist_lin, optimized_svm_mnist_lin = utl.run_grid_search(\n",
    "        classifier=SVC(cache_size=400, random_state=Random_Number), parameters=params_lin,\n",
    "        train_X=temp_train_X, train_y=temp_train_y, cv=cv,\n",
    "        n_jobs=n_jobs, verbose=5, return_train_score=True, refit=True,\n",
    "        save_dir=save_directory, algorithm_name=algorithm_name,\n",
    "        backend='loky', extra_f_name=\"Linear\", folder=\"SVM\")\n",
    "    if i == 0:\n",
    "        best_lin_mnist_estimator = optimized_svm_mnist_lin.best_estimator_\n",
    "    else:\n",
    "        best_lin_fashion_estimator = optimized_svm_mnist_lin.best_estimator_\n",
    "    \n",
    "    print(f\"\\nBest Parameters:\\n\\t{optimized_svm_mnist_lin.best_params_}\")\n",
    "    print(f\"\\nBest Parameters:\\n\\t{optimized_svm_mnist_lin.best_score_}\")\n",
    "    res2.append((grid_results_mnist_lin, optimized_svm_mnist_lin))\n",
    "end_time = time.time()\n",
    "elapsed_time = end_time - start_time\n",
    "print(f\"Run Time: {elapsed_time}s\")"
   ]
  },
  {
   "cell_type": "markdown",
   "metadata": {},
   "source": [
    "# Final Learning Curve: RBF"
   ]
  },
  {
   "cell_type": "code",
   "execution_count": null,
   "metadata": {},
   "outputs": [],
   "source": [
    "start_time = time.time()\n",
    "results = []\n",
    "for i in range(2):\n",
    "    print(f\"Working on learning curve: {i}\")\n",
    "    res = {\"plt\": None,\n",
    "           \"svm_results\": None,\n",
    "           \"cv_results\": None}\n",
    "    if i == 0:\n",
    "        temp_train_X = train_X.iloc[:val, :]\n",
    "        temp_train_y = train_y.iloc[:val]\n",
    "        title = f\"{model_name} MNIST Learning Curve\"\n",
    "        f_name = f\"{model_name}_MNIST\"\n",
    "        optimized_svm = best_rbf_mnist_estimator\n",
    "    else:\n",
    "        temp_train_X = fashion_train_X.iloc[:val, :]\n",
    "        temp_train_y = fashion_train_y.iloc[:val]\n",
    "        title = f\"{model_name} Fashion MNIST Learning Curve\"\n",
    "        f_name = f\"{model_name}_Fashion_MNIST\"\n",
    "        optimized_svm = best_rbf_fashion_estimator\n",
    "    \n",
    "    res['svm_results'], res['cv_results'] = utl.plot_learning_curve(estimator=optimized_svm, title=title,\n",
    "                                                                    train_X=temp_train_X, train_y=temp_train_y, cv=cv,\n",
    "                                                                    f_name=f_name, train_sizes=train_sizes,\n",
    "                                                                    n_jobs=n_jobs, folder=\"SVM\",\n",
    "                                                                    save_individual=True, TESTING=True, backend='loky',\n",
    "                                                                    extra_name=\"RBF_Final\")\n",
    "    results.append(res)\n",
    "\n",
    "end_time = time.time()\n",
    "elapsed_time = end_time - start_time\n",
    "print(f\"Run Time: {elapsed_time}s\")"
   ]
  },
  {
   "cell_type": "markdown",
   "metadata": {},
   "source": [
    "# Final Learning Curve: Linear"
   ]
  },
  {
   "cell_type": "code",
   "execution_count": null,
   "metadata": {},
   "outputs": [],
   "source": [
    "start_time = time.time()\n",
    "results = []\n",
    "for i in range(2):\n",
    "    print(f\"Working on learning curve: {i}\")\n",
    "    res = {\"plt\": None,\n",
    "           \"svm_results\": None,\n",
    "           \"cv_results\": None}\n",
    "    if i == 0:\n",
    "        temp_train_X = train_X.iloc[:val, :]\n",
    "        temp_train_y = train_y.iloc[:val]\n",
    "        title=f\"{model_name} MNIST Learning Curve\"\n",
    "        f_name= f\"{model_name}_MNIST\"\n",
    "        optimized_svm_linear = best_lin_mnist_estimator\n",
    "    else:\n",
    "        temp_train_X = fashion_train_X.iloc[:val, :]\n",
    "        temp_train_y = fashion_train_y.iloc[:val]\n",
    "        title=f\"{model_name} Fashion MNIST Learning Curve\"\n",
    "        f_name= f\"{model_name}_Fashion_MNIST\"\n",
    "        optimized_svm_linear = best_lin_fashion_estimator\n",
    "    \n",
    "    res['svm_results'], res['cv_results'] = utl.plot_learning_curve(estimator=optimized_svm_linear, title=title, \n",
    "                                                       train_X=temp_train_X, train_y=temp_train_y, cv=cv, \n",
    "                                                       f_name=f_name, train_sizes=train_sizes, folder=\"SVM\",\n",
    "                                                       save_individual=True, TESTING=True, backend='loky', \n",
    "                                                                                n_jobs=n_jobs, extra_name=\"Linear_Final\")\n",
    "    results.append(res)\n",
    "    \n",
    "end_time = time.time()\n",
    "elapsed_time = end_time - start_time\n",
    "print(f\"Run Time: {elapsed_time}s\")"
   ]
  },
  {
   "cell_type": "markdown",
   "metadata": {},
   "source": [
    "# Final Confusion Matrix on Test set \"(O_o)\" - RBF"
   ]
  },
  {
   "cell_type": "code",
   "execution_count": null,
   "metadata": {},
   "outputs": [],
   "source": [
    "utl.plot_combined_confusion_matrix(best_rbf_mnist_estimator, test_X, test_y, best_rbf_fashion_estimator, fashion_test_X,\n",
    "                                   fashion_test_y, directory=save_directory, fmt=None, plot_width=12, plot_height=6,\n",
    "                                   extra_name=\"RBF_Final\", folder=\"SVM\")"
   ]
  },
  {
   "cell_type": "markdown",
   "metadata": {},
   "source": [
    "# Final Confusion Matrix on Test set \"(O_o)\" - Linear"
   ]
  },
  {
   "cell_type": "code",
   "execution_count": null,
   "metadata": {},
   "outputs": [],
   "source": [
    "utl.plot_combined_confusion_matrix(best_lin_mnist_estimator, test_X, test_y, best_lin_fashion_estimator, fashion_test_X,\n",
    "                                   fashion_test_y, directory=save_directory, fmt=None, plot_width=12, plot_height=6,\n",
    "                                   extra_name=\"Linear_Final\", folder=\"SVM\")"
   ]
  },
  {
   "cell_type": "markdown",
   "metadata": {},
   "source": [
    "# Final Metrics - RBF"
   ]
  },
  {
   "cell_type": "code",
   "execution_count": null,
   "metadata": {},
   "outputs": [],
   "source": [
    "p, r, f1 = utl.plot_precision_recall(best_rbf_mnist_estimator, train_X.iloc[:val, :], train_y.iloc[:val],\n",
    "                                     test_X.iloc[:val, :], test_y.iloc[:val], folder=\"SVM\", dataset_name=\"MNIST\",\n",
    "                                     plot_title=\"Support Vector Machine Test Set\", is_final=True)"
   ]
  },
  {
   "cell_type": "code",
   "execution_count": null,
   "metadata": {},
   "outputs": [],
   "source": [
    "p, r, f1 = utl.plot_precision_recall(best_rbf_mnist_estimator, fashion_train_X.iloc[:val, :], \n",
    "                                     fashion_train_y.iloc[:val], fashion_test_X.iloc[:val, :],\n",
    "                                     fashion_test_y.iloc[:val], folder=\"SVM\", dataset_name=\"Fashion MNIST\",\n",
    "                                     plot_title=\"Support Vector Machine Test Set\", is_final=True)"
   ]
  },
  {
   "cell_type": "markdown",
   "metadata": {},
   "source": [
    "# Final Metrics - Linear"
   ]
  },
  {
   "cell_type": "code",
   "execution_count": null,
   "metadata": {},
   "outputs": [],
   "source": [
    "p, r, f1 = utl.plot_precision_recall(best_lin_mnist_estimator, train_X.iloc[:val, :], train_y.iloc[:val],\n",
    "                                     test_X.iloc[:val, :],test_y.iloc[:val], folder=\"SVM\", dataset_name=\"MNIST\",\n",
    "                                     plot_title=\"Support Vector Machine Test Set\", is_final=True)"
   ]
  },
  {
   "cell_type": "code",
   "execution_count": null,
   "metadata": {},
   "outputs": [],
   "source": [
    "p, r, f1 = utl.plot_precision_recall(best_lin_mnist_estimator, fashion_train_X.iloc[:val, :], \n",
    "                                     fashion_train_y.iloc[:val], fashion_test_X.iloc[:val, :],\n",
    "                                     fashion_test_y.iloc[:val], folder=\"SVM\", dataset_name=\"Fashion MNIST\",\n",
    "                                     plot_title=\"Support Vector Machine Test Set\", is_final=True)"
   ]
  }
 ],
 "metadata": {
  "instance_type": "ml.g4dn.xlarge",
  "kernelspec": {
   "display_name": "Python 3",
   "language": "python",
   "name": "python3"
  },
  "language_info": {
   "codemirror_mode": {
    "name": "ipython",
    "version": 3
   },
   "file_extension": ".py",
   "mimetype": "text/x-python",
   "name": "python",
   "nbconvert_exporter": "python",
   "pygments_lexer": "ipython3",
   "version": "3.7.9"
  },
  "toc": {
   "base_numbering": 1,
   "nav_menu": {},
   "number_sections": true,
   "sideBar": true,
   "skip_h1_title": false,
   "title_cell": "Table of Contents",
   "title_sidebar": "Contents",
   "toc_cell": false,
   "toc_position": {},
   "toc_section_display": true,
   "toc_window_display": false
  },
  "varInspector": {
   "cols": {
    "lenName": 16,
    "lenType": 16,
    "lenVar": 40
   },
   "kernels_config": {
    "python": {
     "delete_cmd_postfix": "",
     "delete_cmd_prefix": "del ",
     "library": "var_list.py",
     "varRefreshCmd": "print(var_dic_list())"
    },
    "r": {
     "delete_cmd_postfix": ") ",
     "delete_cmd_prefix": "rm(",
     "library": "var_list.r",
     "varRefreshCmd": "cat(var_dic_list()) "
    }
   },
   "types_to_exclude": [
    "module",
    "function",
    "builtin_function_or_method",
    "instance",
    "_Feature"
   ],
   "window_display": false
  }
 },
 "nbformat": 4,
 "nbformat_minor": 4
}
