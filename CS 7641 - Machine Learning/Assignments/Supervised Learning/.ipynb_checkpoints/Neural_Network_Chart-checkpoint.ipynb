{
 "cells": [
  {
   "cell_type": "code",
   "execution_count": 21,
   "metadata": {},
   "outputs": [],
   "source": [
    "import numpy as np\n",
    "import matplotlib as plt\n",
    "import pathlib\n",
    "\n",
    "Adam_Accuracy_Path = \"/Neural_Network_Adam_Accuracy.csv\"\n",
    "Adam_RunTime_Path = \"/Neural_Network_Adam_RunTime.csv\"\n",
    "SGD_Accuracy_Path = \"/Neural_Network_SGD_Accuracy.csv\"\n",
    "SGD_RunTime_Path = \"/Neural_Network_SGD_RunTime.csv\""
   ]
  },
  {
   "cell_type": "code",
   "execution_count": 22,
   "metadata": {},
   "outputs": [
    {
     "name": "stdout",
     "output_type": "stream",
     "text": [
      "C:\\Users\\Josh.Adams\\OneDrive - Georgia Institute of Technology\\Georgia-Tech\\CS 7641 - Machine Learning\\Assignments\\Supervised Learning\n"
     ]
    }
   ],
   "source": [
    "cwd = pathlib.Path().absolute()\n",
    "print(cwd)"
   ]
  },
  {
   "cell_type": "code",
   "execution_count": 23,
   "metadata": {},
   "outputs": [],
   "source": [
    "Adam_Accuracy = np.loadtxt(\"{}{}\".format(cwd, Adam_Accuracy_Path), delimiter=\",\")\n",
    "Adam_RunTime = np.loadtxt(\"{}{}\".format(cwd, Adam_RunTime_Path), delimiter=\",\")\n",
    "SGD_Accuracy = np.loadtxt(\"{}{}\".format(cwd, SGD_Accuracy_Path), delimiter=\",\")\n",
    "SGD_RunTime = np.loadtxt(\"{}{}\".format(cwd, SGD_RunTime_Path), delimiter=\",\")"
   ]
  },
  {
   "cell_type": "code",
   "execution_count": 24,
   "metadata": {},
   "outputs": [
    {
     "name": "stdout",
     "output_type": "stream",
     "text": [
      "\n",
      "Adam Accuracy: \n",
      " [0.    0.927 0.944 0.954 0.96  0.963 0.967 0.969 0.972 0.971 0.972 0.\n",
      " 0.935 0.953 0.963 0.966 0.969 0.97  0.972 0.975 0.972 0.972]\n",
      "\n",
      "Adam RunTime: \n",
      " [ 0.     6.195 10.49  13.676 17.52  20.741 23.596 31.95  37.379 37.632\n",
      " 49.57 ]\n",
      "\n",
      "SGD Accuracy: \n",
      " [0.    0.927 0.944 0.954 0.96  0.963 0.967 0.969 0.972 0.971 0.972 0.\n",
      " 0.935 0.953 0.963 0.966 0.969 0.97  0.972 0.975 0.972 0.972]\n",
      "\n",
      "SGD RunTime: \n",
      " [  0.     17.83   36.019  51.597  68.608  85.964 103.744 120.352 136.689\n",
      " 153.793 171.995]\n",
      "22\n",
      "11\n",
      "22\n",
      "11\n"
     ]
    }
   ],
   "source": [
    "print(\"\\nAdam Accuracy: \\n\", Adam_Accuracy)\n",
    "print(\"\\nAdam RunTime: \\n\", Adam_RunTime)\n",
    "print(\"\\nSGD Accuracy: \\n\", SGD_Accuracy)\n",
    "print(\"\\nSGD RunTime: \\n\", SGD_RunTime)\n"
   ]
  },
  {
   "cell_type": "code",
   "execution_count": 25,
   "metadata": {},
   "outputs": [
    {
     "name": "stdout",
     "output_type": "stream",
     "text": [
      "[0.    0.927 0.944 0.954 0.96  0.963 0.967 0.969 0.972 0.971 0.972]\n",
      "[0.    0.935 0.953 0.963 0.966 0.969 0.97  0.972 0.975 0.972 0.972]\n",
      "[0.    0.927 0.944 0.954 0.96  0.963 0.967 0.969 0.972 0.971 0.972]\n",
      "[0.    0.935 0.953 0.963 0.966 0.969 0.97  0.972 0.975 0.972 0.972]\n"
     ]
    }
   ],
   "source": [
    "adam_acc_1 = Adam_Accuracy[0:11]\n",
    "adam_acc_2 = Adam_Accuracy[11::]\n",
    "sgd_acc_1 = SGD_Accuracy[0:11]\n",
    "sgd_acc_2 = SGD_Accuracy[11::]\n",
    "\n",
    "print(adam_acc_1)\n",
    "print(adam_acc_2)\n",
    "print(sgd_acc_1)\n",
    "print(sgd_acc_2)"
   ]
  },
  {
   "cell_type": "code",
   "execution_count": 26,
   "metadata": {},
   "outputs": [
    {
     "ename": "AttributeError",
     "evalue": "module 'matplotlib' has no attribute 'style'",
     "output_type": "error",
     "traceback": [
      "\u001b[1;31m---------------------------------------------------------------------------\u001b[0m",
      "\u001b[1;31mAttributeError\u001b[0m                            Traceback (most recent call last)",
      "\u001b[1;32m<ipython-input-26-52b81268701b>\u001b[0m in \u001b[0;36m<module>\u001b[1;34m\u001b[0m\n\u001b[0;32m      1\u001b[0m \u001b[0mcolors\u001b[0m \u001b[1;33m=\u001b[0m \u001b[1;33m[\u001b[0m\u001b[1;34m\"tab:green\"\u001b[0m\u001b[1;33m,\u001b[0m \u001b[1;34m\"tab:red\"\u001b[0m\u001b[1;33m,\u001b[0m \u001b[1;34m\"tab:blue\"\u001b[0m\u001b[1;33m,\u001b[0m \u001b[1;34m\"tab:orange\"\u001b[0m\u001b[1;33m]\u001b[0m\u001b[1;33m\u001b[0m\u001b[1;33m\u001b[0m\u001b[0m\n\u001b[1;32m----> 2\u001b[1;33m \u001b[1;32mwith\u001b[0m \u001b[0mplt\u001b[0m\u001b[1;33m.\u001b[0m\u001b[0mstyle\u001b[0m\u001b[1;33m.\u001b[0m\u001b[0mcontext\u001b[0m\u001b[1;33m(\u001b[0m\u001b[1;34m'ggplot'\u001b[0m\u001b[1;33m)\u001b[0m\u001b[1;33m:\u001b[0m\u001b[1;33m\u001b[0m\u001b[1;33m\u001b[0m\u001b[0m\n\u001b[0m\u001b[0;32m      3\u001b[0m     \u001b[0mfig0\u001b[0m\u001b[1;33m,\u001b[0m \u001b[0max0\u001b[0m \u001b[1;33m=\u001b[0m \u001b[0mplt\u001b[0m\u001b[1;33m.\u001b[0m\u001b[0msubplots\u001b[0m\u001b[1;33m(\u001b[0m\u001b[1;33m)\u001b[0m\u001b[1;33m\u001b[0m\u001b[1;33m\u001b[0m\u001b[0m\n\u001b[0;32m      4\u001b[0m     \u001b[0max0\u001b[0m\u001b[1;33m.\u001b[0m\u001b[0mset_xlabel\u001b[0m\u001b[1;33m(\u001b[0m\u001b[1;34m\"Percent of Training Set\"\u001b[0m\u001b[1;33m)\u001b[0m\u001b[1;33m\u001b[0m\u001b[1;33m\u001b[0m\u001b[0m\n\u001b[0;32m      5\u001b[0m     \u001b[0max0\u001b[0m\u001b[1;33m.\u001b[0m\u001b[0mset_ylabel\u001b[0m\u001b[1;33m(\u001b[0m\u001b[1;34m\"Accuracy (%)\"\u001b[0m\u001b[1;33m,\u001b[0m \u001b[0mcolor\u001b[0m\u001b[1;33m=\u001b[0m\u001b[1;34m'tab:green'\u001b[0m\u001b[1;33m)\u001b[0m\u001b[1;33m\u001b[0m\u001b[1;33m\u001b[0m\u001b[0m\n",
      "\u001b[1;31mAttributeError\u001b[0m: module 'matplotlib' has no attribute 'style'"
     ]
    }
   ],
   "source": [
    "colors = [\"tab:green\", \"tab:red\", \"tab:blue\", \"tab:orange\"]\n",
    "with plt.style.context('ggplot'):\n",
    "    fig0, ax0 = plt.subplots()\n",
    "    ax0.set_xlabel(\"Percent of Training Set\")\n",
    "    ax0.set_ylabel(\"Accuracy (%)\", color='tab:green')\n",
    "    ax0.set_title(\"Accuracy vs Training Set Size (Adam)\")\n",
    "    ax0.plot([i for i in range(0, int((stop * percent) * 100) + 1, int((start / stop) * 100))],\n",
    "             adam_acc_1, colors[0], marker='o', label=\"First Run\")\n",
    "    ax0.plot([i for i in range(0, int((stop * percent) * 100) + 1, int((start / stop) * 100))],\n",
    "             adam_acc_2, colors[1], marker='o', label=\"Second Run\")\n",
    "    ax0.tick_params(axis='y', labelcolor=\"tab:green\")\n",
    "\n",
    "    ax3 = ax0.twinx()\n",
    "    ax3.set_ylabel(\"Training Time (s)\", color=\"tab:blue\")\n",
    "    ax3.plot([i for i in range(0, int((stop * percent) * 100) + 1, int((start / stop) * 100))],\n",
    "             Adam_RunTime, \"tab:blue\", marker='o', label=\"training-time\")\n",
    "    ax3.tick_params(axis='y', labelcolor=\"tab:blue\")\n",
    "    fig0.tight_layout()\n",
    "    plt.savefig(\"TEST.png\")"
   ]
  }
 ],
 "metadata": {
  "kernelspec": {
   "display_name": "Python 3",
   "language": "python",
   "name": "python3"
  },
  "language_info": {
   "codemirror_mode": {
    "name": "ipython",
    "version": 3
   },
   "file_extension": ".py",
   "mimetype": "text/x-python",
   "name": "python",
   "nbconvert_exporter": "python",
   "pygments_lexer": "ipython3",
   "version": "3.7.6"
  }
 },
 "nbformat": 4,
 "nbformat_minor": 4
}
