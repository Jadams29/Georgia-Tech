{
 "cells": [
  {
   "cell_type": "code",
   "execution_count": 1,
   "metadata": {},
   "outputs": [],
   "source": [
    "import os\n",
    "import pathlib\n",
    "import sys\n",
    "import matplotlib.pyplot as plt\n",
    "import pandas as pd\n",
    "import numpy as np\n",
    "from datetime import datetime\n",
    "from timeit import default_timer as timer\n",
    "\n",
    "from LoadData import LoadData\n",
    "\n",
    "import os\n",
    "import sys\n",
    "from datetime import datetime\n",
    "\n",
    "import matplotlib.pyplot as plt\n",
    "import pandas as pd\n",
    "from sklearn import metrics, svm\n",
    "from sklearn.metrics import classification_report, confusion_matrix, plot_confusion_matrix\n",
    "from sklearn.model_selection import cross_val_score\n",
    "from sklearn.tree._tree import TREE_LEAF\n",
    "\n",
    "from sklearn.neural_network import MLPClassifier\n",
    "from sklearn.neighbors import KNeighborsClassifier\n",
    "from sklearn.tree import DecisionTreeClassifier\n",
    "from sklearn.ensemble import AdaBoostClassifier, GradientBoostingClassifier\n",
    "\n",
    "from sklearn.preprocessing import StandardScaler\n",
    "from sklearn.utils import parallel_backend\n",
    "\n",
    "\n",
    "TESTING = True\n",
    "DECISION_TREE = False\n",
    "SUPPORT_VECTOR = True\n",
    "NEURAL_NET = False\n",
    "K_NEAREST = False\n",
    "BOOSTING = False\n",
    "NORMALIZE_DATA = False\n",
    "USE_PCA = True\n",
    "DataSetName = \"MNIST\"\n"
   ]
  },
  {
   "cell_type": "code",
   "execution_count": 2,
   "metadata": {},
   "outputs": [
    {
     "name": "stdout",
     "output_type": "stream",
     "text": [
      "Attempting to load: mnist-train-data.csv\n",
      "\n",
      "Loading Complete\n",
      "Data Statistics: \n",
      "   Number of Entries: 60000 \n",
      "   Shape of Entry: (785,)\n",
      "\n",
      "Attempting to load: mnist-test-data.csv\n",
      "\n",
      "Loading Complete\n",
      "Data Statistics: \n",
      "   Number of Entries: 10000 \n",
      "   Shape of Entry: (785,)\n",
      "\n"
     ]
    }
   ],
   "source": [
    "cwd = pathlib.Path().absolute()\n",
    "training_data_path = \"{}/mnist-train-data.csv\".format(cwd)\n",
    "testing_data_path = \"{}/mnist-test-data.csv\".format(cwd)\n",
    "\n",
    "with parallel_backend('threading'):\n",
    "    training_labels, training_data, _ = LoadData(training_data_path, normalize=NORMALIZE_DATA)\n",
    "    testing_labels, testing_data, _ = LoadData(testing_data_path, normalize=NORMALIZE_DATA)\n",
    "\n",
    "Scaler = StandardScaler().fit(training_data)\n",
    "        \n",
    "training_data = Scaler.transform(training_data)\n",
    "testing_data = Scaler.transform(testing_data)\n"
   ]
  },
  {
   "cell_type": "code",
   "execution_count": 3,
   "metadata": {},
   "outputs": [],
   "source": [
    "def FindCorrectPredictions(prediction_array, actual_array):\n",
    "    idx = np.argwhere(actual_array != prediction_array)\n",
    "    actual = actual_array[idx]\n",
    "    predicted = prediction_array[idx]\n",
    "    pred_actual_hstack = np.hstack((predicted, actual))\n",
    "    final_hstack = np.hstack((idx, pred_actual_hstack))\n",
    "    df = pd.DataFrame(final_hstack, columns=[\"Index Of Image\", \"Predicted Image\", \"Actual Image\"])\n",
    "    return df"
   ]
  },
  {
   "cell_type": "code",
   "execution_count": 4,
   "metadata": {},
   "outputs": [],
   "source": [
    "def prune_index11(clf, index, threshold):\n",
    "    try:\n",
    "        \"\"\"\n",
    "        prune_index(dt.tree_, 0, 3)\n",
    "        https://stackoverflow.com/questions/49428469/pruning-decision-trees\n",
    "        \"\"\"\n",
    "\n",
    "        if clf.tree_.value[index][0].sum() < threshold:\n",
    "            # turn node into a leaf by \"unlinking\" its children\n",
    "            clf.tree_.children_left[index] = TREE_LEAF\n",
    "            clf.tree_.children_right[index] = TREE_LEAF\n",
    "        # if there are children, visit them as well\n",
    "        if clf.tree_.children_left[index] != TREE_LEAF:\n",
    "            prune_index(clf.tree_.children_left[index], threshold)\n",
    "            prune_index(clf.tree_.children_right[index], threshold)\n",
    "\n",
    "    except Exception as err:\n",
    "        print(\"Exception occurred while pruning Decision Tree. \\n\", err)\n",
    "        exc_type, exc_obj, exc_tb = sys.exc_info()\n",
    "        fname = os.path.split(exc_tb.tb_frame.f_code.co_filename)[1]\n",
    "        print(exc_type, fname, exc_tb.tb_lineno)"
   ]
  },
  {
   "cell_type": "code",
   "execution_count": null,
   "metadata": {},
   "outputs": [],
   "source": [
    "\"\"\"\n",
    "TRAINING TIME\n",
    "\n",
    "\"\"\""
   ]
  },
  {
   "cell_type": "code",
   "execution_count": null,
   "metadata": {},
   "outputs": [],
   "source": [
    "# limit = 4000\n",
    "# testing_subset = testing_data[:limit, :]\n",
    "# training_subset = training_data[:limit, :]\n",
    "# testing_sublabels = testing_labels[:limit]\n",
    "# training_sublabels = training_labels[:limit ,]\n",
    "\n",
    "solvers = [\"Linear\", \"rbf\"]\n",
    "\n",
    "svm_linear_runtime = [0.0]\n",
    "svm_linear_accuracy = [0.0]\n",
    "\n",
    "svm_rbf_runtime = [0.0]\n",
    "svm_rbf_accuracy = [0.0]"
   ]
  },
  {
   "cell_type": "code",
   "execution_count": null,
   "metadata": {
    "scrolled": true
   },
   "outputs": [],
   "source": [
    "with parallel_backend('threading'):\n",
    "    for solver in solvers:\n",
    "        clf = svm.SVC(kernel=solver.lower(), verbose=3, max_iter=1000)\n",
    "        for i in range(1, 11, 1):\n",
    "            print(\"{} - Training Size: {}%\".format(solver, (i * 10)))\n",
    "            start_time = timer()\n",
    "            with parallel_backend('threading'):\n",
    "                clf.fit(training_data[:int((60000 * (0.1 * i))), :], training_labels[:int((60000 * (0.1 * i)))])\n",
    "            end_time = timer()\n",
    "            elapsed_time = end_time - start_time\n",
    "            print(elapsed_time)\n",
    "            if solver == \"Linear\":\n",
    "                svm_linear_accuracy.append(clf.score(testing_data, testing_labels))\n",
    "                svm_linear_runtime.append(elapsed_time)\n",
    "            else:\n",
    "                svm_rbf_accuracy.append(clf.score(testing_data, testing_labels))\n",
    "                svm_rbf_runtime.append(elapsed_time)"
   ]
  },
  {
   "cell_type": "code",
   "execution_count": null,
   "metadata": {},
   "outputs": [],
   "source": [
    "svm_linear_accuracy = np.asarray(svm_linear_accuracy)\n",
    "svm_linear_runtime = np.asarray(svm_linear_runtime)\n",
    "svm_rbf_accuracy = np.asarray(svm_rbf_accuracy)\n",
    "svm_rbf_runtime = np.asarray(svm_rbf_runtime)"
   ]
  },
  {
   "cell_type": "code",
   "execution_count": null,
   "metadata": {},
   "outputs": [],
   "source": [
    "svm_linear_accuracy.tofile('svm_linear_accuracy_{}.csv'.format(DataSetName),sep=',',format='%.3f')\n",
    "svm_linear_runtime.tofile('svm_linear_runtime_{}.csv'.format(DataSetName),sep=',',format='%.3f')\n",
    "svm_rbf_accuracy.tofile('svm_rbf_accuracy_{}.csv'.format(DataSetName),sep=',',format='%.3f')\n",
    "svm_rbf_runtime.tofile('svm_rbf_runtime_{}.csv'.format(DataSetName),sep=',',format='%.3f')"
   ]
  },
  {
   "cell_type": "code",
   "execution_count": null,
   "metadata": {},
   "outputs": [],
   "source": [
    "\"\"\"\n",
    "Results\n",
    "\n",
    "\"\"\""
   ]
  },
  {
   "cell_type": "code",
   "execution_count": null,
   "metadata": {},
   "outputs": [],
   "source": [
    "colors = [\"tab:orange\", \"tab:blue\", \"tab:green\", \"tab:red\"]\n",
    "solvers = [\"Linear\", \"rbf\"]\n",
    "\n",
    "run = [svm_linear_runtime, svm_rbf_runtime]\n",
    "acc = [svm_linear_accuracy, svm_rbf_accuracy]\n",
    "\n",
    "for solver in range(len(solvers)):\n",
    "    with plt.style.context('ggplot'):\n",
    "        fig0, ax0 = plt.subplots()\n",
    "        ax0.set_xlabel(\"Percent of Training Set\")\n",
    "        ax0.set_ylabel(\"Accuracy (%)\", color='tab:orange')\n",
    "        ax0.set_title(\"Accuracy vs Training Set Size vs Training Time {} \\n {}\".format(solvers[solver], DataSetName))\n",
    "        ax0.tick_params(axis='y', labelcolor=\"black\")\n",
    "        ax0.set_ylim(0, 1.1)\n",
    "        ax3 = ax0.twinx()\n",
    "        ax3.set_ylabel(\"Training Time (s)\", color=\"tab:blue\")\n",
    "        ax3.set_ylim(0, max(max(adam_runtime), max(sgd_runtime)) + 10)\n",
    "        ax3.tick_params(axis='y', labelcolor=\"black\")\n",
    "        for i in range(1):        \n",
    "            ax0.plot([i for i in range(11)], acc[solver], colors[i], marker='o', label=solvers[solver])\n",
    "            ax3.plot([i for i in range(11)], run[solver], colors[i+1], marker=\"1\", label=\"{} training-time\".format(solvers[solver]))\n",
    "        fig0.tight_layout()\n",
    "        dir = \"{}/Training_{}_{}_Set_Size_Impact_vs_Training_Time.png\".format(cwd, solvers[solver], DataSetName)\n",
    "        plt.savefig(dir)\n",
    "#         plt.close(\"all\")"
   ]
  }
 ],
 "metadata": {
  "kernelspec": {
   "display_name": "Python 3",
   "language": "python",
   "name": "python3"
  },
  "language_info": {
   "codemirror_mode": {
    "name": "ipython",
    "version": 3
   },
   "file_extension": ".py",
   "mimetype": "text/x-python",
   "name": "python",
   "nbconvert_exporter": "python",
   "pygments_lexer": "ipython3",
   "version": "3.7.6"
  }
 },
 "nbformat": 4,
 "nbformat_minor": 4
}
