{
 "cells": [
  {
   "cell_type": "markdown",
   "metadata": {},
   "source": [
    "# Initialize and Setup"
   ]
  },
  {
   "cell_type": "code",
   "execution_count": null,
   "metadata": {
    "scrolled": false
   },
   "outputs": [],
   "source": [
    "import os\n",
    "import time\n",
    "\n",
    "import numpy as np\n",
    "from sklearn.ensemble import AdaBoostClassifier\n",
    "from sklearn.tree import DecisionTreeClassifier\n",
    "\n",
    "import ml_util as utl\n",
    "\n",
    "save_directory = \"figures/Boosting\"\n",
    "model_name = \"Boosting\"\n",
    "\n",
    "folders = [\"figures/Boosting/Complexity_Analysis\",\n",
    "           \"figures/Boosting/Grid_Search_Results\",\n",
    "           \"figures/Boosting/Learning_Curves\",\n",
    "           \"figures/Boosting/Confusion_Matrix\",\n",
    "           \"figures/Boosting/Metrics\"]\n",
    "\n",
    "directories = {\n",
    "    \"Save Directory\": \"figures/Boosting\",\n",
    "    \"Initial Complexity Analysis\": \"figures/Boosting/Initial Complexity Analysis\",\n",
    "    \"Grid Search Results\": \"figures/Boosting/Grid Search Results\",\n",
    "    \"Learning Curves\": \"figures/Boosting/Learning Curves\",\n",
    "    \"Final Complexity Analysis\": \"figures/Boosting/Final Complexity Analysis\"\n",
    "}\n",
    "\n",
    "Random_Number = 42\n",
    "TESTING = False\n",
    "cv = 5\n",
    "n_jobs = -1\n",
    "np.random.seed(42)\n",
    "get_ipython().system('pip install pyarrow')"
   ]
  },
  {
   "cell_type": "code",
   "execution_count": null,
   "metadata": {
    "scrolled": false
   },
   "outputs": [],
   "source": [
    "gathered_data = utl.setup([\"MNIST\"])\n",
    "gathered_data_fashion = utl.setup([\"Fashion-MNIST\"])\n",
    "train_X, train_y, valid_X, valid_y, test_X, test_y = utl.split_data(gathered_data[\"MNIST\"][\"X\"],\n",
    "                                                                    gathered_data[\"MNIST\"][\"y\"], normalize=True)\n",
    "fashion_train_X, fashion_train_y, fashion_valid_X, fashion_valid_y, fashion_test_X, fashion_test_y = utl.split_data(\n",
    "    gathered_data_fashion[\"Fashion-MNIST\"][\"X\"],\n",
    "    gathered_data_fashion[\"Fashion-MNIST\"][\"y\"],\n",
    "    normalize=True)"
   ]
  },
  {
   "cell_type": "code",
   "execution_count": null,
   "metadata": {
    "scrolled": false
   },
   "outputs": [],
   "source": [
    "CHECK_FOLDER = os.path.isdir(save_directory)\n",
    "\n",
    "# If folder doesn't exist, then create it.\n",
    "if not CHECK_FOLDER:\n",
    "    os.makedirs(save_directory)\n",
    "    print(\"created folder : \", save_directory)\n",
    "else:\n",
    "    print(save_directory, \"folder already exists.\")\n",
    "\n",
    "for f in folders:\n",
    "    if not os.path.isdir(f):\n",
    "        os.makedirs(f)\n",
    "        print(\"created folder : \", f)\n",
    "    else:\n",
    "        print(f, \"folder already exists.\")"
   ]
  },
  {
   "cell_type": "code",
   "execution_count": null,
   "metadata": {
    "scrolled": false
   },
   "outputs": [],
   "source": [
    "# Base Estimator ~ default is None, and will be a decision tree with max depth 1. Experiments changing the base \n",
    "#   estimators max depth from 1:5\n",
    "\n",
    "# N Estimators ~ default is 50. Experiment with np.arange(10, 501, 10)\n",
    "\n",
    "if TESTING:\n",
    "    val = 600\n",
    "    pred_val = 600\n",
    "    train_sizes = np.linspace(0.05, 1.0, 2)\n",
    "else:\n",
    "    val = 3000\n",
    "    pred_val = 3000\n",
    "    train_sizes = np.linspace(0.05, 1.0, 20)"
   ]
  },
  {
   "cell_type": "markdown",
   "metadata": {},
   "source": [
    "# Initial Model Complexity: Base Estimator Max Depth\n",
    "best max depth 6-8"
   ]
  },
  {
   "cell_type": "code",
   "execution_count": null,
   "metadata": {
    "scrolled": false
   },
   "outputs": [],
   "source": [
    "if TESTING:\n",
    "    parameter_range = np.arange(1, 15, 1) \n",
    "else:\n",
    "    parameter_range = np.arange(1, 15, 1)\n",
    "    \n",
    "param_name = 'base_estimator__max_depth'\n",
    "param_name_plot = 'Base Estimator Max Depth'\n",
    "mnist_train_results = None\n",
    "mnist_test_results = None\n",
    "fashion_train_results = None\n",
    "fashion_test_results = None"
   ]
  },
  {
   "cell_type": "code",
   "execution_count": null,
   "metadata": {
    "scrolled": true
   },
   "outputs": [],
   "source": [
    "start_time = time.time()\n",
    "for i in range(2):\n",
    "    if i == 0:\n",
    "        temp_train_X = train_X.iloc[:val, :]\n",
    "        temp_train_y = train_y.iloc[:val]\n",
    "        f_name = f\"{model_name}_{param_name}_MNIST\"\n",
    "        algorithm_name = f\"{model_name} {param_name} MNIST\\n Model Complexity\"\n",
    "        plot_title = f\"{model_name} MNIST\\n Model Complexity\"\n",
    "    else:\n",
    "        temp_train_X = fashion_train_X.iloc[:val, :]\n",
    "        temp_train_y = fashion_train_y.iloc[:val]\n",
    "        f_name = f\"{model_name}_{param_name}_Fashion_MNIST\"\n",
    "        algorithm_name = f\"{model_name} {param_name} Fashion MNIST\\n Model Complexity\"\n",
    "        plot_title = f\"{model_name} Fashion MNIST\\n Model Complexity\"\n",
    "    \n",
    "    temp_train, temp_test = utl.get_model_complexity(\n",
    "        classifier=AdaBoostClassifier(DecisionTreeClassifier(random_state=Random_Number)),\n",
    "        train_X=temp_train_X,\n",
    "        train_y=temp_train_y, parameter_name=param_name, save_dir=save_directory,\n",
    "        algorithm_name=algorithm_name, parameter_range=parameter_range, cv=cv,\n",
    "        n_jobs=n_jobs, verbose=5, backend='loky', param_name_for_plot=param_name_plot,\n",
    "        is_NN=False, nn_range=parameter_range, plot_title=plot_title, f_name=f_name)\n",
    "    if i == 0:\n",
    "        mnist_train_results = temp_train\n",
    "        mnist_test_results = temp_test\n",
    "    else:\n",
    "        fashion_train_results = temp_train\n",
    "        fashion_test_results = temp_test\n",
    "\n",
    "end_time = time.time()\n",
    "elapsed_time = end_time - start_time\n",
    "print(f\"Run Time: {elapsed_time}s\")"
   ]
  },
  {
   "cell_type": "code",
   "execution_count": null,
   "metadata": {
    "scrolled": false
   },
   "outputs": [],
   "source": [
    "utl.plot_combined_complexity(\"Boosting\", \"Base Estimator Max Depth\", is_NN=False, is_SVM=False,\n",
    "                             parameter_range=parameter_range, orientation='Horizontal', plt_width=12, plt_height=6,\n",
    "                             mnist_train_complex=mnist_train_results, mnist_test_complex=mnist_test_results,\n",
    "                             fashion_train_complex=fashion_train_results, fashion_test_complex=fashion_test_results,\n",
    "                             extra_name=\"Max_Depth\")\n",
    "utl.plot_combined_complexity(\"Boosting\", \"Base Estimator Max Depth\", is_NN=False, is_SVM=False,\n",
    "                             parameter_range=parameter_range, orientation='Vertical', plt_height=8,\n",
    "                             mnist_train_complex=mnist_train_results, mnist_test_complex=mnist_test_results,\n",
    "                             fashion_train_complex=fashion_train_results, fashion_test_complex=fashion_test_results,\n",
    "                             extra_name=\"Max_Depth\")"
   ]
  },
  {
   "cell_type": "markdown",
   "metadata": {},
   "source": [
    "# Initial Model Complexity: N Estimators"
   ]
  },
  {
   "cell_type": "code",
   "execution_count": null,
   "metadata": {
    "scrolled": false
   },
   "outputs": [],
   "source": [
    "if TESTING:\n",
    "    parameter_range = np.arange(90, 151, 10)\n",
    "else:\n",
    "    parameter_range = np.arange(20, 101+1, 10)\n",
    "    \n",
    "param_name = 'n_estimators'\n",
    "param_name_plot = 'Number of Estimators'\n",
    "mnist_train_results = None\n",
    "mnist_test_results = None\n",
    "fashion_train_results = None\n",
    "fashion_test_results = None"
   ]
  },
  {
   "cell_type": "code",
   "execution_count": null,
   "metadata": {
    "scrolled": true
   },
   "outputs": [],
   "source": [
    "start_time = time.time()\n",
    "for i in range(2):\n",
    "    if i == 0:\n",
    "        temp_train_X = train_X.iloc[:val, :]\n",
    "        temp_train_y = train_y.iloc[:val]\n",
    "        f_name = f\"{model_name}_{param_name}_MNIST\"\n",
    "        algorithm_name = f\"{model_name} {param_name} MNIST\\n Model Complexity\"\n",
    "        plot_title = f\"{model_name} MNIST\\n Model Complexity\"\n",
    "    else:\n",
    "        temp_train_X = fashion_train_X.iloc[:val, :]\n",
    "        temp_train_y = fashion_train_y.iloc[:val]\n",
    "        f_name = f\"{model_name}_{param_name}_Fashion_MNIST\"\n",
    "        algorithm_name = f\"{model_name} {param_name} Fashion MNIST\\n Model Complexity\"\n",
    "        plot_title = f\"{model_name} Fashion MNIST\\n Model Complexity\"\n",
    "    \n",
    "    temp_train, temp_test = utl.get_model_complexity(\n",
    "        classifier=AdaBoostClassifier(DecisionTreeClassifier(max_depth=6, random_state=Random_Number)),\n",
    "        train_X=temp_train_X,\n",
    "        train_y=temp_train_y, parameter_name=param_name, save_dir=save_directory,\n",
    "        algorithm_name=algorithm_name, parameter_range=parameter_range, cv=cv,\n",
    "        n_jobs=n_jobs, verbose=5, backend='loky', param_name_for_plot=param_name_plot,\n",
    "        is_NN=False, nn_range=parameter_range, plot_title=plot_title, f_name=f_name)\n",
    "    if i == 0:\n",
    "        mnist_train_results = temp_train\n",
    "        mnist_test_results = temp_test\n",
    "    else:\n",
    "        fashion_train_results = temp_train\n",
    "        fashion_test_results = temp_test\n",
    "\n",
    "end_time = time.time()\n",
    "elapsed_time = end_time - start_time\n",
    "print(f\"Run Time: {elapsed_time}s\")"
   ]
  },
  {
   "cell_type": "code",
   "execution_count": null,
   "metadata": {
    "scrolled": false
   },
   "outputs": [],
   "source": [
    "utl.plot_combined_complexity(\"Boosting\", \"Base Estimator Max Depth\", is_NN=False, is_SVM=False,\n",
    "                             parameter_range=parameter_range, orientation='Horizontal', plt_width=12, plt_height=6,\n",
    "                             mnist_train_complex=mnist_train_results, mnist_test_complex=mnist_test_results,\n",
    "                             fashion_train_complex=fashion_train_results, fashion_test_complex=fashion_test_results,\n",
    "                             extra_name=\"Max_Depth_2\")\n",
    "utl.plot_combined_complexity(\"Boosting\", \"Base Estimator Max Depth\", is_NN=False, is_SVM=False,\n",
    "                             parameter_range=parameter_range, orientation='Vertical', plt_height=8,\n",
    "                             mnist_train_complex=mnist_train_results, mnist_test_complex=mnist_test_results,\n",
    "                             fashion_train_complex=fashion_train_results, fashion_test_complex=fashion_test_results,\n",
    "                             extra_name=\"Max_Depth_2\")"
   ]
  },
  {
   "cell_type": "markdown",
   "metadata": {},
   "source": [
    "# Initial Model Complexity: Learning Rate"
   ]
  },
  {
   "cell_type": "markdown",
   "metadata": {
    "heading_collapsed": true
   },
   "source": [
    "# Initial Confusion Matrix"
   ]
  },
  {
   "cell_type": "code",
   "execution_count": null,
   "metadata": {
    "hidden": true,
    "scrolled": false
   },
   "outputs": [],
   "source": [
    "clf = AdaBoostClassifier(DecisionTreeClassifier(random_state=Random_Number))\n",
    "clf.fit(train_X.iloc[:val, :], train_y.iloc[:val])\n",
    "\n",
    "clf2 = AdaBoostClassifier(DecisionTreeClassifier(random_state=Random_Number))\n",
    "clf2.fit(fashion_train_X.iloc[:val, :], fashion_train_y.iloc[:val])"
   ]
  },
  {
   "cell_type": "code",
   "execution_count": null,
   "metadata": {
    "hidden": true,
    "scrolled": false
   },
   "outputs": [],
   "source": [
    "utl.plot_combined_confusion_matrix(clf, valid_X, valid_y, clf2, fashion_valid_X, fashion_valid_y,\n",
    "                                   directory=save_directory, fmt=None, plot_width=12, plot_height=6)"
   ]
  },
  {
   "cell_type": "markdown",
   "metadata": {
    "heading_collapsed": true
   },
   "source": [
    "# Initial Learning Curve"
   ]
  },
  {
   "cell_type": "code",
   "execution_count": null,
   "metadata": {
    "hidden": true,
    "scrolled": false
   },
   "outputs": [],
   "source": [
    "\n",
    "start_time = time.time()\n",
    "results = []\n",
    "for i in range(1, 2, 1):\n",
    "    print(f\"Working on learning curve: {i}\")\n",
    "    res = {\"plt\": None,\n",
    "           \"dt_results\": None,\n",
    "           \"cv_results\": None}\n",
    "    if i == 0:\n",
    "        temp_train_X = train_X.iloc[:val, :]\n",
    "        temp_train_y = train_y.iloc[:val]\n",
    "        title = f\"{model_name} MNIST\\n Learning Curve\"\n",
    "        f_name = f\"{model_name}_MNIST\"\n",
    "    else:\n",
    "        temp_train_X = fashion_train_X.iloc[:val, :]\n",
    "        temp_train_y = fashion_train_y.iloc[:val]\n",
    "        title = f\"{model_name} Fashion MNIST\\n Learning Curve\"\n",
    "        f_name = f\"{model_name}_Fashion_MNIST\"\n",
    "    \n",
    "    res['dt_results'], res['cv_results'] = utl.plot_learning_curve(\n",
    "        estimator=AdaBoostClassifier(DecisionTreeClassifier(random_state=Random_Number)),\n",
    "        title=title, train_X=temp_train_X,\n",
    "        train_y=temp_train_y, cv=cv, f_name=f_name,\n",
    "        folder=\"Boosting\", train_sizes=train_sizes,\n",
    "        save_individual=True, TESTING=True,\n",
    "        n_jobs=n_jobs, backend='loky', extra_name=\"InitialLearningCurve\")\n",
    "    results.append(res)\n",
    "\n",
    "end_time = time.time()\n",
    "elapsed_time = end_time - start_time\n",
    "print(f\"Run Time: {elapsed_time}s\")"
   ]
  },
  {
   "cell_type": "markdown",
   "metadata": {},
   "source": [
    "# Initial Metrics"
   ]
  },
  {
   "cell_type": "code",
   "execution_count": null,
   "metadata": {
    "scrolled": false
   },
   "outputs": [],
   "source": [
    "clf = AdaBoostClassifier(DecisionTreeClassifier())# need to change to reflect learning curve results\n",
    "p, r, f1 = utl.plot_precision_recall(clf, train_X.iloc[:val, :], train_y.iloc[:val], valid_X.iloc[:val, :],\n",
    "                                 valid_y.iloc[:val], folder=\"Boosting\", dataset_name=\"MNIST\",\n",
    "                                 plot_title=\"Ada Boost\")"
   ]
  },
  {
   "cell_type": "markdown",
   "metadata": {},
   "source": [
    "# Gridsearch"
   ]
  },
  {
   "cell_type": "code",
   "execution_count": null,
   "metadata": {
    "scrolled": true
   },
   "outputs": [],
   "source": [
    "if TESTING:\n",
    "    all_parameters = {\n",
    "        'n_estimators': np.arange(10, 60 + 1, 10),\n",
    "        'base_estimator__max_depth': np.arange(6, 9, 1)\n",
    "    }\n",
    "else:\n",
    "    all_parameters = {\n",
    "        'n_estimators': np.arange(20, 100+1, 20),\n",
    "        'base_estimator__max_depth': np.arange(6, 9, 1)\n",
    "    }\n",
    "    \n",
    "best_mnist_estimator = None\n",
    "best_fashion_estimator = None"
   ]
  },
  {
   "cell_type": "code",
   "execution_count": null,
   "metadata": {
    "scrolled": false
   },
   "outputs": [],
   "source": [
    "start_time = time.time()\n",
    "for i in range(2):\n",
    "    if i == 0:\n",
    "        temp_train_X = train_X.iloc[:2000, :]\n",
    "        temp_train_y = train_y.iloc[:2000]\n",
    "        algorithm_name = f\"{model_name}_MNIST\"\n",
    "        plot_title = f\"{model_name} MNIST\\n Model Complexity\"\n",
    "    else:\n",
    "        temp_train_X = fashion_train_X.iloc[:val, :]\n",
    "        temp_train_y = fashion_train_y.iloc[:val]\n",
    "        algorithm_name = f\"{model_name}_Fashion_MNIST\"\n",
    "        plot_title = f\"{model_name} Fashion MNIST\\n Model Complexity\"\n",
    "    \n",
    "    grid_results_mnist, optimized_dt_mnist = utl.run_grid_search(\n",
    "        classifier=AdaBoostClassifier(DecisionTreeClassifier(random_state=Random_Number)),\n",
    "        parameters=all_parameters, train_X=temp_train_X,\n",
    "        train_y=temp_train_y, cv=cv,\n",
    "        n_jobs=n_jobs, verbose=5, return_train_score=True,\n",
    "        refit=True, save_dir=save_directory,\n",
    "        algorithm_name=algorithm_name, backend='loky')\n",
    "    print(f\"Best Parameters:\\n\\t {optimized_dt_mnist.best_params_}\")\n",
    "    if i == 0:\n",
    "        best_mnist_estimator = optimized_dt_mnist.best_estimator_\n",
    "    else:\n",
    "        best_fashion_estimator = optimized_dt_mnist.best_estimator_\n",
    "\n",
    "end_time = time.time()\n",
    "elapsed_time = end_time - start_time\n",
    "print(f\"Run Time: {elapsed_time}s\")\n"
   ]
  },
  {
   "cell_type": "markdown",
   "metadata": {},
   "source": [
    "# Final Learning Curve"
   ]
  },
  {
   "cell_type": "code",
   "execution_count": null,
   "metadata": {
    "scrolled": false
   },
   "outputs": [],
   "source": [
    "start_time = time.time()\n",
    "results = []\n",
    "for i in range(2):\n",
    "    print(f\"Working on learning curve: {i}\")\n",
    "    res = {\"plt\": None,\n",
    "           \"dt_results\": None,\n",
    "           \"cv_results\": None}\n",
    "    if i == 0:\n",
    "        temp_train_X = train_X.iloc[:val, :]\n",
    "        temp_train_y = train_y.iloc[:val]\n",
    "        title = f\"{model_name} MNIST\\n Learning Curve\"\n",
    "        f_name = f\"{model_name}_MNIST\"\n",
    "        optimized_boost = best_mnist_estimator\n",
    "    else:\n",
    "        temp_train_X = fashion_train_X.iloc[:val, :]\n",
    "        temp_train_y = fashion_train_y.iloc[:val]\n",
    "        title = f\"{model_name} Fashion MNIST\\n Learning Curve\"\n",
    "        f_name = f\"{model_name}_Fashion_MNIST\"\n",
    "        optimized_boost = best_fashion_estimator\n",
    "    \n",
    "    res['dt_results'], res['cv_results'] = utl.plot_learning_curve(estimator=optimized_boost,\n",
    "                                                                   title=title, train_X=temp_train_X,\n",
    "                                                                   train_y=temp_train_y, cv=cv, f_name=f_name,\n",
    "                                                                   folder=\"Boosting\", train_sizes=train_sizes,\n",
    "                                                                   save_individual=True, TESTING=True,\n",
    "                                                                   n_jobs=n_jobs, backend='loky',\n",
    "                                                                   extra_name=\"Final_Learning_Curve\")\n",
    "    results.append(res)\n",
    "\n",
    "end_time = time.time()\n",
    "elapsed_time = end_time - start_time\n",
    "print(f\"Run Time: {elapsed_time}s\")"
   ]
  },
  {
   "cell_type": "markdown",
   "metadata": {},
   "source": [
    "# Final Confusion Matrix on Test set \"(O_o)\""
   ]
  },
  {
   "cell_type": "code",
   "execution_count": null,
   "metadata": {
    "scrolled": false
   },
   "outputs": [],
   "source": [
    "utl.plot_combined_confusion_matrix(best_mnist_estimator, test_X, test_y, best_fashion_estimator, fashion_test_X,\n",
    "                                   fashion_test_y,\n",
    "                                   directory=save_directory, fmt=None, plot_width=12, plot_height=6,\n",
    "                                   extra_name=\"Boosting_Final\")"
   ]
  },
  {
   "cell_type": "markdown",
   "metadata": {},
   "source": [
    "# Final Metrics"
   ]
  },
  {
   "cell_type": "code",
   "execution_count": null,
   "metadata": {
    "scrolled": false
   },
   "outputs": [],
   "source": [
    "p, r, f1 = utl.plot_precision_recall(best_mnist_estimator, train_X.iloc[:val, :], train_y.iloc[:val], test_X.iloc[:val, :],\n",
    "                                 test_y.iloc[:val], folder=\"Boosting\", dataset_name=\"MNIST\",\n",
    "                                 plot_title=\"Ada Boost Test Set\", is_final=True)"
   ]
  },
  {
   "cell_type": "code",
   "execution_count": null,
   "metadata": {
    "scrolled": false
   },
   "outputs": [],
   "source": [
    "p, r, f1 = utl.plot_precision_recall(best_fashion_estimator, fashion_train_X.iloc[:val, :], fashion_train_y.iloc[:val], \n",
    "                                     fashion_test_X.iloc[:val, :], fashion_test_y.iloc[:val], \n",
    "                                     folder=\"Boosting\", dataset_name=\"Fashion MNIST\",\n",
    "                                     plot_title=\"Ada Boost Test Set\", is_final=True)"
   ]
  }
 ],
 "metadata": {
  "kernelspec": {
   "display_name": "Python 3",
   "language": "python",
   "name": "python3"
  },
  "language_info": {
   "codemirror_mode": {
    "name": "ipython",
    "version": 3
   },
   "file_extension": ".py",
   "mimetype": "text/x-python",
   "name": "python",
   "nbconvert_exporter": "python",
   "pygments_lexer": "ipython3",
   "version": "3.7.9"
  },
  "toc": {
   "base_numbering": 1,
   "nav_menu": {},
   "number_sections": true,
   "sideBar": true,
   "skip_h1_title": false,
   "title_cell": "Table of Contents",
   "title_sidebar": "Contents",
   "toc_cell": false,
   "toc_position": {},
   "toc_section_display": true,
   "toc_window_display": false
  },
  "varInspector": {
   "cols": {
    "lenName": 16,
    "lenType": 16,
    "lenVar": 40
   },
   "kernels_config": {
    "python": {
     "delete_cmd_postfix": "",
     "delete_cmd_prefix": "del ",
     "library": "var_list.py",
     "varRefreshCmd": "print(var_dic_list())"
    },
    "r": {
     "delete_cmd_postfix": ") ",
     "delete_cmd_prefix": "rm(",
     "library": "var_list.r",
     "varRefreshCmd": "cat(var_dic_list()) "
    }
   },
   "position": {
    "height": "144.716px",
    "left": "1375.45px",
    "right": "20px",
    "top": "119px",
    "width": "350px"
   },
   "types_to_exclude": [
    "module",
    "function",
    "builtin_function_or_method",
    "instance",
    "_Feature"
   ],
   "window_display": false
  }
 },
 "nbformat": 4,
 "nbformat_minor": 4
}
