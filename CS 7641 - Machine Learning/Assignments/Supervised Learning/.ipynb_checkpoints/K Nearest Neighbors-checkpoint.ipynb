{
 "cells": [
  {
   "cell_type": "markdown",
   "metadata": {},
   "source": [
    "# Initialize and Setup"
   ]
  },
  {
   "cell_type": "code",
   "execution_count": null,
   "metadata": {},
   "outputs": [],
   "source": [
    "import os\n",
    "import time\n",
    "\n",
    "import numpy as np\n",
    "from sklearn.neighbors import KNeighborsClassifier\n",
    "\n",
    "import ml_util as utl\n",
    "\n",
    "save_directory = \"figures/KNN\"\n",
    "model_name = \"KNN\"\n",
    "\n",
    "folders = [\"figures/KNN/Complexity_Analysis\",\n",
    "           \"figures/KNN/Grid_Search_Results\",\n",
    "           \"figures/KNN/Learning_Curves\",\n",
    "           \"figures/KNN/Confusion_Matrix\",\n",
    "           \"figures/KNN/Metrics\"]\n",
    "\n",
    "directories = {\n",
    "    \"Save Directory\": \"figures/KNN\",\n",
    "    \"Initial Complexity Analysis\": \"figures/KNN/Initial Complexity Analysis\",\n",
    "    \"Grid Search Results\": \"figures/KNN/Grid Search Results\",\n",
    "    \"Learning Curves\": \"figures/KNN/Learning Curves\",\n",
    "    \"Final Complexity Analysis\": \"figures/KNN/Final Complexity Analysis\"\n",
    "}\n",
    "\n",
    "Random_Number = 42\n",
    "TESTING = False\n",
    "n_jobs = 6\n",
    "cv = 5\n",
    "np.random.seed(42)\n",
    "get_ipython().system('pip install pyarrow')"
   ]
  },
  {
   "cell_type": "code",
   "execution_count": null,
   "metadata": {},
   "outputs": [],
   "source": [
    "gathered_data = utl.setup([\"MNIST\"])\n",
    "gathered_data_fashion = utl.setup([\"Fashion-MNIST\"])\n",
    "train_X, train_y, valid_X, valid_y, test_X, test_y = utl.split_data(gathered_data[\"MNIST\"][\"X\"],\n",
    "                                                                    gathered_data[\"MNIST\"][\"y\"], normalize=True)\n",
    "fashion_train_X, fashion_train_y, fashion_valid_X, fashion_valid_y, fashion_test_X, fashion_test_y = utl.split_data(\n",
    "    gathered_data_fashion[\"Fashion-MNIST\"][\"X\"],\n",
    "    gathered_data_fashion[\"Fashion-MNIST\"][\"y\"],\n",
    "    normalize=True)\n"
   ]
  },
  {
   "cell_type": "code",
   "execution_count": null,
   "metadata": {},
   "outputs": [],
   "source": [
    "CHECK_FOLDER = os.path.isdir(save_directory)\n",
    "\n",
    "# If folder doesn't exist, then create it.\n",
    "if not CHECK_FOLDER:\n",
    "    os.makedirs(save_directory)\n",
    "    print(\"created folder : \", save_directory)\n",
    "else:\n",
    "    print(save_directory, \"folder already exists.\")\n",
    "\n",
    "for f in folders:\n",
    "    if not os.path.isdir(f):\n",
    "        os.makedirs(f)\n",
    "        print(\"created folder : \", f)\n",
    "    else:\n",
    "        print(f, \"folder already exists.\")"
   ]
  },
  {
   "cell_type": "code",
   "execution_count": null,
   "metadata": {},
   "outputs": [],
   "source": [
    "# N Neighbors ~ default is 5, the number of neighbors used in calculations, vary this number\n",
    "\n",
    "# Algorithm ~ 'kd_tree'       \n",
    "#             'ball_tree'\n",
    "\n",
    "if TESTING:\n",
    "    val = 1000\n",
    "    pred_val = 1000\n",
    "    train_sizes = np.linspace(0.05, 1.00, 5)\n",
    "else:\n",
    "    val = 3000\n",
    "    pred_val = 3000\n",
    "    train_sizes = np.linspace(0.05, 1.00, 20)\n",
    "print(train_sizes)"
   ]
  },
  {
   "cell_type": "markdown",
   "metadata": {},
   "source": [
    "# Initial Model Complexity"
   ]
  },
  {
   "cell_type": "markdown",
   "metadata": {},
   "source": [
    "### Model Complexity: N Neighbors"
   ]
  },
  {
   "cell_type": "code",
   "execution_count": null,
   "metadata": {},
   "outputs": [],
   "source": [
    "\n",
    "if TESTING:\n",
    "    parameter_range = np.arange(1, 3, 1)\n",
    "else:\n",
    "    parameter_range = np.arange(1, 15, 1)\n",
    "type_1 = \"kd_tree\"\n",
    "param_name = 'n_neighbors'\n",
    "param_name_plot = 'Number of Neighbors'\n",
    "mnist_train_results = None\n",
    "mnist_test_results = None\n",
    "fashion_train_results = None\n",
    "fashion_test_results = None"
   ]
  },
  {
   "cell_type": "code",
   "execution_count": null,
   "metadata": {},
   "outputs": [],
   "source": [
    "start_time = time.time()\n",
    "for i in range(2):\n",
    "    if i == 0:\n",
    "        temp_train_X = train_X.iloc[:val, :]\n",
    "        temp_train_y = train_y.iloc[:val]\n",
    "        f_name = f\"{model_name}_{type_1}_{param_name}_MNIST\"\n",
    "        algorithm_name = f\"{model_name} {type_1} {param_name} MNIST\\n Model Complexity\"\n",
    "        plot_title = f\"{model_name} MNIST\\n Model Complexity\"\n",
    "    else:\n",
    "        temp_train_X = fashion_train_X.iloc[:val, :]\n",
    "        temp_train_y = fashion_train_y.iloc[:val]\n",
    "        f_name = f\"{model_name}_{param_name}_Fashion_MNIST\"\n",
    "        algorithm_name = f\"{model_name} {type_1} {param_name} Fashion MNIST\\n Model Complexity\"\n",
    "        plot_title = f\"{model_name} Fashion MNIST\\n Model Complexity\"\n",
    "    \n",
    "    temp_train, temp_test = utl.get_model_complexity(classifier=KNeighborsClassifier(algorithm=f\"{type_1}\"),\n",
    "                                                     train_X=temp_train_X,\n",
    "                                                     train_y=temp_train_y, parameter_name=param_name,\n",
    "                                                     save_dir=save_directory,\n",
    "                                                     algorithm_name=algorithm_name, parameter_range=parameter_range,\n",
    "                                                     cv=cv,\n",
    "                                                     n_jobs=n_jobs, verbose=5, backend='loky',\n",
    "                                                     param_name_for_plot=param_name_plot,\n",
    "                                                     f_name=f_name, plot_title=plot_title, extra_name='_n_neighbors_',\n",
    "                                                     folder=\"KNN\")\n",
    "    if i == 0:\n",
    "        mnist_train_results = temp_train\n",
    "        mnist_test_results = temp_test\n",
    "    else:\n",
    "        fashion_train_results = temp_train\n",
    "        fashion_test_results = temp_test\n",
    "\n",
    "end_time = time.time()\n",
    "elapsed_time = end_time - start_time\n",
    "print(f\"Run Time: {elapsed_time}s\")"
   ]
  },
  {
   "cell_type": "code",
   "execution_count": null,
   "metadata": {},
   "outputs": [],
   "source": [
    "utl.plot_combined_complexity(\"KNN\", \"Number of Neighbors\", is_NN=False, is_SVM=False,\n",
    "                             parameter_range=parameter_range, orientation='Horizontal', plt_width=12, plt_height=6,\n",
    "                             mnist_train_complex=mnist_train_results, mnist_test_complex=mnist_test_results,\n",
    "                             fashion_train_complex=fashion_train_results, fashion_test_complex=fashion_test_results,\n",
    "                             extra_name='_n_neighbors_', folder=\"KNN\")\n",
    "utl.plot_combined_complexity(\"KNN\", \"Number of Neighbors\", is_NN=False, is_SVM=False,\n",
    "                             parameter_range=parameter_range, orientation='Vertical', plt_height=8,\n",
    "                             mnist_train_complex=mnist_train_results, mnist_test_complex=mnist_test_results,\n",
    "                             fashion_train_complex=fashion_train_results, fashion_test_complex=fashion_test_results,\n",
    "                             extra_name='_n_neighbors_', folder=\"KNN\")"
   ]
  },
  {
   "cell_type": "markdown",
   "metadata": {},
   "source": [
    "### Model Complexity: Leaf Size"
   ]
  },
  {
   "cell_type": "code",
   "execution_count": null,
   "metadata": {},
   "outputs": [],
   "source": [
    "if TESTING:\n",
    "    parameter_range = np.arange(1, 3, 1)\n",
    "else:\n",
    "    parameter_range = np.arange(1, 15, 1)\n",
    "type_1 = \"kd_tree\"\n",
    "param_name = 'leaf_size'\n",
    "param_name_plot = 'Leaf Size'\n",
    "mnist_train_results_leaf = None\n",
    "mnist_test_results_leaf = None\n",
    "fashion_train_results_leaf = None\n",
    "fashion_test_results_leaf = None"
   ]
  },
  {
   "cell_type": "code",
   "execution_count": null,
   "metadata": {},
   "outputs": [],
   "source": [
    "start_time = time.time()\n",
    "for i in range(2):\n",
    "    if i == 0:\n",
    "        temp_train_X = train_X.iloc[:val, :]\n",
    "        temp_train_y = train_y.iloc[:val]\n",
    "        f_name = f\"{model_name}_{type_1}_{param_name}_MNIST\"\n",
    "        algorithm_name = f\"{model_name} {type_1} {param_name} MNIST\\n Model Complexity\"\n",
    "        plot_title = f\"{model_name} MNIST\\n Model Complexity\"\n",
    "    else:\n",
    "        temp_train_X = fashion_train_X.iloc[:val, :]\n",
    "        temp_train_y = fashion_train_y.iloc[:val]\n",
    "        f_name = f\"{model_name}_{param_name}_Fashion_MNIST\"\n",
    "        algorithm_name = f\"{model_name} {type_1} {param_name} Fashion MNIST\\n Model Complexity\"\n",
    "        plot_title = f\"{model_name} Fashion MNIST\\n Model Complexity\"\n",
    "    \n",
    "    temp_train, temp_test = utl.get_model_complexity(classifier=KNeighborsClassifier(algorithm=f\"{type_1}\"),\n",
    "                                                     train_X=temp_train_X,\n",
    "                                                     train_y=temp_train_y, parameter_name=param_name,\n",
    "                                                     save_dir=save_directory,\n",
    "                                                     algorithm_name=algorithm_name, parameter_range=parameter_range,\n",
    "                                                     cv=cv,\n",
    "                                                     n_jobs=n_jobs, verbose=5, backend='loky',\n",
    "                                                     param_name_for_plot=param_name_plot,\n",
    "                                                     f_name=f_name, plot_title=plot_title, extra_name='_leaf_size_',\n",
    "                                                     folder=\"KNN\")\n",
    "    if i == 0:\n",
    "        mnist_train_results_leaf = temp_train\n",
    "        mnist_test_results_leaf = temp_test\n",
    "    else:\n",
    "        fashion_train_results_leaf = temp_train\n",
    "        fashion_test_results_leaf = temp_test\n",
    "\n",
    "end_time = time.time()\n",
    "elapsed_time = end_time - start_time\n",
    "print(f\"Run Time: {elapsed_time}s\")"
   ]
  },
  {
   "cell_type": "code",
   "execution_count": null,
   "metadata": {},
   "outputs": [],
   "source": [
    "utl.plot_combined_complexity(\"KNN\", \"Leaf Size\", is_NN=False, is_SVM=False,\n",
    "                             parameter_range=parameter_range, orientation='Horizontal', plt_width=12, plt_height=6,\n",
    "                             mnist_train_complex=mnist_train_results_leaf, mnist_test_complex=mnist_test_results_leaf,\n",
    "                             fashion_train_complex=fashion_train_results_leaf,\n",
    "                             fashion_test_complex=fashion_test_results_leaf,\n",
    "                             extra_name='_leaf_size_', folder=\"KNN\")\n",
    "utl.plot_combined_complexity(\"KNN\", \"Leaf Size\", is_NN=False, is_SVM=False,\n",
    "                             parameter_range=parameter_range, orientation='Vertical', plt_height=8,\n",
    "                             mnist_train_complex=mnist_train_results_leaf, mnist_test_complex=mnist_test_results_leaf,\n",
    "                             fashion_train_complex=fashion_train_results_leaf,\n",
    "                             fashion_test_complex=fashion_test_results_leaf,\n",
    "                             extra_name='_leaf_size_', folder=\"KNN\")"
   ]
  },
  {
   "cell_type": "markdown",
   "metadata": {},
   "source": [
    "# Initial Confusion Matrix"
   ]
  },
  {
   "cell_type": "code",
   "execution_count": null,
   "metadata": {},
   "outputs": [],
   "source": [
    "clf = KNeighborsClassifier(algorithm=f\"{type_1}\")\n",
    "clf.fit(train_X.iloc[:val, :], train_y.iloc[:val])\n",
    "\n",
    "clf2 = KNeighborsClassifier(algorithm=f\"{type_1}\")\n",
    "clf2.fit(fashion_train_X.iloc[:val, :], fashion_train_y.iloc[:val])"
   ]
  },
  {
   "cell_type": "code",
   "execution_count": null,
   "metadata": {},
   "outputs": [],
   "source": [
    "utl.plot_combined_confusion_matrix(clf, valid_X, valid_y, clf2, fashion_valid_X, fashion_valid_y,\n",
    "                                   directory=save_directory, fmt=\"d\", plot_width=12, plot_height=6,\n",
    "                                   extra_name=\"Initial_Confusion\", folder=\"KNN\")"
   ]
  },
  {
   "cell_type": "markdown",
   "metadata": {},
   "source": [
    "# Initial Learning Curve"
   ]
  },
  {
   "cell_type": "code",
   "execution_count": null,
   "metadata": {},
   "outputs": [],
   "source": [
    "knn = KNeighborsClassifier(algorithm=\"ball_tree\")"
   ]
  },
  {
   "cell_type": "code",
   "execution_count": null,
   "metadata": {},
   "outputs": [],
   "source": [
    "start_time = time.time()\n",
    "results = []\n",
    "for i in range(2):\n",
    "    print(f\"Working on learning curve: {i}\")\n",
    "    res = {'plt': None,\n",
    "           'dt_results': None,\n",
    "           'cv_results': None}\n",
    "    \n",
    "    if i == 0:\n",
    "        temp_train_X = train_X.iloc[:val, :]\n",
    "        temp_train_y = train_y.iloc[:val]\n",
    "        title = f\"{model_name} MNIST\\n Learning Curve\"\n",
    "        f_name = f\"{model_name}_MNIST\"\n",
    "    else:\n",
    "        temp_train_X = fashion_train_X.iloc[:val, :]\n",
    "        temp_train_y = fashion_train_y.iloc[:val]\n",
    "        title = f\"{model_name} Fashion MNIST\\n Learning Curve\"\n",
    "        f_name = f\"{model_name}_Fashion_MNIST\"\n",
    "    \n",
    "    res['knn_results'], res['cv_results'] = utl.plot_learning_curve(estimator=knn, title=title,\n",
    "                                                                    train_X=temp_train_X, train_y=temp_train_y, cv=cv,\n",
    "                                                                    f_name=f_name, train_sizes=train_sizes,\n",
    "                                                                    save_individual=True,\n",
    "                                                                    TESTING=True, backend='loky', n_jobs=n_jobs,\n",
    "                                                                    folder=\"KNN\")\n",
    "    results.append(res)\n",
    "\n",
    "end_time = time.time()\n",
    "elapsed_time = end_time - start_time\n"
   ]
  },
  {
   "cell_type": "markdown",
   "metadata": {},
   "source": [
    "# Initial Metrics"
   ]
  },
  {
   "cell_type": "code",
   "execution_count": null,
   "metadata": {},
   "outputs": [],
   "source": [
    "clf = KNeighborsClassifier(algorithm=f\"{type_1}\") # need to change to reflect learning curve results\n",
    "p, r, f1 = utl.plot_precision_recall(clf, train_X.iloc[:val, :], train_y.iloc[:val], valid_X.iloc[:val, :],\n",
    "                                 valid_y.iloc[:val], folder=\"KNN\", dataset_name=\"MNIST\",\n",
    "                                 plot_title=\"K Nearest Neighbors\")"
   ]
  },
  {
   "cell_type": "markdown",
   "metadata": {},
   "source": [
    "# Gridsearch"
   ]
  },
  {
   "cell_type": "code",
   "execution_count": null,
   "metadata": {},
   "outputs": [],
   "source": [
    "if TESTING:\n",
    "    all_parameters = {\n",
    "        'n_neighbors': np.arange(5, 11, 5),\n",
    "        'leaf_size': np.arange(10, 11, 10),\n",
    "    }\n",
    "else:\n",
    "    all_parameters = {\n",
    "        'n_neighbors': np.arange(1, 5+1, 5),\n",
    "        'weights': ['uniform', 'distance'],\n",
    "        'leaf_size': np.arange(1, 50+1, 5),\n",
    "        'algorithm': ['ball_tree', 'kd_tree']\n",
    "    }\n",
    "\n",
    "\n",
    "best_mnist_estimator = None\n",
    "best_fashion_estimator = None"
   ]
  },
  {
   "cell_type": "code",
   "execution_count": null,
   "metadata": {},
   "outputs": [],
   "source": [
    "start_time = time.time()\n",
    "for i in range(2):\n",
    "    if i == 0:\n",
    "        temp_train_X = train_X.iloc[:val, :]\n",
    "        temp_train_y = train_y.iloc[:val]\n",
    "        f_name = f\"{model_name}_MNIST\"\n",
    "        algorithm_name = f\"{model_name} MNIST Model Complexity\"\n",
    "    else:\n",
    "        temp_train_X = fashion_train_X.iloc[:val, :]\n",
    "        temp_train_y = fashion_train_y.iloc[:val]\n",
    "        f_name = f\"{model_name}_Fashion_MNIST\"\n",
    "        algorithm_name = f\"{model_name} Fashion MNIST Model Complexity\"\n",
    "    \n",
    "    grid_results_mnist, optimized_dt_mnist = utl.run_grid_search(classifier=KNeighborsClassifier(),\n",
    "                                                                 parameters=all_parameters, train_X=temp_train_X,\n",
    "                                                                 train_y=temp_train_y, cv=cv,\n",
    "                                                                 n_jobs=n_jobs, verbose=10, return_train_score=True,\n",
    "                                                                 refit=True, save_dir=save_directory,\n",
    "                                                                 algorithm_name=algorithm_name, backend='loky',\n",
    "                                                                 folder=\"KNN\")\n",
    "    if i == 0:\n",
    "        best_mnist_estimator = optimized_dt_mnist.best_estimator_\n",
    "    else:\n",
    "        best_fashion_estimator = optimized_dt_mnist.best_estimator_\n",
    "\n",
    "end_time = time.time()\n",
    "elapsed_time = end_time - start_time\n",
    "print(f\"Run Time: {elapsed_time}s\")"
   ]
  },
  {
   "cell_type": "markdown",
   "metadata": {},
   "source": [
    "# Final Learning Curve"
   ]
  },
  {
   "cell_type": "code",
   "execution_count": null,
   "metadata": {},
   "outputs": [],
   "source": [
    "start_time = time.time()\n",
    "results = []\n",
    "for i in range(2):\n",
    "    print(f\"Working on learning curve: {i}\")\n",
    "    res = {'plt': None,\n",
    "           'dt_results': None,\n",
    "           'cv_results': None}\n",
    "    \n",
    "    if i == 0:\n",
    "        temp_train_X = test_X.iloc[:val, :]\n",
    "        temp_train_y = test_y.iloc[:val]\n",
    "        title = f\"{model_name} MNIST\\n Final Learning Curve\"\n",
    "        f_name = f\"{model_name}_MNIST\"\n",
    "        optimized_knn = best_mnist_estimator\n",
    "    else:\n",
    "        temp_train_X = fashion_test_X.iloc[:val, :]\n",
    "        temp_train_y = fashion_test_y.iloc[:val]\n",
    "        title = f\"{model_name} Fashion MNIST\\n Final Learning Curve\"\n",
    "        f_name = f\"{model_name}_Fashion_MNIST\"\n",
    "        optimized_knn = best_fashion_estimator\n",
    "    \n",
    "    res['knn_results'], res['cv_results'] = utl.plot_learning_curve(estimator=optimized_knn, title=title,\n",
    "                                                                    train_X=temp_train_X,\n",
    "                                                                    train_y=temp_train_y, cv=cv, f_name=f_name,\n",
    "                                                                    train_sizes=train_sizes,\n",
    "                                                                    save_individual=True, TESTING=True, backend='loky',\n",
    "                                                                    n_jobs=n_jobs, folder=\"KNN\")\n",
    "    results.append(res)\n",
    "\n",
    "end_time = time.time()\n",
    "elapsed_time = end_time - start_time\n",
    "print(f\"Run Time: {elapsed_time}s\")"
   ]
  },
  {
   "cell_type": "markdown",
   "metadata": {},
   "source": [
    "# Final Confusion Matrix on Test set \"(O_o)\""
   ]
  },
  {
   "cell_type": "code",
   "execution_count": null,
   "metadata": {},
   "outputs": [],
   "source": [
    "utl.plot_combined_confusion_matrix(best_mnist_estimator, test_X, test_y, best_fashion_estimator, fashion_test_X,\n",
    "                                   fashion_test_y,\n",
    "                                   directory=save_directory, fmt=\"d\", plot_width=12, plot_height=6, folder=\"KNN\")\n"
   ]
  },
  {
   "cell_type": "markdown",
   "metadata": {},
   "source": [
    "# Final Metrics"
   ]
  },
  {
   "cell_type": "code",
   "execution_count": null,
   "metadata": {},
   "outputs": [],
   "source": [
    "p, r, f1 = utl.plot_precision_recall(best_mnist_estimator, train_X.iloc[:val, :], train_y.iloc[:val], test_X.iloc[:val, :],\n",
    "                                 test_y.iloc[:val], folder=\"KNN\", dataset_name=\"MNIST\",\n",
    "                                 plot_title=\"K Nearest Neighbors Test Set\", is_final=True)"
   ]
  },
  {
   "cell_type": "code",
   "execution_count": null,
   "metadata": {},
   "outputs": [],
   "source": [
    "p, r, f1 = utl.plot_precision_recall(best_fashion_estimator, fashion_train_X.iloc[:val, :], \n",
    "                                     fashion_train_y.iloc[:val], fashion_test_X.iloc[:val, :],\n",
    "                                 fashion_test_y.iloc[:val], folder=\"KNN\", dataset_name=\"Fashion MNIST\",\n",
    "                                 plot_title=\"K Nearest Neighbors Test Set\", is_final=True)"
   ]
  }
 ],
 "metadata": {
  "instance_type": "ml.g4dn.xlarge",
  "kernelspec": {
   "display_name": "Python 3",
   "language": "python",
   "name": "python3"
  },
  "language_info": {
   "codemirror_mode": {
    "name": "ipython",
    "version": 3
   },
   "file_extension": ".py",
   "mimetype": "text/x-python",
   "name": "python",
   "nbconvert_exporter": "python",
   "pygments_lexer": "ipython3",
   "version": "3.7.9"
  },
  "toc": {
   "base_numbering": 1,
   "nav_menu": {},
   "number_sections": true,
   "sideBar": true,
   "skip_h1_title": false,
   "title_cell": "Table of Contents",
   "title_sidebar": "Contents",
   "toc_cell": false,
   "toc_position": {},
   "toc_section_display": true,
   "toc_window_display": false
  },
  "varInspector": {
   "cols": {
    "lenName": 16,
    "lenType": 16,
    "lenVar": 40
   },
   "kernels_config": {
    "python": {
     "delete_cmd_postfix": "",
     "delete_cmd_prefix": "del ",
     "library": "var_list.py",
     "varRefreshCmd": "print(var_dic_list())"
    },
    "r": {
     "delete_cmd_postfix": ") ",
     "delete_cmd_prefix": "rm(",
     "library": "var_list.r",
     "varRefreshCmd": "cat(var_dic_list()) "
    }
   },
   "types_to_exclude": [
    "module",
    "function",
    "builtin_function_or_method",
    "instance",
    "_Feature"
   ],
   "window_display": false
  }
 },
 "nbformat": 4,
 "nbformat_minor": 4
}
