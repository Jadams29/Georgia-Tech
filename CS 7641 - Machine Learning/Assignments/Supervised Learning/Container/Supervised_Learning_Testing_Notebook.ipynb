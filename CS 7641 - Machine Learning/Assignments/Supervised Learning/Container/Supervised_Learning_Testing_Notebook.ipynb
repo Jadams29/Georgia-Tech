{
 "cells": [
  {
   "cell_type": "code",
   "execution_count": 8,
   "metadata": {
    "collapsed": true,
    "pycharm": {
     "is_executing": false
    }
   },
   "outputs": [],
   "source": [
    "import pathlib\n",
    "import numpy as np\n",
    "import matplotlib.pyplot as plt\n",
    "\n",
    "from timeit import default_timer as timer\n",
    "from LoadData import LoadData\n",
    "from sklearn.metrics import  plot_confusion_matrix\n",
    "from sklearn.neighbors import KNeighborsClassifier\n",
    "from sklearn.preprocessing import StandardScaler\n",
    "from sklearn.utils import parallel_backend\n",
    "\n",
    "\n",
    "TESTING = True\n",
    "DECISION_TREE = False\n",
    "SUPPORT_VECTOR = True\n",
    "NEURAL_NET = False\n",
    "K_NEAREST = False\n",
    "BOOSTING = False\n",
    "NORMALIZE_DATA = False\n",
    "USE_PCA = True\n",
    "DataSetName = \"MNIST\"\n",
    "cwd = pathlib.Path().absolute()"
   ]
  },
  {
   "cell_type": "code",
   "execution_count": 9,
   "outputs": [],
   "source": [
    "knn_acc_filename = \"knn_accuracy_MNIST.csv\"\n",
    "knn_runtime_filename = \"knn_runtime_MNIST.csv\"\n",
    "\n",
    "knn_accuracy = np.loadtxt(knn_acc_filename, delimiter=\",\")\n",
    "knn_runtime = np.loadtxt(knn_runtime_filename, delimiter=\",\")\n"
   ],
   "metadata": {
    "collapsed": false,
    "pycharm": {
     "name": "#%%\n",
     "is_executing": false
    }
   }
  },
  {
   "cell_type": "code",
   "execution_count": 10,
   "outputs": [],
   "source": [
    "colors = [\"tab:orange\", \"tab:blue\", \"tab:green\", \"tab:red\"]\n",
    "with plt.style.context('ggplot'):\n",
    "    fig0, ax0 = plt.subplots()\n",
    "    ax0.set_xlabel(\"Percent of Training Set\")\n",
    "    ax0.set_ylabel(\"Accuracy (%)\", color='tab:orange')\n",
    "    ax0.set_title(\"Accuracy vs Training Set Size vs Training Time {} \\n {}\".format(\"KNN\", DataSetName))\n",
    "    ax0.tick_params(axis='y', labelcolor=\"black\")\n",
    "    ax0.set_ylim(0, 1.1)\n",
    "    ax3 = ax0.twinx()\n",
    "    ax3.set_ylabel(\"Training Time (s)\", color=\"tab:blue\")\n",
    "    ax3.set_ylim(0, max(max(knn_runtime), max(knn_runtime)) + 10)\n",
    "    ax3.tick_params(axis='y', labelcolor=\"black\")\n",
    "    for i in range(1):        \n",
    "        ax0.plot([i for i in range(11)], \n",
    "                 knn_accuracy, colors[i], \n",
    "                 marker='o', label=\"KNN Accuracy\")\n",
    "        ax3.plot([i for i in range(11)], \n",
    "                 knn_runtime, colors[i+1], \n",
    "                 marker=\"1\", label=\"{} Training Time\".format(\"KNN\"))\n",
    "    fig0.tight_layout()\n",
    "    directory = \"{}/Training_{}_{}_Set_Size_Impact_vs_Training_Time.png\".format(cwd, \"KNN\", DataSetName)\n",
    "    plt.savefig(directory)\n",
    "    plt.close(\"all\")"
   ],
   "metadata": {
    "collapsed": false,
    "pycharm": {
     "name": "#%%\n",
     "is_executing": false
    }
   }
  }
 ],
 "metadata": {
  "kernelspec": {
   "display_name": "Python 3",
   "language": "python",
   "name": "python3"
  },
  "language_info": {
   "codemirror_mode": {
    "name": "ipython",
    "version": 2
   },
   "file_extension": ".py",
   "mimetype": "text/x-python",
   "name": "python",
   "nbconvert_exporter": "python",
   "pygments_lexer": "ipython2",
   "version": "2.7.6"
  },
  "pycharm": {
   "stem_cell": {
    "cell_type": "raw",
    "source": [],
    "metadata": {
     "collapsed": false
    }
   }
  }
 },
 "nbformat": 4,
 "nbformat_minor": 0
}