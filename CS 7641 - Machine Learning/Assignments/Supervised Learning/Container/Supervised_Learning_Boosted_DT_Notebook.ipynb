{
 "cells": [
  {
   "cell_type": "code",
   "execution_count": 1,
   "metadata": {},
   "outputs": [],
   "source": [
    "import pathlib\n",
    "import numpy as np\n",
    "import matplotlib.pyplot as plt\n",
    "\n",
    "from sklearn.metrics import plot_confusion_matrix\n",
    "from sklearn.ensemble import GradientBoostingClassifier\n",
    "from sklearn.preprocessing import StandardScaler\n",
    "from sklearn.utils import parallel_backend\n",
    "from timeit import default_timer as timer\n",
    "from LoadData import LoadData\n",
    "\n",
    "\n",
    "TESTING = True\n",
    "DECISION_TREE = False\n",
    "SUPPORT_VECTOR = True\n",
    "NEURAL_NET = False\n",
    "K_NEAREST = False\n",
    "BOOSTING = False\n",
    "NORMALIZE_DATA = False\n",
    "USE_PCA = True\n",
    "DataSetName = \"Fashion-MNIST\"\n"
   ]
  },
  {
   "cell_type": "code",
   "execution_count": 2,
   "metadata": {},
   "outputs": [
    {
     "name": "stdout",
     "output_type": "stream",
     "text": [
      "Attempting to load: fashion-mnist-train-data.csv\n",
      "\n",
      "Loading Complete\n",
      "Data Statistics: \n",
      "   Number of Entries: 60000 \n",
      "   Shape of Entry: (785,)\n",
      "\n",
      "Attempting to load: fashion-mnist-test-data.csv\n",
      "\n",
      "Loading Complete\n",
      "Data Statistics: \n",
      "   Number of Entries: 10000 \n",
      "   Shape of Entry: (785,)\n",
      "\n"
     ]
    }
   ],
   "source": [
    "cwd = pathlib.Path().absolute()\n",
    "if DataSetName == \"MNIST\":\n",
    "    training_data_path = \"{}/mnist-train-data.csv\".format(cwd)\n",
    "    testing_data_path = \"{}/mnist-test-data.csv\".format(cwd)\n",
    "else:\n",
    "    training_data_path = \"{}/fashion-mnist-train-data.csv\".format(cwd)\n",
    "    testing_data_path = \"{}/fashion-mnist-test-data.csv\".format(cwd)\n",
    "\n",
    "\n",
    "with parallel_backend('threading'):\n",
    "    training_labels, training_data, _ = LoadData(training_data_path, normalize=NORMALIZE_DATA)\n",
    "    testing_labels, testing_data, _ = LoadData(testing_data_path, normalize=NORMALIZE_DATA)\n",
    "\n",
    "Scaler = StandardScaler().fit(training_data)\n",
    "        \n",
    "training_data = Scaler.transform(training_data)\n",
    "testing_data = Scaler.transform(testing_data)"
   ]
  },
  {
   "cell_type": "code",
   "execution_count": 3,
   "metadata": {},
   "outputs": [
    {
     "data": {
      "text/plain": [
       "'\\nTRAINING TIME\\n\\n'"
      ]
     },
     "execution_count": 3,
     "metadata": {},
     "output_type": "execute_result"
    }
   ],
   "source": [
    "\"\"\"\n",
    "TRAINING TIME\n",
    "\n",
    "\"\"\""
   ]
  },
  {
   "cell_type": "code",
   "execution_count": 6,
   "metadata": {},
   "outputs": [],
   "source": [
    "classifier_list = []\n",
    "runtime = [0.0]\n",
    "accuracy = [0.0]"
   ]
  },
  {
   "cell_type": "code",
   "execution_count": 7,
   "metadata": {},
   "outputs": [],
   "source": [
    "from sklearn.experimental import enable_hist_gradient_boosting\n",
    "from sklearn.ensemble import HistGradientBoostingClassifier"
   ]
  },
  {
   "cell_type": "code",
   "execution_count": 9,
   "metadata": {},
   "outputs": [
    {
     "data": {
      "text/plain": [
       "HistGradientBoostingClassifier(l2_regularization=0.0, learning_rate=0.1,\n",
       "                               loss='auto', max_bins=255, max_depth=3,\n",
       "                               max_iter=100, max_leaf_nodes=31,\n",
       "                               min_samples_leaf=20, n_iter_no_change=None,\n",
       "                               random_state=None, scoring=None, tol=1e-07,\n",
       "                               validation_fraction=0.1, verbose=0,\n",
       "                               warm_start=False)"
      ]
     },
     "execution_count": 9,
     "metadata": {},
     "output_type": "execute_result"
    }
   ],
   "source": [
    "clf = HistGradientBoostingClassifier(max_depth=3)\n",
    "clf.fit(training_data[:int((60000 * 0.1)), :], training_labels[:int((60000 * 0.1))])"
   ]
  },
  {
   "cell_type": "code",
   "execution_count": 19,
   "metadata": {},
   "outputs": [
    {
     "data": {
      "text/plain": [
       "array([], dtype=float64)"
      ]
     },
     "execution_count": 19,
     "metadata": {},
     "output_type": "execute_result"
    }
   ],
   "source": [
    "clf.validation_score_\n"
   ]
  },
  {
   "cell_type": "code",
   "execution_count": 15,
   "metadata": {
    "scrolled": true
   },
   "outputs": [
    {
     "name": "stdout",
     "output_type": "stream",
     "text": [
      "Boosted - Training Size: 10%\n",
      "21.604483000000002\n",
      "Boosted - Training Size: 20%\n",
      "31.8669589\n",
      "Boosted - Training Size: 30%\n",
      "42.5603127\n",
      "Boosted - Training Size: 40%\n",
      "44.755652\n",
      "Boosted - Training Size: 50%\n",
      "49.517676600000016\n",
      "Boosted - Training Size: 60%\n",
      "61.112667199999976\n",
      "Boosted - Training Size: 70%\n",
      "70.12403569999998\n",
      "Boosted - Training Size: 80%\n",
      "74.47678310000003\n",
      "Boosted - Training Size: 90%\n",
      "80.6597797\n",
      "Boosted - Training Size: 100%\n",
      "84.35767729999998\n"
     ]
    }
   ],
   "source": [
    "with parallel_backend('threading'):\n",
    "    clf = HistGradientBoostingClassifier(max_depth=3)\n",
    "#     clf = GradientBoostingClassifier(n_estimators=50, max_depth=3, verbose=3, learning_rate=0.1)\n",
    "    for i in range(1, 11, 1):\n",
    "        print(\"{} - Training Size: {}%\".format(\"Boosted\", (i * 10)))\n",
    "        start_time = timer()\n",
    "        with parallel_backend('threading'):\n",
    "            clf.fit(training_data[:int((60000 * (0.1 * i))), :], training_labels[:int((60000 * (0.1 * i)))])\n",
    "        end_time = timer()\n",
    "        elapsed_time = end_time - start_time\n",
    "        if i == 10:\n",
    "                classifier_list.append(clf)\n",
    "        print(elapsed_time)\n",
    "        accuracy.append(clf.score(testing_data, testing_labels))\n",
    "        runtime.append(elapsed_time)"
   ]
  },
  {
   "cell_type": "code",
   "execution_count": 16,
   "metadata": {},
   "outputs": [
    {
     "name": "stdout",
     "output_type": "stream",
     "text": [
      "[0.0, 0.86, 0.8714, 0.8787, 0.8807, 0.8646, 0.8828, 0.885, 0.8858, 0.8844, 0.8854]\n"
     ]
    }
   ],
   "source": [
    "print(accuracy)"
   ]
  },
  {
   "cell_type": "code",
   "execution_count": 17,
   "metadata": {},
   "outputs": [],
   "source": [
    "accuracy = np.asarray(accuracy)\n",
    "runtime = np.asarray(runtime)"
   ]
  },
  {
   "cell_type": "code",
   "execution_count": 18,
   "metadata": {},
   "outputs": [],
   "source": [
    "accuracy.tofile('boosted_accuracy_{}.csv'.format(DataSetName),sep=',',format='%.3f')\n",
    "runtime.tofile('boosted_runtime_{}.csv'.format(DataSetName),sep=',',format='%.3f')"
   ]
  },
  {
   "cell_type": "code",
   "execution_count": 19,
   "metadata": {
    "pycharm": {
     "name": "#%%\n"
    }
   },
   "outputs": [
    {
     "name": "stdout",
     "output_type": "stream",
     "text": [
      "TESTING\n",
      "[[848   2  10  27   1   1 100   0  11   0]\n",
      " [  2 982   1  10   2   1   2   0   0   0]\n",
      " [  9   0 802  12  99   0  67   0  11   0]\n",
      " [ 23  11  11 909  27   0  19   0   0   0]\n",
      " [  1   0  59  26 854   0  57   0   3   0]\n",
      " [  2   1   0   0   0 948   0  35   1  13]\n",
      " [162   2  90  25  67   0 643   0  11   0]\n",
      " [  0   0   0   0   0  10   0 945   1  44]\n",
      " [  4   2   8   2   1   3  12   2 965   1]\n",
      " [  0   0   0   0   0   1   1  37   3 958]]\n"
     ]
    },
    {
     "data": {
      "image/png": "[encoded data removed]",
      "text/plain": [
       "<Figure size 432x288 with 2 Axes>"
      ]
     },
     "metadata": {
      "needs_background": "light"
     },
     "output_type": "display_data"
    }
   ],
   "source": [
    "for i in range(len(classifier_list)):\n",
    "    disp = plot_confusion_matrix(classifier_list[i], testing_data, testing_labels, values_format=\".4g\")\n",
    "    disp.figure_.suptitle(\"{} Confusion Matrix\".format(\"Boosted\"))\n",
    "    print(\"TESTING\")\n",
    "    print(disp.confusion_matrix)\n",
    "    plt.savefig(\"{}_ConfusionMatrix_{}.png\".format(\"Boosted\", DataSetName))"
   ]
  },
  {
   "cell_type": "code",
   "execution_count": 20,
   "metadata": {},
   "outputs": [
    {
     "data": {
      "text/plain": [
       "'\\nResults\\n\\n'"
      ]
     },
     "execution_count": 20,
     "metadata": {},
     "output_type": "execute_result"
    }
   ],
   "source": [
    "\"\"\"\n",
    "Results\n",
    "\n",
    "\"\"\""
   ]
  },
  {
   "cell_type": "code",
   "execution_count": null,
   "metadata": {},
   "outputs": [],
   "source": []
  },
  {
   "cell_type": "code",
   "execution_count": 21,
   "metadata": {},
   "outputs": [
    {
     "data": {
      "image/png": "[encoded data removed]",
      "text/plain": [
       "<Figure size 432x288 with 2 Axes>"
      ]
     },
     "metadata": {},
     "output_type": "display_data"
    }
   ],
   "source": [
    "colors = [\"tab:orange\", \"tab:blue\", \"tab:green\", \"tab:red\"]\n",
    "\n",
    "run = runtime\n",
    "acc = accuracy\n",
    "\n",
    "\n",
    "with plt.style.context('ggplot'):\n",
    "    fig0, ax0 = plt.subplots()\n",
    "    ax0.set_xlabel(\"Percent of Training Set\")\n",
    "    ax0.set_ylabel(\"Accuracy (%)\", color='tab:orange')\n",
    "    ax0.set_title(\"Accuracy vs Training Set Size vs Training Time {} \\n {}\".format(\"Boosted-Hist\", DataSetName))\n",
    "    ax0.tick_params(axis='y', labelcolor=\"black\")\n",
    "    ax0.set_ylim(0, 1.1)\n",
    "    ax3 = ax0.twinx()\n",
    "    ax3.set_ylabel(\"Training Time (s)\", color=\"tab:blue\")\n",
    "    ax3.set_ylim(0, max(max(runtime), max(runtime)) + 10)\n",
    "    ax3.tick_params(axis='y', labelcolor=\"black\")\n",
    "    for i in range(1):        \n",
    "        ax0.plot([i for i in range(11)], acc, colors[i], marker='o', label=\"Boosted-Hist Accuracy\")\n",
    "        ax3.plot([i for i in range(11)], run, colors[i+1], marker=\"1\", label=\"{} training-time\".format(\"Boosted-Hist Training Time\"))\n",
    "    fig0.tight_layout()\n",
    "    directory = \"{}/Training_{}_{}_Hist_Set_Size_Impact_vs_Training_Time.png\".format(cwd, \"Boosted\", DataSetName)\n",
    "    plt.savefig(directory)\n"
   ]
  }
 ],
 "metadata": {
  "kernelspec": {
   "display_name": "Python 3",
   "language": "python",
   "name": "python3"
  },
  "language_info": {
   "codemirror_mode": {
    "name": "ipython",
    "version": 3
   },
   "file_extension": ".py",
   "mimetype": "text/x-python",
   "name": "python",
   "nbconvert_exporter": "python",
   "pygments_lexer": "ipython3",
   "version": "3.7.6"
  },
  "pycharm": {
   "stem_cell": {
    "cell_type": "raw",
    "metadata": {
     "collapsed": false
    },
    "source": []
   }
  }
 },
 "nbformat": 4,
 "nbformat_minor": 4
}
