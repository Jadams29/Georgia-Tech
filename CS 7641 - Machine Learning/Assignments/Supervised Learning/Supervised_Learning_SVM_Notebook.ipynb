{
 "cells": [
  {
   "cell_type": "code",
   "execution_count": 1,
   "metadata": {},
   "outputs": [],
   "source": [
    "import os\n",
    "import pathlib\n",
    "import sys\n",
    "import matplotlib.pyplot as plt\n",
    "import pandas as pd\n",
    "import numpy as np\n",
    "from datetime import datetime\n",
    "from timeit import default_timer as timer\n",
    "\n",
    "from LoadData import LoadData\n",
    "\n",
    "import os\n",
    "import sys\n",
    "from datetime import datetime\n",
    "\n",
    "import matplotlib.pyplot as plt\n",
    "import pandas as pd\n",
    "from sklearn import metrics, svm\n",
    "from sklearn.metrics import classification_report, confusion_matrix, plot_confusion_matrix\n",
    "from sklearn.model_selection import cross_val_score\n",
    "from sklearn.tree._tree import TREE_LEAF\n",
    "\n",
    "from sklearn.neural_network import MLPClassifier\n",
    "from sklearn.neighbors import KNeighborsClassifier\n",
    "from sklearn.tree import DecisionTreeClassifier\n",
    "from sklearn.ensemble import AdaBoostClassifier, GradientBoostingClassifier\n",
    "\n",
    "from sklearn.preprocessing import StandardScaler\n",
    "from sklearn.utils import parallel_backend\n",
    "\n",
    "\n",
    "TESTING = True\n",
    "DECISION_TREE = False\n",
    "SUPPORT_VECTOR = True\n",
    "NEURAL_NET = False\n",
    "K_NEAREST = False\n",
    "BOOSTING = False\n",
    "NORMALIZE_DATA = False\n",
    "USE_PCA = True\n",
    "DataSetName = \"Fashion-MNIST\"\n"
   ]
  },
  {
   "cell_type": "code",
   "execution_count": null,
   "metadata": {},
   "outputs": [],
   "source": [
    "cwd = pathlib.Path().absolute()\n",
    "training_data_path = \"{}/fashion-mnist-train-data.csv\".format(cwd)\n",
    "testing_data_path = \"{}/fashion-mnist-test-data.csv\".format(cwd)\n",
    "\n",
    "with parallel_backend('threading'):\n",
    "    training_labels, training_data, _ = LoadData(training_data_path, normalize=NORMALIZE_DATA)\n",
    "    testing_labels, testing_data, _ = LoadData(testing_data_path, normalize=NORMALIZE_DATA)\n",
    "\n",
    "Scaler = StandardScaler().fit(training_data)\n",
    "        \n",
    "training_data = Scaler.transform(training_data)\n",
    "testing_data = Scaler.transform(testing_data)\n"
   ]
  },
  {
   "cell_type": "code",
   "execution_count": null,
   "metadata": {},
   "outputs": [],
   "source": [
    "\"\"\"\n",
    "TRAINING TIME\n",
    "\n",
    "\"\"\""
   ]
  },
  {
   "cell_type": "code",
   "execution_count": null,
   "metadata": {},
   "outputs": [],
   "source": [
    "# limit = 4000\n",
    "# testing_subset = testing_data[:limit, :]\n",
    "# training_subset = training_data[:limit, :]\n",
    "# testing_sublabels = testing_labels[:limit]\n",
    "# training_sublabels = training_labels[:limit ,]\n",
    "\n",
    "solvers = [\"Linear\", \"RBF\"]\n",
    "classifier_list = []\n",
    "\n",
    "svm_linear_runtime = [0.0]\n",
    "svm_linear_accuracy = [0.0]\n",
    "\n",
    "svm_rbf_runtime = [0.0]\n",
    "svm_rbf_accuracy = [0.0]"
   ]
  },
  {
   "cell_type": "code",
   "execution_count": null,
   "metadata": {
    "scrolled": true
   },
   "outputs": [],
   "source": [
    "with parallel_backend('threading'):\n",
    "    for solver in solvers:\n",
    "        clf = svm.SVC(kernel=solver.lower(), verbose=3, max_iter=1000)\n",
    "        for i in range(1, 11, 1):\n",
    "            print(\"{} - Training Size: {}%\".format(solver, (i * 10)))\n",
    "            start_time = timer()\n",
    "            with parallel_backend('threading'):\n",
    "                clf.fit(training_data[:int((60000 * (0.1 * i))), :], training_labels[:int((60000 * (0.1 * i)))])\n",
    "            end_time = timer()\n",
    "            if i == 10:\n",
    "                classifier_list.append(clf)\n",
    "            elapsed_time = end_time - start_time\n",
    "            print(elapsed_time)\n",
    "            if solver == \"Linear\":\n",
    "                svm_linear_accuracy.append(clf.score(testing_data, testing_labels))\n",
    "                svm_linear_runtime.append(elapsed_time)\n",
    "            else:\n",
    "                svm_rbf_accuracy.append(clf.score(testing_data, testing_labels))\n",
    "                svm_rbf_runtime.append(elapsed_time)"
   ]
  },
  {
   "cell_type": "code",
   "execution_count": null,
   "metadata": {},
   "outputs": [],
   "source": [
    "svm_linear_accuracy = np.asarray(svm_linear_accuracy)\n",
    "svm_linear_runtime = np.asarray(svm_linear_runtime)\n",
    "svm_rbf_accuracy = np.asarray(svm_rbf_accuracy)\n",
    "svm_rbf_runtime = np.asarray(svm_rbf_runtime)"
   ]
  },
  {
   "cell_type": "code",
   "execution_count": null,
   "metadata": {},
   "outputs": [],
   "source": [
    "svm_linear_accuracy.tofile('svm_linear_accuracy_{}.csv'.format(DataSetName),sep=',',format='%.3f')\n",
    "svm_linear_runtime.tofile('svm_linear_runtime_{}.csv'.format(DataSetName),sep=',',format='%.3f')\n",
    "svm_rbf_accuracy.tofile('svm_rbf_accuracy_{}.csv'.format(DataSetName),sep=',',format='%.3f')\n",
    "svm_rbf_runtime.tofile('svm_rbf_runtime_{}.csv'.format(DataSetName),sep=',',format='%.3f')"
   ]
  },
  {
   "cell_type": "code",
   "execution_count": null,
   "metadata": {},
   "outputs": [],
   "source": [
    "\"\"\"\n",
    "GET Confusion Matrix\n",
    "\n",
    "\"\"\""
   ]
  },
  {
   "cell_type": "code",
   "execution_count": null,
   "metadata": {},
   "outputs": [],
   "source": [
    "for i in range(len(classifier_list)):\n",
    "    disp = plot_confusion_matrix(classifier_list[i], testing_data, testing_labels, values_format=\".4g\")\n",
    "    disp.figure_.suptitle(\"{} Confusion Matrix\".format(solvers[i]))\n",
    "    print(\"TESTING\")\n",
    "    print(disp.confusion_matrix)\n",
    "    plt.savefig(\"{}_ConfusionMatrix_{}.png\".format(solvers[i], DataSetName))\n"
   ]
  },
  {
   "cell_type": "code",
   "execution_count": null,
   "metadata": {},
   "outputs": [],
   "source": [
    "\"\"\"\n",
    "PREDICTIONS\n",
    "\n",
    "\"\"\""
   ]
  },
  {
   "cell_type": "code",
   "execution_count": null,
   "metadata": {},
   "outputs": [],
   "source": []
  },
  {
   "cell_type": "code",
   "execution_count": null,
   "metadata": {},
   "outputs": [],
   "source": [
    "\"\"\"\n",
    "Results\n",
    "\n",
    "\"\"\""
   ]
  },
  {
   "cell_type": "code",
   "execution_count": 2,
   "metadata": {},
   "outputs": [],
   "source": [
    "colors = [\"tab:orange\", \"tab:blue\", \"tab:green\", \"tab:red\"]\n",
    "solvers = [\"Linear\", \"RBF\"]\n",
    "cwd = pathlib.Path().absolute()\n",
    "run = np.loadtxt(\"{}/svm_rbf_runtime_Fashion-MNIST.csv\".format(cwd), delimiter=\",\")\n",
    "acc = np.loadtxt(\"{}/svm_rbf_accuracy_Fashion-MNIST.csv\".format(cwd), delimiter=\",\")\n"
   ]
  },
  {
   "cell_type": "code",
   "execution_count": 6,
   "metadata": {},
   "outputs": [
    {
     "data": {
      "image/png": "[encoded data removed]",
      "text/plain": [
       "<Figure size 432x288 with 2 Axes>"
      ]
     },
     "metadata": {},
     "output_type": "display_data"
    }
   ],
   "source": [
    "with plt.style.context('ggplot'):\n",
    "    fig0, ax0 = plt.subplots()\n",
    "    ax0.set_xlabel(\"Percent of Training Set\")\n",
    "    ax0.set_ylabel(\"Accuracy (%)\", color='tab:orange')\n",
    "    ax0.set_title(\"Accuracy vs Training Set Size vs Training Time {} \\n {}\".format(\"RBF\", DataSetName))\n",
    "    ax0.tick_params(axis='y', labelcolor=\"black\")\n",
    "    ax0.set_ylim(0, 1.1)\n",
    "    ax3 = ax0.twinx()\n",
    "    ax3.set_ylabel(\"Training Time (s)\", color=\"tab:blue\")\n",
    "    ax3.set_ylim(0, max(run) + 10)\n",
    "    ax3.tick_params(axis='y', labelcolor=\"black\")\n",
    "    for i in range(1):        \n",
    "        ax0.plot([i for i in range(11)], acc, colors[i], marker='o', label=\"RBF\")\n",
    "        ax3.plot([i for i in range(11)], run, colors[i+1], marker=\"1\", label=\"{} training-time\".format(\"RBF\"))\n",
    "    fig0.tight_layout()\n",
    "    dir = \"{}/Training_{}_{}_Set_Size_Impact_vs_Training_Time.png\".format(cwd, \"RBF\", DataSetName)\n",
    "    plt.savefig(dir)\n",
    "#         plt.close(\"all\")"
   ]
  }
 ],
 "metadata": {
  "kernelspec": {
   "display_name": "Python 3",
   "language": "python",
   "name": "python3"
  },
  "language_info": {
   "codemirror_mode": {
    "name": "ipython",
    "version": 3
   },
   "file_extension": ".py",
   "mimetype": "text/x-python",
   "name": "python",
   "nbconvert_exporter": "python",
   "pygments_lexer": "ipython3",
   "version": "3.7.6"
  }
 },
 "nbformat": 4,
 "nbformat_minor": 4
}
