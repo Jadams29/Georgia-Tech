{
 "cells": [
  {
   "cell_type": "code",
   "execution_count": 1,
   "metadata": {},
   "outputs": [],
   "source": [
    "import os\n",
    "import pathlib\n",
    "import sys\n",
    "import matplotlib.pyplot as plt\n",
    "import pandas as pd\n",
    "import numpy as np\n",
    "from datetime import datetime\n",
    "from timeit import default_timer as timer\n",
    "\n",
    "from LoadData import LoadData\n",
    "\n",
    "import os\n",
    "import sys\n",
    "from datetime import datetime\n",
    "\n",
    "import matplotlib.pyplot as plt\n",
    "import pandas as pd\n",
    "from sklearn import metrics, svm\n",
    "from sklearn.metrics import classification_report, confusion_matrix, plot_confusion_matrix\n",
    "from sklearn.model_selection import cross_val_score\n",
    "from sklearn.tree._tree import TREE_LEAF\n",
    "\n",
    "from sklearn.neural_network import MLPClassifier\n",
    "from sklearn.neighbors import KNeighborsClassifier\n",
    "from sklearn.tree import DecisionTreeClassifier\n",
    "from sklearn.ensemble import AdaBoostClassifier, GradientBoostingClassifier\n",
    "\n",
    "from sklearn.preprocessing import StandardScaler\n",
    "from sklearn.utils import parallel_backend\n",
    "\n",
    "\n",
    "TESTING = True\n",
    "DECISION_TREE = False\n",
    "SUPPORT_VECTOR = True\n",
    "NEURAL_NET = False\n",
    "K_NEAREST = False\n",
    "BOOSTING = False\n",
    "NORMALIZE_DATA = False\n",
    "USE_PCA = True\n",
    "DataSetName = \"MNIST\"\n"
   ]
  },
  {
   "cell_type": "code",
   "execution_count": 2,
   "metadata": {},
   "outputs": [
    {
     "name": "stdout",
     "output_type": "stream",
     "text": [
      "Attempting to load: mnist-train-data.csv\n",
      "\n",
      "Loading Complete\n",
      "Data Statistics: \n",
      "   Number of Entries: 60000 \n",
      "   Shape of Entry: (785,)\n",
      "\n",
      "Attempting to load: mnist-test-data.csv\n",
      "\n",
      "Loading Complete\n",
      "Data Statistics: \n",
      "   Number of Entries: 10000 \n",
      "   Shape of Entry: (785,)\n",
      "\n"
     ]
    }
   ],
   "source": [
    "cwd = pathlib.Path().absolute()\n",
    "if DataSetName == \"MNIST\":\n",
    "    training_data_path = \"{}/mnist-train-data.csv\".format(cwd)\n",
    "    testing_data_path = \"{}/mnist-test-data.csv\".format(cwd)\n",
    "else:\n",
    "    training_data_path = \"{}/fashion-mnist-train-data.csv\".format(cwd)\n",
    "    testing_data_path = \"{}/fashion-mnist-test-data.csv\".format(cwd)\n",
    "\n",
    "with parallel_backend('threading'):\n",
    "    training_labels, training_data, _ = LoadData(training_data_path, normalize=NORMALIZE_DATA)\n",
    "    testing_labels, testing_data, _ = LoadData(testing_data_path, normalize=NORMALIZE_DATA)\n",
    "\n",
    "Scaler = StandardScaler().fit(training_data)\n",
    "        \n",
    "training_data = Scaler.transform(training_data)\n",
    "testing_data = Scaler.transform(testing_data)\n"
   ]
  },
  {
   "cell_type": "code",
   "execution_count": 3,
   "metadata": {},
   "outputs": [],
   "source": [
    "def FindCorrectPredictions(prediction_array, actual_array):\n",
    "    idx = np.argwhere(actual_array != prediction_array)\n",
    "    actual = actual_array[idx]\n",
    "    predicted = prediction_array[idx]\n",
    "    pred_actual_hstack = np.hstack((predicted, actual))\n",
    "    final_hstack = np.hstack((idx, pred_actual_hstack))\n",
    "    df = pd.DataFrame(final_hstack, columns=[\"Index Of Image\", \"Predicted Image\", \"Actual Image\"])\n",
    "    return df"
   ]
  },
  {
   "cell_type": "code",
   "execution_count": 4,
   "metadata": {},
   "outputs": [],
   "source": [
    "def prune_index11(clf, index, threshold):\n",
    "    try:\n",
    "        \"\"\"\n",
    "        prune_index(dt.tree_, 0, 3)\n",
    "        https://stackoverflow.com/questions/49428469/pruning-decision-trees\n",
    "        \"\"\"\n",
    "\n",
    "        if clf.tree_.value[index][0].sum() < threshold:\n",
    "            # turn node into a leaf by \"unlinking\" its children\n",
    "            clf.tree_.children_left[index] = TREE_LEAF\n",
    "            clf.tree_.children_right[index] = TREE_LEAF\n",
    "        # if there are children, visit them as well\n",
    "        if clf.tree_.children_left[index] != TREE_LEAF:\n",
    "            prune_index(clf.tree_.children_left[index], threshold)\n",
    "            prune_index(clf.tree_.children_right[index], threshold)\n",
    "\n",
    "    except Exception as err:\n",
    "        print(\"Exception occurred while pruning Decision Tree. \\n\", err)\n",
    "        exc_type, exc_obj, exc_tb = sys.exc_info()\n",
    "        fname = os.path.split(exc_tb.tb_frame.f_code.co_filename)[1]\n",
    "        print(exc_type, fname, exc_tb.tb_lineno)"
   ]
  },
  {
   "cell_type": "code",
   "execution_count": null,
   "metadata": {},
   "outputs": [],
   "source": [
    "NeuralNetwork_Classifier = MLPClassifier(solver='sgd', max_iter=200, verbose=1, hidden_layer_sizes=(100,))"
   ]
  },
  {
   "cell_type": "code",
   "execution_count": null,
   "metadata": {},
   "outputs": [],
   "source": [
    "KNN_Classifier = KNeighborsClassifier()"
   ]
  },
  {
   "cell_type": "code",
   "execution_count": null,
   "metadata": {},
   "outputs": [],
   "source": [
    "Boosted_Classifier = GradientBoostingClassifier(n_estimators=100, max_depth=100, verbose=3)"
   ]
  },
  {
   "cell_type": "code",
   "execution_count": null,
   "metadata": {},
   "outputs": [],
   "source": [
    "SVM_Classifier = svm.SVC(kernel='rbf', verbose=3, max_iter=1000)"
   ]
  },
  {
   "cell_type": "code",
   "execution_count": null,
   "metadata": {},
   "outputs": [],
   "source": [
    "DecisionTree_Classifier = DecisionTreeClassifier(criterion=\"entropy\", max_depth=100)"
   ]
  },
  {
   "cell_type": "code",
   "execution_count": null,
   "metadata": {},
   "outputs": [],
   "source": [
    "\"\"\"\n",
    "TRAINING TIME\n",
    "\n",
    "\"\"\""
   ]
  },
  {
   "cell_type": "code",
   "execution_count": null,
   "metadata": {},
   "outputs": [],
   "source": [
    "# limit = 4000\n",
    "# testing_subset = testing_data[:limit, :]\n",
    "# training_subset = training_data[:limit, :]\n",
    "# testing_sublabels = testing_labels[:limit]\n",
    "# training_sublabels = training_labels[:limit ,]\n",
    "\n",
    "solvers = [\"Adam\", \"SGD\"]\n",
    "\n",
    "adam_runtime = [0.0]\n",
    "adam_accuracy = [0.0]\n",
    "\n",
    "sgd_runtime = [0.0]\n",
    "sgd_accuracy = [0.0]"
   ]
  },
  {
   "cell_type": "code",
   "execution_count": null,
   "metadata": {
    "scrolled": true
   },
   "outputs": [],
   "source": [
    "for solver in solvers:\n",
    "    NeuralNetwork_Classifier = MLPClassifier(solver=solver.lower(), max_iter=200, verbose=1, hidden_layer_sizes=(100,))\n",
    "    for i in range(1, 11, 1):\n",
    "        print(\"{} - Training Size: {}%\".format(solver, (i * 10)))\n",
    "        start_time = timer()\n",
    "        with parallel_backend('threading'):\n",
    "            NeuralNetwork_Classifier.fit(training_data[:int((60000 * (0.1 * i))), :], training_labels[:int((60000 * (0.1 * i)))])\n",
    "        end_time = timer()\n",
    "        elapsed_time = end_time - start_time\n",
    "        print(elapsed_time)\n",
    "        if solver == \"SGD\":\n",
    "            sgd_accuracy.append(NeuralNetwork_Classifier.score(testing_data, testing_labels))\n",
    "            sgd_runtime.append(elapsed_time)\n",
    "        else:\n",
    "            adam_accuracy.append(NeuralNetwork_Classifier.score(testing_data, testing_labels))\n",
    "            adam_runtime.append(elapsed_time)"
   ]
  },
  {
   "cell_type": "code",
   "execution_count": null,
   "metadata": {},
   "outputs": [],
   "source": [
    "adam_accuracy = np.asarray(adam_accuracy)\n",
    "adam_runtime = np.asarray(adam_runtime)\n",
    "sgd_accuracy = np.asarray(sgd_accuracy)\n",
    "sgd_runtime = np.asarray(sgd_runtime)"
   ]
  },
  {
   "cell_type": "code",
   "execution_count": null,
   "metadata": {},
   "outputs": [],
   "source": [
    "adam_accuracy.tofile('adam_accuracy_MNIST.csv',sep=',',format='%.3f')\n",
    "adam_runtime.tofile('adam_runtime_MNIST.csv',sep=',',format='%.3f')\n",
    "sgd_accuracy.tofile('sgd_accuracy_MNIST.csv',sep=',',format='%.3f')\n",
    "sgd_runtime.tofile('sgd_runtime_MNIST.csv',sep=',',format='%.3f')"
   ]
  },
  {
   "cell_type": "code",
   "execution_count": null,
   "metadata": {},
   "outputs": [],
   "source": [
    "with parallel_backend('threading'):\n",
    "    KNN_Classifier.fit(training_subset, training_sublabels)"
   ]
  },
  {
   "cell_type": "code",
   "execution_count": null,
   "metadata": {},
   "outputs": [],
   "source": [
    "with parallel_backend('threading'):\n",
    "    Boosted_Classifier.fit(training_subset, training_sublabels)"
   ]
  },
  {
   "cell_type": "code",
   "execution_count": null,
   "metadata": {},
   "outputs": [],
   "source": [
    "with parallel_backend('threading'):\n",
    "    SVM_Classifier.fit(training_data, training_labels)"
   ]
  },
  {
   "cell_type": "code",
   "execution_count": null,
   "metadata": {},
   "outputs": [],
   "source": [
    "with parallel_backend('threading'):\n",
    "    DecisionTree_Classifier.fit(training_data, training_labels)"
   ]
  },
  {
   "cell_type": "code",
   "execution_count": null,
   "metadata": {},
   "outputs": [],
   "source": [
    "\"\"\"\n",
    "PREDICTIONS\n",
    "\n",
    "\"\"\""
   ]
  },
  {
   "cell_type": "code",
   "execution_count": null,
   "metadata": {},
   "outputs": [],
   "source": []
  },
  {
   "cell_type": "code",
   "execution_count": null,
   "metadata": {},
   "outputs": [],
   "source": [
    "plt.close('all')\n",
    "Neural_Predict = NeuralNetwork_Classifier.predict(testing_data)\n",
    "Neural_Report = metrics.classification_report(testing_labels, y_pred=Neural_Predict)\n",
    "print(Neural_Report)\n",
    "\n",
    "nn_confusion_matrix = metrics.plot_confusion_matrix(NeuralNetwork_Classifier, testing_data,\n",
    "                                                 testing_labels, values_format=\".4g\")\n",
    "nn_confusion_matrix.figure_.suptitle(\"Neural Network Confusion Matrix\")\n",
    "plt.show()"
   ]
  },
  {
   "cell_type": "code",
   "execution_count": null,
   "metadata": {},
   "outputs": [],
   "source": [
    "plt.close('all')\n",
    "KNN_Predict = KNN_Classifier.predict(testing_subset)\n",
    "KNN_Report = metrics.classification_report(testing_sublabels, y_pred=KNN_Predict)\n",
    "print(KNN_Report)\n",
    "\n",
    "knn_confusion_matrix = metrics.plot_confusion_matrix(KNN_Classifier, testing_subset,\n",
    "                                                 testing_sublabels, values_format=\".4g\")\n",
    "knn_confusion_matrix.figure_.suptitle(\"K Nearest Neighbor Confusion Matrix\")\n",
    "plt.show()"
   ]
  },
  {
   "cell_type": "code",
   "execution_count": null,
   "metadata": {},
   "outputs": [],
   "source": [
    "plt.close('all')\n",
    "Boosted_Predict = Boosted_Classifier.predict(testing_subset)\n",
    "Boosted_Report = metrics.classification_report(testing_sublabels, y_pred=Boosted_Predict)\n",
    "print(Boosted_Report)\n",
    "\n",
    "dt_confusion_matrix = metrics.plot_confusion_matrix(DecisionTree_Classifier, testing_subset,\n",
    "                                                 testing_sublabels, values_format=\".4g\")\n",
    "dt_confusion_matrix.figure_.suptitle(\"Boosted Decision Tree Confusion Matrix\")\n",
    "plt.show()"
   ]
  },
  {
   "cell_type": "code",
   "execution_count": null,
   "metadata": {},
   "outputs": [],
   "source": [
    "plt.close('all')\n",
    "SVM_Predict = SVM_Classifier.predict(testing_data)\n",
    "SVM_Report = metrics.classification_report(testing_labels, y_pred=SVM_Predict)\n",
    "print(SVM_Report)\n",
    "\n",
    "svm_confusion_matrix = metrics.plot_confusion_matrix(SVM_Classifier, testing_data,\n",
    "                                                 testing_labels, values_format=\".4g\")\n",
    "svm_confusion_matrix.figure_.suptitle(\"Support Vector Machine Confusion Matrix\")\n",
    "plt.show()"
   ]
  },
  {
   "cell_type": "code",
   "execution_count": null,
   "metadata": {},
   "outputs": [],
   "source": [
    "plt.close('all')\n",
    "DecisionTree_Predict = DecisionTree_Classifier.predict(testing_data)\n",
    "DecisionTree_Report = metrics.classification_report(testing_labels, y_pred=DecisionTree_Predict)\n",
    "print(DecisionTree_Report)\n",
    "\n",
    "dt_confusion_matrix = metrics.plot_confusion_matrix(DecisionTree_Classifier, testing_data,\n",
    "                                                 testing_labels, values_format=\".4g\")\n",
    "dt_confusion_matrix.figure_.suptitle(\"Decision Tree Confusion Matrix\")\n",
    "plt.show()"
   ]
  },
  {
   "cell_type": "code",
   "execution_count": null,
   "metadata": {},
   "outputs": [],
   "source": [
    "DecisionTree_Classifier.get_depth()\n",
    "# prune_index11(clf=DecisionTree_Classifier, index=0, threshold=50)\n",
    "# print(\"Pruned\")\n",
    "# DecisionTree_Classifier.get_depth()"
   ]
  },
  {
   "cell_type": "code",
   "execution_count": null,
   "metadata": {},
   "outputs": [],
   "source": [
    "print(\"Pruned\")"
   ]
  },
  {
   "cell_type": "code",
   "execution_count": null,
   "metadata": {},
   "outputs": [],
   "source": [
    "t = DecisionTree_Classifier\n",
    "print(type(t))"
   ]
  },
  {
   "cell_type": "code",
   "execution_count": null,
   "metadata": {},
   "outputs": [],
   "source": [
    "\"\"\"\n",
    "Results\n",
    "\n",
    "\"\"\""
   ]
  },
  {
   "cell_type": "code",
   "execution_count": null,
   "metadata": {},
   "outputs": [],
   "source": [
    "nn_results = FindCorrectPredictions(Neural_Predict, testing_labels)\n",
    "print(nn_results)"
   ]
  },
  {
   "cell_type": "code",
   "execution_count": null,
   "metadata": {},
   "outputs": [],
   "source": [
    "knn_results = FindCorrectPredictions(KNN_Predict, testing_sublabels)\n",
    "print(nn_results)"
   ]
  },
  {
   "cell_type": "code",
   "execution_count": null,
   "metadata": {},
   "outputs": [],
   "source": [
    "boosted_results = FindCorrectPredictions(Boosted_Predict,testing_sublabels)\n",
    "print(boosted_results)"
   ]
  },
  {
   "cell_type": "code",
   "execution_count": null,
   "metadata": {},
   "outputs": [],
   "source": [
    "svm_results = FindCorrectPredictions(SVM_Predict, testing_sublabels)\n",
    "print(svm_results)"
   ]
  },
  {
   "cell_type": "code",
   "execution_count": null,
   "metadata": {},
   "outputs": [],
   "source": [
    "dt_results = FindCorrectPredictions(DecisionTree_Predict, testing_labels)\n",
    "print(dt_results)"
   ]
  },
  {
   "cell_type": "code",
   "execution_count": null,
   "metadata": {},
   "outputs": [],
   "source": [
    "adam_accuracy = np.loadtxt(\"{}/adam_accuracy_MNIST.csv\".format(cwd), delimiter=\",\")\n",
    "adam_runtime = np.loadtxt(\"{}/adam_runtime_MNIST.csv\".format(cwd), delimiter=\",\")"
   ]
  },
  {
   "cell_type": "code",
   "execution_count": null,
   "metadata": {},
   "outputs": [],
   "source": [
    "sgd_accuracy = np.loadtxt(\"{}/sgd_accuracy_MNIST.csv\".format(cwd), delimiter=\",\")\n",
    "sgd_runtime = np.loadtxt(\"{}/sgd_runtime_MNIST.csv\".format(cwd), delimiter=\",\")"
   ]
  },
  {
   "cell_type": "code",
   "execution_count": null,
   "metadata": {},
   "outputs": [],
   "source": [
    "print(len(adam_accuracy))\n",
    "print(adam_accuracy)\n",
    "print(len(adam_runtime))\n",
    "print(adam_runtime)\n",
    "print(len(sgd_accuracy))\n",
    "print(sgd_accuracy)\n",
    "print(len(sgd_runtime))\n",
    "print(sgd_runtime)"
   ]
  },
  {
   "cell_type": "code",
   "execution_count": null,
   "metadata": {},
   "outputs": [],
   "source": [
    "print(solvers)"
   ]
  },
  {
   "cell_type": "code",
   "execution_count": null,
   "metadata": {},
   "outputs": [],
   "source": [
    "colors = [\"tab:orange\", \"tab:blue\", \"tab:green\", \"tab:red\"]\n",
    "\n",
    "run = [sgd_runtime, adam_runtime]\n",
    "acc = [sgd_accuracy, adam_accuracy]\n",
    "\n",
    "for solver in range(len(solvers)):\n",
    "    with plt.style.context('ggplot'):\n",
    "        fig0, ax0 = plt.subplots()\n",
    "        ax0.set_xlabel(\"Percent of Training Set\")\n",
    "        ax0.set_ylabel(\"Accuracy (%)\", color='tab:orange')\n",
    "        ax0.set_title(\"Accuracy vs Training Set Size vs Training Time {} \\n MNIST\".format(solvers[solver]))\n",
    "        ax0.tick_params(axis='y', labelcolor=\"black\")\n",
    "        ax0.set_ylim(0, 1.1)\n",
    "        ax3 = ax0.twinx()\n",
    "        ax3.set_ylabel(\"Training Time (s)\", color=\"tab:blue\")\n",
    "        ax3.set_ylim(0, max(max(adam_runtime), max(sgd_runtime)) + 10)\n",
    "        ax3.tick_params(axis='y', labelcolor=\"black\")\n",
    "        for i in range(1):        \n",
    "            ax0.plot([i for i in range(11)], acc[solver], colors[i], marker='o', label=solvers[solver])\n",
    "            ax3.plot([i for i in range(11)], run[solver], colors[i+1], marker=\"1\", label=\"{} training-time\".format(solvers[solver]))\n",
    "        fig0.tight_layout()\n",
    "        dir = \"{}/Training_{}_MNIST_Set_Size_Impact_vs_Training_Time.png\".format(cwd, solvers[solver])\n",
    "        plt.savefig(dir)\n",
    "#         plt.close(\"all\")"
   ]
  }
 ],
 "metadata": {
  "kernelspec": {
   "display_name": "Python 3",
   "language": "python",
   "name": "python3"
  },
  "language_info": {
   "codemirror_mode": {
    "name": "ipython",
    "version": 3
   },
   "file_extension": ".py",
   "mimetype": "text/x-python",
   "name": "python",
   "nbconvert_exporter": "python",
   "pygments_lexer": "ipython3",
   "version": "3.7.6"
  },
  "pycharm": {
   "stem_cell": {
    "cell_type": "raw",
    "source": [],
    "metadata": {
     "collapsed": false
    }
   }
  }
 },
 "nbformat": 4,
 "nbformat_minor": 4
}