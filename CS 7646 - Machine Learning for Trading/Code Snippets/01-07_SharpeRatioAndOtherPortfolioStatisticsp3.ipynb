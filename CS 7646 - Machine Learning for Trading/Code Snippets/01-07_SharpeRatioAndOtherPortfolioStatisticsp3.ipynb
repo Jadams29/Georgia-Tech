{
 "cells": [
  {
   "cell_type": "markdown",
   "metadata": {},
   "source": [
    "## Import Statements"
   ]
  },
  {
   "cell_type": "code",
   "execution_count": null,
   "metadata": {},
   "outputs": [],
   "source": [
    "import pandas as pd\n",
    "import matplotlib.pyplot as plt"
   ]
  },
  {
   "cell_type": "markdown",
   "metadata": {},
   "source": [
    "## Sharpe Ratio and Other Portfolio Statistics"
   ]
  },
  {
   "cell_type": "markdown",
   "metadata": {},
   "source": [
    "### Not sure what was suppose to be here as we do not know what prices were so python will throw an exception. This is the exact code from the file on canvas. It would be easy to get the prices but in this situation I will not be adding that functionality. The main purpose of this was to create Jupyter notebook copies of Chapter 1 python code snippets. "
   ]
  },
  {
   "cell_type": "code",
   "execution_count": null,
   "metadata": {},
   "outputs": [],
   "source": [
    "start_val = 1000000\n",
    "start_date = 2009-1-1\n",
    "end_date = 2011-12-31\n",
    "symbols = ['SPY', 'XOM', 'GOOG', 'GLD']\n",
    "allocs = [0.4, 0.4, 0.1, 0.1]\n",
    "\n",
    "\n",
    "normed = prices/prices[0]\n",
    "alloced = normed * allocs\n",
    "pos_vals = alloced * start_val\n",
    "port_val = pos_vals.sum(axis=1)\n",
    "\n",
    "daily_rets = daily_rets[1:]\n",
    "cum_ret = (port_val[-1]/port_val[0] - 1)\n",
    "avg_daily_ret = daily_rets.mean()\n",
    "std_daily_ret = daily_rets.std()\n",
    "\n",
    "SR = sqrt(k) * mean(daily_rets - daily_rf) / std(daily_rets)"
   ]
  }
 ],
 "metadata": {
  "kernelspec": {
   "display_name": "Python 3",
   "language": "python",
   "name": "python3"
  },
  "language_info": {
   "codemirror_mode": {
    "name": "ipython",
    "version": 3
   },
   "file_extension": ".py",
   "mimetype": "text/x-python",
   "name": "python",
   "nbconvert_exporter": "python",
   "pygments_lexer": "ipython3",
   "version": "3.7.6"
  },
  "toc": {
   "base_numbering": 1,
   "nav_menu": {},
   "number_sections": true,
   "sideBar": true,
   "skip_h1_title": false,
   "title_cell": "Table of Contents",
   "title_sidebar": "Contents",
   "toc_cell": false,
   "toc_position": {},
   "toc_section_display": true,
   "toc_window_display": false
  },
  "varInspector": {
   "cols": {
    "lenName": 16,
    "lenType": 16,
    "lenVar": 40
   },
   "kernels_config": {
    "python": {
     "delete_cmd_postfix": "",
     "delete_cmd_prefix": "del ",
     "library": "var_list.py",
     "varRefreshCmd": "print(var_dic_list())"
    },
    "r": {
     "delete_cmd_postfix": ") ",
     "delete_cmd_prefix": "rm(",
     "library": "var_list.r",
     "varRefreshCmd": "cat(var_dic_list()) "
    }
   },
   "types_to_exclude": [
    "module",
    "function",
    "builtin_function_or_method",
    "instance",
    "_Feature"
   ],
   "window_display": false
  }
 },
 "nbformat": 4,
 "nbformat_minor": 4
}
