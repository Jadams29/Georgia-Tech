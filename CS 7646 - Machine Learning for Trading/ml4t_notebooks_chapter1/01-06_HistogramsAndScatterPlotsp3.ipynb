{
 "cells": [
  {
   "cell_type": "markdown",
   "metadata": {},
   "source": [
    "## Import Statements"
   ]
  },
  {
   "cell_type": "code",
   "execution_count": null,
   "metadata": {},
   "outputs": [],
   "source": [
    "import pandas as pd\n",
    "import matplotlib.pyplot as plt\n",
    "import numpy as np\n",
    "import os\n",
    "\n",
    "from util import plot_data"
   ]
  },
  {
   "cell_type": "code",
   "execution_count": null,
   "metadata": {},
   "outputs": [],
   "source": [
    "def symbol_to_path(symbol, base_dir=\"data\"):\n",
    "    \"\"\"Return CSV file path given ticker symbol.\"\"\"\n",
    "    return os.path.join(base_dir, \"{}.csv\".format(str(symbol)))"
   ]
  },
  {
   "cell_type": "code",
   "execution_count": null,
   "metadata": {},
   "outputs": [],
   "source": [
    "def get_data(symbols, dates, addSPY=True, colname=\"Adj Close\"):\n",
    "    \"\"\"Read stock data (adjusted close) for given symbols from CSV files.\"\"\"\n",
    "    df = pd.DataFrame(index=dates)\n",
    "    if addSPY and \"SPY\" not in symbols:  # add SPY for reference, if absent \n",
    "        symbols = [\"SPY\"] + list(\n",
    "            symbols\n",
    "        )  # handles the case where symbols is np array of 'object'   \n",
    "\n",
    "    for symbol in symbols:\n",
    "        df_temp = pd.read_csv(\n",
    "            symbol_to_path(symbol),\n",
    "            index_col=\"Date\",\n",
    "            parse_dates=True,\n",
    "            usecols=[\"Date\", colname],\n",
    "            na_values=[\"nan\"],\n",
    "        )\n",
    "        df_temp = df_temp.rename(columns={colname: symbol})\n",
    "        df = df.join(df_temp)\n",
    "        if symbol == \"SPY\":  # drop dates SPY did not trade\n",
    "            df = df.dropna(subset=[\"SPY\"])\n",
    "\n",
    "    return df"
   ]
  },
  {
   "cell_type": "markdown",
   "metadata": {},
   "source": [
    "## Plot a histogram"
   ]
  },
  {
   "cell_type": "code",
   "execution_count": null,
   "metadata": {},
   "outputs": [],
   "source": [
    "def compute_daily_returns(df):\n",
    "    \"\"\"Compute and return the daily return values.\"\"\"\n",
    "    daily_returns = df.copy()\n",
    "    daily_returns[1:] = (df[1:] / df[:-1].values) - 1\n",
    "    daily_returns.iloc[0, :] = 0 # set daily returns for row 0 to 0\n",
    "    return daily_returns"
   ]
  },
  {
   "cell_type": "code",
   "execution_count": null,
   "metadata": {},
   "outputs": [],
   "source": [
    "# Read data\n",
    "dates = pd.date_range('2009-01-01', '2012-12-31')\n",
    "symbols = ['SPY']\n",
    "df = get_data(symbols, dates)\n",
    "plot_data(df)\n",
    "\n",
    "# Compute daily returns\n",
    "daily_returns = compute_daily_returns(df)\n",
    "plot_data(daily_returns, title=\"Daily returns\", ylabel=\"Daily returns\")\n",
    "\n",
    "# Plot a histogram\n",
    "daily_returns.hist()  # default number of bins, 10\n",
    "daily_returns.hist(bins=20)  # changing no. of bins to 20\n",
    "plt.show()"
   ]
  },
  {
   "cell_type": "markdown",
   "metadata": {},
   "source": [
    "## Computing Histogram Statistics"
   ]
  },
  {
   "cell_type": "code",
   "execution_count": null,
   "metadata": {},
   "outputs": [],
   "source": [
    "# Read data\n",
    "dates = pd.date_range('2009-01-01', '2012-12-31')\n",
    "symbols = ['SPY']\n",
    "df = get_data(symbols, dates)\n",
    "plot_data(df)\n",
    "\n",
    "# Compute daily returns\n",
    "daily_returns = compute_daily_returns(df)\n",
    "plot_data(daily_returns, title=\"Daily returns\", ylabel=\"Daily returns\")\n",
    "\n",
    "# Plot a histogram\n",
    "daily_returns.hist(bins=20)  # changing no. of bins to 20\n",
    "\n",
    "# Get mean and standard deviation\n",
    "mean = daily_returns['SPY'].mean()\n",
    "print (\"mean=\", mean)\n",
    "std = daily_returns['SPY'].std()\n",
    "print (\"std=\", std)\n",
    "\n",
    "plt.axvline(mean, color='w', linestyle='dashed', linewidth=2)\n",
    "plt.axvline(std, color='r', linestyle='dashed', linewidth=2)\n",
    "plt.axvline(-std, color='r', linestyle='dashed', linewidth=2)\n",
    "plt.show()\n",
    "\n",
    "# Compute kurtosis\n",
    "print (daily_returns.kurtosis())"
   ]
  },
  {
   "cell_type": "markdown",
   "metadata": {},
   "source": [
    "## Plot Two Histograms together"
   ]
  },
  {
   "cell_type": "code",
   "execution_count": null,
   "metadata": {},
   "outputs": [],
   "source": [
    "# Read data\n",
    "dates = pd.date_range('2009-01-01', '2012-12-31')\n",
    "symbols = ['SPY', 'XOM']\n",
    "df = get_data(symbols, dates)\n",
    "plot_data(df)\n",
    "\n",
    "\"\"\" Two separate histograms ===========\"\"\"\n",
    "# Compute daily returns\n",
    "daily_returns = compute_daily_returns(df)\n",
    "plot_data(daily_returns, title=\"Daily returns\", ylabel=\"Daily returns\")\n",
    "\n",
    "# Plot a histogram\n",
    "daily_returns.hist(bins=20) \n",
    "plt.show()\n",
    "\n",
    "\"\"\" Histograms on the same graph ======\"\"\"\n",
    "# Compute daily returns\n",
    "daily_returns = compute_daily_returns(df)\n",
    "\n",
    "# Compute and plot both histograms on the same chart\n",
    "daily_returns['SPY'].hist(bins=20, label=\"SPY\")\n",
    "daily_returns['XOM'].hist(bins=20, label=\"XOM\")\n",
    "plt.legend(loc='upper right')\n",
    "plt.show()"
   ]
  },
  {
   "cell_type": "markdown",
   "metadata": {},
   "source": [
    "## Scatterplots"
   ]
  },
  {
   "cell_type": "code",
   "execution_count": null,
   "metadata": {},
   "outputs": [],
   "source": [
    "def compute_daily_returns(df):\n",
    "    \"\"\"Compute and return the daily return values.\"\"\"\n",
    "    daily_returns = df.copy()\n",
    "    daily_returns[1:] = (df[1:] / df[:-1].values) - 1\n",
    "    daily_returns.iloc[0, :] = 0 # set daily returns for row 0 to 0\n",
    "    return daily_returns"
   ]
  },
  {
   "cell_type": "code",
   "execution_count": null,
   "metadata": {},
   "outputs": [],
   "source": [
    "# Read data\n",
    "dates = pd.date_range('2009-01-01', '2012-12-31')\n",
    "symbols = ['SPY', 'XOM', 'GLD']\n",
    "df = get_data(symbols, dates)\n",
    "\n",
    "# Compute daily returns\n",
    "daily_returns = compute_daily_returns(df)\n",
    "\n",
    "# Scatterplot SPY vs XOM\n",
    "daily_returns.plot(kind='scatter', x='SPY', y='XOM')\n",
    "beta_XOM, alpha_XOM= np.polyfit(daily_returns['SPY'], daily_returns['XOM'], 1)\n",
    "print (\"beta_XOM= \", beta_XOM)\n",
    "print (\"alpha_XOM=\", alpha_XOM)\n",
    "plt.plot(daily_returns['SPY'], beta_XOM*daily_returns['SPY'] + alpha_XOM, '-',color='r')\n",
    "plt.show()\n",
    "\n",
    "# Scatterplot SPY vs GLD\n",
    "daily_returns.plot(kind='scatter', x='SPY', y='GLD')\n",
    "beta_GLD, alpha_GLD= np.polyfit(daily_returns['SPY'], daily_returns['GLD'], 1)\n",
    "print (\"beta_GLD= \", beta_GLD)\n",
    "print (\"alpha_GLD=\", alpha_GLD)\n",
    "plt.plot(daily_returns['SPY'], beta_GLD*daily_returns['SPY'] + alpha_GLD, '-',color='r')\n",
    "plt.show()"
   ]
  }
 ],
 "metadata": {
  "kernelspec": {
   "display_name": "Python 3",
   "language": "python",
   "name": "python3"
  },
  "language_info": {
   "codemirror_mode": {
    "name": "ipython",
    "version": 3
   },
   "file_extension": ".py",
   "mimetype": "text/x-python",
   "name": "python",
   "nbconvert_exporter": "python",
   "pygments_lexer": "ipython3",
   "version": "3.7.6"
  },
  "toc": {
   "base_numbering": 1,
   "nav_menu": {},
   "number_sections": true,
   "sideBar": true,
   "skip_h1_title": false,
   "title_cell": "Table of Contents",
   "title_sidebar": "Contents",
   "toc_cell": false,
   "toc_position": {},
   "toc_section_display": true,
   "toc_window_display": false
  },
  "varInspector": {
   "cols": {
    "lenName": 16,
    "lenType": 16,
    "lenVar": 40
   },
   "kernels_config": {
    "python": {
     "delete_cmd_postfix": "",
     "delete_cmd_prefix": "del ",
     "library": "var_list.py",
     "varRefreshCmd": "print(var_dic_list())"
    },
    "r": {
     "delete_cmd_postfix": ") ",
     "delete_cmd_prefix": "rm(",
     "library": "var_list.r",
     "varRefreshCmd": "cat(var_dic_list()) "
    }
   },
   "types_to_exclude": [
    "module",
    "function",
    "builtin_function_or_method",
    "instance",
    "_Feature"
   ],
   "window_display": false
  }
 },
 "nbformat": 4,
 "nbformat_minor": 4
}
