{
 "cells": [
  {
   "cell_type": "markdown",
   "metadata": {},
   "source": [
    "## Import Statements"
   ]
  },
  {
   "cell_type": "code",
   "execution_count": 1,
   "metadata": {},
   "outputs": [],
   "source": [
    "import pandas as pd\n",
    "import matplotlib.pyplot as plt\n",
    "import numpy as np"
   ]
  },
  {
   "cell_type": "markdown",
   "metadata": {},
   "source": [
    "## Creating NumPy Arrays"
   ]
  },
  {
   "cell_type": "code",
   "execution_count": 2,
   "metadata": {},
   "outputs": [
    {
     "name": "stdout",
     "output_type": "stream",
     "text": [
      "[2 3 4]\n",
      "[[2 3 4]\n",
      " [5 6 7]]\n",
      "[0.   0.25 0.5  0.75 1.  ]\n",
      "[[6.23042070e-307 4.67296746e-307 1.69121096e-306 1.69120688e-306]\n",
      " [8.34441742e-308 8.90104239e-307 1.33511290e-306 1.78018403e-306]\n",
      " [1.24610383e-306 1.69118108e-306 8.06632139e-308 1.20160711e-306]\n",
      " [1.69119330e-306 1.78019082e-306 1.78020984e-306 6.23053954e-307]\n",
      " [6.23056331e-307 1.42418987e-306 8.34451928e-308 8.34402698e-308]]\n",
      "[[[1.18454878e-311 1.18454903e-311 1.18454978e-311]\n",
      "  [1.18455235e-311 1.18454959e-311 1.18455235e-311]\n",
      "  [1.18455221e-311 1.18455221e-311 1.18453282e-311]\n",
      "  [1.18455235e-311 6.95192584e-310 1.18453323e-311]]\n",
      "\n",
      " [[1.18454949e-311 1.18453268e-311 1.18453302e-311]\n",
      "  [1.18453267e-311 1.18453279e-311 1.18453279e-311]\n",
      "  [1.18455235e-311 1.18453270e-311 1.18453323e-311]\n",
      "  [1.18455235e-311 1.18455235e-311 1.18455235e-311]]\n",
      "\n",
      " [[1.18455211e-311 1.18455235e-311 1.18453279e-311]\n",
      "  [1.18455235e-311 1.18455235e-311 1.18453308e-311]\n",
      "  [1.18455235e-311 1.18455221e-311 1.18455235e-311]\n",
      "  [1.18453278e-311 1.18453277e-311 1.18455235e-311]]\n",
      "\n",
      " [[1.18455236e-311 1.18453321e-311 1.18453315e-311]\n",
      "  [1.18453321e-311 1.18453317e-311 1.18453298e-311]\n",
      "  [1.18453321e-311 1.18453291e-311 1.18453284e-311]\n",
      "  [1.18453283e-311 1.18453285e-311 1.18453275e-311]]\n",
      "\n",
      " [[1.18453275e-311 1.18453275e-311 1.18453287e-311]\n",
      "  [1.18455236e-311 1.18454936e-311 1.18453267e-311]\n",
      "  [1.18453285e-311 1.18453285e-311 1.18454939e-311]\n",
      "  [1.18454939e-311 1.18455236e-311 1.18454941e-311]]]\n",
      "[[1. 1. 1. 1.]\n",
      " [1. 1. 1. 1.]\n",
      " [1. 1. 1. 1.]\n",
      " [1. 1. 1. 1.]\n",
      " [1. 1. 1. 1.]]\n",
      "[[1 1 1 1]\n",
      " [1 1 1 1]\n",
      " [1 1 1 1]\n",
      " [1 1 1 1]\n",
      " [1 1 1 1]]\n"
     ]
    }
   ],
   "source": [
    "# List to 1D array\n",
    "print(np.array([2, 3, 4]))\n",
    "\n",
    "# List of tuples to 2D array\n",
    "print(np.array([(2, 3, 4), (5, 6, 7)]))\n",
    "\n",
    "# Empty array\n",
    "print(np.empty(5))\n",
    "print(np.empty((5,4)))\n",
    "print(np.empty((5,4,3)))\n",
    "\n",
    "# Array of 1s\n",
    "print(np.ones((5, 4)))\n",
    "\n",
    "# Specifying the datatype\n",
    "print(np.ones((5, 4), dtype=np.int_))"
   ]
  },
  {
   "cell_type": "markdown",
   "metadata": {},
   "source": [
    "## Generating Random Numbers"
   ]
  },
  {
   "cell_type": "code",
   "execution_count": 3,
   "metadata": {},
   "outputs": [
    {
     "name": "stdout",
     "output_type": "stream",
     "text": [
      "[[0.21654607 0.61554334 0.60654829 0.08717398]\n",
      " [0.78457883 0.38895334 0.34247256 0.9551279 ]\n",
      " [0.07776038 0.49591149 0.24510733 0.46375647]\n",
      " [0.07833133 0.68768963 0.40724305 0.0738695 ]\n",
      " [0.59350296 0.27896575 0.14043298 0.32256538]]\n",
      "[[0.55911848 0.48809622 0.11426459 0.04113566]\n",
      " [0.21803103 0.28480249 0.92699435 0.33461868]\n",
      " [0.03653213 0.3813932  0.53383922 0.60309082]\n",
      " [0.3576854  0.87851714 0.8139706  0.71124933]\n",
      " [0.28174307 0.89125681 0.19729061 0.22519699]]\n",
      "[[-0.83327277 -0.3119596   1.18436951]\n",
      " [-1.51978714  1.27072139 -0.03426804]]\n",
      "[[47.43639064 55.97025255 43.00215285]\n",
      " [42.88362114 58.85867494 43.24195875]]\n",
      "0\n",
      "1\n",
      "[7 9 2 4 1]\n",
      "[[4 2 0]\n",
      " [0 9 0]]\n"
     ]
    }
   ],
   "source": [
    "# Generate an array full of random numbers, uniformly samples from [0.0, 1.0)\n",
    "print(np.random.random((5, 4))) # pass in a size tuple\n",
    "\n",
    "# Generate an array full of random numbers, uniformly samples from [0.0, 1.0)\n",
    "print(np.random.rand(5, 4)) # function arguments (not a tuple)\n",
    "\n",
    "# Sample numbers from a Gaussian (normal) distribution\n",
    "print(np.random.normal(size=(2, 3))) # \"standard normal\" (mean = 0, s.d. = 1)\n",
    "\n",
    "# Sample numbers from a Gaussian (normal) distribution\n",
    "print(np.random.normal(50, 10, size=(2, 3))) # change mean to 50 and s.d. to 10\n",
    "\n",
    "# Random integers\n",
    "print(np.random.randint(1)) # a single integer in [0, 10)\n",
    "print(np.random.randint(0, 10)) # same as above, specifying [low, high) explicit\n",
    "print(np.random.randint(0, 10, size=5)) # 5 random integers as a 1D array\n",
    "print(np.random.randint(0, 10, size=(2, 3))) # 2x3 array of random integers"
   ]
  },
  {
   "cell_type": "markdown",
   "metadata": {},
   "source": [
    "## Array Attributes"
   ]
  },
  {
   "cell_type": "code",
   "execution_count": 4,
   "metadata": {},
   "outputs": [
    {
     "name": "stdout",
     "output_type": "stream",
     "text": [
      "[[0.61516588 0.71548606 0.61189044 0.23478731]\n",
      " [0.26094241 0.45786036 0.54976956 0.20931641]\n",
      " [0.45516464 0.77319945 0.28263589 0.59582256]\n",
      " [0.37000768 0.46567877 0.88890181 0.01994777]\n",
      " [0.76327151 0.73414172 0.7371544  0.84999079]]\n",
      "(5, 4)\n",
      "5\n",
      "4\n",
      "2\n",
      "20\n",
      "float64\n"
     ]
    }
   ],
   "source": [
    "a = np.random.random((5, 4))  # 5x4 array of random numbers\n",
    "print(a)\n",
    "print(a.shape)\n",
    "\n",
    "print(a.shape[0])  # number of rows\n",
    "print(a.shape[1])  # number of columns\n",
    "\n",
    "print(len(a.shape))\n",
    "print(a.size)\n",
    "print(a.dtype)"
   ]
  },
  {
   "cell_type": "markdown",
   "metadata": {},
   "source": [
    "## Operations on Arrays"
   ]
  },
  {
   "cell_type": "code",
   "execution_count": 5,
   "metadata": {},
   "outputs": [
    {
     "name": "stdout",
     "output_type": "stream",
     "text": [
      "Array:\n",
      " [[2 0 5 1]\n",
      " [1 3 4 4]\n",
      " [9 2 9 1]\n",
      " [9 3 7 5]\n",
      " [4 7 0 3]]\n",
      "Sum of all elements: 79\n",
      "Sum of each column:\n",
      " [25 15 25 14]\n",
      "Sum of each row:\n",
      " [ 8 12 21 24 14]\n",
      "Minimum of each colulmn:\n",
      " [1 0 0 1]\n",
      "Maximum of each row:\n",
      " [5 4 9 9 7]\n",
      "Mean of all elements: 3.95\n"
     ]
    }
   ],
   "source": [
    "np.random.seed(693)  # seed the random number generator\n",
    "a = np.random.randint(0, 10, size=(5, 4)) # 5x4 random integers in [0, 10)\n",
    "print(\"Array:\\n\", a)\n",
    "\n",
    "# Sum of all elements\n",
    "print(\"Sum of all elements:\", a.sum())\n",
    "\n",
    "# Iterate over rows, to compute sum of each columns\n",
    "print(\"Sum of each column:\\n\", a.sum(axis=0))\n",
    "\n",
    "# Iterate over columns to compute sume of each rows\n",
    "print(\"Sum of each row:\\n\", a.sum(axis=1))\n",
    "\n",
    "# Statistics: min, max, mean (across rows, cols, and overall)\n",
    "print(\"Minimum of each colulmn:\\n\", a.min(axis=0))\n",
    "print(\"Maximum of each row:\\n\", a.max(axis=1))\n",
    "print(\"Mean of all elements:\", a.mean()) # leave out axis arg."
   ]
  },
  {
   "cell_type": "markdown",
   "metadata": {},
   "source": [
    "## Locate maximum value"
   ]
  },
  {
   "cell_type": "code",
   "execution_count": 6,
   "metadata": {},
   "outputs": [],
   "source": [
    "def get_max_index(a):\n",
    "    \"\"\"Return the index of the maximum value in given 1D array.\"\"\"\n",
    "    # Quiz: Your code here\n",
    "    return np.argmax(a)"
   ]
  },
  {
   "cell_type": "code",
   "execution_count": 7,
   "metadata": {},
   "outputs": [
    {
     "name": "stdout",
     "output_type": "stream",
     "text": [
      "Array: [ 9  6  2  3 12 14  7 10]\n",
      "Maximum value: 14\n",
      "Index of max.: 5\n"
     ]
    }
   ],
   "source": [
    "a = np.array([9, 6, 2, 3, 12, 14, 7, 10], dtype=np.int32)  # 32-bit integer array\n",
    "print(\"Array:\", a)\n",
    "\n",
    "# Find the maximum and its index in array\n",
    "print(\"Maximum value:\", a.max())\n",
    "print(\"Index of max.:\", get_max_index(a))"
   ]
  },
  {
   "cell_type": "markdown",
   "metadata": {},
   "source": [
    "## Using time function"
   ]
  },
  {
   "cell_type": "code",
   "execution_count": 8,
   "metadata": {},
   "outputs": [],
   "source": [
    "import time"
   ]
  },
  {
   "cell_type": "code",
   "execution_count": 9,
   "metadata": {},
   "outputs": [
    {
     "name": "stdout",
     "output_type": "stream",
     "text": [
      "ML4T\n",
      "The time taken by print statement is  0.0  seconds\n"
     ]
    }
   ],
   "source": [
    "t1 = time.time()\n",
    "print(\"ML4T\")\n",
    "t2 = time.time()\n",
    "print(\"The time taken by print statement is \", t2 - t1, \" seconds\")"
   ]
  },
  {
   "cell_type": "markdown",
   "metadata": {},
   "source": [
    "## How Fast is Numpy?"
   ]
  },
  {
   "cell_type": "code",
   "execution_count": 10,
   "metadata": {
    "code_folding": []
   },
   "outputs": [],
   "source": [
    "from time import time\n",
    "\n",
    "def how_long(func, *args):\n",
    "    \"\"\"Execute function with given arguments, and measure execution time.\"\"\"\n",
    "    t0 = time()\n",
    "    result = func(*args) # all argument are passed in as-is\n",
    "    t1 = time()\n",
    "    return result, t1 - t0\n",
    "\n",
    "def manual_mean(arr):\n",
    "    \"\"\"Compute mean (average) of all elements in the given 2D array.\"\"\"\n",
    "    sum = 0\n",
    "    for i in range(0, arr.shape[0]):\n",
    "        for j in range(0, arr.shape[1]):\n",
    "            sum = sum + arr[i, j]\n",
    "    return sum / arr.size\n",
    "\n",
    "def numpy_mean(arr):\n",
    "    \"\"\"Compute mean(average) using Numpy\"\"\"\n",
    "    return arr.mean()"
   ]
  },
  {
   "cell_type": "code",
   "execution_count": 11,
   "metadata": {},
   "outputs": [
    {
     "name": "stdout",
     "output_type": "stream",
     "text": [
      "Manual: 0.500016 (2.443 secs.) vs. Numpy: 0.500016 (0.009 secs.)\n",
      "Numpy mean is 271.69129189647856 times faster than manual for loops.\n"
     ]
    }
   ],
   "source": [
    "nd1 = np.random.random((1000, 10000)) # use a sufficiently large array\n",
    "\n",
    "# Time the two functions, retrieving results and execution times\n",
    "res_manual, t_manual = how_long(manual_mean, nd1)\n",
    "res_numpy, t_numpy = how_long(numpy_mean, nd1)\n",
    "print(\"Manual: {:.6f} ({:.3f} secs.) vs. Numpy: {:.6f} ({:.3f} secs.)\".format(res_manual, t_manual, res_numpy, t_numpy))\n",
    "\n",
    "# Make sure both give us the same answer (upto some precision)\n",
    "assert abs(res_manual - res_numpy) <= 10e-6, \"Results aren't equal!\"\n",
    "\n",
    "# Compute speedup\n",
    "speedup = t_manual / t_numpy\n",
    "print(\"Numpy mean is\", speedup, \"times faster than manual for loops.\")"
   ]
  },
  {
   "cell_type": "markdown",
   "metadata": {},
   "source": [
    "## Accessing Array Elements"
   ]
  },
  {
   "cell_type": "code",
   "execution_count": 12,
   "metadata": {},
   "outputs": [
    {
     "name": "stdout",
     "output_type": "stream",
     "text": [
      "array:\n",
      " [[0.76484993 0.19443186 0.15294266 0.79396197]\n",
      " [0.7152339  0.68874783 0.55787223 0.36928588]\n",
      " [0.7906318  0.70489628 0.31082212 0.83572857]\n",
      " [0.38303999 0.21038991 0.26224769 0.31709792]\n",
      " [0.36169014 0.65767671 0.03944179 0.05352682]]\n",
      "0.26224769384784963\n",
      "[0.19443186 0.15294266]\n",
      "[[0.76484993 0.19443186]\n",
      " [0.7152339  0.68874783]]\n",
      "[[0.76484993 0.15294266]\n",
      " [0.7152339  0.55787223]\n",
      " [0.7906318  0.31082212]\n",
      " [0.38303999 0.26224769]\n",
      " [0.36169014 0.03944179]]\n",
      "\n",
      "Modified (replaced one element):\n",
      " [[1.         0.19443186 0.15294266 0.79396197]\n",
      " [0.7152339  0.68874783 0.55787223 0.36928588]\n",
      " [0.7906318  0.70489628 0.31082212 0.83572857]\n",
      " [0.38303999 0.21038991 0.26224769 0.31709792]\n",
      " [0.36169014 0.65767671 0.03944179 0.05352682]]\n",
      "\n",
      "Modified (replaced a row with a single value):\n",
      " [[2.         2.         2.         2.        ]\n",
      " [0.7152339  0.68874783 0.55787223 0.36928588]\n",
      " [0.7906318  0.70489628 0.31082212 0.83572857]\n",
      " [0.38303999 0.21038991 0.26224769 0.31709792]\n",
      " [0.36169014 0.65767671 0.03944179 0.05352682]]\n",
      "\n",
      "Modified (replaced a column with a list):\n",
      " [[2.         2.         2.         1.        ]\n",
      " [0.7152339  0.68874783 0.55787223 2.        ]\n",
      " [0.7906318  0.70489628 0.31082212 3.        ]\n",
      " [0.38303999 0.21038991 0.26224769 4.        ]\n",
      " [0.36169014 0.65767671 0.03944179 5.        ]]\n"
     ]
    }
   ],
   "source": [
    "a = np.random.rand(5, 4)\n",
    "print(\"array:\\n\", a)\n",
    "\n",
    "# Accessing element at position (3, 2)\n",
    "element = a[3, 2]\n",
    "print(element)\n",
    "\n",
    "# Element in defined range\n",
    "print(a[0, 1:3])\n",
    "\n",
    "# Top-left corner\n",
    "print(a[0:2, 0:2])\n",
    "\n",
    "# Slicing\n",
    "# Note: Slice n:m:t specifies a range that starts n, and stops before m, in\n",
    "print( a[:, 0:3:2]) # will select columns 0, 2 for every row\n",
    "\n",
    "# Assigning a value to a particular location\n",
    "a[0, 0] = 1\n",
    "print(\"\\nModified (replaced one element):\\n\", a)\n",
    "\n",
    "# Assigning a single value to an entire row\n",
    "a[0,:] = 2\n",
    "print(\"\\nModified (replaced a row with a single value):\\n\", a)\n",
    "\n",
    "# Assigning a list to a column in an array\n",
    "a[:, 3] = [1, 2, 3, 4, 5]\n",
    "print(\"\\nModified (replaced a column with a list):\\n\", a)"
   ]
  },
  {
   "cell_type": "markdown",
   "metadata": {},
   "source": [
    "## Accessing Elements"
   ]
  },
  {
   "cell_type": "code",
   "execution_count": 13,
   "metadata": {},
   "outputs": [
    {
     "name": "stdout",
     "output_type": "stream",
     "text": [
      "[0.19925213 0.82660771 0.13349003 0.13349003]\n",
      "[[20 25 10 23 26 32 10  5  0]\n",
      " [ 0  2 50 20  0  1 28  5  0]]\n",
      "14.277777777777779\n",
      "[10 10  5  0  0  2  0  1  5  0]\n",
      "[[20 25 14 23 26 32 14 14 14]\n",
      " [14 14 50 20 14 14 28 14 14]]\n"
     ]
    }
   ],
   "source": [
    "a = np.random.rand(5)\n",
    "\n",
    "# accessing using list of indices\n",
    "indices = np.array([1,2,3,3])\n",
    "print(a[indices])\n",
    "\n",
    "a = np.array([(20,25,10,23,26,32,10,5,0),(0,2,50,20,0,1,28,5,0)])\n",
    "print (a)\n",
    "\n",
    "# calculating mean\n",
    "mean = a.mean()\n",
    "print(mean)\n",
    "\n",
    "# masking\n",
    "print(a[a<mean])\n",
    "\n",
    "# masking2\n",
    "a[a<mean]= mean\n",
    "print(a)"
   ]
  },
  {
   "cell_type": "markdown",
   "metadata": {},
   "source": [
    "## Arithmetic Operations"
   ]
  },
  {
   "cell_type": "code",
   "execution_count": 14,
   "metadata": {},
   "outputs": [
    {
     "name": "stdout",
     "output_type": "stream",
     "text": [
      "Original array a:\n",
      " [[ 1  2  3  4  5]\n",
      " [10 20 30 40 50]]\n",
      "\n",
      "Multiply a by 2:\n",
      " [[  2   4   6   8  10]\n",
      " [ 20  40  60  80 100]]\n",
      "\n",
      "Divide a by 2:\n",
      " [[ 0.5  1.   1.5  2.   2.5]\n",
      " [ 5.  10.  15.  20.  25. ]]\n",
      "\n",
      "Divide a by 2:\n",
      " [[ 0.5  1.   1.5  2.   2.5]\n",
      " [ 5.  10.  15.  20.  25. ]]\n",
      "\n",
      "Original array b:\n",
      " [[100 200 300 400 500]\n",
      " [  1   2   3   4   5]]\n",
      "\n",
      "Add a + b:\n",
      " [[101 202 303 404 505]\n",
      " [ 11  22  33  44  55]]\n",
      "\n",
      "Multiply a and b:\n",
      " [[ 100  400  900 1600 2500]\n",
      " [  10   40   90  160  250]]\n",
      "\n",
      "Divide a by b:\n",
      " [[ 0.01  0.01  0.01  0.01  0.01]\n",
      " [10.   10.   10.   10.   10.  ]]\n"
     ]
    }
   ],
   "source": [
    "a = np.array([(1, 2, 3, 4, 5), (10, 20, 30, 40, 50)])\n",
    "print(\"Original array a:\\n\", a)\n",
    "\n",
    "# Multiple a by 2\n",
    "print(\"\\nMultiply a by 2:\\n\", 2 * a)\n",
    "\n",
    "# Divide a by 2\n",
    "print(\"\\nDivide a by 2:\\n\", a / 2)\n",
    "\n",
    "# Divide a by 2\n",
    "print(\"\\nDivide a by 2:\\n\", a / 2.0)\n",
    "\n",
    "b = np.array([(100, 200, 300, 400, 500), (1, 2, 3, 4, 5)])\n",
    "print(\"\\nOriginal array b:\\n\", b)\n",
    "\n",
    "# Add the two arrays\n",
    "print(\"\\nAdd a + b:\\n\", a + b)\n",
    "\n",
    "# Multiply a and b\n",
    "print(\"\\nMultiply a and b:\\n\", a * b)\n",
    "\n",
    "# Divide a by b\n",
    "print(\"\\nDivide a by b:\\n\", a / b)"
   ]
  }
 ],
 "metadata": {
  "kernelspec": {
   "display_name": "Python 3",
   "language": "python",
   "name": "python3"
  },
  "language_info": {
   "codemirror_mode": {
    "name": "ipython",
    "version": 3
   },
   "file_extension": ".py",
   "mimetype": "text/x-python",
   "name": "python",
   "nbconvert_exporter": "python",
   "pygments_lexer": "ipython3",
   "version": "3.7.6"
  },
  "toc": {
   "base_numbering": 1,
   "nav_menu": {},
   "number_sections": true,
   "sideBar": true,
   "skip_h1_title": false,
   "title_cell": "Table of Contents",
   "title_sidebar": "Contents",
   "toc_cell": false,
   "toc_position": {},
   "toc_section_display": true,
   "toc_window_display": false
  },
  "varInspector": {
   "cols": {
    "lenName": 16,
    "lenType": 16,
    "lenVar": 40
   },
   "kernels_config": {
    "python": {
     "delete_cmd_postfix": "",
     "delete_cmd_prefix": "del ",
     "library": "var_list.py",
     "varRefreshCmd": "print(var_dic_list())"
    },
    "r": {
     "delete_cmd_postfix": ") ",
     "delete_cmd_prefix": "rm(",
     "library": "var_list.r",
     "varRefreshCmd": "cat(var_dic_list()) "
    }
   },
   "types_to_exclude": [
    "module",
    "function",
    "builtin_function_or_method",
    "instance",
    "_Feature"
   ],
   "window_display": false
  }
 },
 "nbformat": 4,
 "nbformat_minor": 4
}
