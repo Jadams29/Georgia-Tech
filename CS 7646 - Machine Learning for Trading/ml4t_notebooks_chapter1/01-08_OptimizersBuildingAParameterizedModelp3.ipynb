{
 "cells": [
  {
   "cell_type": "markdown",
   "metadata": {},
   "source": [
    "## Import Statements"
   ]
  },
  {
   "cell_type": "code",
   "execution_count": null,
   "metadata": {},
   "outputs": [],
   "source": [
    "import pandas as pd\n",
    "import matplotlib.pyplot as plt\n",
    "import numpy as np\n",
    "import scipy.optimize as spo"
   ]
  },
  {
   "cell_type": "markdown",
   "metadata": {},
   "source": [
    "#### There may be code missing but the purpose of these notebooks was to just have exact copies of the Chapter 1 python code snippets as notebooks."
   ]
  },
  {
   "cell_type": "markdown",
   "metadata": {},
   "source": [
    "## Minimize an objective function using SciPy"
   ]
  },
  {
   "cell_type": "code",
   "execution_count": null,
   "metadata": {},
   "outputs": [],
   "source": [
    "def f(X):\n",
    "    \"\"\"Given a scalar X, return some value (a real number).\"\"\"\n",
    "    Y = (X - 1.5)**2 + 0.5\n",
    "    print (\"X = {}, Y = {}\".format(X, Y)) # for tracing\n",
    "    return Y"
   ]
  },
  {
   "cell_type": "code",
   "execution_count": null,
   "metadata": {},
   "outputs": [],
   "source": [
    "Xguess = 2.0\n",
    "min_result = spo.minimize(f, Xguess, method='SLSQP', options={'disp': True})\n",
    "print (\"Minima found at:\")\n",
    "print (\"X = {}, Y = {}\".format(min_result.x, min_result.fun))\n",
    "\n",
    "# Plot function values, mark minima\n",
    "Xplot = np.linspace(0.5, 2.5, 21)\n",
    "Yplot = f(Xplot)\n",
    "plt.plot(Xplot, Yplot)\n",
    "plt.plot(min_result.x, min_result.fun, 'ro')\n",
    "plt.title(\"Minima of an objective function\")\n",
    "plt.show()"
   ]
  },
  {
   "cell_type": "markdown",
   "metadata": {},
   "source": [
    "## Minimize an objective function using SciPy"
   ]
  },
  {
   "cell_type": "code",
   "execution_count": null,
   "metadata": {},
   "outputs": [],
   "source": [
    "def error(line, data): # error function\n",
    "    \"\"\"Compute error between given line model and observed data.\n",
    "    Parameters\n",
    "    ----------\n",
    "    line: tuple/list/array (C0, C1) where C0 is slope and C1 is Y-intercept\n",
    "    data: 2D array where each row is a point (x, y)\n",
    "    Returns error as a single real value.\n",
    "    \"\"\"\n",
    "    # Metric: Sum of squared Y-axis differences\n",
    "    err = np.sum((data[:,1] - (line[0] * data[:, 0] + line[1])) ** 2)\n",
    "    return err\n",
    "\n",
    "\n",
    "def fit_line(data, error_func):\n",
    "    \"\"\"Fit a line to given data, using a supplied error function.\n",
    "    Parameters\n",
    "    ----------\n",
    "    data: 2D array where each row is a point (X0, Y)\n",
    "    error_func: function that computes the error between a line and observed data\n",
    "    Returns line that minimizes the error function.\n",
    "    \"\"\"\n",
    "    # Generate initial guess for line model \n",
    "    l = np.float32([0, np.mean(data[:, 1])])  # slope = 0, intercept = mean(y values)\n",
    "    # Plot initial guess (optional)\n",
    "    x_ends = np.float32([-5, 5])\n",
    "    plt.plot(x_ends, l[0] * x_ends + l[1], 'm--', linewidth=2.0, label = \"Initial guess\")\n",
    "    # Call optimizer to minimize error function\n",
    "    result = spo.minimize(error_func, l, args=(data,), method = 'SLSQP', options={'disp': True})\n",
    "    return result.x"
   ]
  },
  {
   "cell_type": "code",
   "execution_count": null,
   "metadata": {},
   "outputs": [],
   "source": [
    "# Define original line\n",
    "l_orig = np.float32([4, 2])\n",
    "print (\"Original line: C0 = {}, C1 = {}\".format(l_orig[0], l_orig[1]))\n",
    "Xorig = np.linspace(0, 10, 21)\n",
    "Yorig = l_orig[0] * Xorig + l_orig[1]\n",
    "plt.plot(Xorig, Yorig, 'b--', linewidth=2.0, label=\"Original line\")\n",
    "\n",
    "# Generate noisy data points\n",
    "noise_sigma = 3.0\n",
    "noise = np.random.normal(0, noise_sigma, Yorig.shape)\n",
    "data = np.asarray([Xorig, Yorig + noise]).T\n",
    "plt.plot(data[:,0], data[:, 1], 'go', label=\"Data points\")\n",
    "\n",
    "# Try to fit a line to this data\n",
    "l_fit = fit_line(data, error)\n",
    "print (\"Fitted line: C0 = {}, C1 = {}\".format(l_fit[0], l_fit[1]) )\n",
    "plt.plot(data[:, 0], l_fit[0] * data[:, 0] + l_fit[1], 'r--', linewidth=2.0, label = \"Fitted Line\")\n",
    "\n",
    "# Add a legend and show plot\n",
    "plt.legend(loc='upper right')\n",
    "plt.show()"
   ]
  },
  {
   "cell_type": "markdown",
   "metadata": {},
   "source": [
    "## Minimize an objective function using SciPy: 3D"
   ]
  },
  {
   "cell_type": "code",
   "execution_count": null,
   "metadata": {},
   "outputs": [],
   "source": [
    "def error_poly(C, data): # error function\n",
    "    \"\"\"Compute error between given polynomial and observed data.\n",
    "    Parameters\n",
    "    ----------\n",
    "    C: numpy.poly1d object or equivalent array representing polynomial coefficients\n",
    "    data: 2D array where each row is a point (x, y)\n",
    "    Returns error as a single real value.\n",
    "    \"\"\"\n",
    "    # Metric: Sum of squared Y-axis differences\n",
    "    err = np.sum((data[:,1] - np.polyval(C, data[:,0])) ** 2)\n",
    "    return err\n",
    "\n",
    "\n",
    "def fit_poly(data, error_func, degree=3):\n",
    "    \"\"\"Fit a polynomial to given data, using a supplied error function.\n",
    "    Parameters\n",
    "    ----------\n",
    "    data: 2D array where each row is a point (X0, Y)\n",
    "    error_func: function that computes the error between a polynomial and observed data\n",
    "    Returns polynomial that minimizes the error function.\n",
    "    \"\"\"\n",
    "    # Generate initial guess for line model (all coeffs = 1)\n",
    "    Cguess = np.poly1d(np.ones(degree + 1, dtype=np.float32))\n",
    "    # Plot initial guess (optional)\n",
    "    x = np.linspace(-5, 5, 21)\n",
    "    plt.plot(x, np.polyval(Cguess, x), 'm--', linewidth=2.0, label = \"Initial guess\")\n",
    "    # Call optimizer to minimize error function\n",
    "    result = spo.minimize(error_func, Cguess, args=(data,), method = 'SLSQP', options={'disp': True})\n",
    "    return np.poly1d(result.x) # convert optimal result into a poly1d object and return"
   ]
  },
  {
   "cell_type": "code",
   "execution_count": null,
   "metadata": {},
   "outputs": [],
   "source": [
    "# Define original line\n",
    "\n",
    "\n",
    "# Generate noisy data points\n",
    "\n",
    "\n",
    "# Try to fit a line to this data\n",
    "\n",
    "\n",
    "# Add a legend and show plot\n"
   ]
  }
 ],
 "metadata": {
  "kernelspec": {
   "display_name": "Python 3",
   "language": "python",
   "name": "python3"
  },
  "language_info": {
   "codemirror_mode": {
    "name": "ipython",
    "version": 3
   },
   "file_extension": ".py",
   "mimetype": "text/x-python",
   "name": "python",
   "nbconvert_exporter": "python",
   "pygments_lexer": "ipython3",
   "version": "3.7.6"
  },
  "toc": {
   "base_numbering": 1,
   "nav_menu": {},
   "number_sections": true,
   "sideBar": true,
   "skip_h1_title": false,
   "title_cell": "Table of Contents",
   "title_sidebar": "Contents",
   "toc_cell": false,
   "toc_position": {},
   "toc_section_display": true,
   "toc_window_display": false
  },
  "varInspector": {
   "cols": {
    "lenName": 16,
    "lenType": 16,
    "lenVar": 40
   },
   "kernels_config": {
    "python": {
     "delete_cmd_postfix": "",
     "delete_cmd_prefix": "del ",
     "library": "var_list.py",
     "varRefreshCmd": "print(var_dic_list())"
    },
    "r": {
     "delete_cmd_postfix": ") ",
     "delete_cmd_prefix": "rm(",
     "library": "var_list.r",
     "varRefreshCmd": "cat(var_dic_list()) "
    }
   },
   "types_to_exclude": [
    "module",
    "function",
    "builtin_function_or_method",
    "instance",
    "_Feature"
   ],
   "window_display": false
  }
 },
 "nbformat": 4,
 "nbformat_minor": 4
}
