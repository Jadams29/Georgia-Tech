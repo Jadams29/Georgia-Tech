{
 "cells": [
  {
   "cell_type": "markdown",
   "metadata": {},
   "source": [
    "## Import Statements"
   ]
  },
  {
   "cell_type": "code",
   "execution_count": 1,
   "metadata": {},
   "outputs": [],
   "source": [
    "import pandas as pd\n",
    "import matplotlib.pyplot as plt"
   ]
  },
  {
   "cell_type": "markdown",
   "metadata": {},
   "source": [
    "## Build a DataFrame in Pandas"
   ]
  },
  {
   "cell_type": "code",
   "execution_count": null,
   "metadata": {},
   "outputs": [],
   "source": [
    "# Define data range\n",
    "start_date = '2010-01-22'\n",
    "end_date = '2010-01-26';\n",
    "dates=pd.date_range(start_date,end_date)\n",
    "\n",
    "print (dates)\n",
    "print (dates[0])  # get first element of list\n",
    "\n",
    "# Create an empty dataframe\n",
    "df1=pd.DataFrame(index=dates)  # define empty dataframe with these dates as index\n",
    "\n",
    "print (df1)\n",
    "\n",
    "# Read SPY data into temporary dataframe\n",
    "# dfSPY = pd.read_csv(\"data/SPY.csv\") # will result in no data because this has index of integers\n",
    "# dfSPY = pd.read_csv(\"data/SPY.csv\", index_col=\"Date\", parse_dates=True)\n",
    "dfSPY = pd.read_csv(\"data/SPY.csv\", index_col=\"Date\",\n",
    "                    parse_dates=True, usecols=['Date','Adj Close'],\n",
    "                    na_values=['nan'])\n",
    "print (dfSPY)\n",
    "\n",
    "# Join the two dataframes using DataFram.join()\n",
    "df1=df1.join(dfSPY)\n",
    "print (df1)\n",
    "\n",
    "# Drop NaN Values\n",
    "df1 = df1.dropna()\n",
    "print (df1)"
   ]
  },
  {
   "cell_type": "markdown",
   "metadata": {},
   "source": [
    "## Read in More Stocks"
   ]
  },
  {
   "cell_type": "code",
   "execution_count": null,
   "metadata": {},
   "outputs": [],
   "source": [
    "# Define data range\n",
    "start_date = '2010-01-22'\n",
    "end_date = '2010-01-26';\n",
    "dates = pd.date_range(start_date, end_date)\n",
    "\n",
    "# Create an empty dataframe\n",
    "df1 = pd.DataFrame(index=dates)  # define empty dataframe with these dates as index\n",
    "\n",
    "# Read SPY data into temporary dataframe\n",
    "dfSPY = pd.read_csv(\"data/SPY.csv\", index_col=\"Date\",\n",
    "                    parse_dates=True, usecols=['Date', 'Adj Close'],\n",
    "                    na_values=['nan'])\n",
    "\n",
    "# Rename 'Adj Close' column to 'SPY' to prevent clash\n",
    "dfSPY = dfSPY.rename(columns={'Adj Close': 'SPY'})\n",
    "\n",
    "# Join the two dataframes using DataFram.join()\n",
    "df1 = df1.join(dfSPY, how='inner')\n",
    "\n",
    "# Read in more stocks\n",
    "symbols = ['GOOG', 'IBM', 'GLD']\n",
    "for symbol in symbols:\n",
    "    df_temp = pd.read_csv(\"data/{}.csv\".format(symbol, index_col='Date',\n",
    "                                               parse_dates=True, usecols=['Date', 'Adj Close'],\n",
    "                                               na_values=['nan']))\n",
    "    df = df1.join(df_temp)  # use default how='left'\n",
    "\n",
    "print(df1)"
   ]
  },
  {
   "cell_type": "markdown",
   "metadata": {},
   "source": [
    "## Utility functions"
   ]
  },
  {
   "cell_type": "code",
   "execution_count": 3,
   "metadata": {},
   "outputs": [],
   "source": [
    "import os\n",
    "\n",
    "def symbol_to_path(symbol, base_dir=\"data\"):\n",
    "    \"\"\"Return CSV file path given ticker symbol.\"\"\"\n",
    "    return os.path.join(base_dir, \"{}.csv\".format(str(symbol)))\n",
    "\n",
    "def get_data(symbols, dates):\n",
    "    \"\"\"Read stock data (adjusted close) for given symbols from CSV files.\"\"\"\n",
    "    df = pd.DataFrame(index=dates)\n",
    "    if 'SPY' not in symbols:  # add SPY for reference, if absent\n",
    "        symbols.insert(0, 'SPY')\n",
    "\n",
    "    for symbol in symbols:\n",
    "        # Quiz: Read and join data for each symbol\n",
    "        df_temp = pd.read_csv(symbol_to_path(symbol), index_col='Date',\n",
    "                parse_dates=True, usecols=['Date', 'Adj Close'], na_values=['nan'])\n",
    "        df_temp = df_temp.rename(columns={'Adj Close': symbol})\n",
    "        df = df.join(df_temp)\n",
    "        if symbol == 'SPY':  # drop dates SPY did not trade\n",
    "            df = df.dropna(subset=[\"SPY\"])\n",
    "\n",
    "    return df"
   ]
  },
  {
   "cell_type": "markdown",
   "metadata": {},
   "source": [
    "## Slicing"
   ]
  },
  {
   "cell_type": "code",
   "execution_count": 4,
   "metadata": {},
   "outputs": [
    {
     "name": "stdout",
     "output_type": "stream",
     "text": [
      "               SPY    GOOG     IBM     GLD\n",
      "2010-01-04  108.27  626.75  126.24  109.80\n",
      "2010-01-05  108.56  623.99  124.71  109.70\n",
      "2010-01-06  108.64  608.26  123.90  111.51\n",
      "2010-01-07  109.10  594.10  123.47  110.82\n",
      "2010-01-08  109.46  602.02  124.71  111.37\n",
      "2010-01-11  109.61  601.11  123.41  112.85\n",
      "2010-01-12  108.59  590.48  124.39  110.49\n",
      "2010-01-13  109.51  587.09  124.12  111.54\n",
      "2010-01-14  109.80  589.85  126.10  112.03\n",
      "2010-01-15  108.57  580.00  125.60  110.86\n",
      "2010-01-19  109.93  587.62  127.85  111.52\n",
      "2010-01-20  108.81  580.41  124.14  108.94\n",
      "2010-01-21  106.72  582.98  122.95  107.37\n",
      "2010-01-22  104.34  550.01  119.61  107.17\n",
      "2010-01-25  104.87  540.00  120.20  107.48\n",
      "2010-01-26  104.43  542.42  119.85  107.56\n",
      "2010-01-27  104.93  542.10  120.40  106.53\n",
      "2010-01-28  103.73  534.29  117.94  106.48\n",
      "2010-01-29  102.60  529.94  116.65  105.96\n",
      "2010-01-04    626.75\n",
      "2010-01-05    623.99\n",
      "2010-01-06    608.26\n",
      "2010-01-07    594.10\n",
      "2010-01-08    602.02\n",
      "               ...  \n",
      "2010-12-27    602.38\n",
      "2010-12-28    598.92\n",
      "2010-12-29    601.00\n",
      "2010-12-30    598.86\n",
      "2010-12-31    593.97\n",
      "Name: GOOG, Length: 252, dtype: float64\n",
      "               IBM     GLD\n",
      "2010-01-04  126.24  109.80\n",
      "2010-01-05  124.71  109.70\n",
      "2010-01-06  123.90  111.51\n",
      "2010-01-07  123.47  110.82\n",
      "2010-01-08  124.71  111.37\n",
      "...            ...     ...\n",
      "2010-12-27  141.17  135.02\n",
      "2010-12-28  141.53  137.22\n",
      "2010-12-29  142.32  137.71\n",
      "2010-12-30  142.46  137.03\n",
      "2010-12-31  142.55  138.72\n",
      "\n",
      "[252 rows x 2 columns]\n",
      "               SPY     IBM\n",
      "2010-03-01  106.90  123.09\n",
      "2010-03-02  107.19  121.99\n",
      "2010-03-03  107.29  121.47\n",
      "2010-03-04  107.62  121.32\n",
      "2010-03-05  109.15  121.82\n",
      "2010-03-08  109.17  121.02\n",
      "2010-03-09  109.35  120.20\n",
      "2010-03-10  109.84  120.26\n",
      "2010-03-11  110.30  122.16\n",
      "2010-03-12  110.31  122.48\n",
      "2010-03-15  110.34  122.38\n"
     ]
    },
    {
     "name": "stderr",
     "output_type": "stream",
     "text": [
      "C:\\Users\\joshu\\.conda\\envs\\tf2\\lib\\site-packages\\ipykernel_launcher.py:14: FutureWarning: \n",
      ".ix is deprecated. Please use\n",
      ".loc for label based indexing or\n",
      ".iloc for positional indexing\n",
      "\n",
      "See the documentation here:\n",
      "http://pandas.pydata.org/pandas-docs/stable/user_guide/indexing.html#ix-indexer-is-deprecated\n",
      "  \n",
      "C:\\Users\\joshu\\.conda\\envs\\tf2\\lib\\site-packages\\ipykernel_launcher.py:21: FutureWarning: \n",
      ".ix is deprecated. Please use\n",
      ".loc for label based indexing or\n",
      ".iloc for positional indexing\n",
      "\n",
      "See the documentation here:\n",
      "http://pandas.pydata.org/pandas-docs/stable/user_guide/indexing.html#ix-indexer-is-deprecated\n",
      "C:\\Users\\joshu\\.conda\\envs\\tf2\\lib\\site-packages\\pandas\\core\\indexing.py:822: FutureWarning: \n",
      ".ix is deprecated. Please use\n",
      ".loc for label based indexing or\n",
      ".iloc for positional indexing\n",
      "\n",
      "See the documentation here:\n",
      "http://pandas.pydata.org/pandas-docs/stable/user_guide/indexing.html#ix-indexer-is-deprecated\n",
      "  retval = getattr(retval, self.name)._getitem_axis(key, axis=i)\n"
     ]
    }
   ],
   "source": [
    "# You will get a warning in red about a depricated \n",
    "#   function which you can ignore\n",
    "\n",
    "# Define a date range\n",
    "dates = pd.date_range('2010-01-01', '2010-12-31')\n",
    "\n",
    "# Choose stock symbols to read\n",
    "symbols = ['GOOG', 'IBM', 'GLD']  # SPY will be added in get_data()\n",
    "\n",
    "# Get stock data\n",
    "df = get_data(symbols, dates)\n",
    "\n",
    "# Slice by row range (dates) using DataFram.ix[] selector\n",
    "print(df.ix['2010-01-01':'2010-01-31'])  # the month of January\n",
    "\n",
    "#  Slice by column (symbols)\n",
    "print(df['GOOG']) # a single label selects a single column\n",
    "print(df[['IBM', 'GLD']]) # a list of labels selects multiple columns\n",
    "\n",
    "# Slice by row and column\n",
    "print(df.ix['2010-03-01':'2010-03-15', ['SPY', 'IBM']])"
   ]
  },
  {
   "cell_type": "code",
   "execution_count": 7,
   "metadata": {},
   "outputs": [
    {
     "name": "stdout",
     "output_type": "stream",
     "text": [
      "original data:                Open    High     Low   Close    Volume  Adj Close\n",
      "Date                                                           \n",
      "2012-09-12  666.85  669.90  656.00  669.79  25410600     669.79\n",
      "2012-09-11  665.11  670.10  656.50  660.59  17987400     660.59\n",
      "2012-09-10  680.45  683.29  662.10  662.74  17428500     662.74\n",
      "2012-09-07  678.05  682.48  675.77  680.44  11773800     680.44\n",
      "2012-09-06  673.17  678.29  670.80  676.27  13971300     676.27\n",
      "<class 'pandas.core.indexes.datetimes.DatetimeIndex'>\n",
      "Empty DataFrame\n",
      "Columns: [Open, High, Low, Close, Volume, Adj Close]\n",
      "Index: []\n"
     ]
    }
   ],
   "source": [
    "df = pd.read_csv(\"data/AApl.csv\", index_col=\"Date\", parse_dates=True, na_values=\"nan\")\n",
    "\n",
    "print(\"original data: \", df.head())\n",
    "\n",
    "print(type(df.index))\n",
    "start_date = '2012-09-06'\n",
    "end_date = '2010-01-26';\n",
    "dates=pd.date_range(start_date,end_date)\n",
    "\n",
    "print(df.loc[\"2012-09-06\":\"2012-09-12\"])"
   ]
  },
  {
   "cell_type": "markdown",
   "metadata": {},
   "source": [
    "## Plotting Multiple Stocks"
   ]
  },
  {
   "cell_type": "code",
   "execution_count": null,
   "metadata": {},
   "outputs": [],
   "source": [
    "def plot_data(df, title=\"Stock prices\"):\n",
    "    \"\"\"Plot stock prices with a custom title and meaningful axis labels.\"\"\"\n",
    "    ax = df.plot(title=title, fontsize=12)\n",
    "    ax.set_xlabel(\"Date\")\n",
    "    ax.set_ylabel(\"Price\")\n",
    "    plt.show()"
   ]
  },
  {
   "cell_type": "code",
   "execution_count": null,
   "metadata": {},
   "outputs": [],
   "source": [
    "# Define a date range\n",
    "dates = pd.date_range('2010-01-01', '2010-12-31')\n",
    "\n",
    "# Choose stock symbols to read\n",
    "symbols = ['GOOG', 'IBM', 'GLD']  # SPY will be added in get_data()\n",
    "\n",
    "# Get stock data\n",
    "df = get_data(symbols, dates)\n",
    "\n",
    "# Plot\n",
    "plot_data(df)"
   ]
  },
  {
   "cell_type": "markdown",
   "metadata": {},
   "source": [
    "## Slice and plot"
   ]
  },
  {
   "cell_type": "code",
   "execution_count": null,
   "metadata": {},
   "outputs": [],
   "source": [
    "def normalize_data(df):\n",
    "    \"\"\"Normalize stock prices using the first row of the dataframe.\"\"\"\n",
    "    return df/ df.ix[0,:] \n",
    "\n",
    "def plot_selected(df, columns, start_index, end_index):\n",
    "    \"\"\"Plot the desired columns over index values in the given range.\"\"\"\n",
    "    # Quiz: Your code here\n",
    "    plot_data(df.ix[start_index:end_index,columns], title=\"Selected data\")"
   ]
  },
  {
   "cell_type": "code",
   "execution_count": null,
   "metadata": {},
   "outputs": [],
   "source": [
    "# You will get a warning in red about a depricated \n",
    "#   function which you can ignore\n",
    "\n",
    "# Define a date range\n",
    "dates = pd.date_range('2010-01-01', '2010-12-31')\n",
    "\n",
    "# Choose stock symbols to read\n",
    "symbols = ['GOOG', 'IBM', 'GLD']  # SPY will be added in get_data()\n",
    "\n",
    "# Get stock data\n",
    "df = get_data(symbols, dates)\n",
    "\n",
    "print(df)\n",
    "\n",
    "# Slice and plot\n",
    "plot_selected(df, ['SPY', 'IBM'], '2010-03-01', '2010-04-01')"
   ]
  }
 ],
 "metadata": {
  "kernelspec": {
   "display_name": "Python 3",
   "language": "python",
   "name": "python3"
  },
  "language_info": {
   "codemirror_mode": {
    "name": "ipython",
    "version": 3
   },
   "file_extension": ".py",
   "mimetype": "text/x-python",
   "name": "python",
   "nbconvert_exporter": "python",
   "pygments_lexer": "ipython3",
   "version": "3.7.6"
  },
  "toc": {
   "base_numbering": 1,
   "nav_menu": {},
   "number_sections": true,
   "sideBar": true,
   "skip_h1_title": false,
   "title_cell": "Table of Contents",
   "title_sidebar": "Contents",
   "toc_cell": false,
   "toc_position": {},
   "toc_section_display": true,
   "toc_window_display": false
  },
  "varInspector": {
   "cols": {
    "lenName": 16,
    "lenType": 16,
    "lenVar": 40
   },
   "kernels_config": {
    "python": {
     "delete_cmd_postfix": "",
     "delete_cmd_prefix": "del ",
     "library": "var_list.py",
     "varRefreshCmd": "print(var_dic_list())"
    },
    "r": {
     "delete_cmd_postfix": ") ",
     "delete_cmd_prefix": "rm(",
     "library": "var_list.r",
     "varRefreshCmd": "cat(var_dic_list()) "
    }
   },
   "types_to_exclude": [
    "module",
    "function",
    "builtin_function_or_method",
    "instance",
    "_Feature"
   ],
   "window_display": false
  }
 },
 "nbformat": 4,
 "nbformat_minor": 4
}
