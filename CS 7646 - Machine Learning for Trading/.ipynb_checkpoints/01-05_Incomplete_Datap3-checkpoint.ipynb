{
 "cells": [
  {
   "cell_type": "markdown",
   "metadata": {},
   "source": [
    "## Import Statements"
   ]
  },
  {
   "cell_type": "code",
   "execution_count": null,
   "metadata": {},
   "outputs": [],
   "source": [
    "import numpy as np\n",
    "import matplotlib.pyplot as plt\n",
    "import os\n",
    "import pandas as pd"
   ]
  },
  {
   "cell_type": "markdown",
   "metadata": {},
   "source": [
    "## Using Fillna()"
   ]
  },
  {
   "cell_type": "code",
   "execution_count": null,
   "metadata": {},
   "outputs": [],
   "source": [
    "def symbol_to_path(symbol, base_dir=\"data\"):\n",
    "    \"\"\"Return CSV file path given ticker symbol.\"\"\"\n",
    "    return os.path.join(base_dir, \"{}.csv\".format(str(symbol)))\n",
    "\n",
    "#--------------------Reads csv----------------------------\n",
    "def get_data(symbollist, dates):\n",
    "    df_final=pd.DataFrame(index=dates)\n",
    "    if \"SPY\" not in symbollist:\n",
    "        symbollist.insert(0,\"SPY\")\n",
    "    for symbol in symbollist:\n",
    "        file_path=symbol_to_path(symbol)\n",
    "        df_temp=pd.read_csv(file_path, parse_dates=True, index_col=\"Date\",usecols=[\"Date\", \"Adj Close\"], na_values=[\"nan\"])\n",
    "        df_temp=df_temp.rename(columns={'Adj Close':symbol})\n",
    "        df_final=df_final.join(df_temp)\n",
    "        if symbol == \"SPY\":\n",
    "            df_final=df_final.dropna(subset=['SPY'])\n",
    "    return df_final\n",
    "\n",
    "#--------------------plot function-------------------------\n",
    "def plot(df_data):\n",
    "    ax=df_data.plot(title=\"Incomplete Data\", fontsize=2)\n",
    "    ax.set_xlabel(\"Date\")\n",
    "    ax.set_ylabel(\"Price\")\n",
    "    plt.show()"
   ]
  },
  {
   "cell_type": "code",
   "execution_count": null,
   "metadata": {},
   "outputs": [],
   "source": [
    "# list of symbols\n",
    "# symbollist=[\"PSX\", \"FAKE1\", \"FAKE2\"]\n",
    "symbollist=[\"FAKE2\"]\n",
    "# date range\n",
    "start_date='2005-12-31'\n",
    "end_date='2014-12-07'\n",
    "# create date range\n",
    "idx=pd.date_range(start_date,end_date)\n",
    "# get adjusted close of each symbol\n",
    "df_data=get_data(symbollist,idx)\n",
    "df_data.fillna(method=\"ffill\",inplace=True)\n",
    "plot(df_data)"
   ]
  },
  {
   "cell_type": "markdown",
   "metadata": {},
   "source": [
    "## Fill missing values"
   ]
  },
  {
   "cell_type": "code",
   "execution_count": null,
   "metadata": {},
   "outputs": [],
   "source": [
    "def fill_missing_values(df_data):\n",
    "    \"\"\"Fill missing values in data frame, in place.\"\"\"\n",
    "    ##########################################################\n",
    "    pass  # QUIZ: Your code here (DO NOT modify anything else)\n",
    "    df_data.fillna(method=\"ffill\", inplace=True)\n",
    "    df_data.fillna(method=\"bfill\", inplace=False)\n",
    "    ##########################################################\n",
    "\n",
    "    \n",
    "def symbol_to_path(symbol, base_dir=\"data\"):\n",
    "    \"\"\"Return CSV file path given ticker symbol.\"\"\"\n",
    "    return os.path.join(base_dir, \"{}.csv\".format(str(symbol)))\n",
    "\n",
    "\n",
    "def get_data(symbols, dates):\n",
    "    \"\"\"Read stock data (adjusted close) for given symbols from CSV files.\"\"\"\n",
    "    df_final = pd.DataFrame(index=dates)\n",
    "    if \"SPY\" not in symbols:  # add SPY for reference, if absent\n",
    "        symbols.insert(0, \"SPY\")\n",
    "\n",
    "    for symbol in symbols:\n",
    "        file_path = symbol_to_path(symbol)\n",
    "        df_temp = pd.read_csv(file_path, parse_dates=True, index_col=\"Date\",\n",
    "            usecols=[\"Date\", \"Adj Close\"], na_values=[\"nan\"])\n",
    "        df_temp = df_temp.rename(columns={\"Adj Close\": symbol})\n",
    "        df_final = df_final.join(df_temp)\n",
    "        if symbol == \"SPY\":  # drop dates SPY did not trade\n",
    "            df_final = df_final.dropna(subset=[\"SPY\"])\n",
    "\n",
    "    return df_final\n",
    "\n",
    "\n",
    "def plot_data(df_data):\n",
    "    \"\"\"Plot stock data with appropriate axis labels.\"\"\"\n",
    "    ax = df_data.plot(title=\"Stock Data\", fontsize=2)\n",
    "    ax.set_xlabel(\"Date\")\n",
    "    ax.set_ylabel(\"Price\")\n",
    "    plt.show()"
   ]
  },
  {
   "cell_type": "code",
   "execution_count": null,
   "metadata": {},
   "outputs": [],
   "source": [
    "# Read data\n",
    "symbol_list = [\"JAVA\", \"FAKE1\", \"FAKE2\"]  # list of symbols\n",
    "start_date = \"2005-12-31\"\n",
    "end_date = \"2014-12-07\"\n",
    "dates = pd.date_range(start_date, end_date)  # date range as index\n",
    "df_data = get_data(symbol_list, dates)  # get data for each symbol\n",
    "\n",
    "# Fill missing values\n",
    "fill_missing_values(df_data)\n",
    "\n",
    "# Plot\n",
    "plot_data(df_data)"
   ]
  }
 ],
 "metadata": {
  "kernelspec": {
   "display_name": "Python 3",
   "language": "python",
   "name": "python3"
  },
  "language_info": {
   "codemirror_mode": {
    "name": "ipython",
    "version": 3
   },
   "file_extension": ".py",
   "mimetype": "text/x-python",
   "name": "python",
   "nbconvert_exporter": "python",
   "pygments_lexer": "ipython3",
   "version": "3.7.6"
  },
  "toc": {
   "base_numbering": 1,
   "nav_menu": {},
   "number_sections": true,
   "sideBar": true,
   "skip_h1_title": false,
   "title_cell": "Table of Contents",
   "title_sidebar": "Contents",
   "toc_cell": false,
   "toc_position": {},
   "toc_section_display": true,
   "toc_window_display": false
  },
  "varInspector": {
   "cols": {
    "lenName": 16,
    "lenType": 16,
    "lenVar": 40
   },
   "kernels_config": {
    "python": {
     "delete_cmd_postfix": "",
     "delete_cmd_prefix": "del ",
     "library": "var_list.py",
     "varRefreshCmd": "print(var_dic_list())"
    },
    "r": {
     "delete_cmd_postfix": ") ",
     "delete_cmd_prefix": "rm(",
     "library": "var_list.r",
     "varRefreshCmd": "cat(var_dic_list()) "
    }
   },
   "types_to_exclude": [
    "module",
    "function",
    "builtin_function_or_method",
    "instance",
    "_Feature"
   ],
   "window_display": false
  }
 },
 "nbformat": 4,
 "nbformat_minor": 4
}
