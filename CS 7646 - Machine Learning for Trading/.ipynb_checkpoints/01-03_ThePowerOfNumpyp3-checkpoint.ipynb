{
 "cells": [
  {
   "cell_type": "markdown",
   "metadata": {},
   "source": [
    "## Import Statements"
   ]
  },
  {
   "cell_type": "code",
   "execution_count": null,
   "metadata": {},
   "outputs": [],
   "source": [
    "import pandas as pd\n",
    "import matplotlib.pyplot as plt\n",
    "import numpy as np"
   ]
  },
  {
   "cell_type": "markdown",
   "metadata": {},
   "source": [
    "## Creating NumPy Arrays"
   ]
  },
  {
   "cell_type": "code",
   "execution_count": null,
   "metadata": {},
   "outputs": [],
   "source": [
    "# List to 1D array\n",
    "print(np.array([2, 3, 4]))\n",
    "\n",
    "# List of tuples to 2D array\n",
    "print(np.array([(2, 3, 4), (5, 6, 7)]))\n",
    "\n",
    "# Empty array\n",
    "print(np.empty(5))\n",
    "print(np.empty((5,4)))\n",
    "print(np.empty((5,4,3)))\n",
    "\n",
    "# Array of 1s\n",
    "print(np.ones((5, 4)))\n",
    "\n",
    "# Specifying the datatype\n",
    "print(np.ones((5, 4), dtype=np.int_))"
   ]
  },
  {
   "cell_type": "markdown",
   "metadata": {},
   "source": [
    "## Generating Random Numbers"
   ]
  },
  {
   "cell_type": "code",
   "execution_count": null,
   "metadata": {},
   "outputs": [],
   "source": [
    "# Generate an array full of random numbers, uniformly samples from [0.0, 1.0)\n",
    "print(np.random.random((5, 4))) # pass in a size tuple\n",
    "\n",
    "# Generate an array full of random numbers, uniformly samples from [0.0, 1.0)\n",
    "print(np.random.rand(5, 4)) # function arguments (not a tuple)\n",
    "\n",
    "# Sample numbers from a Gaussian (normal) distribution\n",
    "print(np.random.normal(size=(2, 3))) # \"standard normal\" (mean = 0, s.d. = 1)\n",
    "\n",
    "# Sample numbers from a Gaussian (normal) distribution\n",
    "print(np.random.normal(50, 10, size=(2, 3))) # change mean to 50 and s.d. to 10\n",
    "\n",
    "# Random integers\n",
    "print(np.random.randint(1)) # a single integer in [0, 10)\n",
    "print(np.random.randint(0, 10)) # same as above, specifying [low, high) explicit\n",
    "print(np.random.randint(0, 10, size=5)) # 5 random integers as a 1D array\n",
    "print(np.random.randint(0, 10, size=(2, 3))) # 2x3 array of random integers"
   ]
  },
  {
   "cell_type": "markdown",
   "metadata": {},
   "source": [
    "## Array Attributes"
   ]
  },
  {
   "cell_type": "code",
   "execution_count": null,
   "metadata": {},
   "outputs": [],
   "source": [
    "a = np.random.random((5, 4))  # 5x4 array of random numbers\n",
    "print(a)\n",
    "print(a.shape)\n",
    "\n",
    "print(a.shape[0])  # number of rows\n",
    "print(a.shape[1])  # number of columns\n",
    "\n",
    "print(len(a.shape))\n",
    "print(a.size)\n",
    "print(a.dtype)"
   ]
  },
  {
   "cell_type": "markdown",
   "metadata": {},
   "source": [
    "## Operations on Arrays"
   ]
  },
  {
   "cell_type": "code",
   "execution_count": null,
   "metadata": {},
   "outputs": [],
   "source": [
    "np.random.seed(693)  # seed the random number generator\n",
    "a = np.random.randint(0, 10, size=(5, 4)) # 5x4 random integers in [0, 10)\n",
    "print(\"Array:\\n\", a)\n",
    "\n",
    "# Sum of all elements\n",
    "print(\"Sum of all elements:\", a.sum())\n",
    "\n",
    "# Iterate over rows, to compute sum of each columns\n",
    "print(\"Sum of each column:\\n\", a.sum(axis=0))\n",
    "\n",
    "# Iterate over columns to compute sume of each rows\n",
    "print(\"Sum of each row:\\n\", a.sum(axis=1))\n",
    "\n",
    "# Statistics: min, max, mean (across rows, cols, and overall)\n",
    "print(\"Minimum of each colulmn:\\n\", a.min(axis=0))\n",
    "print(\"Maximum of each row:\\n\", a.max(axis=1))\n",
    "print(\"Mean of all elements:\", a.mean()) # leave out axis arg."
   ]
  },
  {
   "cell_type": "markdown",
   "metadata": {},
   "source": [
    "## Locate maximum value"
   ]
  },
  {
   "cell_type": "code",
   "execution_count": null,
   "metadata": {},
   "outputs": [],
   "source": [
    "def get_max_index(a):\n",
    "    \"\"\"Return the index of the maximum value in given 1D array.\"\"\"\n",
    "    # Quiz: Your code here\n",
    "    return np.argmax(a)"
   ]
  },
  {
   "cell_type": "code",
   "execution_count": null,
   "metadata": {},
   "outputs": [],
   "source": [
    "a = np.array([9, 6, 2, 3, 12, 14, 7, 10], dtype=np.int32)  # 32-bit integer array\n",
    "print(\"Array:\", a)\n",
    "\n",
    "# Find the maximum and its index in array\n",
    "print(\"Maximum value:\", a.max())\n",
    "print(\"Index of max.:\", get_max_index(a))"
   ]
  },
  {
   "cell_type": "markdown",
   "metadata": {},
   "source": [
    "## Using time function"
   ]
  },
  {
   "cell_type": "code",
   "execution_count": null,
   "metadata": {},
   "outputs": [],
   "source": [
    "import time"
   ]
  },
  {
   "cell_type": "code",
   "execution_count": null,
   "metadata": {},
   "outputs": [],
   "source": [
    "t1 = time.time()\n",
    "print(\"ML4T\")\n",
    "t2 = time.time()\n",
    "print(\"The time taken by print statement is \", t2 - t1, \" seconds\")"
   ]
  },
  {
   "cell_type": "markdown",
   "metadata": {},
   "source": [
    "## How Fast is Numpy?"
   ]
  },
  {
   "cell_type": "code",
   "execution_count": null,
   "metadata": {
    "code_folding": []
   },
   "outputs": [],
   "source": [
    "from time import time\n",
    "\n",
    "def how_long(func, *args):\n",
    "    \"\"\"Execute function with given arguments, and measure execution time.\"\"\"\n",
    "    t0 = time()\n",
    "    result = func(*args) # all argument are passed in as-is\n",
    "    t1 = time()\n",
    "    return result, t1 - t0\n",
    "\n",
    "def manual_mean(arr):\n",
    "    \"\"\"Compute mean (average) of all elements in the given 2D array.\"\"\"\n",
    "    sum = 0\n",
    "    for i in range(0, arr.shape[0]):\n",
    "        for j in range(0, arr.shape[1]):\n",
    "            sum = sum + arr[i, j]\n",
    "    return sum / arr.size\n",
    "\n",
    "def numpy_mean(arr):\n",
    "    \"\"\"Compute mean(average) using Numpy\"\"\"\n",
    "    return arr.mean()"
   ]
  },
  {
   "cell_type": "code",
   "execution_count": null,
   "metadata": {},
   "outputs": [],
   "source": [
    "nd1 = np.random.random((1000, 10000)) # use a sufficiently large array\n",
    "\n",
    "# Time the two functions, retrieving results and execution times\n",
    "res_manual, t_manual = how_long(manual_mean, nd1)\n",
    "res_numpy, t_numpy = how_long(numpy_mean, nd1)\n",
    "print(\"Manual: {:.6f} ({:.3f} secs.) vs. Numpy: {:.6f} ({:.3f} secs.)\".format(res_manual, t_manual, res_numpy, t_numpy))\n",
    "\n",
    "# Make sure both give us the same answer (upto some precision)\n",
    "assert abs(res_manual - res_numpy) <= 10e-6, \"Results aren't equal!\"\n",
    "\n",
    "# Compute speedup\n",
    "speedup = t_manual / t_numpy\n",
    "print(\"Numpy mean is\", speedup, \"times faster than manual for loops.\")"
   ]
  },
  {
   "cell_type": "markdown",
   "metadata": {},
   "source": [
    "## Accessing Array Elements"
   ]
  },
  {
   "cell_type": "code",
   "execution_count": null,
   "metadata": {},
   "outputs": [],
   "source": [
    "a = np.random.rand(5, 4)\n",
    "print(\"array:\\n\", a)\n",
    "\n",
    "# Accessing element at position (3, 2)\n",
    "element = a[3, 2]\n",
    "print(element)\n",
    "\n",
    "# Element in defined range\n",
    "print(a[0, 1:3])\n",
    "\n",
    "# Top-left corner\n",
    "print(a[0:2, 0:2])\n",
    "\n",
    "# Slicing\n",
    "# Note: Slice n:m:t specifies a range that starts n, and stops before m, in\n",
    "print( a[:, 0:3:2]) # will select columns 0, 2 for every row\n",
    "\n",
    "# Assigning a value to a particular location\n",
    "a[0, 0] = 1\n",
    "print(\"\\nModified (replaced one element):\\n\", a)\n",
    "\n",
    "# Assigning a single value to an entire row\n",
    "a[0,:] = 2\n",
    "print(\"\\nModified (replaced a row with a single value):\\n\", a)\n",
    "\n",
    "# Assigning a list to a column in an array\n",
    "a[:, 3] = [1, 2, 3, 4, 5]\n",
    "print(\"\\nModified (replaced a column with a list):\\n\", a)"
   ]
  },
  {
   "cell_type": "markdown",
   "metadata": {},
   "source": [
    "## Accessing Elements"
   ]
  },
  {
   "cell_type": "code",
   "execution_count": null,
   "metadata": {},
   "outputs": [],
   "source": [
    "a = np.random.rand(5)\n",
    "\n",
    "# accessing using list of indices\n",
    "indices = np.array([1,2,3,3])\n",
    "print(a[indices])\n",
    "\n",
    "a = np.array([(20,25,10,23,26,32,10,5,0),(0,2,50,20,0,1,28,5,0)])\n",
    "print (a)\n",
    "\n",
    "# calculating mean\n",
    "mean = a.mean()\n",
    "print(mean)\n",
    "\n",
    "# masking\n",
    "print(a[a<mean])\n",
    "\n",
    "# masking2\n",
    "a[a<mean]= mean\n",
    "print(a)"
   ]
  },
  {
   "cell_type": "markdown",
   "metadata": {},
   "source": [
    "## Arithmetic Operations"
   ]
  },
  {
   "cell_type": "code",
   "execution_count": null,
   "metadata": {},
   "outputs": [],
   "source": [
    "a = np.array([(1, 2, 3, 4, 5), (10, 20, 30, 40, 50)])\n",
    "print(\"Original array a:\\n\", a)\n",
    "\n",
    "# Multiple a by 2\n",
    "print(\"\\nMultiply a by 2:\\n\", 2 * a)\n",
    "\n",
    "# Divide a by 2\n",
    "print(\"\\nDivide a by 2:\\n\", a / 2)\n",
    "\n",
    "# Divide a by 2\n",
    "print(\"\\nDivide a by 2:\\n\", a / 2.0)\n",
    "\n",
    "b = np.array([(100, 200, 300, 400, 500), (1, 2, 3, 4, 5)])\n",
    "print(\"\\nOriginal array b:\\n\", b)\n",
    "\n",
    "# Add the two arrays\n",
    "print(\"\\nAdd a + b:\\n\", a + b)\n",
    "\n",
    "# Multiply a and b\n",
    "print(\"\\nMultiply a and b:\\n\", a * b)\n",
    "\n",
    "# Divide a by b\n",
    "print(\"\\nDivide a by b:\\n\", a / b)"
   ]
  }
 ],
 "metadata": {
  "kernelspec": {
   "display_name": "Python 3",
   "language": "python",
   "name": "python3"
  },
  "language_info": {
   "codemirror_mode": {
    "name": "ipython",
    "version": 3
   },
   "file_extension": ".py",
   "mimetype": "text/x-python",
   "name": "python",
   "nbconvert_exporter": "python",
   "pygments_lexer": "ipython3",
   "version": "3.7.6"
  },
  "toc": {
   "base_numbering": 1,
   "nav_menu": {},
   "number_sections": true,
   "sideBar": true,
   "skip_h1_title": false,
   "title_cell": "Table of Contents",
   "title_sidebar": "Contents",
   "toc_cell": false,
   "toc_position": {},
   "toc_section_display": true,
   "toc_window_display": false
  },
  "varInspector": {
   "cols": {
    "lenName": 16,
    "lenType": 16,
    "lenVar": 40
   },
   "kernels_config": {
    "python": {
     "delete_cmd_postfix": "",
     "delete_cmd_prefix": "del ",
     "library": "var_list.py",
     "varRefreshCmd": "print(var_dic_list())"
    },
    "r": {
     "delete_cmd_postfix": ") ",
     "delete_cmd_prefix": "rm(",
     "library": "var_list.r",
     "varRefreshCmd": "cat(var_dic_list()) "
    }
   },
   "types_to_exclude": [
    "module",
    "function",
    "builtin_function_or_method",
    "instance",
    "_Feature"
   ],
   "window_display": false
  }
 },
 "nbformat": 4,
 "nbformat_minor": 4
}
