{
 "cells": [
  {
   "cell_type": "markdown",
   "metadata": {},
   "source": [
    "## Import Statements"
   ]
  },
  {
   "cell_type": "code",
   "execution_count": null,
   "metadata": {},
   "outputs": [],
   "source": [
    "import os\n",
    "import pandas as pd\n",
    "import matplotlib.pyplot as plt"
   ]
  },
  {
   "cell_type": "markdown",
   "metadata": {},
   "source": [
    "## Compute Global Statistics"
   ]
  },
  {
   "cell_type": "code",
   "execution_count": null,
   "metadata": {},
   "outputs": [],
   "source": [
    "def symbol_to_path(symbol, base_dir=\"data\"):\n",
    "    \"\"\"Return CSV file path given ticker symbol.\"\"\"\n",
    "    return os.path.join(base_dir, \"{}.csv\".format(str(symbol)))\n",
    "\n",
    "def get_data(symbols, dates):\n",
    "    \"\"\"Read stock data (adjusted close) for given symbols from CSV files.\"\"\"\n",
    "    df = pd.DataFrame(index=dates)\n",
    "    if 'SPY' not in symbols:  # add SPY for reference, if absent\n",
    "        symbols.insert(0, 'SPY')\n",
    "\n",
    "    for symbol in symbols:\n",
    "        df_temp = pd.read_csv(symbol_to_path(symbol), index_col='Date',\n",
    "                parse_dates=True, usecols=['Date', 'Adj Close'], na_values=['nan'])\n",
    "        df_temp = df_temp.rename(columns={'Adj Close': symbol})\n",
    "        df = df.join(df_temp)\n",
    "        if symbol == 'SPY':  # drop dates SPY did not trade\n",
    "            df = df.dropna(subset=[\"SPY\"])\n",
    "    return df\n",
    "\n",
    "def plot_data(df, title=\"Stock prices\"):\n",
    "    \"\"\"Plot stock prices with a custom title and meaningful axis labels.\"\"\"\n",
    "    ax = df.plot(title=title, fontsize=12)\n",
    "    ax.set_xlabel(\"Date\")\n",
    "    ax.set_ylabel(\"Price\")\n",
    "    plt.show()"
   ]
  },
  {
   "cell_type": "code",
   "execution_count": null,
   "metadata": {},
   "outputs": [],
   "source": [
    "# Read data\n",
    "dates = pd.date_range('2010-01-01', '2012-12-31')\n",
    "symbols = ['SPY', 'XOM', 'GOOG', 'GLD']\n",
    "df = get_data(symbols, dates)\n",
    "plot_data(df)\n",
    "\n",
    "# Compute global statistics for each stock\n",
    "print(df.mean())\n",
    "print(df.median())\n",
    "print(df.std())"
   ]
  },
  {
   "cell_type": "markdown",
   "metadata": {},
   "source": [
    "## Computing Rolling Statistics"
   ]
  },
  {
   "cell_type": "code",
   "execution_count": null,
   "metadata": {},
   "outputs": [],
   "source": [
    "# Read data\n",
    "dates = pd.date_range('2010-01-01', '2012-12-31')\n",
    "symbols = ['SPY', 'XOM', 'GOOG', 'GLD']\n",
    "df = get_data(symbols, dates)\n",
    "\n",
    "# Plot SPY, retain matplotlib axis object\n",
    "ax = df['SPY'].plot(title=\"SPY rolling mean\", label='SPY')\n",
    "\n",
    "# Compute rolling mean using a 20-day window\n",
    "rm_SPY = df['SPY'].rolling( window=20).mean()\n",
    "\n",
    "# Add rolling mean to same plot\n",
    "rm_SPY.plot(label='Rolling mean', ax=ax)\n",
    "\n",
    "# Add axis labels and legend\n",
    "ax.set_xlabel(\"Date\")\n",
    "ax.set_ylabel(\"Price\")\n",
    "ax.legend(loc='upper left')\n",
    "plt.show()"
   ]
  },
  {
   "cell_type": "markdown",
   "metadata": {},
   "source": [
    "## Bollinger Bands"
   ]
  },
  {
   "cell_type": "code",
   "execution_count": null,
   "metadata": {},
   "outputs": [],
   "source": [
    "def get_rolling_mean(values, windows):\n",
    "    \"\"\"Return rolling mean of given values, using specified window size.\"\"\"\n",
    "    return values.rolling( window=windows).mean()\n",
    "\n",
    "def get_rolling_std(values, windows):\n",
    "    \"\"\"Return rolling standard deviation of given values, using specified window size.\"\"\"\n",
    "    # Quiz: Compute and return rolling standard deviation\n",
    "    return values.rolling(window=windows).std()\n",
    "\n",
    "def get_bollinger_bands(rm, rstd):\n",
    "    \"\"\"Return upper and lower Bollinger Bands.\"\"\"\n",
    "    # Quiz: Compute upper_band and lower_band\n",
    "    upper_band = rm + rstd * 2\n",
    "    lower_band = rm - rstd * 2\n",
    "    return upper_band, lower_band\n"
   ]
  },
  {
   "cell_type": "code",
   "execution_count": null,
   "metadata": {},
   "outputs": [],
   "source": [
    "# Read data\n",
    "dates = pd.date_range('2012-01-01', '2012-12-31')\n",
    "symbols = ['SPY']\n",
    "df = get_data(symbols, dates)\n",
    "\n",
    "# Compute Bollinger Bands\n",
    "# 1. Compute rolling mean\n",
    "rm_SPY = get_rolling_mean(df['SPY'], windows=20)\n",
    "\n",
    "# 2. Compute rolling standard deviation\n",
    "rstd_SPY = get_rolling_std(df['SPY'], windows=20)\n",
    "\n",
    "# 3. Compute upper and lower bands\n",
    "upper_band, lower_band = get_bollinger_bands(rm_SPY, rstd_SPY)\n",
    "\n",
    "# Plot raw SPY values, rolling mean and Bollinger Bands\n",
    "ax = df['SPY'].plot(title=\"Bollinger Bands\", label='SPY')\n",
    "rm_SPY.plot(label='Rolling mean', ax=ax)\n",
    "upper_band.plot(label='upper band', ax=ax)\n",
    "lower_band.plot(label='lower band', ax=ax)\n",
    "\n",
    "# Add axis labels and legend\n",
    "ax.set_xlabel(\"Date\")\n",
    "ax.set_ylabel(\"Price\")\n",
    "ax.legend(loc='upper left')\n",
    "plt.show()"
   ]
  },
  {
   "cell_type": "markdown",
   "metadata": {},
   "source": [
    "## Compute daily returns"
   ]
  },
  {
   "cell_type": "code",
   "execution_count": null,
   "metadata": {},
   "outputs": [],
   "source": [
    "def symbol_to_path(symbol, base_dir=\"data\"):\n",
    "    \"\"\"Return CSV file path given ticker symbol.\"\"\"\n",
    "    return os.path.join(base_dir, \"{}.csv\".format(str(symbol)))\n",
    "\n",
    "\n",
    "def get_data(symbols, dates):\n",
    "    \"\"\"Read stock data (adjusted close) for given symbols from CSV files.\"\"\"\n",
    "    df = pd.DataFrame(index=dates)\n",
    "    if 'SPY' not in symbols:  # add SPY for reference, if absent\n",
    "        symbols.insert(0, 'SPY')\n",
    "\n",
    "    for symbol in symbols:\n",
    "        df_temp = pd.read_csv(symbol_to_path(symbol), index_col='Date',\n",
    "                parse_dates=True, usecols=['Date', 'Adj Close'], na_values=['nan'])\n",
    "        df_temp = df_temp.rename(columns={'Adj Close': symbol})\n",
    "        df = df.join(df_temp)\n",
    "        if symbol == 'SPY':  # drop dates SPY did not trade\n",
    "            df = df.dropna(subset=[\"SPY\"])\n",
    "\n",
    "    return df\n",
    "\n",
    "\n",
    "def compute_daily_returns(df):\n",
    "    \"\"\"Compute and return the daily return values.\"\"\"\n",
    "    # Quiz: Your code here\n",
    "    # Note: Returned DataFrame must have the same number of rows\n",
    "    daily_returns = df.copy()\n",
    "    # daily_returns[1:] = (df[1:] / df[:-1].values) - 1 # compute daily returns for row 1 onwards\n",
    "    daily_returns = (df / df.shift(1)) - 1 # much easier with Pandas!\n",
    "    daily_returns.iloc[0, :] = 0 # Pandas leaves the 0th row full of Nans\n",
    "    return daily_returns\n",
    "\n",
    "\n",
    "def plot_data(df, title=\"Stock prices\", xlabel=\"Date\", ylabel=\"Price\"):\n",
    "    \"\"\"Plot stock prices with a custom title and meaningful axis labels.\"\"\"\n",
    "    ax = df.plot(title=title, fontsize=12)\n",
    "    ax.set_xlabel(xlabel)\n",
    "    ax.set_ylabel(ylabel)\n",
    "    plt.show()"
   ]
  },
  {
   "cell_type": "code",
   "execution_count": null,
   "metadata": {},
   "outputs": [],
   "source": [
    "# Read data\n",
    "dates = pd.date_range('2012-07-01', '2012-07-31')  # one month only\n",
    "symbols = ['SPY','XOM']\n",
    "df = get_data(symbols, dates)\n",
    "plot_data(df)\n",
    "\n",
    "# Compute daily returns\n",
    "daily_returns = compute_daily_returns(df)\n",
    "plot_data(daily_returns, title=\"Daily returns\", ylabel=\"Daily returns\")"
   ]
  }
 ],
 "metadata": {
  "kernelspec": {
   "display_name": "Python 3",
   "language": "python",
   "name": "python3"
  },
  "language_info": {
   "codemirror_mode": {
    "name": "ipython",
    "version": 3
   },
   "file_extension": ".py",
   "mimetype": "text/x-python",
   "name": "python",
   "nbconvert_exporter": "python",
   "pygments_lexer": "ipython3",
   "version": "3.7.6"
  },
  "toc": {
   "base_numbering": 1,
   "nav_menu": {},
   "number_sections": true,
   "sideBar": true,
   "skip_h1_title": false,
   "title_cell": "Table of Contents",
   "title_sidebar": "Contents",
   "toc_cell": false,
   "toc_position": {},
   "toc_section_display": true,
   "toc_window_display": false
  },
  "varInspector": {
   "cols": {
    "lenName": 16,
    "lenType": 16,
    "lenVar": 40
   },
   "kernels_config": {
    "python": {
     "delete_cmd_postfix": "",
     "delete_cmd_prefix": "del ",
     "library": "var_list.py",
     "varRefreshCmd": "print(var_dic_list())"
    },
    "r": {
     "delete_cmd_postfix": ") ",
     "delete_cmd_prefix": "rm(",
     "library": "var_list.r",
     "varRefreshCmd": "cat(var_dic_list()) "
    }
   },
   "types_to_exclude": [
    "module",
    "function",
    "builtin_function_or_method",
    "instance",
    "_Feature"
   ],
   "window_display": false
  }
 },
 "nbformat": 4,
 "nbformat_minor": 4
}
