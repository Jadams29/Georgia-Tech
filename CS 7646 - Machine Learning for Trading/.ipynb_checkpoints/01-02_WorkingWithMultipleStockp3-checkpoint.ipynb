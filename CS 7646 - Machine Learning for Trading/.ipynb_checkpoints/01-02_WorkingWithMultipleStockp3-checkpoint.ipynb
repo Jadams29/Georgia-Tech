{
 "cells": [
  {
   "cell_type": "markdown",
   "metadata": {},
   "source": [
    "## Import Statements"
   ]
  },
  {
   "cell_type": "code",
   "execution_count": null,
   "metadata": {},
   "outputs": [],
   "source": [
    "import pandas as pd\n",
    "import matplotlib.pyplot as plt"
   ]
  },
  {
   "cell_type": "markdown",
   "metadata": {},
   "source": [
    "## Build a DataFrame in Pandas"
   ]
  },
  {
   "cell_type": "code",
   "execution_count": null,
   "metadata": {},
   "outputs": [],
   "source": [
    "# Define data range\n",
    "start_date = '2010-01-22'\n",
    "end_date = '2010-01-26';\n",
    "dates=pd.date_range(start_date,end_date)\n",
    "\n",
    "print (dates)\n",
    "print (dates[0])  # get first element of list\n",
    "\n",
    "# Create an empty dataframe\n",
    "df1=pd.DataFrame(index=dates)  # define empty dataframe with these dates as index\n",
    "\n",
    "print (df1)\n",
    "\n",
    "# Read SPY data into temporary dataframe\n",
    "# dfSPY = pd.read_csv(\"data/SPY.csv\") # will result in no data because this has index of integers\n",
    "# dfSPY = pd.read_csv(\"data/SPY.csv\", index_col=\"Date\", parse_dates=True)\n",
    "dfSPY = pd.read_csv(\"data/SPY.csv\", index_col=\"Date\",\n",
    "                    parse_dates=True, usecols=['Date','Adj Close'],\n",
    "                    na_values=['nan'])\n",
    "print (dfSPY)\n",
    "\n",
    "# Join the two dataframes using DataFram.join()\n",
    "df1=df1.join(dfSPY)\n",
    "print (df1)\n",
    "\n",
    "# Drop NaN Values\n",
    "df1 = df1.dropna()\n",
    "print (df1)"
   ]
  },
  {
   "cell_type": "markdown",
   "metadata": {},
   "source": [
    "## Read in More Stocks"
   ]
  },
  {
   "cell_type": "code",
   "execution_count": null,
   "metadata": {},
   "outputs": [],
   "source": [
    "# Define data range\n",
    "start_date = '2010-01-22'\n",
    "end_date = '2010-01-26';\n",
    "dates = pd.date_range(start_date, end_date)\n",
    "\n",
    "# Create an empty dataframe\n",
    "df1 = pd.DataFrame(index=dates)  # define empty dataframe with these dates as index\n",
    "\n",
    "# Read SPY data into temporary dataframe\n",
    "dfSPY = pd.read_csv(\"data/SPY.csv\", index_col=\"Date\",\n",
    "                    parse_dates=True, usecols=['Date', 'Adj Close'],\n",
    "                    na_values=['nan'])\n",
    "\n",
    "# Rename 'Adj Close' column to 'SPY' to prevent clash\n",
    "dfSPY = dfSPY.rename(columns={'Adj Close': 'SPY'})\n",
    "\n",
    "# Join the two dataframes using DataFram.join()\n",
    "df1 = df1.join(dfSPY, how='inner')\n",
    "\n",
    "# Read in more stocks\n",
    "symbols = ['GOOG', 'IBM', 'GLD']\n",
    "for symbol in symbols:\n",
    "    df_temp = pd.read_csv(\"data/{}.csv\".format(symbol, index_col='Date',\n",
    "                                               parse_dates=True, usecols=['Date', 'Adj Close'],\n",
    "                                               na_values=['nan']))\n",
    "    df = df1.join(df_temp)  # use default how='left'\n",
    "\n",
    "print(df1)"
   ]
  },
  {
   "cell_type": "markdown",
   "metadata": {},
   "source": [
    "## Utility functions"
   ]
  },
  {
   "cell_type": "code",
   "execution_count": null,
   "metadata": {},
   "outputs": [],
   "source": [
    "import os\n",
    "\n",
    "def symbol_to_path(symbol, base_dir=\"data\"):\n",
    "    \"\"\"Return CSV file path given ticker symbol.\"\"\"\n",
    "    return os.path.join(base_dir, \"{}.csv\".format(str(symbol)))\n",
    "\n",
    "def get_data(symbols, dates):\n",
    "    \"\"\"Read stock data (adjusted close) for given symbols from CSV files.\"\"\"\n",
    "    df = pd.DataFrame(index=dates)\n",
    "    if 'SPY' not in symbols:  # add SPY for reference, if absent\n",
    "        symbols.insert(0, 'SPY')\n",
    "\n",
    "    for symbol in symbols:\n",
    "        # Quiz: Read and join data for each symbol\n",
    "        df_temp = pd.read_csv(symbol_to_path(symbol), index_col='Date',\n",
    "                parse_dates=True, usecols=['Date', 'Adj Close'], na_values=['nan'])\n",
    "        df_temp = df_temp.rename(columns={'Adj Close': symbol})\n",
    "        df = df.join(df_temp)\n",
    "        if symbol == 'SPY':  # drop dates SPY did not trade\n",
    "            df = df.dropna(subset=[\"SPY\"])\n",
    "\n",
    "    return df"
   ]
  },
  {
   "cell_type": "markdown",
   "metadata": {},
   "source": [
    "## Slicing"
   ]
  },
  {
   "cell_type": "code",
   "execution_count": null,
   "metadata": {},
   "outputs": [],
   "source": [
    "# You will get a warning in red about a depricated \n",
    "#   function which you can ignore\n",
    "\n",
    "# Define a date range\n",
    "dates = pd.date_range('2010-01-01', '2010-12-31')\n",
    "\n",
    "# Choose stock symbols to read\n",
    "symbols = ['GOOG', 'IBM', 'GLD']  # SPY will be added in get_data()\n",
    "\n",
    "# Get stock data\n",
    "df = get_data(symbols, dates)\n",
    "\n",
    "# Slice by row range (dates) using DataFram.ix[] selector\n",
    "print(df.ix['2010-01-01':'2010-01-31'])  # the month of January\n",
    "\n",
    "#  Slice by column (symbols)\n",
    "print(df['GOOG']) # a single label selects a single column\n",
    "print(df[['IBM', 'GLD']]) # a list of labels selects multiple columns\n",
    "\n",
    "# Slice by row and column\n",
    "print(df.ix['2010-03-01':'2010-03-15', ['SPY', 'IBM']])"
   ]
  },
  {
   "cell_type": "markdown",
   "metadata": {},
   "source": [
    "## Plotting Multiple Stocks"
   ]
  },
  {
   "cell_type": "code",
   "execution_count": null,
   "metadata": {},
   "outputs": [],
   "source": [
    "def plot_data(df, title=\"Stock prices\"):\n",
    "    \"\"\"Plot stock prices with a custom title and meaningful axis labels.\"\"\"\n",
    "    ax = df.plot(title=title, fontsize=12)\n",
    "    ax.set_xlabel(\"Date\")\n",
    "    ax.set_ylabel(\"Price\")\n",
    "    plt.show()"
   ]
  },
  {
   "cell_type": "code",
   "execution_count": null,
   "metadata": {},
   "outputs": [],
   "source": [
    "# Define a date range\n",
    "dates = pd.date_range('2010-01-01', '2010-12-31')\n",
    "\n",
    "# Choose stock symbols to read\n",
    "symbols = ['GOOG', 'IBM', 'GLD']  # SPY will be added in get_data()\n",
    "\n",
    "# Get stock data\n",
    "df = get_data(symbols, dates)\n",
    "\n",
    "# Plot\n",
    "plot_data(df)"
   ]
  },
  {
   "cell_type": "markdown",
   "metadata": {},
   "source": [
    "## Slice and plot"
   ]
  },
  {
   "cell_type": "code",
   "execution_count": null,
   "metadata": {},
   "outputs": [],
   "source": [
    "def normalize_data(df):\n",
    "    \"\"\"Normalize stock prices using the first row of the dataframe.\"\"\"\n",
    "    return df/ df.ix[0,:] \n",
    "\n",
    "def plot_selected(df, columns, start_index, end_index):\n",
    "    \"\"\"Plot the desired columns over index values in the given range.\"\"\"\n",
    "    # Quiz: Your code here\n",
    "    plot_data(df.ix[start_index:end_index,columns], title=\"Selected data\")"
   ]
  },
  {
   "cell_type": "code",
   "execution_count": null,
   "metadata": {},
   "outputs": [],
   "source": [
    "# You will get a warning in red about a depricated \n",
    "#   function which you can ignore\n",
    "\n",
    "# Define a date range\n",
    "dates = pd.date_range('2010-01-01', '2010-12-31')\n",
    "\n",
    "# Choose stock symbols to read\n",
    "symbols = ['GOOG', 'IBM', 'GLD']  # SPY will be added in get_data()\n",
    "\n",
    "# Get stock data\n",
    "df = get_data(symbols, dates)\n",
    "\n",
    "print(df)\n",
    "\n",
    "# Slice and plot\n",
    "plot_selected(df, ['SPY', 'IBM'], '2010-03-01', '2010-04-01')"
   ]
  }
 ],
 "metadata": {
  "kernelspec": {
   "display_name": "Python 3",
   "language": "python",
   "name": "python3"
  },
  "language_info": {
   "codemirror_mode": {
    "name": "ipython",
    "version": 3
   },
   "file_extension": ".py",
   "mimetype": "text/x-python",
   "name": "python",
   "nbconvert_exporter": "python",
   "pygments_lexer": "ipython3",
   "version": "3.7.6"
  },
  "toc": {
   "base_numbering": 1,
   "nav_menu": {},
   "number_sections": true,
   "sideBar": true,
   "skip_h1_title": false,
   "title_cell": "Table of Contents",
   "title_sidebar": "Contents",
   "toc_cell": false,
   "toc_position": {},
   "toc_section_display": true,
   "toc_window_display": false
  },
  "varInspector": {
   "cols": {
    "lenName": 16,
    "lenType": 16,
    "lenVar": 40
   },
   "kernels_config": {
    "python": {
     "delete_cmd_postfix": "",
     "delete_cmd_prefix": "del ",
     "library": "var_list.py",
     "varRefreshCmd": "print(var_dic_list())"
    },
    "r": {
     "delete_cmd_postfix": ") ",
     "delete_cmd_prefix": "rm(",
     "library": "var_list.r",
     "varRefreshCmd": "cat(var_dic_list()) "
    }
   },
   "types_to_exclude": [
    "module",
    "function",
    "builtin_function_or_method",
    "instance",
    "_Feature"
   ],
   "window_display": false
  }
 },
 "nbformat": 4,
 "nbformat_minor": 4
}
